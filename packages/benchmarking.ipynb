{
 "cells": [
  {
   "cell_type": "markdown",
   "metadata": {},
   "source": [
    "* [timeit — Measure execution time of small code snippets](https://docs.python.org/3/library/timeit.html)\n",
    "* [The Python Profilers](https://docs.python.org/3/library/profile.html)\n",
    "* [pycallgraph](https://github.com/gak/pycallgraph/)\n",
    "* [Pyflame: A Ptracing Profiler For Python](https://github.com/uber/pyflame)"
   ]
  },
  {
   "cell_type": "code",
   "execution_count": null,
   "metadata": {},
   "outputs": [],
   "source": []
  }
 ],
 "metadata": {
  "kernelspec": {
   "display_name": "Python 3",
   "language": "python",
   "name": "python3"
  },
  "language_info": {
   "codemirror_mode": {
    "name": "ipython",
    "version": 3
   },
   "file_extension": ".py",
   "mimetype": "text/x-python",
   "name": "python",
   "nbconvert_exporter": "python",
   "pygments_lexer": "ipython3",
   "version": "3.7.2"
  }
 },
 "nbformat": 4,
 "nbformat_minor": 2
}
