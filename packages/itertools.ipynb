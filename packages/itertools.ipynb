{
 "cells": [
  {
   "cell_type": "markdown",
   "metadata": {},
   "source": [
    "`itertools` functions are all designed to help you manipulate `iterator` and therefore are all purely functional. Following functions are particularly useful in conjunction with the `operator` module. When used together, itertools and operator can handle most situations that programmers typically rely on lambda for.\n",
    "\n",
    "## `accumulate(iterable[, func])`\n",
    "\n",
    "Returns a series of accumulated sums of items from iterables."
   ]
  },
  {
   "cell_type": "code",
   "execution_count": 3,
   "metadata": {},
   "outputs": [
    {
     "data": {
      "text/plain": [
       "[3, 12, 72, 144, 144, 1296, 0, 0, 0, 0]"
      ]
     },
     "execution_count": 3,
     "metadata": {},
     "output_type": "execute_result"
    }
   ],
   "source": [
    "from itertools import *\n",
    "import operator\n",
    "\n",
    "data = [3, 4, 6, 2, 1, 9, 0, 7, 5, 8]\n",
    "list(accumulate(data, operator.mul))"
   ]
  },
  {
   "cell_type": "code",
   "execution_count": 4,
   "metadata": {},
   "outputs": [
    {
     "data": {
      "text/plain": [
       "[3, 4, 6, 6, 6, 9, 9, 9, 9, 9]"
      ]
     },
     "execution_count": 4,
     "metadata": {},
     "output_type": "execute_result"
    }
   ],
   "source": [
    "data = [3, 4, 6, 2, 1, 9, 0, 7, 5, 8]\n",
    "list(accumulate(data, max))"
   ]
  },
  {
   "cell_type": "markdown",
   "metadata": {},
   "source": [
    "## `chain(*iterables)`\n",
    "\n",
    "Iterates over multiple iterables, one after another, without building an intermediate list of all items."
   ]
  },
  {
   "cell_type": "code",
   "execution_count": 5,
   "metadata": {},
   "outputs": [],
   "source": [
    "itr = chain('AB', 'CDEF')"
   ]
  },
  {
   "cell_type": "code",
   "execution_count": 6,
   "metadata": {},
   "outputs": [
    {
     "data": {
      "text/plain": [
       "'B'"
      ]
     },
     "execution_count": 6,
     "metadata": {},
     "output_type": "execute_result"
    }
   ],
   "source": [
    "next(itr)\n",
    "next(itr)"
   ]
  },
  {
   "cell_type": "code",
   "execution_count": 7,
   "metadata": {},
   "outputs": [
    {
     "data": {
      "text/plain": [
       "'C'"
      ]
     },
     "execution_count": 7,
     "metadata": {},
     "output_type": "execute_result"
    }
   ],
   "source": [
    "next(itr)"
   ]
  },
  {
   "cell_type": "markdown",
   "metadata": {},
   "source": [
    "## `combinations(iterable, r)`\n",
    "\n",
    "Generates all combinations of length r from the given iterable."
   ]
  },
  {
   "cell_type": "code",
   "execution_count": 8,
   "metadata": {},
   "outputs": [
    {
     "data": {
      "text/plain": [
       "[('A', 'B'), ('A', 'C'), ('A', 'D'), ('B', 'C'), ('B', 'D'), ('C', 'D')]"
      ]
     },
     "execution_count": 8,
     "metadata": {},
     "output_type": "execute_result"
    }
   ],
   "source": [
    "list(combinations('ABCD', 2))"
   ]
  },
  {
   "cell_type": "code",
   "execution_count": 9,
   "metadata": {},
   "outputs": [
    {
     "data": {
      "text/plain": [
       "[(0, 1, 2), (0, 1, 3), (0, 2, 3), (1, 2, 3)]"
      ]
     },
     "execution_count": 9,
     "metadata": {},
     "output_type": "execute_result"
    }
   ],
   "source": [
    "list(combinations(range(4), 3))"
   ]
  },
  {
   "cell_type": "markdown",
   "metadata": {},
   "source": [
    "## `compress(data, selectors)`\n",
    "\n",
    "Applies a Boolean mask from selectors to data and returns only the values from data where the corresponding element of selectors is True."
   ]
  },
  {
   "cell_type": "code",
   "execution_count": 10,
   "metadata": {},
   "outputs": [
    {
     "data": {
      "text/plain": [
       "['A', 'C', 'E', 'F']"
      ]
     },
     "execution_count": 10,
     "metadata": {},
     "output_type": "execute_result"
    }
   ],
   "source": [
    "list(compress('ABCDEF', [1, 0, 1, 0, 1, 1]))"
   ]
  },
  {
   "cell_type": "markdown",
   "metadata": {},
   "source": [
    "## `count(start, step)`\n",
    "\n",
    "Generates an endless sequence of values, starting with start and incrementing step at a time with each call. Often used as an argument to `map()` to generate consecutive data points. Also, used with `zip()` to add sequence numbers."
   ]
  },
  {
   "cell_type": "markdown",
   "metadata": {},
   "source": [
    "## `cycle(iterable)`\n",
    "\n",
    "Loops repeatedly over the values in iterable."
   ]
  },
  {
   "cell_type": "markdown",
   "metadata": {},
   "source": [
    "## `repeat(elem[, n])`\n",
    "\n",
    "Repeats an element n times."
   ]
  },
  {
   "cell_type": "markdown",
   "metadata": {},
   "source": [
    "## `dropwhile(predicate, iterable)` \n",
    "\n",
    "Filters elements of an iterable starting from the beginning until predicate is False."
   ]
  },
  {
   "cell_type": "code",
   "execution_count": 12,
   "metadata": {},
   "outputs": [
    {
     "data": {
      "text/plain": [
       "[6, 4, 1]"
      ]
     },
     "execution_count": 12,
     "metadata": {},
     "output_type": "execute_result"
    }
   ],
   "source": [
    "list(dropwhile(lambda x: x < 5, [1, 4, 6, 4, 1]))"
   ]
  },
  {
   "cell_type": "markdown",
   "metadata": {},
   "source": [
    "## `groupby(iterable, keyfunc)`\n",
    "\n",
    "Creates an iterator that groups items by the result returned by the `keyfunc()` function."
   ]
  },
  {
   "cell_type": "code",
   "execution_count": 13,
   "metadata": {},
   "outputs": [
    {
     "data": {
      "text/plain": [
       "[['A', 'A', 'A', 'A'], ['B', 'B'], ['C', 'C'], ['D']]"
      ]
     },
     "execution_count": 13,
     "metadata": {},
     "output_type": "execute_result"
    }
   ],
   "source": [
    "[list(g) for k, g in groupby('AAAABBCCD')]"
   ]
  },
  {
   "cell_type": "markdown",
   "metadata": {},
   "source": [
    "## `permutations(iterable[, r])`\n",
    "\n",
    "Returns successive r-length permutations of the items in iterable."
   ]
  },
  {
   "cell_type": "code",
   "execution_count": 14,
   "metadata": {},
   "outputs": [
    {
     "data": {
      "text/plain": [
       "[('A', 'B'),\n",
       " ('A', 'C'),\n",
       " ('A', 'D'),\n",
       " ('B', 'A'),\n",
       " ('B', 'C'),\n",
       " ('B', 'D'),\n",
       " ('C', 'A'),\n",
       " ('C', 'B'),\n",
       " ('C', 'D'),\n",
       " ('D', 'A'),\n",
       " ('D', 'B'),\n",
       " ('D', 'C')]"
      ]
     },
     "execution_count": 14,
     "metadata": {},
     "output_type": "execute_result"
    }
   ],
   "source": [
    "list(permutations('ABCD', 2))"
   ]
  },
  {
   "cell_type": "code",
   "execution_count": 15,
   "metadata": {},
   "outputs": [
    {
     "data": {
      "text/plain": [
       "[('A', 'B', 'C', 'D'),\n",
       " ('A', 'B', 'D', 'C'),\n",
       " ('A', 'C', 'B', 'D'),\n",
       " ('A', 'C', 'D', 'B'),\n",
       " ('A', 'D', 'B', 'C'),\n",
       " ('A', 'D', 'C', 'B'),\n",
       " ('B', 'A', 'C', 'D'),\n",
       " ('B', 'A', 'D', 'C'),\n",
       " ('B', 'C', 'A', 'D'),\n",
       " ('B', 'C', 'D', 'A'),\n",
       " ('B', 'D', 'A', 'C'),\n",
       " ('B', 'D', 'C', 'A'),\n",
       " ('C', 'A', 'B', 'D'),\n",
       " ('C', 'A', 'D', 'B'),\n",
       " ('C', 'B', 'A', 'D'),\n",
       " ('C', 'B', 'D', 'A'),\n",
       " ('C', 'D', 'A', 'B'),\n",
       " ('C', 'D', 'B', 'A'),\n",
       " ('D', 'A', 'B', 'C'),\n",
       " ('D', 'A', 'C', 'B'),\n",
       " ('D', 'B', 'A', 'C'),\n",
       " ('D', 'B', 'C', 'A'),\n",
       " ('D', 'C', 'A', 'B'),\n",
       " ('D', 'C', 'B', 'A')]"
      ]
     },
     "execution_count": 15,
     "metadata": {},
     "output_type": "execute_result"
    }
   ],
   "source": [
    "list(permutations('ABCD'))"
   ]
  },
  {
   "cell_type": "markdown",
   "metadata": {},
   "source": [
    "## `product(*iterables)`\n",
    "\n",
    "Returns an iterable of the Cartesian product of iterables without using a nested for loop. Roughly equivalent to nested for-loops in a generator expression. For example, `product(A, B)` returns the same as `((x,y) for x in A for y in B)`."
   ]
  },
  {
   "cell_type": "code",
   "execution_count": 16,
   "metadata": {},
   "outputs": [
    {
     "data": {
      "text/plain": [
       "[('A', 'x'),\n",
       " ('A', 'y'),\n",
       " ('B', 'x'),\n",
       " ('B', 'y'),\n",
       " ('C', 'x'),\n",
       " ('C', 'y'),\n",
       " ('D', 'x'),\n",
       " ('D', 'y')]"
      ]
     },
     "execution_count": 16,
     "metadata": {},
     "output_type": "execute_result"
    }
   ],
   "source": [
    "list(product('ABCD', 'xy'))"
   ]
  },
  {
   "cell_type": "code",
   "execution_count": 17,
   "metadata": {},
   "outputs": [
    {
     "data": {
      "text/plain": [
       "[(0, 0, 0),\n",
       " (0, 0, 1),\n",
       " (0, 1, 0),\n",
       " (0, 1, 1),\n",
       " (1, 0, 0),\n",
       " (1, 0, 1),\n",
       " (1, 1, 0),\n",
       " (1, 1, 1)]"
      ]
     },
     "execution_count": 17,
     "metadata": {},
     "output_type": "execute_result"
    }
   ],
   "source": [
    "list(product(range(2), repeat=3))"
   ]
  },
  {
   "cell_type": "markdown",
   "metadata": {},
   "source": [
    "## `takewhile(predicate, iterable)` \n",
    "\n",
    "Returns elements of an iterable starting from the beginning until predicate is `False`."
   ]
  },
  {
   "cell_type": "code",
   "execution_count": 18,
   "metadata": {},
   "outputs": [
    {
     "data": {
      "text/plain": [
       "[1, 4]"
      ]
     },
     "execution_count": 18,
     "metadata": {},
     "output_type": "execute_result"
    }
   ],
   "source": [
    "list(takewhile(lambda x: x < 5, [1, 4, 6, 4, 1]))"
   ]
  }
 ],
 "metadata": {
  "kernelspec": {
   "display_name": "Python 3",
   "language": "python",
   "name": "python3"
  },
  "language_info": {
   "codemirror_mode": {
    "name": "ipython",
    "version": 3
   },
   "file_extension": ".py",
   "mimetype": "text/x-python",
   "name": "python",
   "nbconvert_exporter": "python",
   "pygments_lexer": "ipython3",
   "version": "3.7.3"
  }
 },
 "nbformat": 4,
 "nbformat_minor": 2
}
