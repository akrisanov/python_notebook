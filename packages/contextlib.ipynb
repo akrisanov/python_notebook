{
 "cells": [
  {
   "cell_type": "markdown",
   "id": "855cd637-c959-4e98-8280-2e3620e340b2",
   "metadata": {},
   "source": [
    "# contextlib\n",
    "\n",
    "The `contextlib` module provides utilities for common tasks involving the `with` statement."
   ]
  },
  {
   "cell_type": "markdown",
   "id": "d3989e25-8515-475c-b998-7534b66eeb21",
   "metadata": {
    "tags": []
   },
   "source": [
    "## contextmanager"
   ]
  },
  {
   "cell_type": "code",
   "execution_count": 3,
   "id": "ccb2c88c-2831-435b-9a2d-b9daa4c8507b",
   "metadata": {},
   "outputs": [],
   "source": [
    "from contextlib import contextmanager\n",
    "\n",
    "\n",
    "@contextmanager\n",
    "def open_file(path):\n",
    "    try:\n",
    "        fobj = open(path, \"r\")\n",
    "        yield fobj\n",
    "    except OSError as e:\n",
    "        print(\"We've got an error\")\n",
    "    finally:\n",
    "        print(\"Closing the file\")\n",
    "        fobj.close()"
   ]
  },
  {
   "cell_type": "code",
   "execution_count": 7,
   "id": "f86cf415-af61-4159-9f7e-b73d90d2703a",
   "metadata": {},
   "outputs": [
    {
     "name": "stdout",
     "output_type": "stream",
     "text": [
      "Lorem ipsum dolor sit amet, consectetur adipiscing elit, sed do eiusmod tempor incididunt ut labore et dolore magna aliqua. Ut enim ad minim veniam, quis nostrud exercitation ullamco laboris nisi ut aliquip ex ea commodo consequat. Duis aute irure dolor in reprehenderit in voluptate velit esse cillum dolore eu fugiat nulla pariatur. Excepteur sint occaecat cupidatat non proident, sunt in culpa qui officia deserunt mollit anim id est laborum.\n",
      "Closing the file\n"
     ]
    }
   ],
   "source": [
    "with open_file(\"lorem.txt\") as fobj:\n",
    "    print(fobj.read())"
   ]
  },
  {
   "cell_type": "markdown",
   "id": "a12520b3-ba09-44ca-84c2-be2884ad61be",
   "metadata": {},
   "source": [
    "## closing"
   ]
  },
  {
   "cell_type": "code",
   "execution_count": 12,
   "id": "2616c2d1-a519-440c-9bec-f97ccb4338c6",
   "metadata": {},
   "outputs": [
    {
     "name": "stdout",
     "output_type": "stream",
     "text": [
      "b'<!doctype html><html itemscope=\"\" itemtype=\"http://schema.org/WebPage\" lang=\"de\"><head><meta content=\"text/html; charset=UTF-8\" http-equiv=\"Content-Type\"><meta content=\"/images/branding/googleg/1x/googleg_standard_color_128dp.png\" itemprop=\"image\"><title>Google</title><script nonce=\"7fQRM0n4KJrNkOl3VLDDxg\">(function(){window.google={kEI:\\'2d-wYseLKcWHxc8P1qqUQA\\',kEXPI:\\'0,1302536,56873,1709,4349,207,4804,2316,383,246,5,1354,4013,1123753,1197764,637,380090,16114,28684,17572,4859,1361,284,9007,3022,17586,4020,978,13228,3847,10622,22112,629,5081,1593,1279,2742,149,1103,840,1983,4314,3514,606,2023,1777,520,14670,3227,2845,7,5599,11851,16320,1851,6397,9359,1,2,346,230,6182,277,149,13975,4,1528,2304,7039,25073,2658,7355,13660,4437,16786,5818,2539,4092,2,4052,3,3541,1,42154,2,14022,2928,11188,11623,6699,953,1427,2719,18243,2,1,9,1693,6076,4567,6256,23421,1252,3370,2465,13857,1110,4333,5016,1074,1394,21896,5186,8155,2566,4016,799,1401,1047,594,859,7871,2908,7341,3423,1,9,1187,9835,9,1780,140,5706,3466,54,553,23,5416,901,548,2940,2,1108,4575,210,5054,324,678,156,8528,3146,2545,766,760,3316,528,391,351,65,365,17,345,201,830,752,1992,1048,1014,78,2661,372,179,417,567,119,419,217,4,1,2,2,2,2,2,1,2790,873,1602,173,26,73,481,768,103,1573,2,715,566,24,19,558,282,371,7,725,17,220,210,384,185,1118,69,5398759,3227,231,5996099,2803692,3311,141,795,19735,1,1,346,260,23,2,2,2,23650418,299777,4042143,1964,2935,159,1358,9845,2376,2554,851,837,3378,176,263,1380685\\',kBL:\\'KDkG\\'};google.sn=\\'webhp\\';google.kHL=\\'de\\';})();(function(){\\n'\n"
     ]
    }
   ],
   "source": [
    "from contextlib import closing\n",
    "from urllib.request import urlopen\n",
    "\n",
    "\n",
    "with closing(urlopen(\"https://google.com\")) as webpage:\n",
    "    for line in webpage:\n",
    "        print(line)\n",
    "        break"
   ]
  },
  {
   "cell_type": "markdown",
   "id": "2543c6bd-5e94-4aa0-88ee-5d7d55cde2a3",
   "metadata": {},
   "source": [
    "## suppress"
   ]
  },
  {
   "cell_type": "code",
   "execution_count": 13,
   "id": "339e5da5-eb75-4e4e-82fb-0dcf34763a85",
   "metadata": {},
   "outputs": [],
   "source": [
    "from contextlib import suppress\n",
    "\n",
    "\n",
    "with suppress(FileNotFoundError):\n",
    "    with open(\"missing.txt\") as fobj:\n",
    "        for line in fobj:\n",
    "            print(line)"
   ]
  },
  {
   "cell_type": "markdown",
   "id": "68501e47-4f5e-4d41-b560-ecb86160ecab",
   "metadata": {},
   "source": [
    "## redirect_stdout / redirect_stderr"
   ]
  },
  {
   "cell_type": "code",
   "execution_count": 14,
   "id": "bc6f4b01-7a37-4b53-8fe6-85616c6b6b5f",
   "metadata": {},
   "outputs": [],
   "source": [
    "from contextlib import redirect_stdout\n",
    "\n",
    "path = \"stdout.log\"\n",
    "with open(path, \"w\") as fobj:\n",
    "    with redirect_stdout(fobj):\n",
    "        help(redirect_stdout)"
   ]
  },
  {
   "cell_type": "code",
   "execution_count": 15,
   "id": "9feea436-16e9-402d-8e14-615f5e86b709",
   "metadata": {},
   "outputs": [
    {
     "name": "stdout",
     "output_type": "stream",
     "text": [
      "Help on class redirect_stdout in module contextlib:\n",
      "\n",
      "class redirect_stdout(_RedirectStream)\n",
      " |  redirect_stdout(new_target)\n",
      " |  \n",
      " |  Context manager for temporarily redirecting stdout to another file.\n",
      " |  \n",
      " |  # How to send help() to stderr\n",
      " |  with redirect_stdout(sys.stderr):\n",
      " |      help(dir)\n",
      " |  \n",
      " |  # How to write help() to a file\n",
      " |  with open('help.txt', 'w') as f:\n",
      " |      with redirect_stdout(f):\n",
      " |          help(pow)\n",
      " |  \n",
      " |  Method resolution order:\n",
      " |      redirect_stdout\n",
      " |      _RedirectStream\n",
      " |      AbstractContextManager\n",
      " |      abc.ABC\n",
      " |      builtins.object\n",
      " |  \n",
      " |  Data and other attributes defined here:\n",
      " |  \n",
      " |  __abstractmethods__ = frozenset()\n",
      " |  \n",
      " |  ----------------------------------------------------------------------\n",
      " |  Methods inherited from _RedirectStream:\n",
      " |  \n",
      " |  __enter__(self)\n",
      " |      Return `self` upon entering the runtime context.\n",
      " |  \n",
      " |  __exit__(self, exctype, excinst, exctb)\n",
      " |      Raise any exception triggered within the runtime context.\n",
      " |  \n",
      " |  __init__(self, new_target)\n",
      " |      Initialize self.  See help(type(self)) for accurate signature.\n",
      " |  \n",
      " |  ----------------------------------------------------------------------\n",
      " |  Class methods inherited from AbstractContextManager:\n",
      " |  \n",
      " |  __class_getitem__ = GenericAlias(...) from abc.ABCMeta\n",
      " |      Represent a PEP 585 generic type\n",
      " |      \n",
      " |      E.g. for t = list[int], t.__origin__ is list and t.__args__ is (int,).\n",
      " |  \n",
      " |  __subclasshook__(C) from abc.ABCMeta\n",
      " |      Abstract classes can override this to customize issubclass().\n",
      " |      \n",
      " |      This is invoked early on by abc.ABCMeta.__subclasscheck__().\n",
      " |      It should return True, False or NotImplemented.  If it returns\n",
      " |      NotImplemented, the normal algorithm is used.  Otherwise, it\n",
      " |      overrides the normal algorithm (and the outcome is cached).\n",
      " |  \n",
      " |  ----------------------------------------------------------------------\n",
      " |  Data descriptors inherited from AbstractContextManager:\n",
      " |  \n",
      " |  __dict__\n",
      " |      dictionary for instance variables (if defined)\n",
      " |  \n",
      " |  __weakref__\n",
      " |      list of weak references to the object (if defined)\n",
      "\n"
     ]
    }
   ],
   "source": [
    "%cat stdout.log"
   ]
  }
 ],
 "metadata": {
  "kernelspec": {
   "display_name": "Python 3 (ipykernel)",
   "language": "python",
   "name": "python3"
  },
  "language_info": {
   "codemirror_mode": {
    "name": "ipython",
    "version": 3
   },
   "file_extension": ".py",
   "mimetype": "text/x-python",
   "name": "python",
   "nbconvert_exporter": "python",
   "pygments_lexer": "ipython3",
   "version": "3.10.5"
  }
 },
 "nbformat": 4,
 "nbformat_minor": 5
}
