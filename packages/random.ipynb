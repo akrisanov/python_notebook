{
 "cells": [
  {
   "cell_type": "code",
   "execution_count": 27,
   "id": "33b80a93-6491-4380-8a6e-ef8e5521ab5f",
   "metadata": {},
   "outputs": [],
   "source": [
    "import random\n",
    "\n",
    "# in tests, always instantiate the generator with a constant for reproducable results\n",
    "random.seed(42)"
   ]
  },
  {
   "cell_type": "markdown",
   "id": "f1ef09f1-9643-44e5-a468-024aeb598892",
   "metadata": {},
   "source": [
    "## Select random number from a range"
   ]
  },
  {
   "cell_type": "code",
   "execution_count": 28,
   "id": "1956de89-c059-4e16-9b76-b50e98e6dfca",
   "metadata": {},
   "outputs": [
    {
     "data": {
      "text/plain": [
       "91"
      ]
     },
     "execution_count": 28,
     "metadata": {},
     "output_type": "execute_result"
    }
   ],
   "source": [
    "random.randint(10, 99)"
   ]
  },
  {
   "cell_type": "markdown",
   "id": "3a6258af-ab49-493b-ba9a-0e9cb7ab62f1",
   "metadata": {},
   "source": [
    "## Select random number from a range with a step"
   ]
  },
  {
   "cell_type": "code",
   "execution_count": 29,
   "id": "17c2873f-5230-481c-9146-f906f3895fec",
   "metadata": {},
   "outputs": [
    {
     "data": {
      "text/plain": [
       "19"
      ]
     },
     "execution_count": 29,
     "metadata": {},
     "output_type": "execute_result"
    }
   ],
   "source": [
    "random.randrange(10, 99, step=3)"
   ]
  },
  {
   "cell_type": "markdown",
   "id": "ac57f71b-85e6-4374-ac86-0a7cc2f406ec",
   "metadata": {},
   "source": [
    "## Select random number from a list"
   ]
  },
  {
   "cell_type": "code",
   "execution_count": 30,
   "id": "46729026-ee45-4700-9619-79da2745292c",
   "metadata": {},
   "outputs": [],
   "source": [
    "numbers = [7, 9, 13, 42, 64, 99]"
   ]
  },
  {
   "cell_type": "code",
   "execution_count": 31,
   "id": "8641a878-cbdf-47f7-bcce-c8f8fe8320a7",
   "metadata": {},
   "outputs": [
    {
     "data": {
      "text/plain": [
       "7"
      ]
     },
     "execution_count": 31,
     "metadata": {},
     "output_type": "execute_result"
    }
   ],
   "source": [
    "random.choice(numbers)"
   ]
  },
  {
   "cell_type": "markdown",
   "id": "0a4c6a7e-4b70-42ff-aeb0-5e02c77cc14c",
   "metadata": {},
   "source": [
    "## Select n random numbers from the list"
   ]
  },
  {
   "cell_type": "code",
   "execution_count": 32,
   "id": "b0da457c-5285-46a5-a8cb-507648032d0d",
   "metadata": {},
   "outputs": [
    {
     "data": {
      "text/plain": [
       "[64, 9, 7]"
      ]
     },
     "execution_count": 32,
     "metadata": {},
     "output_type": "execute_result"
    }
   ],
   "source": [
    "random.choices(numbers, k=3)"
   ]
  },
  {
   "cell_type": "markdown",
   "id": "5733f9e4-d48a-425a-864b-c19f59f307ed",
   "metadata": {},
   "source": [
    "## Set weights for the list values"
   ]
  },
  {
   "cell_type": "code",
   "execution_count": 33,
   "id": "aa3a4143-17e5-498c-9dd5-e05415b171c2",
   "metadata": {},
   "outputs": [],
   "source": [
    "weights = [10, 1, 1, 1, 1, 1]"
   ]
  },
  {
   "cell_type": "code",
   "execution_count": 34,
   "id": "a9498822-d6c2-4757-9f30-1eb7c6a0174a",
   "metadata": {},
   "outputs": [
    {
     "data": {
      "text/plain": [
       "[7, 13, 7]"
      ]
     },
     "execution_count": 34,
     "metadata": {},
     "output_type": "execute_result"
    }
   ],
   "source": [
    "random.choices(numbers, weights, k=3)"
   ]
  },
  {
   "cell_type": "code",
   "execution_count": 35,
   "id": "526dff38-22a6-4b9f-bafb-eb5bda8c4329",
   "metadata": {},
   "outputs": [
    {
     "data": {
      "text/plain": [
       "[7, 7, 7]"
      ]
     },
     "execution_count": 35,
     "metadata": {},
     "output_type": "execute_result"
    }
   ],
   "source": [
    "random.choices(numbers, weights, k=3)"
   ]
  },
  {
   "cell_type": "code",
   "execution_count": 36,
   "id": "dce248e0-d5f5-4ed1-b7ee-50081e01d506",
   "metadata": {},
   "outputs": [
    {
     "data": {
      "text/plain": [
       "[7, 7, 7]"
      ]
     },
     "execution_count": 36,
     "metadata": {},
     "output_type": "execute_result"
    }
   ],
   "source": [
    "random.choices(numbers, weights, k=3)"
   ]
  },
  {
   "cell_type": "markdown",
   "id": "ba9cfb1c-9a44-4781-b71a-dcacadcc8846",
   "metadata": {},
   "source": [
    "## Random items without repetitions"
   ]
  },
  {
   "cell_type": "code",
   "execution_count": 37,
   "id": "6e8cc6e3-cdb1-4650-81bf-25f8b524647e",
   "metadata": {},
   "outputs": [
    {
     "data": {
      "text/plain": [
       "[99, 64, 42]"
      ]
     },
     "execution_count": 37,
     "metadata": {},
     "output_type": "execute_result"
    }
   ],
   "source": [
    "random.sample(numbers, k=3)"
   ]
  },
  {
   "cell_type": "code",
   "execution_count": 38,
   "id": "c59df60b-9c74-4abc-8c69-8f3408212deb",
   "metadata": {},
   "outputs": [
    {
     "data": {
      "text/plain": [
       "[9, 42, 13]"
      ]
     },
     "execution_count": 38,
     "metadata": {},
     "output_type": "execute_result"
    }
   ],
   "source": [
    "random.sample(numbers, k=3)"
   ]
  },
  {
   "cell_type": "markdown",
   "id": "3731aa28-1068-4c97-808e-54286d35bb2b",
   "metadata": {},
   "source": [
    "## Shuffle items"
   ]
  },
  {
   "cell_type": "code",
   "execution_count": 39,
   "id": "8fc62c6b-0280-417b-8f61-d3f643bec422",
   "metadata": {},
   "outputs": [],
   "source": [
    "random.shuffle(numbers)"
   ]
  },
  {
   "cell_type": "code",
   "execution_count": 40,
   "id": "ce4f9cc0-2de5-4d64-80d5-da7778fae292",
   "metadata": {},
   "outputs": [
    {
     "data": {
      "text/plain": [
       "[99, 13, 64, 42, 9, 7]"
      ]
     },
     "execution_count": 40,
     "metadata": {},
     "output_type": "execute_result"
    }
   ],
   "source": [
    "numbers"
   ]
  },
  {
   "cell_type": "code",
   "execution_count": 41,
   "id": "751b23c5-b91e-43fe-aa00-d2c999db3bf1",
   "metadata": {},
   "outputs": [],
   "source": [
    "random.shuffle(numbers)"
   ]
  },
  {
   "cell_type": "code",
   "execution_count": 42,
   "id": "7eb73615-a5ff-4f1b-b15b-7b475a4e0e83",
   "metadata": {},
   "outputs": [
    {
     "data": {
      "text/plain": [
       "[9, 42, 99, 64, 7, 13]"
      ]
     },
     "execution_count": 42,
     "metadata": {},
     "output_type": "execute_result"
    }
   ],
   "source": [
    "numbers"
   ]
  },
  {
   "cell_type": "markdown",
   "id": "4871c32a-213f-45f7-8cf0-496696223d69",
   "metadata": {},
   "source": [
    "---\n",
    "\n",
    "💡 [Real-valued distributions](https://docs.python.org/3/library/random.html#real-valued-distributions)"
   ]
  }
 ],
 "metadata": {
  "kernelspec": {
   "display_name": "Python 3 (ipykernel)",
   "language": "python",
   "name": "python3"
  },
  "language_info": {
   "codemirror_mode": {
    "name": "ipython",
    "version": 3
   },
   "file_extension": ".py",
   "mimetype": "text/x-python",
   "name": "python",
   "nbconvert_exporter": "python",
   "pygments_lexer": "ipython3",
   "version": "3.10.4"
  }
 },
 "nbformat": 4,
 "nbformat_minor": 5
}
