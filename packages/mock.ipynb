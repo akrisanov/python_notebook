{
 "cells": [
  {
   "cell_type": "code",
   "execution_count": 5,
   "metadata": {},
   "outputs": [],
   "source": [
    "from unittest import mock\n",
    "import pytest\n",
    "import requests\n",
    "\n",
    "class HealthcheckError(Exception):\n",
    "    pass\n",
    "\n",
    "def healthcheck():\n",
    "    try:\n",
    "        r = requests.get('https://python.org')\n",
    "    except IOError:\n",
    "        pass\n",
    "    else:\n",
    "        if r.status == 200:\n",
    "            return 'Python website is still available' in r.content\n",
    "    raise HealthcheckError('Something bad happened')\n",
    "    \n",
    "def get_fake_get(status_code, content):\n",
    "    m = mock.Mock()\n",
    "    m.status_code = status_code\n",
    "    m.content = content\n",
    "    \n",
    "    def fake_get(url):\n",
    "        return m\n",
    "\n",
    "    return fake_get\n",
    "    \n",
    "def raise_get(url):\n",
    "    raise IOError(f'Unable to fetch url {url}')\n",
    "    \n",
    "@mock.patch('requests.get', get_fake_get(200, 'The official home of the Python Programming Language.'))\n",
    "def test_healthcheck_success():\n",
    "    assert healthcheck() is True\n",
    "  \n",
    "@mock.patch('requests.get', get_fake_get(200, 'Welcome to nginx!'))\n",
    "def test_healthcheck_failure():\n",
    "    assert healthcheck() is False\n",
    "    \n",
    "@mock.patch('requests.get', get_fake_get(500, 'Oops'))\n",
    "def test_healthcheck_bad_status_code():\n",
    "    with pytest.raises(HealthcheckError):\n",
    "        healthcheck()\n",
    "        \n",
    "@mock.patch('requests.get', raise_get)\n",
    "def test_ioerror():\n",
    "    with pytest.raises(HealthcheckError):\n",
    "        healthcheck()"
   ]
  }
 ],
 "metadata": {
  "kernelspec": {
   "display_name": "Python 3",
   "language": "python",
   "name": "python3"
  },
  "language_info": {
   "codemirror_mode": {
    "name": "ipython",
    "version": 3
   },
   "file_extension": ".py",
   "mimetype": "text/x-python",
   "name": "python",
   "nbconvert_exporter": "python",
   "pygments_lexer": "ipython3",
   "version": "3.7.3"
  }
 },
 "nbformat": 4,
 "nbformat_minor": 2
}
