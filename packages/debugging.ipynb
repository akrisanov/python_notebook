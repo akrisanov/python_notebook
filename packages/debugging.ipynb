{
 "cells": [
  {
   "cell_type": "markdown",
   "metadata": {},
   "source": [
    "* [pdb — Interactive Debugger](https://pymotw.com/3/pdb/)\n",
    "* [Elizaveta Shashkova Debugging in Python 3 6 Better, Faster, Stronger PyCon 2017](https://youtu.be/NdObDUbLjdg)\n",
    "* [Python Debugging With Pdb](https://realpython.com/python-debugging-pdb/)"
   ]
  },
  {
   "cell_type": "code",
   "execution_count": 5,
   "metadata": {},
   "outputs": [
    {
     "name": "stdout",
     "output_type": "stream",
     "text": [
      "> <ipython-input-5-bf2f72def0b8>(6)<module>()->None\n",
      "-> car = json.load(dump)\n",
      "(Pdb) n\n",
      "> <ipython-input-5-bf2f72def0b8>(7)<module>()->None\n",
      "-> print(car['type'])\n",
      "(Pdb) car\n",
      "{'type': 'car', 'model': 'BMW 535d', 'price': '€65 000'}\n",
      "(Pdb) car['price']\n",
      "'€65 000'\n",
      "(Pdb) h\n",
      "\n",
      "Documented commands (type help <topic>):\n",
      "========================================\n",
      "EOF    c          d        h         list      q        rv       undisplay\n",
      "a      cl         debug    help      ll        quit     s        unt      \n",
      "alias  clear      disable  ignore    longlist  r        source   until    \n",
      "args   commands   display  interact  n         restart  step     up       \n",
      "b      condition  down     j         next      return   tbreak   w        \n",
      "break  cont       enable   jump      p         retval   u        whatis   \n",
      "bt     continue   exit     l         pp        run      unalias  where    \n",
      "\n",
      "Miscellaneous help topics:\n",
      "==========================\n",
      "exec  pdb\n",
      "\n",
      "(Pdb) l\n",
      "  2  \timport pdb\n",
      "  3  \t\n",
      "  4  \twith open('serialized_data.json') as dump:\n",
      "  5  \t    pdb.set_trace()\n",
      "  6  \t    car = json.load(dump)\n",
      "  7  ->\t    print(car['type'])\n",
      "[EOF]\n",
      "(Pdb) c\n",
      "car\n"
     ]
    }
   ],
   "source": [
    "import json\n",
    "import pdb\n",
    "\n",
    "with open('serialized_data.json') as dump:\n",
    "    pdb.set_trace()\n",
    "    car = json.load(dump)\n",
    "    print(car['type'])"
   ]
  },
  {
   "cell_type": "code",
   "execution_count": null,
   "metadata": {},
   "outputs": [],
   "source": []
  }
 ],
 "metadata": {
  "kernelspec": {
   "display_name": "Python 3",
   "language": "python",
   "name": "python3"
  },
  "language_info": {
   "codemirror_mode": {
    "name": "ipython",
    "version": 3
   },
   "file_extension": ".py",
   "mimetype": "text/x-python",
   "name": "python",
   "nbconvert_exporter": "python",
   "pygments_lexer": "ipython3",
   "version": "3.7.7"
  },
  "toc": {
   "base_numbering": 1,
   "nav_menu": {},
   "number_sections": true,
   "sideBar": true,
   "skip_h1_title": false,
   "title_cell": "Table of Contents",
   "title_sidebar": "Contents",
   "toc_cell": false,
   "toc_position": {},
   "toc_section_display": true,
   "toc_window_display": false
  }
 },
 "nbformat": 4,
 "nbformat_minor": 2
}
