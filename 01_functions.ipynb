{
 "cells": [
  {
   "cell_type": "markdown",
   "metadata": {},
   "source": [
    "# Functions\n",
    "\n",
    "_Also read [PEP 8 -- Style Guide for Python Code](https://www.python.org/dev/peps/pep-0008/)_"
   ]
  },
  {
   "cell_type": "code",
   "execution_count": 1,
   "metadata": {},
   "outputs": [
    {
     "name": "stdout",
     "output_type": "stream",
     "text": [
      "0\n",
      "1\n",
      "2\n",
      "done!\n"
     ]
    }
   ],
   "source": [
    "for i in range(3):\n",
    "    print(i)\n",
    "else:\n",
    "    print(\"done!\")  # won't be executed when iteration breaks calling the break statement"
   ]
  },
  {
   "cell_type": "markdown",
   "metadata": {},
   "source": [
    "## Defining functions"
   ]
  },
  {
   "cell_type": "markdown",
   "metadata": {},
   "source": [
    "`return` is not required — any function returns `None` by default:"
   ]
  },
  {
   "cell_type": "code",
   "execution_count": 2,
   "metadata": {},
   "outputs": [],
   "source": [
    "def foo():\n",
    "    42"
   ]
  },
  {
   "cell_type": "code",
   "execution_count": 3,
   "metadata": {},
   "outputs": [
    {
     "name": "stdout",
     "output_type": "stream",
     "text": [
      "None\n"
     ]
    }
   ],
   "source": [
    "print(foo())"
   ]
  },
  {
   "cell_type": "code",
   "execution_count": 4,
   "metadata": {},
   "outputs": [
    {
     "data": {
      "text/plain": [
       "'foo'"
      ]
     },
     "execution_count": 4,
     "metadata": {},
     "output_type": "execute_result"
    }
   ],
   "source": [
    "foo.__name__"
   ]
  },
  {
   "cell_type": "code",
   "execution_count": 5,
   "metadata": {},
   "outputs": [
    {
     "name": "stdout",
     "output_type": "stream",
     "text": [
      "  2           0 LOAD_CONST               0 (<code object foo at 0x104e605b0, file \"<dis>\", line 2>)\n",
      "              2 LOAD_CONST               1 ('foo')\n",
      "              4 MAKE_FUNCTION            0\n",
      "              6 STORE_NAME               0 (foo)\n",
      "\n",
      "  5           8 LOAD_NAME                0 (foo)\n",
      "             10 CALL_FUNCTION            0\n",
      "             12 POP_TOP\n",
      "             14 LOAD_CONST               2 (None)\n",
      "             16 RETURN_VALUE\n",
      "\n",
      "Disassembly of <code object foo at 0x104e605b0, file \"<dis>\", line 2>:\n",
      "  4           0 LOAD_CONST               1 (92)\n",
      "              2 RETURN_VALUE\n"
     ]
    }
   ],
   "source": [
    "import dis\n",
    "\n",
    "dis.dis('''\n",
    "def foo():\n",
    "    \"\"\"I'm doing nothing and return 92.\"\"\"\n",
    "    return 92\n",
    "foo()\n",
    "''')\n",
    "\n",
    "# Pay attention to the first 4 bytecode instructions"
   ]
  },
  {
   "cell_type": "markdown",
   "metadata": {},
   "source": [
    "## Documenting functions\n",
    "\n",
    "- _[PEP 257 -- Docstring Conventions](https://www.python.org/dev/peps/pep-0257/)_\n",
    "- _[Documentation — The Hitchhiker's Guide to Python](https://docs.python-guide.org/writing/documentation/)_\n",
    "- _[Documenting Python Code: A Complete Guide](https://realpython.com/documenting-python-code/)_\n",
    "\n",
    "We can use string literals to document functions. There are few different docstring formats: Google, NumPy/SciPy, reStructured Text, and Epytext."
   ]
  },
  {
   "cell_type": "code",
   "execution_count": 6,
   "metadata": {},
   "outputs": [],
   "source": [
    "def foo():\n",
    "    \"\"\"Returns some magic number\"\"\"\n",
    "    return 42"
   ]
  },
  {
   "cell_type": "code",
   "execution_count": 7,
   "metadata": {},
   "outputs": [
    {
     "data": {
      "text/plain": [
       "'Returns some magic number'"
      ]
     },
     "execution_count": 7,
     "metadata": {},
     "output_type": "execute_result"
    }
   ],
   "source": [
    "foo.__doc__"
   ]
  },
  {
   "cell_type": "code",
   "execution_count": 8,
   "metadata": {},
   "outputs": [
    {
     "name": "stdout",
     "output_type": "stream",
     "text": [
      "Help on function foo in module __main__:\n",
      "\n",
      "foo()\n",
      "    Returns some magic number\n",
      "\n"
     ]
    }
   ],
   "source": [
    "help(foo)  # or foo? in IPython"
   ]
  },
  {
   "cell_type": "markdown",
   "metadata": {},
   "source": [
    "## Keyword (named) arguments"
   ]
  },
  {
   "cell_type": "code",
   "execution_count": 9,
   "metadata": {},
   "outputs": [],
   "source": [
    "def min(x, y):\n",
    "    return x if x < y else y"
   ]
  },
  {
   "cell_type": "code",
   "execution_count": 10,
   "metadata": {},
   "outputs": [
    {
     "data": {
      "text/plain": [
       "-5"
      ]
     },
     "execution_count": 10,
     "metadata": {},
     "output_type": "execute_result"
    }
   ],
   "source": [
    "min(-5, 12)"
   ]
  },
  {
   "cell_type": "code",
   "execution_count": 11,
   "metadata": {},
   "outputs": [
    {
     "data": {
      "text/plain": [
       "-5"
      ]
     },
     "execution_count": 11,
     "metadata": {},
     "output_type": "execute_result"
    }
   ],
   "source": [
    "# we can use few or all keyword arguments when calling a function\n",
    "\n",
    "min(x=-5, y=12)\n",
    "min(y=12, x=-5)  # order of keyword arguments is not important\n",
    "min(-5, y=12)    # keyword arguments always follow positional arguments"
   ]
  },
  {
   "cell_type": "markdown",
   "metadata": {},
   "source": [
    "⚠️ Be careful using keyword arguments. If a function author renames them, it can break your code."
   ]
  },
  {
   "cell_type": "code",
   "execution_count": 12,
   "metadata": {},
   "outputs": [
    {
     "ename": "TypeError",
     "evalue": "min() got an unexpected keyword argument 'x'",
     "output_type": "error",
     "traceback": [
      "\u001b[0;31m---------------------------------------------------------------------------\u001b[0m",
      "\u001b[0;31mTypeError\u001b[0m                                 Traceback (most recent call last)",
      "\u001b[0;32m<ipython-input-12-304d0f530952>\u001b[0m in \u001b[0;36m<module>\u001b[0;34m\u001b[0m\n\u001b[1;32m      2\u001b[0m     \u001b[0;34m...\u001b[0m\u001b[0;34m\u001b[0m\u001b[0;34m\u001b[0m\u001b[0m\n\u001b[1;32m      3\u001b[0m \u001b[0;34m\u001b[0m\u001b[0m\n\u001b[0;32m----> 4\u001b[0;31m \u001b[0mmin\u001b[0m\u001b[0;34m(\u001b[0m\u001b[0mx\u001b[0m\u001b[0;34m=\u001b[0m\u001b[0;34m-\u001b[0m\u001b[0;36m5\u001b[0m\u001b[0;34m,\u001b[0m \u001b[0my\u001b[0m\u001b[0;34m=\u001b[0m\u001b[0;36m12\u001b[0m\u001b[0;34m)\u001b[0m\u001b[0;34m\u001b[0m\u001b[0;34m\u001b[0m\u001b[0m\n\u001b[0m",
      "\u001b[0;31mTypeError\u001b[0m: min() got an unexpected keyword argument 'x'"
     ]
    }
   ],
   "source": [
    "def min(a, b):\n",
    "    ...\n",
    "    \n",
    "min(x=-5, y=12)"
   ]
  },
  {
   "cell_type": "markdown",
   "metadata": {},
   "source": [
    "## Mutable default arguments"
   ]
  },
  {
   "cell_type": "code",
   "execution_count": 13,
   "metadata": {},
   "outputs": [
    {
     "name": "stdout",
     "output_type": "stream",
     "text": [
      "  2           0 BUILD_LIST               0\n",
      "              2 LOAD_CONST               0 (92)\n",
      "              4 BUILD_TUPLE              2\n",
      "              6 LOAD_CONST               1 (<code object foo at 0x104f38710, file \"<dis>\", line 2>)\n",
      "              8 LOAD_CONST               2 ('foo')\n",
      "             10 MAKE_FUNCTION            1 (defaults)\n",
      "             12 STORE_NAME               0 (foo)\n",
      "             14 LOAD_CONST               3 (None)\n",
      "             16 RETURN_VALUE\n",
      "\n",
      "Disassembly of <code object foo at 0x104f38710, file \"<dis>\", line 2>:\n",
      "  3           0 LOAD_CONST               0 (None)\n",
      "              2 RETURN_VALUE\n"
     ]
    }
   ],
   "source": [
    "# How default function arguments are built and stored\n",
    "\n",
    "dis.dis('''\n",
    "def foo(x=[], y=92):\n",
    "    ...\n",
    "''')\n",
    "\n",
    "# Pay attention to the first 3 bytecode instructions"
   ]
  },
  {
   "cell_type": "code",
   "execution_count": 14,
   "metadata": {},
   "outputs": [],
   "source": [
    "def unique(iterable, seen=set()):\n",
    "    acc = []\n",
    "    for item in iterable:\n",
    "        if item not in seen:\n",
    "            seen.add(item)\n",
    "            acc.append(item)\n",
    "    return acc"
   ]
  },
  {
   "cell_type": "code",
   "execution_count": 15,
   "metadata": {},
   "outputs": [
    {
     "data": {
      "text/plain": [
       "[1, 2, 3]"
      ]
     },
     "execution_count": 15,
     "metadata": {},
     "output_type": "execute_result"
    }
   ],
   "source": [
    "xs = [1, 1, 2, 3]\n",
    "unique(xs)"
   ]
  },
  {
   "cell_type": "code",
   "execution_count": 16,
   "metadata": {},
   "outputs": [
    {
     "data": {
      "text/plain": [
       "[]"
      ]
     },
     "execution_count": 16,
     "metadata": {},
     "output_type": "execute_result"
    }
   ],
   "source": [
    "unique(xs)"
   ]
  },
  {
   "cell_type": "code",
   "execution_count": 17,
   "metadata": {},
   "outputs": [
    {
     "data": {
      "text/plain": [
       "({1, 2, 3},)"
      ]
     },
     "execution_count": 17,
     "metadata": {},
     "output_type": "execute_result"
    }
   ],
   "source": [
    "unique.__defaults__"
   ]
  },
  {
   "cell_type": "markdown",
   "metadata": {},
   "source": [
    "How we can avoid this gotcha?"
   ]
  },
  {
   "cell_type": "code",
   "execution_count": 18,
   "metadata": {},
   "outputs": [],
   "source": [
    "def unique(iterable, seen=None):\n",
    "    seen = set(seen or [])\n",
    "    acc = []\n",
    "    for item in iterable:\n",
    "        if item not in seen:\n",
    "            seen.add(item)\n",
    "            acc.append(item)\n",
    "    return acc"
   ]
  },
  {
   "cell_type": "code",
   "execution_count": 19,
   "metadata": {},
   "outputs": [
    {
     "data": {
      "text/plain": [
       "[1, 2, 3]"
      ]
     },
     "execution_count": 19,
     "metadata": {},
     "output_type": "execute_result"
    }
   ],
   "source": [
    "xs = [1, 1, 2, 3]\n",
    "unique(xs)"
   ]
  },
  {
   "cell_type": "code",
   "execution_count": 20,
   "metadata": {},
   "outputs": [
    {
     "data": {
      "text/plain": [
       "[1, 2, 3]"
      ]
     },
     "execution_count": 20,
     "metadata": {},
     "output_type": "execute_result"
    }
   ],
   "source": [
    "unique(xs)"
   ]
  },
  {
   "cell_type": "code",
   "execution_count": 21,
   "metadata": {},
   "outputs": [
    {
     "data": {
      "text/plain": [
       "(None,)"
      ]
     },
     "execution_count": 21,
     "metadata": {},
     "output_type": "execute_result"
    }
   ],
   "source": [
    "unique.__defaults__"
   ]
  },
  {
   "cell_type": "markdown",
   "metadata": {},
   "source": [
    "## Required keyword arguments"
   ]
  },
  {
   "cell_type": "code",
   "execution_count": 22,
   "metadata": {},
   "outputs": [],
   "source": [
    "def flatten(xs, depth=None):\n",
    "    pass"
   ]
  },
  {
   "cell_type": "code",
   "execution_count": 23,
   "metadata": {},
   "outputs": [],
   "source": [
    "flatten([1, [2], 3], depth=1)\n",
    "flatten([1, [2], 3], 1)"
   ]
  },
  {
   "cell_type": "code",
   "execution_count": 24,
   "metadata": {},
   "outputs": [],
   "source": [
    "# if you want to require keyword arguments in function calls\n",
    "def flatten(xs, *, depth=None):\n",
    "    pass"
   ]
  },
  {
   "cell_type": "code",
   "execution_count": 25,
   "metadata": {},
   "outputs": [
    {
     "ename": "TypeError",
     "evalue": "flatten() takes 1 positional argument but 2 were given",
     "output_type": "error",
     "traceback": [
      "\u001b[0;31m---------------------------------------------------------------------------\u001b[0m",
      "\u001b[0;31mTypeError\u001b[0m                                 Traceback (most recent call last)",
      "\u001b[0;32m<ipython-input-25-1fe42cb5aa3f>\u001b[0m in \u001b[0;36m<module>\u001b[0;34m\u001b[0m\n\u001b[0;32m----> 1\u001b[0;31m \u001b[0mflatten\u001b[0m\u001b[0;34m(\u001b[0m\u001b[0;34m[\u001b[0m\u001b[0;36m1\u001b[0m\u001b[0;34m,\u001b[0m \u001b[0;34m[\u001b[0m\u001b[0;36m2\u001b[0m\u001b[0;34m]\u001b[0m\u001b[0;34m,\u001b[0m \u001b[0;36m3\u001b[0m\u001b[0;34m]\u001b[0m\u001b[0;34m,\u001b[0m \u001b[0;36m1\u001b[0m\u001b[0;34m)\u001b[0m\u001b[0;34m\u001b[0m\u001b[0;34m\u001b[0m\u001b[0m\n\u001b[0m",
      "\u001b[0;31mTypeError\u001b[0m: flatten() takes 1 positional argument but 2 were given"
     ]
    }
   ],
   "source": [
    "flatten([1, [2], 3], 1)"
   ]
  },
  {
   "cell_type": "code",
   "execution_count": 26,
   "metadata": {},
   "outputs": [],
   "source": [
    "# More explicit function call\n",
    "flatten([1, [2], 3], depth=1)"
   ]
  },
  {
   "cell_type": "markdown",
   "metadata": {},
   "source": [
    "## Packing and unpacking arguments"
   ]
  },
  {
   "cell_type": "code",
   "execution_count": 27,
   "metadata": {},
   "outputs": [],
   "source": [
    "def min(*args):  # type(args) → class<'tuple'> — ordered and immutable data structure\n",
    "    result = float('inf')\n",
    "    for arg in args:\n",
    "        if arg < result:\n",
    "            result = arg\n",
    "    return result"
   ]
  },
  {
   "cell_type": "markdown",
   "metadata": {},
   "source": [
    "ℹ️ _Python idiom: `float('inf')`_. It acts as an unbounded upper value for comparison."
   ]
  },
  {
   "cell_type": "code",
   "execution_count": 28,
   "metadata": {},
   "outputs": [
    {
     "data": {
      "text/plain": [
       "-5"
      ]
     },
     "execution_count": 28,
     "metadata": {},
     "output_type": "execute_result"
    }
   ],
   "source": [
    "min(-5, 12, 13)"
   ]
  },
  {
   "cell_type": "code",
   "execution_count": 29,
   "metadata": {},
   "outputs": [
    {
     "data": {
      "text/plain": [
       "inf"
      ]
     },
     "execution_count": 29,
     "metadata": {},
     "output_type": "execute_result"
    }
   ],
   "source": [
    "min()"
   ]
  },
  {
   "cell_type": "markdown",
   "metadata": {},
   "source": [
    "Function with at least one required argument:"
   ]
  },
  {
   "cell_type": "code",
   "execution_count": 30,
   "metadata": {},
   "outputs": [],
   "source": [
    "def min(first, *args):\n",
    "    result = first\n",
    "    for arg in args:\n",
    "        if arg < result:\n",
    "            result = arg\n",
    "    return result"
   ]
  },
  {
   "cell_type": "code",
   "execution_count": 31,
   "metadata": {},
   "outputs": [
    {
     "ename": "TypeError",
     "evalue": "min() missing 1 required positional argument: 'first'",
     "output_type": "error",
     "traceback": [
      "\u001b[0;31m---------------------------------------------------------------------------\u001b[0m",
      "\u001b[0;31mTypeError\u001b[0m                                 Traceback (most recent call last)",
      "\u001b[0;32m<ipython-input-31-9c9b7bdfea4e>\u001b[0m in \u001b[0;36m<module>\u001b[0;34m\u001b[0m\n\u001b[0;32m----> 1\u001b[0;31m \u001b[0mmin\u001b[0m\u001b[0;34m(\u001b[0m\u001b[0;34m)\u001b[0m\u001b[0;34m\u001b[0m\u001b[0;34m\u001b[0m\u001b[0m\n\u001b[0m",
      "\u001b[0;31mTypeError\u001b[0m: min() missing 1 required positional argument: 'first'"
     ]
    }
   ],
   "source": [
    "min()"
   ]
  },
  {
   "cell_type": "markdown",
   "metadata": {},
   "source": [
    "💡 _Unpacking works with any object implementing iterator protocol._"
   ]
  },
  {
   "cell_type": "code",
   "execution_count": 32,
   "metadata": {},
   "outputs": [
    {
     "data": {
      "text/plain": [
       "-5"
      ]
     },
     "execution_count": 32,
     "metadata": {},
     "output_type": "execute_result"
    }
   ],
   "source": [
    "# set\n",
    "# only for educational purposes, avoid unpacking sets – they're unordered!\n",
    "xs = {-5, 12, 13}\n",
    "min(*xs)"
   ]
  },
  {
   "cell_type": "code",
   "execution_count": 33,
   "metadata": {},
   "outputs": [
    {
     "data": {
      "text/plain": [
       "-5"
      ]
     },
     "execution_count": 33,
     "metadata": {},
     "output_type": "execute_result"
    }
   ],
   "source": [
    "# list\n",
    "min(*[-5, 12, 13])"
   ]
  },
  {
   "cell_type": "code",
   "execution_count": 34,
   "metadata": {},
   "outputs": [
    {
     "data": {
      "text/plain": [
       "-5"
      ]
     },
     "execution_count": 34,
     "metadata": {},
     "output_type": "execute_result"
    }
   ],
   "source": [
    "# tuple\n",
    "min(*(-5, 12, 13))"
   ]
  },
  {
   "cell_type": "markdown",
   "metadata": {},
   "source": [
    "⚠️ _Using unpacking, you always have to remember the order of function arguments._"
   ]
  },
  {
   "cell_type": "markdown",
   "metadata": {},
   "source": [
    "---"
   ]
  },
  {
   "cell_type": "code",
   "execution_count": 35,
   "metadata": {},
   "outputs": [],
   "source": [
    "def bounded_min(first, *args, lo=float('-inf'), hi=float('inf')):\n",
    "    result = hi\n",
    "    for arg in (first,) + args:\n",
    "        if arg < result and lo < arg < hi:\n",
    "            result = arg\n",
    "    return max(result, lo)"
   ]
  },
  {
   "cell_type": "code",
   "execution_count": 36,
   "metadata": {},
   "outputs": [
    {
     "data": {
      "text/plain": [
       "-5"
      ]
     },
     "execution_count": 36,
     "metadata": {},
     "output_type": "execute_result"
    }
   ],
   "source": [
    "bounded_min(-5, 12, 13)"
   ]
  },
  {
   "cell_type": "code",
   "execution_count": 37,
   "metadata": {},
   "outputs": [
    {
     "data": {
      "text/plain": [
       "12"
      ]
     },
     "execution_count": 37,
     "metadata": {},
     "output_type": "execute_result"
    }
   ],
   "source": [
    "bounded_min(-5, 12, 13, lo=0, hi=255)"
   ]
  },
  {
   "cell_type": "code",
   "execution_count": 38,
   "metadata": {},
   "outputs": [
    {
     "data": {
      "text/plain": [
       "200"
      ]
     },
     "execution_count": 38,
     "metadata": {},
     "output_type": "execute_result"
    }
   ],
   "source": [
    "bounded_min(-5, 12, 13, lo=100, hi=200)"
   ]
  },
  {
   "cell_type": "markdown",
   "metadata": {},
   "source": [
    "ℹ️ _Python idiom: `lo < arg < hi`._ It simplifies the condition."
   ]
  },
  {
   "cell_type": "markdown",
   "metadata": {},
   "source": [
    "## Keyword arguments (kwargs)"
   ]
  },
  {
   "cell_type": "code",
   "execution_count": 39,
   "metadata": {},
   "outputs": [],
   "source": [
    "def runner(cmd, **kwargs):  # type(kwargs) → class<'dict'> — mutable data structure\n",
    "    if kwargs.get('verbose', True):\n",
    "        print('Logging enabled')\n",
    "    else:\n",
    "        print('Logging disabled')"
   ]
  },
  {
   "cell_type": "code",
   "execution_count": 40,
   "metadata": {},
   "outputs": [
    {
     "name": "stdout",
     "output_type": "stream",
     "text": [
      "Logging enabled\n"
     ]
    }
   ],
   "source": [
    "runner('dramatiq', processes=4, threads=4)"
   ]
  },
  {
   "cell_type": "code",
   "execution_count": 41,
   "metadata": {},
   "outputs": [
    {
     "name": "stdout",
     "output_type": "stream",
     "text": [
      "Logging disabled\n"
     ]
    }
   ],
   "source": [
    "runner('dramatiq', processes=4, threads=4, verbose=False)"
   ]
  },
  {
   "cell_type": "code",
   "execution_count": 42,
   "metadata": {},
   "outputs": [
    {
     "name": "stdout",
     "output_type": "stream",
     "text": [
      "Logging disabled\n"
     ]
    }
   ],
   "source": [
    "runner('dramatiq', **{'processes': 2, 'threads': 2, 'verbose': False})"
   ]
  },
  {
   "cell_type": "code",
   "execution_count": 43,
   "metadata": {},
   "outputs": [
    {
     "name": "stdout",
     "output_type": "stream",
     "text": [
      "Logging disabled\n"
     ]
    }
   ],
   "source": [
    "options = {'processes': 16, 'threads': 16, 'verbose': False}\n",
    "runner('dramatiq', **options)"
   ]
  },
  {
   "cell_type": "markdown",
   "metadata": {},
   "source": [
    "## Unpacking and assignment"
   ]
  },
  {
   "cell_type": "code",
   "execution_count": 44,
   "metadata": {},
   "outputs": [],
   "source": [
    "acc = []\n",
    "seen = set()"
   ]
  },
  {
   "cell_type": "code",
   "execution_count": 45,
   "metadata": {},
   "outputs": [],
   "source": [
    "# using unpacking with assignment\n",
    "(acc, seen) = ([], set())"
   ]
  },
  {
   "cell_type": "code",
   "execution_count": 46,
   "metadata": {},
   "outputs": [],
   "source": [
    "x, y, z = [1, 2, 3]\n",
    "x, y, z = {1, 2, 3} # unordered!\n",
    "x, y, z = \"123\""
   ]
  },
  {
   "cell_type": "code",
   "execution_count": 47,
   "metadata": {},
   "outputs": [
    {
     "data": {
      "text/plain": [
       "'1'"
      ]
     },
     "execution_count": 47,
     "metadata": {},
     "output_type": "execute_result"
    }
   ],
   "source": [
    "x"
   ]
  },
  {
   "cell_type": "code",
   "execution_count": 48,
   "metadata": {},
   "outputs": [
    {
     "data": {
      "text/plain": [
       "'2'"
      ]
     },
     "execution_count": 48,
     "metadata": {},
     "output_type": "execute_result"
    }
   ],
   "source": [
    "y"
   ]
  },
  {
   "cell_type": "code",
   "execution_count": 49,
   "metadata": {},
   "outputs": [
    {
     "data": {
      "text/plain": [
       "'3'"
      ]
     },
     "execution_count": 49,
     "metadata": {},
     "output_type": "execute_result"
    }
   ],
   "source": [
    "z"
   ]
  },
  {
   "cell_type": "markdown",
   "metadata": {},
   "source": [
    "Parentheses are not required, but sometimes they can be useful:"
   ]
  },
  {
   "cell_type": "code",
   "execution_count": 50,
   "metadata": {},
   "outputs": [],
   "source": [
    "rectangle = (0, 0), (4, 4)\n",
    "(x1, y1), (x2, y2) = rectangle"
   ]
  },
  {
   "cell_type": "markdown",
   "metadata": {},
   "source": [
    "[PEP 3132 -- Extended Iterable Unpacking](https://www.python.org/dev/peps/pep-3132/)"
   ]
  },
  {
   "cell_type": "code",
   "execution_count": 51,
   "metadata": {},
   "outputs": [],
   "source": [
    "first, *rest = range(1, 5)"
   ]
  },
  {
   "cell_type": "code",
   "execution_count": 52,
   "metadata": {},
   "outputs": [
    {
     "data": {
      "text/plain": [
       "(1, [2, 3, 4])"
      ]
     },
     "execution_count": 52,
     "metadata": {},
     "output_type": "execute_result"
    }
   ],
   "source": [
    "first, rest"
   ]
  },
  {
   "cell_type": "code",
   "execution_count": 53,
   "metadata": {},
   "outputs": [
    {
     "data": {
      "text/plain": [
       "4"
      ]
     },
     "execution_count": 53,
     "metadata": {},
     "output_type": "execute_result"
    }
   ],
   "source": [
    "first, *rest, last = range(1, 5)\n",
    "last"
   ]
  },
  {
   "cell_type": "code",
   "execution_count": 54,
   "metadata": {},
   "outputs": [
    {
     "data": {
      "text/plain": [
       "[2, 3]"
      ]
     },
     "execution_count": 54,
     "metadata": {},
     "output_type": "execute_result"
    }
   ],
   "source": [
    "rest"
   ]
  },
  {
   "cell_type": "code",
   "execution_count": 55,
   "metadata": {},
   "outputs": [
    {
     "ename": "ValueError",
     "evalue": "not enough values to unpack (expected at least 2, got 1)",
     "output_type": "error",
     "traceback": [
      "\u001b[0;31m---------------------------------------------------------------------------\u001b[0m",
      "\u001b[0;31mValueError\u001b[0m                                Traceback (most recent call last)",
      "\u001b[0;32m<ipython-input-55-67ca5301872e>\u001b[0m in \u001b[0;36m<module>\u001b[0;34m\u001b[0m\n\u001b[0;32m----> 1\u001b[0;31m \u001b[0mfirst\u001b[0m\u001b[0;34m,\u001b[0m \u001b[0;34m*\u001b[0m\u001b[0mrest\u001b[0m\u001b[0;34m,\u001b[0m \u001b[0mlast\u001b[0m \u001b[0;34m=\u001b[0m \u001b[0;34m[\u001b[0m\u001b[0;36m42\u001b[0m\u001b[0;34m]\u001b[0m\u001b[0;34m\u001b[0m\u001b[0;34m\u001b[0m\u001b[0m\n\u001b[0m",
      "\u001b[0;31mValueError\u001b[0m: not enough values to unpack (expected at least 2, got 1)"
     ]
    }
   ],
   "source": [
    "first, *rest, last = [42]"
   ]
  },
  {
   "cell_type": "code",
   "execution_count": 56,
   "metadata": {},
   "outputs": [
    {
     "data": {
      "text/plain": [
       "('Tesla S', '€60 000')"
      ]
     },
     "execution_count": 56,
     "metadata": {},
     "output_type": "execute_result"
    }
   ],
   "source": [
    "line = \"Tesla S,€60 000,black,US\"\n",
    "name, price, *_ = line.split(\",\")  # OK!\n",
    "name, price"
   ]
  },
  {
   "cell_type": "markdown",
   "metadata": {},
   "source": [
    "---"
   ]
  },
  {
   "cell_type": "code",
   "execution_count": 57,
   "metadata": {},
   "outputs": [
    {
     "name": "stdout",
     "output_type": "stream",
     "text": [
      "  1           0 LOAD_CONST               0 (('a', 'b', 'c'))\n",
      "              2 EXTENDED_ARG             1\n",
      "              4 UNPACK_EX              257\n",
      "              6 STORE_NAME               0 (first)\n",
      "              8 STORE_NAME               1 (rest)\n",
      "             10 STORE_NAME               2 (last)\n",
      "             12 LOAD_CONST               1 (None)\n",
      "             14 RETURN_VALUE\n"
     ]
    }
   ],
   "source": [
    "import dis\n",
    "dis.dis(\"first, *rest, last = ('a', 'b', 'c')\")"
   ]
  },
  {
   "cell_type": "markdown",
   "metadata": {},
   "source": [
    "As we see, variable assignment works from left to right."
   ]
  },
  {
   "cell_type": "code",
   "execution_count": 58,
   "metadata": {},
   "outputs": [],
   "source": [
    "x, (x, y) = 1, (2, 3)"
   ]
  },
  {
   "cell_type": "code",
   "execution_count": 59,
   "metadata": {},
   "outputs": [
    {
     "data": {
      "text/plain": [
       "2"
      ]
     },
     "execution_count": 59,
     "metadata": {},
     "output_type": "execute_result"
    }
   ],
   "source": [
    "x"
   ]
  },
  {
   "cell_type": "markdown",
   "metadata": {},
   "source": [
    "`x` is equal 2 as expected.\n",
    "\n",
    "P.S. We used variable `x` twice in the expression just for educational purposes. This could be confusing for others."
   ]
  },
  {
   "cell_type": "code",
   "execution_count": 60,
   "metadata": {},
   "outputs": [
    {
     "name": "stdout",
     "output_type": "stream",
     "text": [
      "  1           0 BUILD_LIST               0\n",
      "              2 LOAD_CONST               0 (('a', 'b', 'c'))\n",
      "              4 LIST_EXTEND              1\n",
      "              6 EXTENDED_ARG             1\n",
      "              8 UNPACK_EX              257\n",
      "             10 STORE_NAME               0 (first)\n",
      "             12 STORE_NAME               1 (rest)\n",
      "             14 STORE_NAME               2 (last)\n",
      "             16 LOAD_CONST               1 (None)\n",
      "             18 RETURN_VALUE\n"
     ]
    }
   ],
   "source": [
    "dis.dis(\"first, *rest, last = ['a', 'b', 'c']\")"
   ]
  },
  {
   "cell_type": "markdown",
   "metadata": {},
   "source": [
    "💡 _Unpacking the list works differently on runtime._"
   ]
  },
  {
   "cell_type": "markdown",
   "metadata": {},
   "source": [
    "---"
   ]
  },
  {
   "cell_type": "code",
   "execution_count": 61,
   "metadata": {},
   "outputs": [],
   "source": [
    "def f(*args, **kwargs):\n",
    "    pass"
   ]
  },
  {
   "cell_type": "code",
   "execution_count": 63,
   "metadata": {},
   "outputs": [],
   "source": [
    "f(1, 2, 3, **{\"foo\": 42})"
   ]
  },
  {
   "cell_type": "code",
   "execution_count": 64,
   "metadata": {},
   "outputs": [],
   "source": [
    "first, *rest = range(4)"
   ]
  },
  {
   "cell_type": "code",
   "execution_count": 65,
   "metadata": {},
   "outputs": [],
   "source": [
    "for first, *rest in [range(4), range(2)]:\n",
    "    pass"
   ]
  },
  {
   "cell_type": "markdown",
   "metadata": {},
   "source": [
    "[PEP 448 -- Additional Unpacking Generalizations](https://www.python.org/dev/peps/pep-0448/) → Python 3.5"
   ]
  },
  {
   "cell_type": "code",
   "execution_count": 66,
   "metadata": {},
   "outputs": [],
   "source": [
    "def f(*args, **kwargs):\n",
    "    print(args, kwargs)"
   ]
  },
  {
   "cell_type": "code",
   "execution_count": 67,
   "metadata": {},
   "outputs": [
    {
     "name": "stdout",
     "output_type": "stream",
     "text": [
      "(1, 2, 3, 4, 5) {'foo': 'bar', 'baz': 42, 'boo': 24}\n"
     ]
    }
   ],
   "source": [
    "f(1, 2, *[3, 4], *[5], foo=\"bar\", **{\"baz\": 42}, boo=24)"
   ]
  },
  {
   "cell_type": "code",
   "execution_count": 68,
   "metadata": {},
   "outputs": [],
   "source": [
    "defaults = {\"host\": \"0.0.0.0\", \"port\": 8080}"
   ]
  },
  {
   "cell_type": "code",
   "execution_count": 69,
   "metadata": {},
   "outputs": [
    {
     "data": {
      "text/plain": [
       "{'host': '0.0.0.0', 'port': 80}"
      ]
     },
     "execution_count": 69,
     "metadata": {},
     "output_type": "execute_result"
    }
   ],
   "source": [
    "{**defaults, \"port\": 80}"
   ]
  },
  {
   "cell_type": "code",
   "execution_count": 70,
   "metadata": {},
   "outputs": [
    {
     "data": {
      "text/plain": [
       "[0, 1, 2, 3, 4, 6]"
      ]
     },
     "execution_count": 70,
     "metadata": {},
     "output_type": "execute_result"
    }
   ],
   "source": [
    "[*range(5), 6]"
   ]
  },
  {
   "cell_type": "markdown",
   "metadata": {},
   "source": [
    "## Function scope"
   ]
  },
  {
   "cell_type": "markdown",
   "metadata": {},
   "source": [
    "Functions are first-class citizens in Python:"
   ]
  },
  {
   "cell_type": "code",
   "execution_count": 71,
   "metadata": {},
   "outputs": [],
   "source": [
    "def wrapper():\n",
    "    def identity(x):\n",
    "        return x\n",
    "    return identity"
   ]
  },
  {
   "cell_type": "code",
   "execution_count": 72,
   "metadata": {},
   "outputs": [
    {
     "data": {
      "text/plain": [
       "42"
      ]
     },
     "execution_count": 72,
     "metadata": {},
     "output_type": "execute_result"
    }
   ],
   "source": [
    "f = wrapper()\n",
    "f(42)"
   ]
  },
  {
   "cell_type": "code",
   "execution_count": 73,
   "metadata": {},
   "outputs": [],
   "source": [
    "def make_min(*, lo, hi):\n",
    "    \"\"\"Returns configured min function\"\"\"\n",
    "    def inner(first, *args):\n",
    "        result = hi\n",
    "        for arg in (first, ) + args:\n",
    "            if arg < result and lo < arg < hi:\n",
    "                result = arg\n",
    "        return max(result, lo)\n",
    "    return inner"
   ]
  },
  {
   "cell_type": "code",
   "execution_count": 74,
   "metadata": {},
   "outputs": [
    {
     "data": {
      "text/plain": [
       "12"
      ]
     },
     "execution_count": 74,
     "metadata": {},
     "output_type": "execute_result"
    }
   ],
   "source": [
    "bounded_min = make_min(lo=0, hi=255)\n",
    "bounded_min(-5, 12, 13)"
   ]
  },
  {
   "cell_type": "markdown",
   "metadata": {},
   "source": [
    "[Python scoping: understanding LEGB](https://blog.mozilla.org/webdev/2011/01/31/python-scoping-understanding-legb/)"
   ]
  },
  {
   "cell_type": "code",
   "execution_count": 75,
   "metadata": {},
   "outputs": [
    {
     "data": {
      "text/plain": [
       "(dict, dict)"
      ]
     },
     "execution_count": 75,
     "metadata": {},
     "output_type": "execute_result"
    }
   ],
   "source": [
    "type(globals()), type(locals())"
   ]
  },
  {
   "cell_type": "markdown",
   "metadata": {},
   "source": [
    "An interpreter can define local variables during bytecode compilation and store them more effectively in an array. Therefore access to their values using indexes will be quicker than lookup by keys in globals."
   ]
  },
  {
   "cell_type": "code",
   "execution_count": 76,
   "metadata": {},
   "outputs": [
    {
     "name": "stdout",
     "output_type": "stream",
     "text": [
      "(<cell at 0x104f19d90: empty>,)\n",
      "{'bar': <function foo.<locals>.bar at 0x104e6b9d0>}\n",
      "(<cell at 0x104f19d90: int object at 0x102d1f4d0>,)\n",
      "{'bar': <function foo.<locals>.bar at 0x104e6b9d0>, 'x': 92}\n"
     ]
    }
   ],
   "source": [
    "def foo():\n",
    "    def bar():\n",
    "        return x\n",
    "    print(bar.__closure__)\n",
    "    print(locals())\n",
    "    x = 92\n",
    "    print(bar.__closure__)\n",
    "    print(locals())\n",
    "    \n",
    "foo()"
   ]
  },
  {
   "cell_type": "markdown",
   "metadata": {},
   "source": [
    "- local, `locals()` — by index\n",
    "- enclosing, `foo.__closure__` — by index\n",
    "- global, `foo.__globals__`, `globals()` — lookup in dict\n",
    "- built-ins"
   ]
  },
  {
   "cell_type": "code",
   "execution_count": 77,
   "metadata": {},
   "outputs": [],
   "source": [
    "min       # builtin\n",
    "min = 42  # global\n",
    "\n",
    "def f(*args):\n",
    "    min = 2\n",
    "    def g():     # enclosing\n",
    "        min = 4  # local\n",
    "        print(min)"
   ]
  },
  {
   "cell_type": "markdown",
   "metadata": {},
   "source": [
    "---"
   ]
  },
  {
   "cell_type": "code",
   "execution_count": 78,
   "metadata": {
    "scrolled": true
   },
   "outputs": [
    {
     "data": {
      "text/plain": [
       "{'__name__': '__main__',\n",
       " '__doc__': 'Automatically created module for IPython interactive environment',\n",
       " '__package__': None,\n",
       " '__loader__': None,\n",
       " '__spec__': None,\n",
       " '__builtin__': <module 'builtins' (built-in)>,\n",
       " '__builtins__': <module 'builtins' (built-in)>,\n",
       " '_ih': ['',\n",
       "  'for i in range(3):\\n    print(i)\\nelse:\\n    print(\"done!\")  # won\\'t be executed when iteration breaks calling the break statement',\n",
       "  'def foo():\\n    42',\n",
       "  'print(foo())',\n",
       "  'foo.__name__',\n",
       "  'import dis\\n\\ndis.dis(\\'\\'\\'\\ndef foo():\\n    \"\"\"I\\'m doing nothing and return 92.\"\"\"\\n    return 92\\nfoo()\\n\\'\\'\\')\\n\\n# Pay attention to the first 4 bytecode instructions',\n",
       "  'def foo():\\n    \"\"\"Returns some magic number\"\"\"\\n    return 42',\n",
       "  'foo.__doc__',\n",
       "  'help(foo)  # or foo? in IPython',\n",
       "  'def min(x, y):\\n    return x if x < y else y',\n",
       "  'min(-5, 12)',\n",
       "  '# we can use few or all keyword arguments when calling a function\\n\\nmin(x=-5, y=12)\\nmin(y=12, x=-5)  # order of keyword arguments is not important\\nmin(-5, y=12)    # keyword arguments always follow positional arguments',\n",
       "  'def min(a, b):\\n    ...\\n    \\nmin(x=-5, y=12)',\n",
       "  \"# How default function arguments are built and stored\\n\\ndis.dis('''\\ndef foo(x=[], y=92):\\n    ...\\n''')\\n\\n# Pay attention to the first 3 bytecode instructions\",\n",
       "  'def unique(iterable, seen=set()):\\n    acc = []\\n    for item in iterable:\\n        if item not in seen:\\n            seen.add(item)\\n            acc.append(item)\\n    return acc',\n",
       "  'xs = [1, 1, 2, 3]\\nunique(xs)',\n",
       "  'unique(xs)',\n",
       "  'unique.__defaults__',\n",
       "  'def unique(iterable, seen=None):\\n    seen = set(seen or [])\\n    acc = []\\n    for item in iterable:\\n        if item not in seen:\\n            seen.add(item)\\n            acc.append(item)\\n    return acc',\n",
       "  'xs = [1, 1, 2, 3]\\nunique(xs)',\n",
       "  'unique(xs)',\n",
       "  'unique.__defaults__',\n",
       "  'def flatten(xs, depth=None):\\n    pass',\n",
       "  'flatten([1, [2], 3], depth=1)\\nflatten([1, [2], 3], 1)',\n",
       "  '# if you want to require keyword arguments in function calls\\ndef flatten(xs, *, depth=None):\\n    pass',\n",
       "  'flatten([1, [2], 3], 1)',\n",
       "  '# More explicit function call\\nflatten([1, [2], 3], depth=1)',\n",
       "  \"def min(*args):  # type(args) → class<'tuple'> — ordered and immutable data structure\\n    result = float('inf')\\n    for arg in args:\\n        if arg < result:\\n            result = arg\\n    return result\",\n",
       "  'min(-5, 12, 13)',\n",
       "  'min()',\n",
       "  'def min(first, *args):\\n    result = first\\n    for arg in args:\\n        if arg < result:\\n            result = arg\\n    return result',\n",
       "  'min()',\n",
       "  \"# set\\n# only for educational purposes, avoid unpacking sets – they're unordered!\\nxs = {-5, 12, 13}\\nmin(*xs)\",\n",
       "  '# list\\nmin(*[-5, 12, 13])',\n",
       "  '# tuple\\nmin(*(-5, 12, 13))',\n",
       "  \"def bounded_min(first, *args, lo=float('-inf'), hi=float('inf')):\\n    result = hi\\n    for arg in (first,) + args:\\n        if arg < result and lo < arg < hi:\\n            result = arg\\n    return max(result, lo)\",\n",
       "  'bounded_min(-5, 12, 13)',\n",
       "  'bounded_min(-5, 12, 13, lo=0, hi=255)',\n",
       "  'bounded_min(-5, 12, 13, lo=100, hi=200)',\n",
       "  \"def runner(cmd, **kwargs):  # type(kwargs) → class<'dict'> — mutable data structure\\n    if kwargs.get('verbose', True):\\n        print('Logging enabled')\\n    else:\\n        print('Logging disabled')\",\n",
       "  \"runner('dramatiq', processes=4, threads=4)\",\n",
       "  \"runner('dramatiq', processes=4, threads=4, verbose=False)\",\n",
       "  \"runner('dramatiq', **{'processes': 2, 'threads': 2, 'verbose': False})\",\n",
       "  \"options = {'processes': 16, 'threads': 16, 'verbose': False}\\nrunner('dramatiq', **options)\",\n",
       "  'acc = []\\nseen = set()',\n",
       "  '# using unpacking with assignment\\n(acc, seen) = ([], set())',\n",
       "  'x, y, z = [1, 2, 3]\\nx, y, z = {1, 2, 3} # unordered!\\nx, y, z = \"123\"',\n",
       "  'x',\n",
       "  'y',\n",
       "  'z',\n",
       "  'rectangle = (0, 0), (4, 4)\\n(x1, y1), (x2, y2) = rectangle',\n",
       "  'first, *rest = range(1, 5)',\n",
       "  'first, rest',\n",
       "  'first, *rest, last = range(1, 5)\\nlast',\n",
       "  'rest',\n",
       "  'first, *rest, last = [42]',\n",
       "  'line = \"Tesla S,€60 000,black,US\"\\nname, price, *_ = line.split(\",\")  # OK!\\nname, price',\n",
       "  'import dis\\ndis.dis(\"first, *rest, last = (\\'a\\', \\'b\\', \\'c\\')\")',\n",
       "  'x, (x, y) = 1, (2, 3)',\n",
       "  'x',\n",
       "  'dis.dis(\"first, *rest, last = [\\'a\\', \\'b\\', \\'c\\']\")',\n",
       "  'def f(*args, **kwargs):\\n    pass',\n",
       "  \"f(1, 2, 3, **{'foo': 42})\",\n",
       "  'f(1, 2, 3, **{\"foo\": 42})',\n",
       "  'first, *rest = range(4)',\n",
       "  'for first, *rest in [range(4), range(2)]:\\n    pass',\n",
       "  'def f(*args, **kwargs):\\n    print(args, kwargs)',\n",
       "  'f(1, 2, *[3, 4], *[5], foo=\"bar\", **{\"baz\": 42}, boo=24)',\n",
       "  'defaults = {\"host\": \"0.0.0.0\", \"port\": 8080}',\n",
       "  '{**defaults, \"port\": 80}',\n",
       "  '[*range(5), 6]',\n",
       "  'def wrapper():\\n    def identity(x):\\n        return x\\n    return identity',\n",
       "  'f = wrapper()\\nf(42)',\n",
       "  'def make_min(*, lo, hi):\\n    \"\"\"Returns configured min function\"\"\"\\n    def inner(first, *args):\\n        result = hi\\n        for arg in (first, ) + args:\\n            if arg < result and lo < arg < hi:\\n                result = arg\\n        return max(result, lo)\\n    return inner',\n",
       "  'bounded_min = make_min(lo=0, hi=255)\\nbounded_min(-5, 12, 13)',\n",
       "  'type(globals()), type(locals())',\n",
       "  'def foo():\\n    def bar():\\n        return x\\n    print(bar.__closure__)\\n    print(locals())\\n    x = 92\\n    print(bar.__closure__)\\n    print(locals())\\n    \\nfoo()',\n",
       "  'min       # builtin\\nmin = 42  # global\\n\\ndef f(*args):\\n    min = 2\\n    def g():     # enclosing\\n        min = 4  # local\\n        print(min)',\n",
       "  \"min = 42   # globals()['min'] = 42\\nglobals()  # globals is mutable dict\"],\n",
       " '_oh': {4: 'foo',\n",
       "  7: 'Returns some magic number',\n",
       "  10: -5,\n",
       "  11: -5,\n",
       "  15: [1, 2, 3],\n",
       "  16: [],\n",
       "  17: ({1, 2, 3},),\n",
       "  19: [1, 2, 3],\n",
       "  20: [1, 2, 3],\n",
       "  21: (None,),\n",
       "  28: -5,\n",
       "  29: inf,\n",
       "  32: -5,\n",
       "  33: -5,\n",
       "  34: -5,\n",
       "  36: -5,\n",
       "  37: 12,\n",
       "  38: 200,\n",
       "  47: '1',\n",
       "  48: '2',\n",
       "  49: '3',\n",
       "  52: (1, [2, 3, 4]),\n",
       "  53: 4,\n",
       "  54: [2, 3],\n",
       "  56: ('Tesla S', '€60 000'),\n",
       "  59: 2,\n",
       "  69: {'host': '0.0.0.0', 'port': 80},\n",
       "  70: [0, 1, 2, 3, 4, 6],\n",
       "  72: 42,\n",
       "  74: 12,\n",
       "  75: (dict, dict)},\n",
       " '_dh': ['/Users/akrisanov/github/python_notebook'],\n",
       " 'In': ['',\n",
       "  'for i in range(3):\\n    print(i)\\nelse:\\n    print(\"done!\")  # won\\'t be executed when iteration breaks calling the break statement',\n",
       "  'def foo():\\n    42',\n",
       "  'print(foo())',\n",
       "  'foo.__name__',\n",
       "  'import dis\\n\\ndis.dis(\\'\\'\\'\\ndef foo():\\n    \"\"\"I\\'m doing nothing and return 92.\"\"\"\\n    return 92\\nfoo()\\n\\'\\'\\')\\n\\n# Pay attention to the first 4 bytecode instructions',\n",
       "  'def foo():\\n    \"\"\"Returns some magic number\"\"\"\\n    return 42',\n",
       "  'foo.__doc__',\n",
       "  'help(foo)  # or foo? in IPython',\n",
       "  'def min(x, y):\\n    return x if x < y else y',\n",
       "  'min(-5, 12)',\n",
       "  '# we can use few or all keyword arguments when calling a function\\n\\nmin(x=-5, y=12)\\nmin(y=12, x=-5)  # order of keyword arguments is not important\\nmin(-5, y=12)    # keyword arguments always follow positional arguments',\n",
       "  'def min(a, b):\\n    ...\\n    \\nmin(x=-5, y=12)',\n",
       "  \"# How default function arguments are built and stored\\n\\ndis.dis('''\\ndef foo(x=[], y=92):\\n    ...\\n''')\\n\\n# Pay attention to the first 3 bytecode instructions\",\n",
       "  'def unique(iterable, seen=set()):\\n    acc = []\\n    for item in iterable:\\n        if item not in seen:\\n            seen.add(item)\\n            acc.append(item)\\n    return acc',\n",
       "  'xs = [1, 1, 2, 3]\\nunique(xs)',\n",
       "  'unique(xs)',\n",
       "  'unique.__defaults__',\n",
       "  'def unique(iterable, seen=None):\\n    seen = set(seen or [])\\n    acc = []\\n    for item in iterable:\\n        if item not in seen:\\n            seen.add(item)\\n            acc.append(item)\\n    return acc',\n",
       "  'xs = [1, 1, 2, 3]\\nunique(xs)',\n",
       "  'unique(xs)',\n",
       "  'unique.__defaults__',\n",
       "  'def flatten(xs, depth=None):\\n    pass',\n",
       "  'flatten([1, [2], 3], depth=1)\\nflatten([1, [2], 3], 1)',\n",
       "  '# if you want to require keyword arguments in function calls\\ndef flatten(xs, *, depth=None):\\n    pass',\n",
       "  'flatten([1, [2], 3], 1)',\n",
       "  '# More explicit function call\\nflatten([1, [2], 3], depth=1)',\n",
       "  \"def min(*args):  # type(args) → class<'tuple'> — ordered and immutable data structure\\n    result = float('inf')\\n    for arg in args:\\n        if arg < result:\\n            result = arg\\n    return result\",\n",
       "  'min(-5, 12, 13)',\n",
       "  'min()',\n",
       "  'def min(first, *args):\\n    result = first\\n    for arg in args:\\n        if arg < result:\\n            result = arg\\n    return result',\n",
       "  'min()',\n",
       "  \"# set\\n# only for educational purposes, avoid unpacking sets – they're unordered!\\nxs = {-5, 12, 13}\\nmin(*xs)\",\n",
       "  '# list\\nmin(*[-5, 12, 13])',\n",
       "  '# tuple\\nmin(*(-5, 12, 13))',\n",
       "  \"def bounded_min(first, *args, lo=float('-inf'), hi=float('inf')):\\n    result = hi\\n    for arg in (first,) + args:\\n        if arg < result and lo < arg < hi:\\n            result = arg\\n    return max(result, lo)\",\n",
       "  'bounded_min(-5, 12, 13)',\n",
       "  'bounded_min(-5, 12, 13, lo=0, hi=255)',\n",
       "  'bounded_min(-5, 12, 13, lo=100, hi=200)',\n",
       "  \"def runner(cmd, **kwargs):  # type(kwargs) → class<'dict'> — mutable data structure\\n    if kwargs.get('verbose', True):\\n        print('Logging enabled')\\n    else:\\n        print('Logging disabled')\",\n",
       "  \"runner('dramatiq', processes=4, threads=4)\",\n",
       "  \"runner('dramatiq', processes=4, threads=4, verbose=False)\",\n",
       "  \"runner('dramatiq', **{'processes': 2, 'threads': 2, 'verbose': False})\",\n",
       "  \"options = {'processes': 16, 'threads': 16, 'verbose': False}\\nrunner('dramatiq', **options)\",\n",
       "  'acc = []\\nseen = set()',\n",
       "  '# using unpacking with assignment\\n(acc, seen) = ([], set())',\n",
       "  'x, y, z = [1, 2, 3]\\nx, y, z = {1, 2, 3} # unordered!\\nx, y, z = \"123\"',\n",
       "  'x',\n",
       "  'y',\n",
       "  'z',\n",
       "  'rectangle = (0, 0), (4, 4)\\n(x1, y1), (x2, y2) = rectangle',\n",
       "  'first, *rest = range(1, 5)',\n",
       "  'first, rest',\n",
       "  'first, *rest, last = range(1, 5)\\nlast',\n",
       "  'rest',\n",
       "  'first, *rest, last = [42]',\n",
       "  'line = \"Tesla S,€60 000,black,US\"\\nname, price, *_ = line.split(\",\")  # OK!\\nname, price',\n",
       "  'import dis\\ndis.dis(\"first, *rest, last = (\\'a\\', \\'b\\', \\'c\\')\")',\n",
       "  'x, (x, y) = 1, (2, 3)',\n",
       "  'x',\n",
       "  'dis.dis(\"first, *rest, last = [\\'a\\', \\'b\\', \\'c\\']\")',\n",
       "  'def f(*args, **kwargs):\\n    pass',\n",
       "  \"f(1, 2, 3, **{'foo': 42})\",\n",
       "  'f(1, 2, 3, **{\"foo\": 42})',\n",
       "  'first, *rest = range(4)',\n",
       "  'for first, *rest in [range(4), range(2)]:\\n    pass',\n",
       "  'def f(*args, **kwargs):\\n    print(args, kwargs)',\n",
       "  'f(1, 2, *[3, 4], *[5], foo=\"bar\", **{\"baz\": 42}, boo=24)',\n",
       "  'defaults = {\"host\": \"0.0.0.0\", \"port\": 8080}',\n",
       "  '{**defaults, \"port\": 80}',\n",
       "  '[*range(5), 6]',\n",
       "  'def wrapper():\\n    def identity(x):\\n        return x\\n    return identity',\n",
       "  'f = wrapper()\\nf(42)',\n",
       "  'def make_min(*, lo, hi):\\n    \"\"\"Returns configured min function\"\"\"\\n    def inner(first, *args):\\n        result = hi\\n        for arg in (first, ) + args:\\n            if arg < result and lo < arg < hi:\\n                result = arg\\n        return max(result, lo)\\n    return inner',\n",
       "  'bounded_min = make_min(lo=0, hi=255)\\nbounded_min(-5, 12, 13)',\n",
       "  'type(globals()), type(locals())',\n",
       "  'def foo():\\n    def bar():\\n        return x\\n    print(bar.__closure__)\\n    print(locals())\\n    x = 92\\n    print(bar.__closure__)\\n    print(locals())\\n    \\nfoo()',\n",
       "  'min       # builtin\\nmin = 42  # global\\n\\ndef f(*args):\\n    min = 2\\n    def g():     # enclosing\\n        min = 4  # local\\n        print(min)',\n",
       "  \"min = 42   # globals()['min'] = 42\\nglobals()  # globals is mutable dict\"],\n",
       " 'Out': {4: 'foo',\n",
       "  7: 'Returns some magic number',\n",
       "  10: -5,\n",
       "  11: -5,\n",
       "  15: [1, 2, 3],\n",
       "  16: [],\n",
       "  17: ({1, 2, 3},),\n",
       "  19: [1, 2, 3],\n",
       "  20: [1, 2, 3],\n",
       "  21: (None,),\n",
       "  28: -5,\n",
       "  29: inf,\n",
       "  32: -5,\n",
       "  33: -5,\n",
       "  34: -5,\n",
       "  36: -5,\n",
       "  37: 12,\n",
       "  38: 200,\n",
       "  47: '1',\n",
       "  48: '2',\n",
       "  49: '3',\n",
       "  52: (1, [2, 3, 4]),\n",
       "  53: 4,\n",
       "  54: [2, 3],\n",
       "  56: ('Tesla S', '€60 000'),\n",
       "  59: 2,\n",
       "  69: {'host': '0.0.0.0', 'port': 80},\n",
       "  70: [0, 1, 2, 3, 4, 6],\n",
       "  72: 42,\n",
       "  74: 12,\n",
       "  75: (dict, dict)},\n",
       " 'get_ipython': <bound method InteractiveShell.get_ipython of <ipykernel.zmqshell.ZMQInteractiveShell object at 0x104d102e0>>,\n",
       " 'exit': <IPython.core.autocall.ZMQExitAutocall at 0x104d10c40>,\n",
       " 'quit': <IPython.core.autocall.ZMQExitAutocall at 0x104d10c40>,\n",
       " '_': ['black', 'US'],\n",
       " '__': 4,\n",
       " '___': (1, [2, 3, 4]),\n",
       " '_i': 'min       # builtin\\nmin = 42  # global\\n\\ndef f(*args):\\n    min = 2\\n    def g():     # enclosing\\n        min = 4  # local\\n        print(min)',\n",
       " '_ii': 'def foo():\\n    def bar():\\n        return x\\n    print(bar.__closure__)\\n    print(locals())\\n    x = 92\\n    print(bar.__closure__)\\n    print(locals())\\n    \\nfoo()',\n",
       " '_iii': 'type(globals()), type(locals())',\n",
       " '_i1': 'for i in range(3):\\n    print(i)\\nelse:\\n    print(\"done!\")  # won\\'t be executed when iteration breaks calling the break statement',\n",
       " 'i': 2,\n",
       " '_i2': 'def foo():\\n    42',\n",
       " 'foo': <function __main__.foo()>,\n",
       " '_i3': 'print(foo())',\n",
       " '_i4': 'foo.__name__',\n",
       " '_4': 'foo',\n",
       " '_i5': 'import dis\\n\\ndis.dis(\\'\\'\\'\\ndef foo():\\n    \"\"\"I\\'m doing nothing and return 92.\"\"\"\\n    return 92\\nfoo()\\n\\'\\'\\')\\n\\n# Pay attention to the first 4 bytecode instructions',\n",
       " 'dis': <module 'dis' from '/Users/akrisanov/.asdf/installs/python/3.9.1/lib/python3.9/dis.py'>,\n",
       " '_i6': 'def foo():\\n    \"\"\"Returns some magic number\"\"\"\\n    return 42',\n",
       " '_i7': 'foo.__doc__',\n",
       " '_7': 'Returns some magic number',\n",
       " '_i8': 'help(foo)  # or foo? in IPython',\n",
       " '_i9': 'def min(x, y):\\n    return x if x < y else y',\n",
       " 'min': 42,\n",
       " '_i10': 'min(-5, 12)',\n",
       " '_10': -5,\n",
       " '_i11': '# we can use few or all keyword arguments when calling a function\\n\\nmin(x=-5, y=12)\\nmin(y=12, x=-5)  # order of keyword arguments is not important\\nmin(-5, y=12)    # keyword arguments always follow positional arguments',\n",
       " '_11': -5,\n",
       " '_i12': 'def min(a, b):\\n    ...\\n    \\nmin(x=-5, y=12)',\n",
       " '_i13': \"# How default function arguments are built and stored\\n\\ndis.dis('''\\ndef foo(x=[], y=92):\\n    ...\\n''')\\n\\n# Pay attention to the first 3 bytecode instructions\",\n",
       " '_i14': 'def unique(iterable, seen=set()):\\n    acc = []\\n    for item in iterable:\\n        if item not in seen:\\n            seen.add(item)\\n            acc.append(item)\\n    return acc',\n",
       " 'unique': <function __main__.unique(iterable, seen=None)>,\n",
       " '_i15': 'xs = [1, 1, 2, 3]\\nunique(xs)',\n",
       " 'xs': {-5, 12, 13},\n",
       " '_15': [1, 2, 3],\n",
       " '_i16': 'unique(xs)',\n",
       " '_16': [],\n",
       " '_i17': 'unique.__defaults__',\n",
       " '_17': ({1, 2, 3},),\n",
       " '_i18': 'def unique(iterable, seen=None):\\n    seen = set(seen or [])\\n    acc = []\\n    for item in iterable:\\n        if item not in seen:\\n            seen.add(item)\\n            acc.append(item)\\n    return acc',\n",
       " '_i19': 'xs = [1, 1, 2, 3]\\nunique(xs)',\n",
       " '_19': [1, 2, 3],\n",
       " '_i20': 'unique(xs)',\n",
       " '_20': [1, 2, 3],\n",
       " '_i21': 'unique.__defaults__',\n",
       " '_21': (None,),\n",
       " '_i22': 'def flatten(xs, depth=None):\\n    pass',\n",
       " 'flatten': <function __main__.flatten(xs, *, depth=None)>,\n",
       " '_i23': 'flatten([1, [2], 3], depth=1)\\nflatten([1, [2], 3], 1)',\n",
       " '_i24': '# if you want to require keyword arguments in function calls\\ndef flatten(xs, *, depth=None):\\n    pass',\n",
       " '_i25': 'flatten([1, [2], 3], 1)',\n",
       " '_i26': '# More explicit function call\\nflatten([1, [2], 3], depth=1)',\n",
       " '_i27': \"def min(*args):  # type(args) → class<'tuple'> — ordered and immutable data structure\\n    result = float('inf')\\n    for arg in args:\\n        if arg < result:\\n            result = arg\\n    return result\",\n",
       " '_i28': 'min(-5, 12, 13)',\n",
       " '_28': -5,\n",
       " '_i29': 'min()',\n",
       " '_29': inf,\n",
       " '_i30': 'def min(first, *args):\\n    result = first\\n    for arg in args:\\n        if arg < result:\\n            result = arg\\n    return result',\n",
       " '_i31': 'min()',\n",
       " '_i32': \"# set\\n# only for educational purposes, avoid unpacking sets – they're unordered!\\nxs = {-5, 12, 13}\\nmin(*xs)\",\n",
       " '_32': -5,\n",
       " '_i33': '# list\\nmin(*[-5, 12, 13])',\n",
       " '_33': -5,\n",
       " '_i34': '# tuple\\nmin(*(-5, 12, 13))',\n",
       " '_34': -5,\n",
       " '_i35': \"def bounded_min(first, *args, lo=float('-inf'), hi=float('inf')):\\n    result = hi\\n    for arg in (first,) + args:\\n        if arg < result and lo < arg < hi:\\n            result = arg\\n    return max(result, lo)\",\n",
       " 'bounded_min': <function __main__.make_min.<locals>.inner(first, *args)>,\n",
       " '_i36': 'bounded_min(-5, 12, 13)',\n",
       " '_36': -5,\n",
       " '_i37': 'bounded_min(-5, 12, 13, lo=0, hi=255)',\n",
       " '_37': 12,\n",
       " '_i38': 'bounded_min(-5, 12, 13, lo=100, hi=200)',\n",
       " '_38': 200,\n",
       " '_i39': \"def runner(cmd, **kwargs):  # type(kwargs) → class<'dict'> — mutable data structure\\n    if kwargs.get('verbose', True):\\n        print('Logging enabled')\\n    else:\\n        print('Logging disabled')\",\n",
       " 'runner': <function __main__.runner(cmd, **kwargs)>,\n",
       " '_i40': \"runner('dramatiq', processes=4, threads=4)\",\n",
       " '_i41': \"runner('dramatiq', processes=4, threads=4, verbose=False)\",\n",
       " '_i42': \"runner('dramatiq', **{'processes': 2, 'threads': 2, 'verbose': False})\",\n",
       " '_i43': \"options = {'processes': 16, 'threads': 16, 'verbose': False}\\nrunner('dramatiq', **options)\",\n",
       " 'options': {'processes': 16, 'threads': 16, 'verbose': False},\n",
       " '_i44': 'acc = []\\nseen = set()',\n",
       " 'acc': [],\n",
       " 'seen': set(),\n",
       " '_i45': '# using unpacking with assignment\\n(acc, seen) = ([], set())',\n",
       " '_i46': 'x, y, z = [1, 2, 3]\\nx, y, z = {1, 2, 3} # unordered!\\nx, y, z = \"123\"',\n",
       " 'x': 2,\n",
       " 'y': 3,\n",
       " 'z': '3',\n",
       " '_i47': 'x',\n",
       " '_47': '1',\n",
       " '_i48': 'y',\n",
       " '_48': '2',\n",
       " '_i49': 'z',\n",
       " '_49': '3',\n",
       " '_i50': 'rectangle = (0, 0), (4, 4)\\n(x1, y1), (x2, y2) = rectangle',\n",
       " 'rectangle': ((0, 0), (4, 4)),\n",
       " 'x1': 0,\n",
       " 'y1': 0,\n",
       " 'x2': 4,\n",
       " 'y2': 4,\n",
       " '_i51': 'first, *rest = range(1, 5)',\n",
       " 'first': 0,\n",
       " 'rest': [1],\n",
       " '_i52': 'first, rest',\n",
       " '_52': (1, [2, 3, 4]),\n",
       " '_i53': 'first, *rest, last = range(1, 5)\\nlast',\n",
       " 'last': 4,\n",
       " '_53': 4,\n",
       " '_i54': 'rest',\n",
       " '_54': [2, 3],\n",
       " '_i55': 'first, *rest, last = [42]',\n",
       " '_i56': 'line = \"Tesla S,€60 000,black,US\"\\nname, price, *_ = line.split(\",\")  # OK!\\nname, price',\n",
       " 'line': 'Tesla S,€60 000,black,US',\n",
       " 'name': 'Tesla S',\n",
       " 'price': '€60 000',\n",
       " '_56': ('Tesla S', '€60 000'),\n",
       " '_i57': 'import dis\\ndis.dis(\"first, *rest, last = (\\'a\\', \\'b\\', \\'c\\')\")',\n",
       " '_i58': 'x, (x, y) = 1, (2, 3)',\n",
       " '_i59': 'x',\n",
       " '_59': 2,\n",
       " '_i60': 'dis.dis(\"first, *rest, last = [\\'a\\', \\'b\\', \\'c\\']\")',\n",
       " '_i61': 'def f(*args, **kwargs):\\n    pass',\n",
       " 'f': <function __main__.f(*args)>,\n",
       " '_i62': \"f(1, 2, 3, **{'foo': 42})\",\n",
       " '_i63': 'f(1, 2, 3, **{\"foo\": 42})',\n",
       " '_i64': 'first, *rest = range(4)',\n",
       " '_i65': 'for first, *rest in [range(4), range(2)]:\\n    pass',\n",
       " '_i66': 'def f(*args, **kwargs):\\n    print(args, kwargs)',\n",
       " '_i67': 'f(1, 2, *[3, 4], *[5], foo=\"bar\", **{\"baz\": 42}, boo=24)',\n",
       " '_i68': 'defaults = {\"host\": \"0.0.0.0\", \"port\": 8080}',\n",
       " 'defaults': {'host': '0.0.0.0', 'port': 8080},\n",
       " '_i69': '{**defaults, \"port\": 80}',\n",
       " '_69': {'host': '0.0.0.0', 'port': 80},\n",
       " '_i70': '[*range(5), 6]',\n",
       " '_70': [0, 1, 2, 3, 4, 6],\n",
       " '_i71': 'def wrapper():\\n    def identity(x):\\n        return x\\n    return identity',\n",
       " 'wrapper': <function __main__.wrapper()>,\n",
       " '_i72': 'f = wrapper()\\nf(42)',\n",
       " '_72': 42,\n",
       " '_i73': 'def make_min(*, lo, hi):\\n    \"\"\"Returns configured min function\"\"\"\\n    def inner(first, *args):\\n        result = hi\\n        for arg in (first, ) + args:\\n            if arg < result and lo < arg < hi:\\n                result = arg\\n        return max(result, lo)\\n    return inner',\n",
       " 'make_min': <function __main__.make_min(*, lo, hi)>,\n",
       " '_i74': 'bounded_min = make_min(lo=0, hi=255)\\nbounded_min(-5, 12, 13)',\n",
       " '_74': 12,\n",
       " '_i75': 'type(globals()), type(locals())',\n",
       " '_75': (dict, dict),\n",
       " '_i76': 'def foo():\\n    def bar():\\n        return x\\n    print(bar.__closure__)\\n    print(locals())\\n    x = 92\\n    print(bar.__closure__)\\n    print(locals())\\n    \\nfoo()',\n",
       " '_i77': 'min       # builtin\\nmin = 42  # global\\n\\ndef f(*args):\\n    min = 2\\n    def g():     # enclosing\\n        min = 4  # local\\n        print(min)',\n",
       " '_i78': \"min = 42   # globals()['min'] = 42\\nglobals()  # globals is mutable dict\"}"
      ]
     },
     "execution_count": 78,
     "metadata": {},
     "output_type": "execute_result"
    }
   ],
   "source": [
    "min = 42   # globals()['min'] = 42\n",
    "globals()  # globals is mutable dict"
   ]
  },
  {
   "cell_type": "code",
   "execution_count": 79,
   "metadata": {},
   "outputs": [
    {
     "name": "stdout",
     "output_type": "stream",
     "text": [
      "{'min': 2}\n"
     ]
    }
   ],
   "source": [
    "def f():\n",
    "    min = 2  # locals['min'] = 2\n",
    "    print(locals())\n",
    "    \n",
    "\n",
    "f()"
   ]
  },
  {
   "cell_type": "markdown",
   "metadata": {},
   "source": [
    "ℹ️ Function can use variables defined outside of function scope."
   ]
  },
  {
   "cell_type": "markdown",
   "metadata": {},
   "source": [
    "⚠️ _Lookup of variables happens during runtime:_"
   ]
  },
  {
   "cell_type": "code",
   "execution_count": 80,
   "metadata": {},
   "outputs": [],
   "source": [
    "def f():\n",
    "    print(i)"
   ]
  },
  {
   "cell_type": "code",
   "execution_count": 81,
   "metadata": {},
   "outputs": [
    {
     "name": "stdout",
     "output_type": "stream",
     "text": [
      "0\n",
      "1\n",
      "2\n",
      "3\n"
     ]
    }
   ],
   "source": [
    "for i in range(4):\n",
    "    f()"
   ]
  },
  {
   "cell_type": "markdown",
   "metadata": {},
   "source": [
    "⚠️ The LEGB rule doesn't work for assignment:"
   ]
  },
  {
   "cell_type": "code",
   "execution_count": 82,
   "metadata": {},
   "outputs": [],
   "source": [
    "min = 42\n",
    "def f():\n",
    "    min += 1   # <- lookup in a global scope!\n",
    "    return min"
   ]
  },
  {
   "cell_type": "code",
   "execution_count": 83,
   "metadata": {},
   "outputs": [
    {
     "ename": "UnboundLocalError",
     "evalue": "local variable 'min' referenced before assignment",
     "output_type": "error",
     "traceback": [
      "\u001b[0;31m---------------------------------------------------------------------------\u001b[0m",
      "\u001b[0;31mUnboundLocalError\u001b[0m                         Traceback (most recent call last)",
      "\u001b[0;32m<ipython-input-83-c43e34e6d405>\u001b[0m in \u001b[0;36m<module>\u001b[0;34m\u001b[0m\n\u001b[0;32m----> 1\u001b[0;31m \u001b[0mf\u001b[0m\u001b[0;34m(\u001b[0m\u001b[0;34m)\u001b[0m\u001b[0;34m\u001b[0m\u001b[0;34m\u001b[0m\u001b[0m\n\u001b[0m",
      "\u001b[0;32m<ipython-input-82-30d23ec122c3>\u001b[0m in \u001b[0;36mf\u001b[0;34m()\u001b[0m\n\u001b[1;32m      1\u001b[0m \u001b[0mmin\u001b[0m \u001b[0;34m=\u001b[0m \u001b[0;36m42\u001b[0m\u001b[0;34m\u001b[0m\u001b[0;34m\u001b[0m\u001b[0m\n\u001b[1;32m      2\u001b[0m \u001b[0;32mdef\u001b[0m \u001b[0mf\u001b[0m\u001b[0;34m(\u001b[0m\u001b[0;34m)\u001b[0m\u001b[0;34m:\u001b[0m\u001b[0;34m\u001b[0m\u001b[0;34m\u001b[0m\u001b[0m\n\u001b[0;32m----> 3\u001b[0;31m     \u001b[0mmin\u001b[0m \u001b[0;34m+=\u001b[0m \u001b[0;36m1\u001b[0m   \u001b[0;31m# <- lookup in a global scope!\u001b[0m\u001b[0;34m\u001b[0m\u001b[0;34m\u001b[0m\u001b[0m\n\u001b[0m\u001b[1;32m      4\u001b[0m     \u001b[0;32mreturn\u001b[0m \u001b[0mmin\u001b[0m\u001b[0;34m\u001b[0m\u001b[0;34m\u001b[0m\u001b[0m\n",
      "\u001b[0;31mUnboundLocalError\u001b[0m: local variable 'min' referenced before assignment"
     ]
    }
   ],
   "source": [
    "f()"
   ]
  },
  {
   "cell_type": "markdown",
   "metadata": {},
   "source": [
    "This behavior can be changed by using `global` and `nonlocal` operators."
   ]
  },
  {
   "cell_type": "code",
   "execution_count": 84,
   "metadata": {},
   "outputs": [],
   "source": [
    "min = 42\n",
    "def f():\n",
    "    global min\n",
    "    min += 1   # <- lookup in a global scope!\n",
    "    return min"
   ]
  },
  {
   "cell_type": "code",
   "execution_count": 85,
   "metadata": {},
   "outputs": [
    {
     "data": {
      "text/plain": [
       "44"
      ]
     },
     "execution_count": 85,
     "metadata": {},
     "output_type": "execute_result"
    }
   ],
   "source": [
    "f()\n",
    "f()"
   ]
  },
  {
   "cell_type": "markdown",
   "metadata": {},
   "source": [
    "⚠️ _Try to avoid global variables._"
   ]
  },
  {
   "cell_type": "markdown",
   "metadata": {},
   "source": [
    "[PEP 3104 -- Access to Names in Outer Scopes](https://www.python.org/dev/peps/pep-3104/)"
   ]
  },
  {
   "cell_type": "code",
   "execution_count": 86,
   "metadata": {},
   "outputs": [],
   "source": [
    "def cell(value=None):\n",
    "    def get():\n",
    "        return value\n",
    "    def set(update):\n",
    "        nonlocal value\n",
    "        value = update\n",
    "    return get, set"
   ]
  },
  {
   "cell_type": "code",
   "execution_count": 87,
   "metadata": {},
   "outputs": [],
   "source": [
    "get, set = cell()"
   ]
  },
  {
   "cell_type": "code",
   "execution_count": 88,
   "metadata": {},
   "outputs": [],
   "source": [
    "set(42)"
   ]
  },
  {
   "cell_type": "code",
   "execution_count": 89,
   "metadata": {},
   "outputs": [
    {
     "data": {
      "text/plain": [
       "42"
      ]
     },
     "execution_count": 89,
     "metadata": {},
     "output_type": "execute_result"
    }
   ],
   "source": [
    "get()"
   ]
  },
  {
   "cell_type": "markdown",
   "metadata": {},
   "source": [
    "## Elements of functional programming"
   ]
  },
  {
   "cell_type": "code",
   "execution_count": 90,
   "metadata": {},
   "outputs": [
    {
     "data": {
      "text/plain": [
       "range(0, 3)"
      ]
     },
     "execution_count": 90,
     "metadata": {},
     "output_type": "execute_result"
    }
   ],
   "source": [
    "range(3)"
   ]
  },
  {
   "cell_type": "code",
   "execution_count": 91,
   "metadata": {},
   "outputs": [
    {
     "data": {
      "text/plain": [
       "[0, 1, 2]"
      ]
     },
     "execution_count": 91,
     "metadata": {},
     "output_type": "execute_result"
    }
   ],
   "source": [
    "list(range(3))"
   ]
  },
  {
   "cell_type": "markdown",
   "metadata": {},
   "source": [
    "### Anonymous functions"
   ]
  },
  {
   "cell_type": "code",
   "execution_count": 92,
   "metadata": {},
   "outputs": [
    {
     "data": {
      "text/plain": [
       "<function __main__.<lambda>(name)>"
      ]
     },
     "execution_count": 92,
     "metadata": {},
     "output_type": "execute_result"
    }
   ],
   "source": [
    "lambda name: print(\"Hi \" + name + \"!\")"
   ]
  },
  {
   "cell_type": "code",
   "execution_count": 93,
   "metadata": {},
   "outputs": [
    {
     "data": {
      "text/plain": [
       "<function __main__.<lambda>(name, *args, age=30, **kwargs)>"
      ]
     },
     "execution_count": 93,
     "metadata": {},
     "output_type": "execute_result"
    }
   ],
   "source": [
    "lambda name, *args, age=30, **kwargs: 42"
   ]
  },
  {
   "cell_type": "code",
   "execution_count": 94,
   "metadata": {},
   "outputs": [],
   "source": [
    "f = lambda x: x + 1 # antipattern, don't define named functions using lambdas"
   ]
  },
  {
   "cell_type": "markdown",
   "metadata": {},
   "source": [
    "### map, filter and zip"
   ]
  },
  {
   "cell_type": "code",
   "execution_count": 95,
   "metadata": {},
   "outputs": [],
   "source": [
    "def identity(x):\n",
    "    return x"
   ]
  },
  {
   "cell_type": "code",
   "execution_count": 96,
   "metadata": {},
   "outputs": [
    {
     "data": {
      "text/plain": [
       "<map at 0x104f2ecd0>"
      ]
     },
     "execution_count": 96,
     "metadata": {},
     "output_type": "execute_result"
    }
   ],
   "source": [
    "map(identity, range(4))"
   ]
  },
  {
   "cell_type": "code",
   "execution_count": 97,
   "metadata": {},
   "outputs": [
    {
     "data": {
      "text/plain": [
       "[0, 1, 2, 3]"
      ]
     },
     "execution_count": 97,
     "metadata": {},
     "output_type": "execute_result"
    }
   ],
   "source": [
    "list(map(identity, range(4)))"
   ]
  },
  {
   "cell_type": "code",
   "execution_count": 98,
   "metadata": {},
   "outputs": [],
   "source": [
    "set(map(lambda x: x % 7, [1, 9, 16, -1, 2, 5]))"
   ]
  },
  {
   "cell_type": "code",
   "execution_count": 99,
   "metadata": {},
   "outputs": [
    {
     "data": {
      "text/plain": [
       "[2, 9]"
      ]
     },
     "execution_count": 99,
     "metadata": {},
     "output_type": "execute_result"
    }
   ],
   "source": [
    "list(map(lambda x, n: x ** n, [2, 3], range(1, 8)))"
   ]
  },
  {
   "cell_type": "code",
   "execution_count": 100,
   "metadata": {},
   "outputs": [
    {
     "data": {
      "text/plain": [
       "[3, 5, 7]"
      ]
     },
     "execution_count": 100,
     "metadata": {},
     "output_type": "execute_result"
    }
   ],
   "source": [
    "xs = [0, 1, 2]\n",
    "ys = [3, 4, 5, 6]\n",
    "\n",
    "list(map(lambda x, y: x + y, xs, ys))  # the last item of the second list is not used"
   ]
  },
  {
   "cell_type": "code",
   "execution_count": 101,
   "metadata": {},
   "outputs": [
    {
     "ename": "AssertionError",
     "evalue": "",
     "output_type": "error",
     "traceback": [
      "\u001b[0;31m---------------------------------------------------------------------------\u001b[0m",
      "\u001b[0;31mAssertionError\u001b[0m                            Traceback (most recent call last)",
      "\u001b[0;32m<ipython-input-101-4f570a84166c>\u001b[0m in \u001b[0;36m<module>\u001b[0;34m\u001b[0m\n\u001b[0;32m----> 1\u001b[0;31m \u001b[0;32massert\u001b[0m \u001b[0mlen\u001b[0m\u001b[0;34m(\u001b[0m\u001b[0mxs\u001b[0m\u001b[0;34m)\u001b[0m \u001b[0;34m==\u001b[0m \u001b[0mlen\u001b[0m\u001b[0;34m(\u001b[0m\u001b[0mys\u001b[0m\u001b[0;34m)\u001b[0m  \u001b[0;31m# good practice to prevent the situation from code above\u001b[0m\u001b[0;34m\u001b[0m\u001b[0;34m\u001b[0m\u001b[0m\n\u001b[0m",
      "\u001b[0;31mAssertionError\u001b[0m: "
     ]
    }
   ],
   "source": [
    "assert len(xs) == len(ys)  # good practice to prevent the situation from code above"
   ]
  },
  {
   "cell_type": "code",
   "execution_count": 102,
   "metadata": {},
   "outputs": [],
   "source": [
    "# probably the only case when the map function can be really helpful — in other cases just use list comprehensions\n",
    "(x, y, z) = map(str, xs)"
   ]
  },
  {
   "cell_type": "code",
   "execution_count": 103,
   "metadata": {},
   "outputs": [
    {
     "data": {
      "text/plain": [
       "('0', '1', '2')"
      ]
     },
     "execution_count": 103,
     "metadata": {},
     "output_type": "execute_result"
    }
   ],
   "source": [
    "x, y, z"
   ]
  },
  {
   "cell_type": "code",
   "execution_count": 104,
   "metadata": {},
   "outputs": [
    {
     "ename": "ValueError",
     "evalue": "too many values to unpack (expected 3)",
     "output_type": "error",
     "traceback": [
      "\u001b[0;31m---------------------------------------------------------------------------\u001b[0m",
      "\u001b[0;31mValueError\u001b[0m                                Traceback (most recent call last)",
      "\u001b[0;32m<ipython-input-104-2d1b5d78493c>\u001b[0m in \u001b[0;36m<module>\u001b[0;34m\u001b[0m\n\u001b[1;32m      1\u001b[0m \u001b[0mxs\u001b[0m \u001b[0;34m=\u001b[0m \u001b[0;34m[\u001b[0m\u001b[0;34m\"0\"\u001b[0m\u001b[0;34m,\u001b[0m \u001b[0;34m\"1\"\u001b[0m\u001b[0;34m,\u001b[0m \u001b[0;34m\"2\"\u001b[0m\u001b[0;34m,\u001b[0m \u001b[0;34m\"3\"\u001b[0m\u001b[0;34m]\u001b[0m\u001b[0;34m\u001b[0m\u001b[0;34m\u001b[0m\u001b[0m\n\u001b[0;32m----> 2\u001b[0;31m \u001b[0;34m(\u001b[0m\u001b[0mx\u001b[0m\u001b[0;34m,\u001b[0m \u001b[0my\u001b[0m\u001b[0;34m,\u001b[0m \u001b[0mz\u001b[0m\u001b[0;34m)\u001b[0m \u001b[0;34m=\u001b[0m \u001b[0mmap\u001b[0m\u001b[0;34m(\u001b[0m\u001b[0mint\u001b[0m\u001b[0;34m,\u001b[0m \u001b[0mxs\u001b[0m\u001b[0;34m)\u001b[0m\u001b[0;34m\u001b[0m\u001b[0;34m\u001b[0m\u001b[0m\n\u001b[0m",
      "\u001b[0;31mValueError\u001b[0m: too many values to unpack (expected 3)"
     ]
    }
   ],
   "source": [
    "xs = [\"0\", \"1\", \"2\", \"3\"]\n",
    "(x, y, z) = map(int, xs)"
   ]
  },
  {
   "cell_type": "markdown",
   "metadata": {},
   "source": [
    "---"
   ]
  },
  {
   "cell_type": "code",
   "execution_count": 105,
   "metadata": {},
   "outputs": [
    {
     "data": {
      "text/plain": [
       "<filter at 0x104f223a0>"
      ]
     },
     "execution_count": 105,
     "metadata": {},
     "output_type": "execute_result"
    }
   ],
   "source": [
    "filter(lambda x: x % 2 != 0, range(10))"
   ]
  },
  {
   "cell_type": "code",
   "execution_count": 106,
   "metadata": {},
   "outputs": [
    {
     "data": {
      "text/plain": [
       "[1, 3, 5, 7, 9]"
      ]
     },
     "execution_count": 106,
     "metadata": {},
     "output_type": "execute_result"
    }
   ],
   "source": [
    "list(filter(lambda x: x % 2 != 0, range(10)))"
   ]
  },
  {
   "cell_type": "code",
   "execution_count": 107,
   "metadata": {},
   "outputs": [
    {
     "data": {
      "text/plain": [
       "[42]"
      ]
     },
     "execution_count": 107,
     "metadata": {},
     "output_type": "execute_result"
    }
   ],
   "source": [
    "xs = [0, None, [], {}, \"\", 42]\n",
    "# returns truthy values\n",
    "list(filter(None, xs))"
   ]
  },
  {
   "cell_type": "markdown",
   "metadata": {},
   "source": [
    "---"
   ]
  },
  {
   "cell_type": "code",
   "execution_count": 108,
   "metadata": {},
   "outputs": [
    {
     "data": {
      "text/plain": [
       "[('a', 0, 42j), ('b', 1, 42j), ('c', 2, 42j)]"
      ]
     },
     "execution_count": 108,
     "metadata": {},
     "output_type": "execute_result"
    }
   ],
   "source": [
    "list(zip(\"abc\", range(3), [42j, 42j, 42j]))"
   ]
  },
  {
   "cell_type": "code",
   "execution_count": 109,
   "metadata": {},
   "outputs": [
    {
     "data": {
      "text/plain": [
       "[('a', 0), ('b', 1), ('c', 2)]"
      ]
     },
     "execution_count": 109,
     "metadata": {},
     "output_type": "execute_result"
    }
   ],
   "source": [
    "list(zip(\"abc\", range(10)))"
   ]
  },
  {
   "cell_type": "markdown",
   "metadata": {},
   "source": [
    "### Comprehensions\n",
    "\n",
    "Comprehensions come from the ABC language. They are a good alternative to the functional style. Almost always prefer comprehensions over the functions with lambdas, e.g. `map`, `filter`, `zip`.\n",
    "\n",
    "#### Lists"
   ]
  },
  {
   "cell_type": "code",
   "execution_count": 110,
   "metadata": {},
   "outputs": [
    {
     "data": {
      "text/plain": [
       "[1, 9, 25, 49, 81]"
      ]
     },
     "execution_count": 110,
     "metadata": {},
     "output_type": "execute_result"
    }
   ],
   "source": [
    "[x ** 2 for x in range(10) if x % 2 == 1]"
   ]
  },
  {
   "cell_type": "code",
   "execution_count": 111,
   "metadata": {},
   "outputs": [
    {
     "data": {
      "text/plain": [
       "[1, 9, 25, 49, 81]"
      ]
     },
     "execution_count": 111,
     "metadata": {},
     "output_type": "execute_result"
    }
   ],
   "source": [
    "# compare to the functional style\n",
    "list(map(lambda x: x ** 2,\n",
    "        filter(lambda x: x % 2 == 1,\n",
    "              range(10))))"
   ]
  },
  {
   "cell_type": "code",
   "execution_count": 112,
   "metadata": {},
   "outputs": [
    {
     "data": {
      "text/plain": [
       "[0, 1, 2, 3, 4, 8, 9]"
      ]
     },
     "execution_count": 112,
     "metadata": {},
     "output_type": "execute_result"
    }
   ],
   "source": [
    "nested = [range(5), range(8, 10)]\n",
    "[x for xs in nested for x in xs]  # flatten"
   ]
  },
  {
   "cell_type": "markdown",
   "metadata": {},
   "source": [
    "⚠️ _Nested comprehensions are hard to understand._"
   ]
  },
  {
   "cell_type": "code",
   "execution_count": 113,
   "metadata": {},
   "outputs": [
    {
     "data": {
      "text/plain": [
       "[(2, 1), (4, 1), (4, 3)]"
      ]
     },
     "execution_count": 113,
     "metadata": {},
     "output_type": "execute_result"
    }
   ],
   "source": [
    "# don't write complicated expressions like this one\n",
    "[(x, y)\n",
    " for x in range(5)\n",
    " if x % 2 == 0\n",
    " for y in range(x)\n",
    " if y % 2 == 1\n",
    "]"
   ]
  },
  {
   "cell_type": "markdown",
   "metadata": {},
   "source": [
    "#### Sets and dicts"
   ]
  },
  {
   "cell_type": "code",
   "execution_count": 114,
   "metadata": {},
   "outputs": [
    {
     "data": {
      "text/plain": [
       "{1, 2, 5, 6}"
      ]
     },
     "execution_count": 114,
     "metadata": {},
     "output_type": "execute_result"
    }
   ],
   "source": [
    "{x % 7 for x in [1, 9, 16, -1, 2, 5]}  # new set"
   ]
  },
  {
   "cell_type": "code",
   "execution_count": 115,
   "metadata": {},
   "outputs": [
    {
     "data": {
      "text/plain": [
       "{'year': 2020, 'month': 'March'}"
      ]
     },
     "execution_count": 115,
     "metadata": {},
     "output_type": "execute_result"
    }
   ],
   "source": [
    "date = {'year': 2020, 'month': 'March', 'day': ''}\n",
    "{k: v for k, v in date.items() if v}  # new dict without empty values"
   ]
  },
  {
   "cell_type": "code",
   "execution_count": 116,
   "metadata": {},
   "outputs": [
    {
     "data": {
      "text/plain": [
       "{0: 0, 1: 1, 2: 4, 3: 9}"
      ]
     },
     "execution_count": 116,
     "metadata": {},
     "output_type": "execute_result"
    }
   ],
   "source": [
    "{x: x**2 for x in range(4)}"
   ]
  },
  {
   "cell_type": "code",
   "execution_count": 117,
   "metadata": {},
   "outputs": [
    {
     "data": {
      "text/plain": [
       "<generator object <genexpr> at 0x104f91970>"
      ]
     },
     "execution_count": 117,
     "metadata": {},
     "output_type": "execute_result"
    }
   ],
   "source": [
    "(x ** 2 for x in range(5))"
   ]
  },
  {
   "cell_type": "code",
   "execution_count": 118,
   "metadata": {},
   "outputs": [
    {
     "data": {
      "text/plain": [
       "<map at 0x104f19700>"
      ]
     },
     "execution_count": 118,
     "metadata": {},
     "output_type": "execute_result"
    }
   ],
   "source": [
    "# there is very little difference between generator object and map object — the map function can iterate over multiple iterables\n",
    "map(lambda x: x ** 2, range(5))"
   ]
  },
  {
   "cell_type": "code",
   "execution_count": null,
   "metadata": {},
   "outputs": [],
   "source": []
  }
 ],
 "metadata": {
  "kernelspec": {
   "display_name": "Python 3",
   "language": "python",
   "name": "python3"
  },
  "language_info": {
   "codemirror_mode": {
    "name": "ipython",
    "version": 3
   },
   "file_extension": ".py",
   "mimetype": "text/x-python",
   "name": "python",
   "nbconvert_exporter": "python",
   "pygments_lexer": "ipython3",
   "version": "3.9.1"
  },
  "toc": {
   "base_numbering": 1,
   "nav_menu": {},
   "number_sections": true,
   "sideBar": true,
   "skip_h1_title": false,
   "title_cell": "Table of Contents",
   "title_sidebar": "Contents",
   "toc_cell": false,
   "toc_position": {
    "height": "calc(100% - 180px)",
    "left": "10px",
    "top": "150px",
    "width": "282.188px"
   },
   "toc_section_display": true,
   "toc_window_display": false
  }
 },
 "nbformat": 4,
 "nbformat_minor": 4
}
