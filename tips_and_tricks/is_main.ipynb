{
 "cells": [
  {
   "cell_type": "code",
   "execution_count": 1,
   "id": "ceramic-boost",
   "metadata": {},
   "outputs": [],
   "source": [
    "import inspect"
   ]
  },
  {
   "cell_type": "code",
   "execution_count": 2,
   "id": "framed-chain",
   "metadata": {},
   "outputs": [],
   "source": [
    "def is_main():\n",
    "    \"\"\"\n",
    "    Prettier version of __name__ == \"__main__\"\n",
    "    :return: True if application is running as \"main\"\n",
    "    \"\"\"\n",
    "    return inspect.stack()[1].frame.f_locals.get(\"__name__\") == \"__main__\""
   ]
  },
  {
   "cell_type": "code",
   "execution_count": 3,
   "id": "integral-consultancy",
   "metadata": {},
   "outputs": [],
   "source": [
    "def main():  # now this callable can be tested and run separately\n",
    "    print(\"Hello world\")"
   ]
  },
  {
   "cell_type": "code",
   "execution_count": 4,
   "id": "posted-youth",
   "metadata": {},
   "outputs": [
    {
     "name": "stdout",
     "output_type": "stream",
     "text": [
      "Hello world\n"
     ]
    }
   ],
   "source": [
    "if is_main():\n",
    "    main()"
   ]
  },
  {
   "cell_type": "code",
   "execution_count": null,
   "id": "dominant-there",
   "metadata": {},
   "outputs": [],
   "source": []
  }
 ],
 "metadata": {
  "kernelspec": {
   "display_name": "Python 3",
   "language": "python",
   "name": "python3"
  },
  "language_info": {
   "codemirror_mode": {
    "name": "ipython",
    "version": 3
   },
   "file_extension": ".py",
   "mimetype": "text/x-python",
   "name": "python",
   "nbconvert_exporter": "python",
   "pygments_lexer": "ipython3",
   "version": "3.9.2"
  }
 },
 "nbformat": 4,
 "nbformat_minor": 5
}
