{
 "cells": [
  {
   "cell_type": "markdown",
   "id": "f24277fa-b5e0-4203-b383-11e181305d7e",
   "metadata": {},
   "source": [
    "# `__init__` vs `__new__`"
   ]
  },
  {
   "cell_type": "code",
   "execution_count": 1,
   "id": "a058cec1-82d1-495f-a60a-1a4fb32c26a4",
   "metadata": {},
   "outputs": [
    {
     "name": "stdout",
     "output_type": "stream",
     "text": [
      "new <class '__main__.Some'> ('instance',) {'x': 0, 'y': 0}\n",
      "init <__main__.Some object at 0x7f602d5caaf0> ('instance',) {'x': 0, 'y': 0}\n"
     ]
    },
    {
     "data": {
      "text/plain": [
       "<__main__.Some at 0x7f602d5caaf0>"
      ]
     },
     "execution_count": 1,
     "metadata": {},
     "output_type": "execute_result"
    }
   ],
   "source": [
    "class Some:\n",
    "    def __new__(cls, *args, **kwargs):\n",
    "        print(\"new\", cls, args, kwargs)\n",
    "        return super().__new__(cls)\n",
    "    \n",
    "    def __init__(self, *args, **kwargs):\n",
    "        print(\"init\", self, args, kwargs)\n",
    "        \n",
    "\n",
    "Some(\"instance\", x=0, y=0)"
   ]
  },
  {
   "cell_type": "markdown",
   "id": "c745152c-dbc4-42da-b98c-a27db29b74b0",
   "metadata": {},
   "source": [
    "💡 The main difference is `__new__` has been called on a class to construct a class instance, when `__init__` has been called exactly on the created instance."
   ]
  },
  {
   "cell_type": "markdown",
   "id": "66946699-4f62-495a-8234-d5a009be1939",
   "metadata": {},
   "source": [
    "## Subclassing Immutable Types"
   ]
  },
  {
   "cell_type": "code",
   "execution_count": 2,
   "id": "f476393b-49c2-4e34-82f5-37d8ddb16746",
   "metadata": {},
   "outputs": [
    {
     "data": {
      "text/plain": [
       "('HELLO', 'WORLD')"
      ]
     },
     "execution_count": 2,
     "metadata": {},
     "output_type": "execute_result"
    }
   ],
   "source": [
    "class UppercaseTuple(tuple):\n",
    "    def __new__(cls, iterable):\n",
    "        upper_iterable = (s.upper() for s in iterable)\n",
    "        return super().__new__(cls, upper_iterable)\n",
    "    \n",
    "\n",
    "UppercaseTuple([\"hello\", \"world\"])"
   ]
  },
  {
   "cell_type": "markdown",
   "id": "5531b8de-1523-43e3-89ea-53f5f7037162",
   "metadata": {},
   "source": [
    "## Singleton"
   ]
  },
  {
   "cell_type": "code",
   "execution_count": 3,
   "id": "f7d5c4c5-64cd-42c2-8275-8e5179089582",
   "metadata": {},
   "outputs": [
    {
     "data": {
      "text/plain": [
       "True"
      ]
     },
     "execution_count": 3,
     "metadata": {},
     "output_type": "execute_result"
    }
   ],
   "source": [
    "class Settings:\n",
    "    _instance = None\n",
    "    \n",
    "    def __new__(cls, *args, **kwargs):\n",
    "        if cls._instance is None:\n",
    "            cls._instance = super().__new__(cls, *args, **kwargs)\n",
    "        return cls._instance\n",
    "    \n",
    "    \n",
    "settings = Settings()\n",
    "settings2 = Settings()\n",
    "\n",
    "settings is settings2"
   ]
  },
  {
   "cell_type": "markdown",
   "id": "342c3e2a-f322-4bb6-bed2-56ecdd667cb5",
   "metadata": {},
   "source": [
    "💡 Defining custom `__new__` method can be also useful for caching data for optimizing some work."
   ]
  },
  {
   "cell_type": "markdown",
   "id": "0ab01c25-a91e-457f-9820-d52d2ef333c8",
   "metadata": {},
   "source": [
    "## EncryptedFile"
   ]
  },
  {
   "cell_type": "code",
   "execution_count": 11,
   "id": "a0cd3a35-4b09-4d25-8b3f-f9ec18e0568a",
   "metadata": {},
   "outputs": [],
   "source": [
    "class EncryptedFile:\n",
    "    _registry = {}\n",
    "    \n",
    "    def __init_subclass__(cls, prefix, **kwargs):\n",
    "        super().__init_subclass__(**kwargs)\n",
    "        cls._registry[prefix] = cls\n",
    "        \n",
    "    def __new__(cls, path: str, key=None):\n",
    "        prefix, sep, suffix = path.partition(\":///\")\n",
    "        if sep:\n",
    "            file = suffix\n",
    "        else:\n",
    "            file = prefix\n",
    "            prefix = \"file\"\n",
    "        \n",
    "        subclass = cls._registry[prefix]\n",
    "        obj = object.__new__(subclass)\n",
    "        obj.file = file\n",
    "        obj.key = key\n",
    "        return obj"
   ]
  },
  {
   "cell_type": "markdown",
   "id": "80b105ac-9748-4b24-a0c1-cff3fa9fa6a0",
   "metadata": {},
   "source": [
    "💡 Pay attention to the `__init_subclass__` method."
   ]
  },
  {
   "cell_type": "code",
   "execution_count": 12,
   "id": "c67d72fb-8d6c-4a23-8402-64ee5d009fbd",
   "metadata": {},
   "outputs": [],
   "source": [
    "class Plaintext(EncryptedFile, prefix=\"file\"):\n",
    "    def read(self):\n",
    "        with open(self.file, \"r\") as f:\n",
    "            return f.read()"
   ]
  },
  {
   "cell_type": "code",
   "execution_count": 13,
   "id": "d6429c47-b510-4ca0-b0b6-348130a113bd",
   "metadata": {},
   "outputs": [],
   "source": [
    "import codecs\n",
    "\n",
    "\n",
    "class ROT13Text(EncryptedFile, prefix=\"rot13\"):\n",
    "    def read(self):\n",
    "        with open(self.file, \"r\") as f:\n",
    "            text = f.read()\n",
    "        return codecs.decode(text, \"rot_13\")"
   ]
  },
  {
   "cell_type": "code",
   "execution_count": 14,
   "id": "ebc9e33e-2924-4bf7-b48b-22818ca07d76",
   "metadata": {},
   "outputs": [
    {
     "data": {
      "text/plain": [
       "'Hello, World!'"
      ]
     },
     "execution_count": 14,
     "metadata": {},
     "output_type": "execute_result"
    }
   ],
   "source": [
    "EncryptedFile(\"hello.txt\").read()"
   ]
  },
  {
   "cell_type": "code",
   "execution_count": 15,
   "id": "4de6a746-9261-41b8-bcb1-ee6f32ebeb28",
   "metadata": {},
   "outputs": [
    {
     "data": {
      "text/plain": [
       "'this text must be kept in secret'"
      ]
     },
     "execution_count": 15,
     "metadata": {},
     "output_type": "execute_result"
    }
   ],
   "source": [
    "EncryptedFile(\"rot13:///encrypted.txt\", key=\"dummy\").read()"
   ]
  }
 ],
 "metadata": {
  "kernelspec": {
   "display_name": "Python 3 (ipykernel)",
   "language": "python",
   "name": "python3"
  },
  "language_info": {
   "codemirror_mode": {
    "name": "ipython",
    "version": 3
   },
   "file_extension": ".py",
   "mimetype": "text/x-python",
   "name": "python",
   "nbconvert_exporter": "python",
   "pygments_lexer": "ipython3",
   "version": "3.9.5"
  }
 },
 "nbformat": 4,
 "nbformat_minor": 5
}
