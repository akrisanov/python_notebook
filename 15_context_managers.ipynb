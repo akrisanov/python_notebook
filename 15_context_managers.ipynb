{
 "cells": [
  {
   "cell_type": "markdown",
   "metadata": {},
   "source": [
    "Some objects need to clean up resources when done. Examples:\n",
    "* `File` object needs to `close()` call\n",
    "* A network connection may need to close\n",
    "* A data-intensive operation may need to `del` the data\n",
    "\n",
    "`__with__` provides a block that \"cleans up\" when exited. It can handle exceptions that occur within the block and also execute code when entered."
   ]
  },
  {
   "cell_type": "code",
   "execution_count": 4,
   "metadata": {},
   "outputs": [
    {
     "name": "stdout",
     "output_type": "stream",
     "text": [
      "Entered \"with\" :)\n",
      "Hi from 4387293224 instance!\n",
      "Error type: None\n",
      "Error value: None\n",
      "Error traceback: None\n"
     ]
    }
   ],
   "source": [
    "class MyClass:\n",
    "    def __enter__(self):\n",
    "        print('Entered \"with\" :)')\n",
    "        return self\n",
    "        \n",
    "    def __exit__(self, type, value, traceback):\n",
    "        print(f'Error type: {type}')\n",
    "        print(f'Error value: {value}')\n",
    "        print(f'Error traceback: {traceback}')\n",
    "        \n",
    "    def hi(self):\n",
    "        print(f'Hi from {id(self)} instance!')\n",
    "        \n",
    "with MyClass() as mobj:\n",
    "    mobj.hi()"
   ]
  },
  {
   "cell_type": "code",
   "execution_count": 5,
   "metadata": {},
   "outputs": [
    {
     "name": "stdout",
     "output_type": "stream",
     "text": [
      "Entered \"with\" :)\n",
      "Hi from 4387070808 instance!\n",
      "Error type: <class 'ZeroDivisionError'>\n",
      "Error value: division by zero\n",
      "Error traceback: <traceback object at 0x1057d15c8>\n"
     ]
    },
    {
     "ename": "ZeroDivisionError",
     "evalue": "division by zero",
     "output_type": "error",
     "traceback": [
      "\u001b[0;31m---------------------------------------------------------------------------\u001b[0m",
      "\u001b[0;31mZeroDivisionError\u001b[0m                         Traceback (most recent call last)",
      "\u001b[0;32m<ipython-input-5-4e5ef23ce77d>\u001b[0m in \u001b[0;36m<module>\u001b[0;34m\u001b[0m\n\u001b[1;32m      1\u001b[0m \u001b[0;32mwith\u001b[0m \u001b[0mMyClass\u001b[0m\u001b[0;34m(\u001b[0m\u001b[0;34m)\u001b[0m \u001b[0;32mas\u001b[0m \u001b[0mmobj\u001b[0m\u001b[0;34m:\u001b[0m\u001b[0;34m\u001b[0m\u001b[0;34m\u001b[0m\u001b[0m\n\u001b[1;32m      2\u001b[0m     \u001b[0mmobj\u001b[0m\u001b[0;34m.\u001b[0m\u001b[0mhi\u001b[0m\u001b[0;34m(\u001b[0m\u001b[0;34m)\u001b[0m\u001b[0;34m\u001b[0m\u001b[0;34m\u001b[0m\u001b[0m\n\u001b[0;32m----> 3\u001b[0;31m     \u001b[0;36m1\u001b[0m\u001b[0;34m/\u001b[0m\u001b[0;36m0\u001b[0m\u001b[0;34m\u001b[0m\u001b[0;34m\u001b[0m\u001b[0m\n\u001b[0m",
      "\u001b[0;31mZeroDivisionError\u001b[0m: division by zero"
     ]
    }
   ],
   "source": [
    "with MyClass() as mobj:\n",
    "    mobj.hi()\n",
    "    1/0"
   ]
  },
  {
   "cell_type": "markdown",
   "metadata": {},
   "source": [
    "## @contextlib.contextmanager()\n",
    "\n",
    "The `contextmanager` decorator should be used on a generator function. The `__enter__` and `__exit__` methods will be dynamically implemented based on the code that wraps the `yield` statement of the generator."
   ]
  },
  {
   "cell_type": "code",
   "execution_count": 1,
   "metadata": {},
   "outputs": [],
   "source": [
    "import contextlib\n",
    "\n",
    "@contextlib.contextmanager\n",
    "def my_context():\n",
    "    print('do something first')\n",
    "    yield\n",
    "    print('do something else')"
   ]
  },
  {
   "cell_type": "code",
   "execution_count": 2,
   "metadata": {},
   "outputs": [
    {
     "name": "stdout",
     "output_type": "stream",
     "text": [
      "do something first\n",
      "Hi!\n",
      "do something else\n"
     ]
    }
   ],
   "source": [
    "with my_context():\n",
    "    print('Hi!')"
   ]
  },
  {
   "cell_type": "markdown",
   "metadata": {},
   "source": [
    "### yielding a value to the caller"
   ]
  },
  {
   "cell_type": "code",
   "execution_count": 4,
   "metadata": {},
   "outputs": [
    {
     "name": "stdout",
     "output_type": "stream",
     "text": [
      "do something first\n",
      "42\n",
      "do something else\n"
     ]
    }
   ],
   "source": [
    "import contextlib\n",
    "\n",
    "@contextlib.contextmanager\n",
    "def my_context():\n",
    "    print('do something first')\n",
    "    try:\n",
    "        yield 42\n",
    "    finally:\n",
    "        print('do something else')\n",
    "    \n",
    "with my_context() as value:\n",
    "    print(value)"
   ]
  },
  {
   "cell_type": "markdown",
   "metadata": {},
   "source": [
    "## Multiple context managers\n",
    "\n",
    "`with` statement supports multiple arguments:\n",
    "\n",
    "```python\n",
    "with open('data.txt', 'r') as source, open('data_copy.txt', 'w') as destination:\n",
    "    destination.write(source.read())\n",
    "```\n",
    "\n",
    "Therefore there is no need to write nested context managers."
   ]
  }
 ],
 "metadata": {
  "kernelspec": {
   "display_name": "Python 3",
   "language": "python",
   "name": "python3"
  },
  "language_info": {
   "codemirror_mode": {
    "name": "ipython",
    "version": 3
   },
   "file_extension": ".py",
   "mimetype": "text/x-python",
   "name": "python",
   "nbconvert_exporter": "python",
   "pygments_lexer": "ipython3",
   "version": "3.7.3"
  }
 },
 "nbformat": 4,
 "nbformat_minor": 2
}
