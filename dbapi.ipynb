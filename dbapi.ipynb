{
 "cells": [
  {
   "cell_type": "markdown",
   "metadata": {},
   "source": [
    "## Resources\n",
    "\n",
    "* [DatabaseInterfaces](https://wiki.python.org/moin/DatabaseInterfaces)\n",
    "* [PEP 249 -- Python Database API Specification v2.0](https://www.python.org/dev/peps/pep-0249/)\n",
    "* [Databases &#8212; The Hitchhiker&#39;s Guide to Python](https://docs.python-guide.org/scenarios/db/)\n",
    "\n",
    "## Playground"
   ]
  },
  {
   "cell_type": "code",
   "execution_count": 29,
   "metadata": {},
   "outputs": [
    {
     "data": {
      "text/plain": [
       "<sqlite3.Connection at 0x10e94b650>"
      ]
     },
     "execution_count": 29,
     "metadata": {},
     "output_type": "execute_result"
    }
   ],
   "source": [
    "import sqlite3\n",
    "conn = sqlite3.connect('dbapi.sql3')\n",
    "conn"
   ]
  },
  {
   "cell_type": "code",
   "execution_count": 30,
   "metadata": {},
   "outputs": [
    {
     "data": {
      "text/plain": [
       "<sqlite3.Cursor at 0x10ec70810>"
      ]
     },
     "execution_count": 30,
     "metadata": {},
     "output_type": "execute_result"
    }
   ],
   "source": [
    "cur = conn.cursor() # it's possible to create multiple cursors for different activities\n",
    "cur"
   ]
  },
  {
   "cell_type": "code",
   "execution_count": 31,
   "metadata": {},
   "outputs": [
    {
     "data": {
      "text/plain": [
       "<sqlite3.Cursor at 0x10ec70810>"
      ]
     },
     "execution_count": 31,
     "metadata": {},
     "output_type": "execute_result"
    }
   ],
   "source": [
    "cur.execute('DROP TABLE IF EXISTS publishers') # returns a cursor again and because of that we can do a method chaining"
   ]
  },
  {
   "cell_type": "code",
   "execution_count": 32,
   "metadata": {},
   "outputs": [
    {
     "data": {
      "text/plain": [
       "<sqlite3.Cursor at 0x10ec70810>"
      ]
     },
     "execution_count": 32,
     "metadata": {},
     "output_type": "execute_result"
    }
   ],
   "source": [
    "query = '''CREATE TABLE publishers(\n",
    "                    id INT PRIMARY KEY,\n",
    "                    name VARCHAR(25),\n",
    "                    url VARCHAR(125))'''\n",
    "cur.execute(query)"
   ]
  },
  {
   "cell_type": "code",
   "execution_count": 33,
   "metadata": {},
   "outputs": [
    {
     "ename": "OperationalError",
     "evalue": "table publishers already exists",
     "output_type": "error",
     "traceback": [
      "\u001b[0;31m---------------------------------------------------------------------------\u001b[0m",
      "\u001b[0;31mOperationalError\u001b[0m                          Traceback (most recent call last)",
      "\u001b[0;32m<ipython-input-33-62e23c8ecbae>\u001b[0m in \u001b[0;36m<module>\u001b[0;34m\u001b[0m\n\u001b[0;32m----> 1\u001b[0;31m \u001b[0mcur\u001b[0m\u001b[0;34m.\u001b[0m\u001b[0mexecute\u001b[0m\u001b[0;34m(\u001b[0m\u001b[0mquery\u001b[0m\u001b[0;34m)\u001b[0m\u001b[0;34m\u001b[0m\u001b[0;34m\u001b[0m\u001b[0m\n\u001b[0m",
      "\u001b[0;31mOperationalError\u001b[0m: table publishers already exists"
     ]
    }
   ],
   "source": [
    "cur.execute(query)"
   ]
  },
  {
   "cell_type": "code",
   "execution_count": 34,
   "metadata": {},
   "outputs": [
    {
     "data": {
      "text/plain": [
       "<sqlite3.Cursor at 0x10ec70810>"
      ]
     },
     "execution_count": 34,
     "metadata": {},
     "output_type": "execute_result"
    }
   ],
   "source": [
    "cur.execute('DROP TABLE IF EXISTS books')"
   ]
  },
  {
   "cell_type": "code",
   "execution_count": 35,
   "metadata": {},
   "outputs": [
    {
     "data": {
      "text/plain": [
       "<sqlite3.Cursor at 0x10ec70810>"
      ]
     },
     "execution_count": 35,
     "metadata": {},
     "output_type": "execute_result"
    }
   ],
   "source": [
    "cur.execute('''\\\n",
    "    CREATE TABLE books (\n",
    "        isbn CHAR(10) PRIMARY KEY,\n",
    "        title VARCHAR(60),\n",
    "        year INT,\n",
    "        publisher_id INT,\n",
    "        FOREIGN KEY(publisher_id) REFERENCES publishers(id))\n",
    "    ''')"
   ]
  },
  {
   "cell_type": "code",
   "execution_count": 36,
   "metadata": {},
   "outputs": [],
   "source": [
    "publishers_list = (\n",
    "    ('Andrey Krisanov', 'https://akrisanov.com'), # 0\n",
    "    ('Apress', 'https://apress.com'),             # 1\n",
    "    (\"O'Reilly Media\", 'https://oreilly.com'),    # 2\n",
    "    ('Packt Publishing', 'https://packtpub.com')  # 3\n",
    ")"
   ]
  },
  {
   "cell_type": "code",
   "execution_count": 37,
   "metadata": {},
   "outputs": [],
   "source": [
    "books_dict = {\n",
    "    '1491962291' : ('Hands-On Machine Learning with Scikit-Learn and TensorFlow', 2017, 2),               # O'Reilly\n",
    "    '1484227867' : ('Beginning Django: Web Application Development and Deployment with Python', 2017, 1), # Apress,\n",
    "    '0000000000' : ('Deep Learning in Python', 2022, 0),                                                  # me :)\n",
    "    '9781491912058' : ('Python Data Science Handbook: Essential Tools for Working with Data', 2016, 2),   # O'Reilly\n",
    "    '1789135990' : ('Mastering Python Networking', 2018, 3)                                               # Packt\n",
    "}"
   ]
  },
  {
   "cell_type": "code",
   "execution_count": 38,
   "metadata": {},
   "outputs": [
    {
     "name": "stdout",
     "output_type": "stream",
     "text": [
      "ISBN:       1491962291\n",
      "Title:      Hands-On Machine Learning with Scikit-Learn and TensorFlow\n",
      "Year:       2017\n",
      "Publisher:  O'Reilly Media\n",
      "URL:        https://oreilly.com\n",
      "\n"
     ]
    }
   ],
   "source": [
    "isbn = '1491962291'\n",
    "book = books_dict[isbn]\n",
    "publisher = publishers_list[book[2]]\n",
    "print(f'''\\\n",
    "ISBN:       {isbn}\n",
    "Title:      {book[0]}\n",
    "Year:       {book[1]}\n",
    "Publisher:  {publisher[0]}\n",
    "URL:        {publisher[1]}\n",
    "''')"
   ]
  },
  {
   "cell_type": "code",
   "execution_count": 39,
   "metadata": {},
   "outputs": [],
   "source": [
    "for column_id, publisher in enumerate(publishers_list):\n",
    "    cur.execute('''\n",
    "                INSERT INTO publishers (id, name, url)\n",
    "                VALUES(?, ?, ?)''',\n",
    "                (column_id + 1, publisher[0], publisher[1]))"
   ]
  },
  {
   "cell_type": "code",
   "execution_count": 40,
   "metadata": {},
   "outputs": [
    {
     "data": {
      "text/plain": [
       "[(1, 'Andrey Krisanov', 'https://akrisanov.com'),\n",
       " (2, 'Apress', 'https://apress.com'),\n",
       " (3, \"O'Reilly Media\", 'https://oreilly.com'),\n",
       " (4, 'Packt Publishing', 'https://packtpub.com')]"
      ]
     },
     "execution_count": 40,
     "metadata": {},
     "output_type": "execute_result"
    }
   ],
   "source": [
    "cur.execute('SELECT * FROM publishers')\n",
    "cur.fetchall()"
   ]
  },
  {
   "cell_type": "code",
   "execution_count": 43,
   "metadata": {},
   "outputs": [
    {
     "data": {
      "text/plain": [
       "dict_items([('1491962291', ('Hands-On Machine Learning with Scikit-Learn and TensorFlow', 2017, 2)), ('1484227867', ('Beginning Django: Web Application Development and Deployment with Python', 2017, 1)), ('0000000000', ('Deep Learning in Python', 2022, 0)), ('9781491912058', ('Python Data Science Handbook: Essential Tools for Working with Data', 2016, 2)), ('1789135990', ('Mastering Python Networking', 2018, 3))])"
      ]
     },
     "execution_count": 43,
     "metadata": {},
     "output_type": "execute_result"
    }
   ],
   "source": [
    "books_dict.items()"
   ]
  },
  {
   "cell_type": "code",
   "execution_count": 44,
   "metadata": {},
   "outputs": [],
   "source": [
    "for isbn, (title, year, publisher_id) in books_dict.items():\n",
    "    cur.execute('''\n",
    "                INSERT INTO books (isbn, title, year, publisher_id)\n",
    "                VALUES(?, ?, ?, ?)''',\n",
    "               (isbn, title, year, publisher_id))"
   ]
  },
  {
   "cell_type": "code",
   "execution_count": 45,
   "metadata": {},
   "outputs": [
    {
     "data": {
      "text/plain": [
       "[('1491962291',\n",
       "  'Hands-On Machine Learning with Scikit-Learn and TensorFlow',\n",
       "  2017,\n",
       "  2),\n",
       " ('1484227867',\n",
       "  'Beginning Django: Web Application Development and Deployment with Python',\n",
       "  2017,\n",
       "  1),\n",
       " ('0000000000', 'Deep Learning in Python', 2022, 0),\n",
       " ('9781491912058',\n",
       "  'Python Data Science Handbook: Essential Tools for Working with Data',\n",
       "  2016,\n",
       "  2),\n",
       " ('1789135990', 'Mastering Python Networking', 2018, 3)]"
      ]
     },
     "execution_count": 45,
     "metadata": {},
     "output_type": "execute_result"
    }
   ],
   "source": [
    "cur.execute('SELECT * FROM books')\n",
    "cur.fetchall()"
   ]
  },
  {
   "cell_type": "code",
   "execution_count": 46,
   "metadata": {},
   "outputs": [
    {
     "data": {
      "text/plain": [
       "[('1491962291',\n",
       "  'Hands-On Machine Learning with Scikit-Learn and TensorFlow',\n",
       "  2017,\n",
       "  2,\n",
       "  2,\n",
       "  'Apress',\n",
       "  'https://apress.com'),\n",
       " ('1484227867',\n",
       "  'Beginning Django: Web Application Development and Deployment with Python',\n",
       "  2017,\n",
       "  1,\n",
       "  1,\n",
       "  'Andrey Krisanov',\n",
       "  'https://akrisanov.com'),\n",
       " ('9781491912058',\n",
       "  'Python Data Science Handbook: Essential Tools for Working with Data',\n",
       "  2016,\n",
       "  2,\n",
       "  2,\n",
       "  'Apress',\n",
       "  'https://apress.com'),\n",
       " ('1789135990',\n",
       "  'Mastering Python Networking',\n",
       "  2018,\n",
       "  3,\n",
       "  3,\n",
       "  \"O'Reilly Media\",\n",
       "  'https://oreilly.com')]"
      ]
     },
     "execution_count": 46,
     "metadata": {},
     "output_type": "execute_result"
    }
   ],
   "source": [
    "cur.execute('SELECT * FROM books JOIN publishers ON id = books.publisher_id')\n",
    "cur.fetchall()"
   ]
  },
  {
   "cell_type": "code",
   "execution_count": 48,
   "metadata": {},
   "outputs": [
    {
     "data": {
      "text/plain": [
       "[('Hands-On Machine Learning with Scikit-Learn and TensorFlow',\n",
       "  2017,\n",
       "  'Apress'),\n",
       " ('Beginning Django: Web Application Development and Deployment with Python',\n",
       "  2017,\n",
       "  'Andrey Krisanov'),\n",
       " ('Python Data Science Handbook: Essential Tools for Working with Data',\n",
       "  2016,\n",
       "  'Apress'),\n",
       " ('Mastering Python Networking', 2018, \"O'Reilly Media\")]"
      ]
     },
     "execution_count": 48,
     "metadata": {},
     "output_type": "execute_result"
    }
   ],
   "source": [
    "cur.execute('SELECT title, year, publishers.name FROM books JOIN publishers ON id = books.publisher_id')\n",
    "cur.fetchall()"
   ]
  },
  {
   "cell_type": "code",
   "execution_count": 49,
   "metadata": {},
   "outputs": [],
   "source": [
    "conn.commit()"
   ]
  },
  {
   "cell_type": "code",
   "execution_count": 50,
   "metadata": {},
   "outputs": [],
   "source": [
    "conn.close()"
   ]
  },
  {
   "cell_type": "code",
   "execution_count": 51,
   "metadata": {},
   "outputs": [
    {
     "data": {
      "text/plain": [
       "[('1491962291',\n",
       "  'Hands-On Machine Learning with Scikit-Learn and TensorFlow',\n",
       "  2017,\n",
       "  2),\n",
       " ('1484227867',\n",
       "  'Beginning Django: Web Application Development and Deployment with Python',\n",
       "  2017,\n",
       "  1),\n",
       " ('0000000000', 'Deep Learning in Python', 2022, 0),\n",
       " ('9781491912058',\n",
       "  'Python Data Science Handbook: Essential Tools for Working with Data',\n",
       "  2016,\n",
       "  2),\n",
       " ('1789135990', 'Mastering Python Networking', 2018, 3)]"
      ]
     },
     "execution_count": 51,
     "metadata": {},
     "output_type": "execute_result"
    }
   ],
   "source": [
    "conn = sqlite3.connect('dbapi.sql3')\n",
    "cur = conn.cursor()\n",
    "cur.execute('SELECT * FROM books')\n",
    "cur.fetchall()"
   ]
  }
 ],
 "metadata": {
  "kernelspec": {
   "display_name": "Python 3",
   "language": "python",
   "name": "python3"
  },
  "language_info": {
   "codemirror_mode": {
    "name": "ipython",
    "version": 3
   },
   "file_extension": ".py",
   "mimetype": "text/x-python",
   "name": "python",
   "nbconvert_exporter": "python",
   "pygments_lexer": "ipython3",
   "version": "3.7.2"
  }
 },
 "nbformat": 4,
 "nbformat_minor": 2
}
