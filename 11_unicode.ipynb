{
 "cells": [
  {
   "cell_type": "code",
   "execution_count": 1,
   "metadata": {},
   "outputs": [
    {
     "data": {
      "text/plain": [
       "str"
      ]
     },
     "execution_count": 1,
     "metadata": {},
     "output_type": "execute_result"
    }
   ],
   "source": [
    "type('There are many characters in the Unicode set')"
   ]
  },
  {
   "cell_type": "code",
   "execution_count": 2,
   "metadata": {},
   "outputs": [
    {
     "data": {
      "text/plain": [
       "'Ƭђ૯૨૯ α૨૯ ʍαทy ૮ђα૨α૮Ƭ૯૨ઽ ¡ท Ƭђ૯ Unicode ઽ૯Ƭ'"
      ]
     },
     "execution_count": 2,
     "metadata": {},
     "output_type": "execute_result"
    }
   ],
   "source": [
    "'Ƭђ૯૨૯ α૨૯ ʍαทy ૮ђα૨α૮Ƭ૯૨ઽ ¡ท Ƭђ૯ Unicode ઽ૯Ƭ'"
   ]
  },
  {
   "cell_type": "code",
   "execution_count": 3,
   "metadata": {},
   "outputs": [
    {
     "data": {
      "text/plain": [
       "'〶ⓗⓔⓡⓔ ⓐⓡⓔ ⓜⓐⓝⓨ ⓒⓗⓐⓡⓐⓒ〶ⓔⓡⓢ ⓘⓝ 〶ⓗⓔ Unicode ⓢⓔ〶'"
      ]
     },
     "execution_count": 3,
     "metadata": {},
     "output_type": "execute_result"
    }
   ],
   "source": [
    "'〶ⓗⓔⓡⓔ ⓐⓡⓔ ⓜⓐⓝⓨ ⓒⓗⓐⓡⓐⓒ〶ⓔⓡⓢ ⓘⓝ 〶ⓗⓔ Unicode ⓢⓔ〶'"
   ]
  },
  {
   "cell_type": "code",
   "execution_count": 4,
   "metadata": {},
   "outputs": [
    {
     "data": {
      "text/plain": [
       "(84, 428, 12342)"
      ]
     },
     "execution_count": 4,
     "metadata": {},
     "output_type": "execute_result"
    }
   ],
   "source": [
    "ord('T'), ord('Ƭ'), ord('〶')"
   ]
  },
  {
   "cell_type": "code",
   "execution_count": 5,
   "metadata": {},
   "outputs": [
    {
     "data": {
      "text/plain": [
       "'€'"
      ]
     },
     "execution_count": 5,
     "metadata": {},
     "output_type": "execute_result"
    }
   ],
   "source": [
    "'€' # a one-character string"
   ]
  },
  {
   "cell_type": "code",
   "execution_count": 6,
   "metadata": {},
   "outputs": [
    {
     "data": {
      "text/plain": [
       "8364"
      ]
     },
     "execution_count": 6,
     "metadata": {},
     "output_type": "execute_result"
    }
   ],
   "source": [
    "ord('€')"
   ]
  },
  {
   "cell_type": "code",
   "execution_count": 7,
   "metadata": {},
   "outputs": [
    {
     "data": {
      "text/plain": [
       "'0x20ac'"
      ]
     },
     "execution_count": 7,
     "metadata": {},
     "output_type": "execute_result"
    }
   ],
   "source": [
    "hex(ord('€'))"
   ]
  },
  {
   "cell_type": "code",
   "execution_count": 8,
   "metadata": {},
   "outputs": [
    {
     "data": {
      "text/plain": [
       "'€'"
      ]
     },
     "execution_count": 8,
     "metadata": {},
     "output_type": "execute_result"
    }
   ],
   "source": [
    "'\\u20ac' # the same string using a Unicode escape sequence"
   ]
  },
  {
   "cell_type": "markdown",
   "metadata": {},
   "source": [
    "## Encoding From Unicode\n",
    "\n",
    "[Unicode HOWTO](https://docs.python.org/3.7/howto/unicode.html)\n",
    "\n",
    "_A Unicode string is a sequence of code points, which are numbers from `0` through `0x10FFFF` (1,114,111 decimal)._ \n",
    "\n",
    "This sequence of code points needs to be represented in memory as a set of **code units**, and **code units** are then mapped to 8-bit bytes. The rules for translating a Unicode string into a sequence of bytes are called a **character encoding**, or just an **encoding**.\n",
    "\n",
    "![](assets/array_of_32_bit_integers.png)\n",
    "\n",
    "⚠️ **Internally Python program uses 32-bit representation of Unicode**"
   ]
  },
  {
   "cell_type": "code",
   "execution_count": 9,
   "metadata": {
    "scrolled": true
   },
   "outputs": [
    {
     "name": "stdout",
     "output_type": "stream",
     "text": [
      "<class '_io.TextIOWrapper'>\n"
     ]
    }
   ],
   "source": [
    "string = 'This is the first line of the file €9.99'\n",
    "file_writer = open('assets/unicode.txt', 'w')\n",
    "print(type(file_writer))"
   ]
  },
  {
   "cell_type": "code",
   "execution_count": 10,
   "metadata": {},
   "outputs": [
    {
     "name": "stdout",
     "output_type": "stream",
     "text": [
      "<class '_io.BufferedReader'>\n"
     ]
    }
   ],
   "source": [
    "file_writer.write(string)\n",
    "file_writer.close()\n",
    "\n",
    "file_reader = open('assets/unicode.txt', 'rb')\n",
    "print(type(file_reader))"
   ]
  },
  {
   "cell_type": "code",
   "execution_count": 11,
   "metadata": {},
   "outputs": [
    {
     "name": "stdout",
     "output_type": "stream",
     "text": [
      "b'This is the first line of the file \\xe2\\x82\\xac9.99'\n"
     ]
    }
   ],
   "source": [
    "content = file_reader.read()\n",
    "print(content)\n",
    "file_reader.close()"
   ]
  },
  {
   "cell_type": "markdown",
   "metadata": {},
   "source": [
    "^^^ UTF-8 represents ASCII characters as themselves."
   ]
  },
  {
   "cell_type": "code",
   "execution_count": 12,
   "metadata": {},
   "outputs": [
    {
     "data": {
      "text/plain": [
       "'utf-8'"
      ]
     },
     "execution_count": 12,
     "metadata": {},
     "output_type": "execute_result"
    }
   ],
   "source": [
    "import sys\n",
    "sys.getdefaultencoding()"
   ]
  },
  {
   "cell_type": "code",
   "execution_count": 13,
   "metadata": {},
   "outputs": [
    {
     "ename": "UnicodeEncodeError",
     "evalue": "'charmap' codec can't encode character '\\u20ac' in position 35: character maps to <undefined>",
     "output_type": "error",
     "traceback": [
      "\u001b[0;31m---------------------------------------------------------------------------\u001b[0m",
      "\u001b[0;31mUnicodeEncodeError\u001b[0m                        Traceback (most recent call last)",
      "\u001b[0;32m<ipython-input-13-34e84dda488f>\u001b[0m in \u001b[0;36m<module>\u001b[0;34m\u001b[0m\n\u001b[1;32m      1\u001b[0m \u001b[0mfile_writer\u001b[0m \u001b[0;34m=\u001b[0m \u001b[0mopen\u001b[0m\u001b[0;34m(\u001b[0m\u001b[0;34m'assets/unicode.txt'\u001b[0m\u001b[0;34m,\u001b[0m \u001b[0;34m'w'\u001b[0m\u001b[0;34m,\u001b[0m \u001b[0mencoding\u001b[0m\u001b[0;34m=\u001b[0m\u001b[0;34m'IBM775'\u001b[0m\u001b[0;34m)\u001b[0m\u001b[0;34m\u001b[0m\u001b[0;34m\u001b[0m\u001b[0m\n\u001b[0;32m----> 2\u001b[0;31m \u001b[0mfile_writer\u001b[0m\u001b[0;34m.\u001b[0m\u001b[0mwrite\u001b[0m\u001b[0;34m(\u001b[0m\u001b[0mstring\u001b[0m\u001b[0;34m)\u001b[0m\u001b[0;34m\u001b[0m\u001b[0;34m\u001b[0m\u001b[0m\n\u001b[0m",
      "\u001b[0;32m/usr/local/Cellar/python/3.7.2_2/Frameworks/Python.framework/Versions/3.7/lib/python3.7/encodings/cp775.py\u001b[0m in \u001b[0;36mencode\u001b[0;34m(self, input, final)\u001b[0m\n\u001b[1;32m     17\u001b[0m \u001b[0;32mclass\u001b[0m \u001b[0mIncrementalEncoder\u001b[0m\u001b[0;34m(\u001b[0m\u001b[0mcodecs\u001b[0m\u001b[0;34m.\u001b[0m\u001b[0mIncrementalEncoder\u001b[0m\u001b[0;34m)\u001b[0m\u001b[0;34m:\u001b[0m\u001b[0;34m\u001b[0m\u001b[0;34m\u001b[0m\u001b[0m\n\u001b[1;32m     18\u001b[0m     \u001b[0;32mdef\u001b[0m \u001b[0mencode\u001b[0m\u001b[0;34m(\u001b[0m\u001b[0mself\u001b[0m\u001b[0;34m,\u001b[0m \u001b[0minput\u001b[0m\u001b[0;34m,\u001b[0m \u001b[0mfinal\u001b[0m\u001b[0;34m=\u001b[0m\u001b[0;32mFalse\u001b[0m\u001b[0;34m)\u001b[0m\u001b[0;34m:\u001b[0m\u001b[0;34m\u001b[0m\u001b[0;34m\u001b[0m\u001b[0m\n\u001b[0;32m---> 19\u001b[0;31m         \u001b[0;32mreturn\u001b[0m \u001b[0mcodecs\u001b[0m\u001b[0;34m.\u001b[0m\u001b[0mcharmap_encode\u001b[0m\u001b[0;34m(\u001b[0m\u001b[0minput\u001b[0m\u001b[0;34m,\u001b[0m\u001b[0mself\u001b[0m\u001b[0;34m.\u001b[0m\u001b[0merrors\u001b[0m\u001b[0;34m,\u001b[0m\u001b[0mencoding_map\u001b[0m\u001b[0;34m)\u001b[0m\u001b[0;34m[\u001b[0m\u001b[0;36m0\u001b[0m\u001b[0;34m]\u001b[0m\u001b[0;34m\u001b[0m\u001b[0;34m\u001b[0m\u001b[0m\n\u001b[0m\u001b[1;32m     20\u001b[0m \u001b[0;34m\u001b[0m\u001b[0m\n\u001b[1;32m     21\u001b[0m \u001b[0;32mclass\u001b[0m \u001b[0mIncrementalDecoder\u001b[0m\u001b[0;34m(\u001b[0m\u001b[0mcodecs\u001b[0m\u001b[0;34m.\u001b[0m\u001b[0mIncrementalDecoder\u001b[0m\u001b[0;34m)\u001b[0m\u001b[0;34m:\u001b[0m\u001b[0;34m\u001b[0m\u001b[0;34m\u001b[0m\u001b[0m\n",
      "\u001b[0;31mUnicodeEncodeError\u001b[0m: 'charmap' codec can't encode character '\\u20ac' in position 35: character maps to <undefined>"
     ]
    }
   ],
   "source": [
    "file_writer = open('assets/unicode.txt', 'w', encoding='IBM775')\n",
    "file_writer.write(string)"
   ]
  },
  {
   "cell_type": "code",
   "execution_count": 14,
   "metadata": {},
   "outputs": [],
   "source": [
    "file_writer.close()"
   ]
  },
  {
   "cell_type": "code",
   "execution_count": 15,
   "metadata": {},
   "outputs": [
    {
     "name": "stdout",
     "output_type": "stream",
     "text": [
      "<class '_io.TextIOWrapper'>\n"
     ]
    }
   ],
   "source": [
    "file_writer = open('assets/unicode.txt', 'w', encoding='utf-16-be')\n",
    "print(type(file_writer))"
   ]
  },
  {
   "cell_type": "code",
   "execution_count": 16,
   "metadata": {},
   "outputs": [
    {
     "name": "stdout",
     "output_type": "stream",
     "text": [
      "<class '_io.BufferedReader'>\n"
     ]
    }
   ],
   "source": [
    "file_writer.write(string)\n",
    "file_writer.close()\n",
    "\n",
    "file_reader = open('assets/unicode.txt', 'rb')\n",
    "print(type(file_reader))"
   ]
  },
  {
   "cell_type": "code",
   "execution_count": 17,
   "metadata": {},
   "outputs": [
    {
     "name": "stdout",
     "output_type": "stream",
     "text": [
      "0 \u0000\n",
      "54 T\n",
      "0 \u0000\n",
      "68 h\n",
      "0 \u0000\n",
      "69 i\n",
      "0 \u0000\n",
      "73 s\n",
      "0 \u0000\n",
      "20  \n",
      "0 \u0000\n",
      "69 i\n",
      "0 \u0000\n",
      "73 s\n",
      "0 \u0000\n",
      "20  \n",
      "0 \u0000\n",
      "74 t\n",
      "0 \u0000\n",
      "68 h\n",
      "0 \u0000\n",
      "65 e\n",
      "0 \u0000\n",
      "20  \n",
      "0 \u0000\n",
      "66 f\n",
      "0 \u0000\n",
      "69 i\n",
      "0 \u0000\n",
      "72 r\n",
      "0 \u0000\n",
      "73 s\n",
      "0 \u0000\n",
      "74 t\n",
      "0 \u0000\n",
      "20  \n",
      "0 \u0000\n",
      "6c l\n",
      "0 \u0000\n",
      "69 i\n",
      "0 \u0000\n",
      "6e n\n",
      "0 \u0000\n",
      "65 e\n",
      "0 \u0000\n",
      "20  \n",
      "0 \u0000\n",
      "6f o\n",
      "0 \u0000\n",
      "66 f\n",
      "0 \u0000\n",
      "20  \n",
      "0 \u0000\n",
      "74 t\n",
      "0 \u0000\n",
      "68 h\n",
      "0 \u0000\n",
      "65 e\n",
      "0 \u0000\n",
      "20  \n",
      "0 \u0000\n",
      "66 f\n",
      "0 \u0000\n",
      "69 i\n",
      "0 \u0000\n",
      "6c l\n",
      "0 \u0000\n",
      "65 e\n",
      "0 \u0000\n",
      "20  \n",
      "20  \n",
      "ac ¬\n",
      "0 \u0000\n",
      "39 9\n",
      "0 \u0000\n",
      "2e .\n",
      "0 \u0000\n",
      "39 9\n",
      "0 \u0000\n",
      "39 9\n"
     ]
    }
   ],
   "source": [
    "content = file_reader.read()\n",
    "type(content)\n",
    "\n",
    "for byte in content[:]:\n",
    "    print('{:x} {:c}'.format(byte, byte))\n",
    "\n",
    "file_reader.close()"
   ]
  },
  {
   "cell_type": "code",
   "execution_count": 18,
   "metadata": {},
   "outputs": [
    {
     "data": {
      "text/plain": [
       "b' \\xac'"
      ]
     },
     "execution_count": 18,
     "metadata": {},
     "output_type": "execute_result"
    }
   ],
   "source": [
    "be = b'\\x20\\xac'\n",
    "be"
   ]
  },
  {
   "cell_type": "code",
   "execution_count": 19,
   "metadata": {},
   "outputs": [
    {
     "data": {
      "text/plain": [
       "'€'"
      ]
     },
     "execution_count": 19,
     "metadata": {},
     "output_type": "execute_result"
    }
   ],
   "source": [
    "be.decode('utf-16-be')"
   ]
  },
  {
   "cell_type": "markdown",
   "metadata": {},
   "source": [
    "## Decoding To Unicode"
   ]
  },
  {
   "cell_type": "code",
   "execution_count": 20,
   "metadata": {},
   "outputs": [
    {
     "data": {
      "text/plain": [
       "1"
      ]
     },
     "execution_count": 20,
     "metadata": {},
     "output_type": "execute_result"
    }
   ],
   "source": [
    "file_writer = open('assets/unicode2.txt', 'w')\n",
    "file_writer.write('€')"
   ]
  },
  {
   "cell_type": "code",
   "execution_count": 21,
   "metadata": {},
   "outputs": [],
   "source": [
    "file_writer.close()"
   ]
  },
  {
   "cell_type": "code",
   "execution_count": 22,
   "metadata": {},
   "outputs": [
    {
     "data": {
      "text/plain": [
       "['0xe2', '0x82', '0xac']"
      ]
     },
     "execution_count": 22,
     "metadata": {},
     "output_type": "execute_result"
    }
   ],
   "source": [
    "file_reader = open('assets/unicode2.txt', 'rb')\n",
    "b_eur = file_reader.read()\n",
    "[hex(b) for b in b_eur] # 3 bytes long in utf-8"
   ]
  },
  {
   "cell_type": "code",
   "execution_count": 23,
   "metadata": {},
   "outputs": [
    {
     "data": {
      "text/plain": [
       "(str, bytes)"
      ]
     },
     "execution_count": 23,
     "metadata": {},
     "output_type": "execute_result"
    }
   ],
   "source": [
    "type('€'), type(b_eur)"
   ]
  },
  {
   "cell_type": "code",
   "execution_count": 24,
   "metadata": {},
   "outputs": [
    {
     "data": {
      "text/plain": [
       "['capitalize',\n",
       " 'center',\n",
       " 'count',\n",
       " 'decode',\n",
       " 'endswith',\n",
       " 'expandtabs',\n",
       " 'find',\n",
       " 'fromhex',\n",
       " 'hex',\n",
       " 'index',\n",
       " 'isalnum',\n",
       " 'isalpha',\n",
       " 'isascii',\n",
       " 'isdigit',\n",
       " 'islower',\n",
       " 'isspace',\n",
       " 'istitle',\n",
       " 'isupper',\n",
       " 'join',\n",
       " 'ljust',\n",
       " 'lower',\n",
       " 'lstrip',\n",
       " 'maketrans',\n",
       " 'partition',\n",
       " 'replace',\n",
       " 'rfind',\n",
       " 'rindex',\n",
       " 'rjust',\n",
       " 'rpartition',\n",
       " 'rsplit',\n",
       " 'rstrip',\n",
       " 'split',\n",
       " 'splitlines',\n",
       " 'startswith',\n",
       " 'strip',\n",
       " 'swapcase',\n",
       " 'title',\n",
       " 'translate',\n",
       " 'upper',\n",
       " 'zfill']"
      ]
     },
     "execution_count": 24,
     "metadata": {},
     "output_type": "execute_result"
    }
   ],
   "source": [
    "[f for f in dir(b_eur) if not f.startswith('_')]"
   ]
  },
  {
   "cell_type": "markdown",
   "metadata": {},
   "source": [
    "^^^ `decode()`"
   ]
  },
  {
   "cell_type": "code",
   "execution_count": 25,
   "metadata": {},
   "outputs": [
    {
     "data": {
      "text/plain": [
       "False"
      ]
     },
     "execution_count": 25,
     "metadata": {},
     "output_type": "execute_result"
    }
   ],
   "source": [
    "'encode' in dir('€')\n",
    "'dencode' in dir('€')"
   ]
  },
  {
   "cell_type": "markdown",
   "metadata": {},
   "source": [
    "**When we write an information out it should be encoded with specific encoding, e.g. utf-8.**\n",
    "\n",
    "[codecs — Codec registry and base classes](https://docs.python.org/3/library/codecs.html)"
   ]
  },
  {
   "cell_type": "code",
   "execution_count": 26,
   "metadata": {},
   "outputs": [
    {
     "name": "stdout",
     "output_type": "stream",
     "text": [
      "Help on built-in function decode:\n",
      "\n",
      "decode(encoding='utf-8', errors='strict') method of builtins.bytes instance\n",
      "    Decode the bytes using the codec registered for encoding.\n",
      "    \n",
      "    encoding\n",
      "      The encoding with which to decode the bytes.\n",
      "    errors\n",
      "      The error handling scheme to use for the handling of decoding errors.\n",
      "      The default is 'strict' meaning that decoding errors raise a\n",
      "      UnicodeDecodeError. Other possible values are 'ignore' and 'replace'\n",
      "      as well as any other name registered with codecs.register_error that\n",
      "      can handle UnicodeDecodeErrors.\n",
      "\n"
     ]
    }
   ],
   "source": [
    "help(b_eur.decode)"
   ]
  },
  {
   "cell_type": "code",
   "execution_count": 27,
   "metadata": {},
   "outputs": [
    {
     "data": {
      "text/plain": [
       "'€'"
      ]
     },
     "execution_count": 27,
     "metadata": {},
     "output_type": "execute_result"
    }
   ],
   "source": [
    "b_eur.decode()"
   ]
  },
  {
   "cell_type": "code",
   "execution_count": 28,
   "metadata": {},
   "outputs": [
    {
     "data": {
      "text/plain": [
       "['BOM',\n",
       " 'BOM32_BE',\n",
       " 'BOM32_LE',\n",
       " 'BOM64_BE',\n",
       " 'BOM64_LE',\n",
       " 'BOM_BE',\n",
       " 'BOM_LE',\n",
       " 'BOM_UTF16',\n",
       " 'BOM_UTF16_BE',\n",
       " 'BOM_UTF16_LE',\n",
       " 'BOM_UTF32',\n",
       " 'BOM_UTF32_BE',\n",
       " 'BOM_UTF32_LE',\n",
       " 'BOM_UTF8',\n",
       " 'BufferedIncrementalDecoder',\n",
       " 'BufferedIncrementalEncoder',\n",
       " 'Codec',\n",
       " 'CodecInfo',\n",
       " 'EncodedFile',\n",
       " 'IncrementalDecoder',\n",
       " 'IncrementalEncoder',\n",
       " 'StreamReader',\n",
       " 'StreamReaderWriter',\n",
       " 'StreamRecoder',\n",
       " 'StreamWriter',\n",
       " '__all__',\n",
       " '__builtins__',\n",
       " '__cached__',\n",
       " '__doc__',\n",
       " '__file__',\n",
       " '__loader__',\n",
       " '__name__',\n",
       " '__package__',\n",
       " '__spec__',\n",
       " '_false',\n",
       " 'ascii_decode',\n",
       " 'ascii_encode',\n",
       " 'backslashreplace_errors',\n",
       " 'builtins',\n",
       " 'charmap_build',\n",
       " 'charmap_decode',\n",
       " 'charmap_encode',\n",
       " 'decode',\n",
       " 'encode',\n",
       " 'escape_decode',\n",
       " 'escape_encode',\n",
       " 'getdecoder',\n",
       " 'getencoder',\n",
       " 'getincrementaldecoder',\n",
       " 'getincrementalencoder',\n",
       " 'getreader',\n",
       " 'getwriter',\n",
       " 'ignore_errors',\n",
       " 'iterdecode',\n",
       " 'iterencode',\n",
       " 'latin_1_decode',\n",
       " 'latin_1_encode',\n",
       " 'lookup',\n",
       " 'lookup_error',\n",
       " 'make_encoding_map',\n",
       " 'make_identity_dict',\n",
       " 'namereplace_errors',\n",
       " 'open',\n",
       " 'raw_unicode_escape_decode',\n",
       " 'raw_unicode_escape_encode',\n",
       " 'readbuffer_encode',\n",
       " 'register',\n",
       " 'register_error',\n",
       " 'replace_errors',\n",
       " 'strict_errors',\n",
       " 'sys',\n",
       " 'unicode_escape_decode',\n",
       " 'unicode_escape_encode',\n",
       " 'unicode_internal_decode',\n",
       " 'unicode_internal_encode',\n",
       " 'utf_16_be_decode',\n",
       " 'utf_16_be_encode',\n",
       " 'utf_16_decode',\n",
       " 'utf_16_encode',\n",
       " 'utf_16_ex_decode',\n",
       " 'utf_16_le_decode',\n",
       " 'utf_16_le_encode',\n",
       " 'utf_32_be_decode',\n",
       " 'utf_32_be_encode',\n",
       " 'utf_32_decode',\n",
       " 'utf_32_encode',\n",
       " 'utf_32_ex_decode',\n",
       " 'utf_32_le_decode',\n",
       " 'utf_32_le_encode',\n",
       " 'utf_7_decode',\n",
       " 'utf_7_encode',\n",
       " 'utf_8_decode',\n",
       " 'utf_8_encode',\n",
       " 'xmlcharrefreplace_errors']"
      ]
     },
     "execution_count": 28,
     "metadata": {},
     "output_type": "execute_result"
    }
   ],
   "source": [
    "import codecs\n",
    "dir(codecs)"
   ]
  },
  {
   "cell_type": "code",
   "execution_count": 29,
   "metadata": {},
   "outputs": [],
   "source": [
    "utf_16_codec = codecs.utf_16_decode"
   ]
  },
  {
   "cell_type": "code",
   "execution_count": 30,
   "metadata": {},
   "outputs": [
    {
     "data": {
      "text/plain": [
       "builtin_function_or_method"
      ]
     },
     "execution_count": 30,
     "metadata": {},
     "output_type": "execute_result"
    }
   ],
   "source": [
    "type(utf_16_codec)"
   ]
  },
  {
   "cell_type": "code",
   "execution_count": 31,
   "metadata": {},
   "outputs": [
    {
     "name": "stdout",
     "output_type": "stream",
     "text": [
      "Help on built-in function utf_16_decode in module _codecs:\n",
      "\n",
      "utf_16_decode(data, errors=None, final=False, /)\n",
      "\n"
     ]
    }
   ],
   "source": [
    "help(utf_16_codec)"
   ]
  },
  {
   "cell_type": "code",
   "execution_count": 32,
   "metadata": {},
   "outputs": [
    {
     "data": {
      "text/plain": [
       "b'\\xe2\\x82\\xac'"
      ]
     },
     "execution_count": 32,
     "metadata": {},
     "output_type": "execute_result"
    }
   ],
   "source": [
    "b_eur"
   ]
  },
  {
   "cell_type": "code",
   "execution_count": 33,
   "metadata": {},
   "outputs": [
    {
     "data": {
      "text/plain": [
       "'€'"
      ]
     },
     "execution_count": 33,
     "metadata": {},
     "output_type": "execute_result"
    }
   ],
   "source": [
    "b_eur.decode('utf-8')"
   ]
  },
  {
   "cell_type": "code",
   "execution_count": 34,
   "metadata": {},
   "outputs": [
    {
     "ename": "UnicodeDecodeError",
     "evalue": "'utf-16-le' codec can't decode byte 0xac in position 2: truncated data",
     "output_type": "error",
     "traceback": [
      "\u001b[0;31m---------------------------------------------------------------------------\u001b[0m",
      "\u001b[0;31mUnicodeDecodeError\u001b[0m                        Traceback (most recent call last)",
      "\u001b[0;32m<ipython-input-34-b0e5b822dfe9>\u001b[0m in \u001b[0;36m<module>\u001b[0;34m\u001b[0m\n\u001b[0;32m----> 1\u001b[0;31m \u001b[0mb_eur\u001b[0m\u001b[0;34m.\u001b[0m\u001b[0mdecode\u001b[0m\u001b[0;34m(\u001b[0m\u001b[0;34m'utf-16'\u001b[0m\u001b[0;34m)\u001b[0m\u001b[0;34m\u001b[0m\u001b[0;34m\u001b[0m\u001b[0m\n\u001b[0m",
      "\u001b[0;31mUnicodeDecodeError\u001b[0m: 'utf-16-le' codec can't decode byte 0xac in position 2: truncated data"
     ]
    }
   ],
   "source": [
    "b_eur.decode('utf-16')"
   ]
  },
  {
   "cell_type": "code",
   "execution_count": 35,
   "metadata": {},
   "outputs": [],
   "source": [
    "from encodings import cp1252"
   ]
  },
  {
   "cell_type": "code",
   "execution_count": 36,
   "metadata": {},
   "outputs": [
    {
     "data": {
      "text/plain": [
       "(str, EncodingMap)"
      ]
     },
     "execution_count": 36,
     "metadata": {},
     "output_type": "execute_result"
    }
   ],
   "source": [
    "type(cp1252.decoding_table), type(cp1252.encoding_table)"
   ]
  },
  {
   "cell_type": "code",
   "execution_count": 37,
   "metadata": {},
   "outputs": [
    {
     "data": {
      "text/plain": [
       "256"
      ]
     },
     "execution_count": 37,
     "metadata": {},
     "output_type": "execute_result"
    }
   ],
   "source": [
    "len(cp1252.decoding_table)"
   ]
  },
  {
   "cell_type": "code",
   "execution_count": 38,
   "metadata": {},
   "outputs": [
    {
     "ename": "TypeError",
     "evalue": "object of type 'EncodingMap' has no len()",
     "output_type": "error",
     "traceback": [
      "\u001b[0;31m---------------------------------------------------------------------------\u001b[0m",
      "\u001b[0;31mTypeError\u001b[0m                                 Traceback (most recent call last)",
      "\u001b[0;32m<ipython-input-38-d342eb5edb37>\u001b[0m in \u001b[0;36m<module>\u001b[0;34m\u001b[0m\n\u001b[0;32m----> 1\u001b[0;31m \u001b[0mlen\u001b[0m\u001b[0;34m(\u001b[0m\u001b[0mcp1252\u001b[0m\u001b[0;34m.\u001b[0m\u001b[0mencoding_table\u001b[0m\u001b[0;34m)\u001b[0m\u001b[0;34m\u001b[0m\u001b[0;34m\u001b[0m\u001b[0m\n\u001b[0m",
      "\u001b[0;31mTypeError\u001b[0m: object of type 'EncodingMap' has no len()"
     ]
    }
   ],
   "source": [
    "len(cp1252.encoding_table)"
   ]
  },
  {
   "cell_type": "code",
   "execution_count": 39,
   "metadata": {},
   "outputs": [
    {
     "data": {
      "text/plain": [
       "[0,\n",
       " 1,\n",
       " 2,\n",
       " 3,\n",
       " 4,\n",
       " 5,\n",
       " 6,\n",
       " 7,\n",
       " 8,\n",
       " 9,\n",
       " 10,\n",
       " 11,\n",
       " 12,\n",
       " 13,\n",
       " 14,\n",
       " 15,\n",
       " 16,\n",
       " 17,\n",
       " 18,\n",
       " 19,\n",
       " 20,\n",
       " 21,\n",
       " 22,\n",
       " 23,\n",
       " 24,\n",
       " 25,\n",
       " 26,\n",
       " 27,\n",
       " 28,\n",
       " 29,\n",
       " 30,\n",
       " 31,\n",
       " 32,\n",
       " 33,\n",
       " 34,\n",
       " 35,\n",
       " 36,\n",
       " 37,\n",
       " 38,\n",
       " 39,\n",
       " 40,\n",
       " 41,\n",
       " 42,\n",
       " 43,\n",
       " 44,\n",
       " 45,\n",
       " 46,\n",
       " 47,\n",
       " 48,\n",
       " 49,\n",
       " 50,\n",
       " 51,\n",
       " 52,\n",
       " 53,\n",
       " 54,\n",
       " 55,\n",
       " 56,\n",
       " 57,\n",
       " 58,\n",
       " 59,\n",
       " 60,\n",
       " 61,\n",
       " 62,\n",
       " 63,\n",
       " 64,\n",
       " 65,\n",
       " 66,\n",
       " 67,\n",
       " 68,\n",
       " 69,\n",
       " 70,\n",
       " 71,\n",
       " 72,\n",
       " 73,\n",
       " 74,\n",
       " 75,\n",
       " 76,\n",
       " 77,\n",
       " 78,\n",
       " 79,\n",
       " 80,\n",
       " 81,\n",
       " 82,\n",
       " 83,\n",
       " 84,\n",
       " 85,\n",
       " 86,\n",
       " 87,\n",
       " 88,\n",
       " 89,\n",
       " 90,\n",
       " 91,\n",
       " 92,\n",
       " 93,\n",
       " 94,\n",
       " 95,\n",
       " 96,\n",
       " 97,\n",
       " 98,\n",
       " 99,\n",
       " 100,\n",
       " 101,\n",
       " 102,\n",
       " 103,\n",
       " 104,\n",
       " 105,\n",
       " 106,\n",
       " 107,\n",
       " 108,\n",
       " 109,\n",
       " 110,\n",
       " 111,\n",
       " 112,\n",
       " 113,\n",
       " 114,\n",
       " 115,\n",
       " 116,\n",
       " 117,\n",
       " 118,\n",
       " 119,\n",
       " 120,\n",
       " 121,\n",
       " 122,\n",
       " 123,\n",
       " 124,\n",
       " 125,\n",
       " 126,\n",
       " 127,\n",
       " 8364,\n",
       " 65534,\n",
       " 8218,\n",
       " 402,\n",
       " 8222,\n",
       " 8230,\n",
       " 8224,\n",
       " 8225,\n",
       " 710,\n",
       " 8240,\n",
       " 352,\n",
       " 8249,\n",
       " 338,\n",
       " 65534,\n",
       " 381,\n",
       " 65534,\n",
       " 65534,\n",
       " 8216,\n",
       " 8217,\n",
       " 8220,\n",
       " 8221,\n",
       " 8226,\n",
       " 8211,\n",
       " 8212,\n",
       " 732,\n",
       " 8482,\n",
       " 353,\n",
       " 8250,\n",
       " 339,\n",
       " 65534,\n",
       " 382,\n",
       " 376,\n",
       " 160,\n",
       " 161,\n",
       " 162,\n",
       " 163,\n",
       " 164,\n",
       " 165,\n",
       " 166,\n",
       " 167,\n",
       " 168,\n",
       " 169,\n",
       " 170,\n",
       " 171,\n",
       " 172,\n",
       " 173,\n",
       " 174,\n",
       " 175,\n",
       " 176,\n",
       " 177,\n",
       " 178,\n",
       " 179,\n",
       " 180,\n",
       " 181,\n",
       " 182,\n",
       " 183,\n",
       " 184,\n",
       " 185,\n",
       " 186,\n",
       " 187,\n",
       " 188,\n",
       " 189,\n",
       " 190,\n",
       " 191,\n",
       " 192,\n",
       " 193,\n",
       " 194,\n",
       " 195,\n",
       " 196,\n",
       " 197,\n",
       " 198,\n",
       " 199,\n",
       " 200,\n",
       " 201,\n",
       " 202,\n",
       " 203,\n",
       " 204,\n",
       " 205,\n",
       " 206,\n",
       " 207,\n",
       " 208,\n",
       " 209,\n",
       " 210,\n",
       " 211,\n",
       " 212,\n",
       " 213,\n",
       " 214,\n",
       " 215,\n",
       " 216,\n",
       " 217,\n",
       " 218,\n",
       " 219,\n",
       " 220,\n",
       " 221,\n",
       " 222,\n",
       " 223,\n",
       " 224,\n",
       " 225,\n",
       " 226,\n",
       " 227,\n",
       " 228,\n",
       " 229,\n",
       " 230,\n",
       " 231,\n",
       " 232,\n",
       " 233,\n",
       " 234,\n",
       " 235,\n",
       " 236,\n",
       " 237,\n",
       " 238,\n",
       " 239,\n",
       " 240,\n",
       " 241,\n",
       " 242,\n",
       " 243,\n",
       " 244,\n",
       " 245,\n",
       " 246,\n",
       " 247,\n",
       " 248,\n",
       " 249,\n",
       " 250,\n",
       " 251,\n",
       " 252,\n",
       " 253,\n",
       " 254,\n",
       " 255]"
      ]
     },
     "execution_count": 39,
     "metadata": {},
     "output_type": "execute_result"
    }
   ],
   "source": [
    "[ord(c) for c in cp1252.decoding_table]"
   ]
  },
  {
   "cell_type": "code",
   "execution_count": 40,
   "metadata": {},
   "outputs": [
    {
     "data": {
      "text/plain": [
       "'€'"
      ]
     },
     "execution_count": 40,
     "metadata": {},
     "output_type": "execute_result"
    }
   ],
   "source": [
    "chr(8364)"
   ]
  },
  {
   "cell_type": "code",
   "execution_count": 41,
   "metadata": {},
   "outputs": [
    {
     "data": {
      "text/plain": [
       "'†'"
      ]
     },
     "execution_count": 41,
     "metadata": {},
     "output_type": "execute_result"
    }
   ],
   "source": [
    "chr(8224)"
   ]
  },
  {
   "cell_type": "code",
   "execution_count": 42,
   "metadata": {},
   "outputs": [
    {
     "ename": "IndexError",
     "evalue": "string index out of range",
     "output_type": "error",
     "traceback": [
      "\u001b[0;31m---------------------------------------------------------------------------\u001b[0m",
      "\u001b[0;31mIndexError\u001b[0m                                Traceback (most recent call last)",
      "\u001b[0;32m<ipython-input-42-376511512608>\u001b[0m in \u001b[0;36m<module>\u001b[0;34m\u001b[0m\n\u001b[0;32m----> 1\u001b[0;31m \u001b[0mord\u001b[0m\u001b[0;34m(\u001b[0m\u001b[0mcp1252\u001b[0m\u001b[0;34m.\u001b[0m\u001b[0mdecoding_table\u001b[0m\u001b[0;34m[\u001b[0m\u001b[0mord\u001b[0m\u001b[0;34m(\u001b[0m\u001b[0;34m'€'\u001b[0m\u001b[0;34m)\u001b[0m\u001b[0;34m]\u001b[0m\u001b[0;34m)\u001b[0m\u001b[0;34m\u001b[0m\u001b[0;34m\u001b[0m\u001b[0m\n\u001b[0m",
      "\u001b[0;31mIndexError\u001b[0m: string index out of range"
     ]
    }
   ],
   "source": [
    "ord(cp1252.decoding_table[ord('€')])"
   ]
  },
  {
   "cell_type": "code",
   "execution_count": 43,
   "metadata": {},
   "outputs": [
    {
     "name": "stdout",
     "output_type": "stream",
     "text": [
      "32  \n",
      "33 !\n",
      "34 \"\n",
      "35 #\n",
      "36 $\n",
      "37 %\n",
      "38 &\n",
      "39 '\n",
      "40 (\n",
      "41 )\n",
      "42 *\n",
      "43 +\n",
      "44 ,\n",
      "45 -\n",
      "46 .\n",
      "47 /\n",
      "48 0\n",
      "49 1\n",
      "50 2\n",
      "51 3\n",
      "52 4\n",
      "53 5\n",
      "54 6\n",
      "55 7\n",
      "56 8\n",
      "57 9\n",
      "58 :\n",
      "59 ;\n",
      "60 <\n",
      "61 =\n",
      "62 >\n",
      "63 ?\n",
      "64 @\n",
      "65 A\n",
      "66 B\n",
      "67 C\n",
      "68 D\n",
      "69 E\n",
      "70 F\n",
      "71 G\n",
      "72 H\n",
      "73 I\n",
      "74 J\n",
      "75 K\n",
      "76 L\n",
      "77 M\n",
      "78 N\n",
      "79 O\n",
      "80 P\n",
      "81 Q\n",
      "82 R\n",
      "83 S\n",
      "84 T\n",
      "85 U\n",
      "86 V\n",
      "87 W\n",
      "88 X\n",
      "89 Y\n",
      "90 Z\n",
      "91 [\n",
      "92 \\\n",
      "93 ]\n",
      "94 ^\n",
      "95 _\n",
      "96 `\n",
      "97 a\n",
      "98 b\n",
      "99 c\n",
      "100 d\n",
      "101 e\n",
      "102 f\n",
      "103 g\n",
      "104 h\n",
      "105 i\n",
      "106 j\n",
      "107 k\n",
      "108 l\n",
      "109 m\n",
      "110 n\n",
      "111 o\n",
      "112 p\n",
      "113 q\n",
      "114 r\n",
      "115 s\n",
      "116 t\n",
      "117 u\n",
      "118 v\n",
      "119 w\n",
      "120 x\n",
      "121 y\n",
      "122 z\n",
      "123 {\n",
      "124 |\n",
      "125 }\n",
      "126 ~\n",
      "127 \n",
      "128 €\n",
      "129 ￾\n",
      "130 ‚\n",
      "131 ƒ\n",
      "132 „\n",
      "133 …\n",
      "134 †\n",
      "135 ‡\n",
      "136 ˆ\n",
      "137 ‰\n",
      "138 Š\n",
      "139 ‹\n",
      "140 Œ\n",
      "141 ￾\n",
      "142 Ž\n",
      "143 ￾\n",
      "144 ￾\n",
      "145 ‘\n",
      "146 ’\n",
      "147 “\n",
      "148 ”\n",
      "149 •\n",
      "150 –\n",
      "151 —\n",
      "152 ˜\n",
      "153 ™\n",
      "154 š\n",
      "155 ›\n",
      "156 œ\n",
      "157 ￾\n",
      "158 ž\n",
      "159 Ÿ\n",
      "160  \n",
      "161 ¡\n",
      "162 ¢\n",
      "163 £\n",
      "164 ¤\n",
      "165 ¥\n",
      "166 ¦\n",
      "167 §\n",
      "168 ¨\n",
      "169 ©\n",
      "170 ª\n",
      "171 «\n",
      "172 ¬\n",
      "173 ­\n",
      "174 ®\n",
      "175 ¯\n",
      "176 °\n",
      "177 ±\n",
      "178 ²\n",
      "179 ³\n",
      "180 ´\n",
      "181 µ\n",
      "182 ¶\n",
      "183 ·\n",
      "184 ¸\n",
      "185 ¹\n",
      "186 º\n",
      "187 »\n",
      "188 ¼\n",
      "189 ½\n",
      "190 ¾\n",
      "191 ¿\n",
      "192 À\n",
      "193 Á\n",
      "194 Â\n",
      "195 Ã\n",
      "196 Ä\n",
      "197 Å\n",
      "198 Æ\n",
      "199 Ç\n",
      "200 È\n",
      "201 É\n",
      "202 Ê\n",
      "203 Ë\n",
      "204 Ì\n",
      "205 Í\n",
      "206 Î\n",
      "207 Ï\n",
      "208 Ð\n",
      "209 Ñ\n",
      "210 Ò\n",
      "211 Ó\n",
      "212 Ô\n",
      "213 Õ\n",
      "214 Ö\n",
      "215 ×\n",
      "216 Ø\n",
      "217 Ù\n",
      "218 Ú\n",
      "219 Û\n",
      "220 Ü\n",
      "221 Ý\n",
      "222 Þ\n",
      "223 ß\n",
      "224 à\n",
      "225 á\n",
      "226 â\n",
      "227 ã\n",
      "228 ä\n",
      "229 å\n",
      "230 æ\n",
      "231 ç\n",
      "232 è\n",
      "233 é\n",
      "234 ê\n",
      "235 ë\n",
      "236 ì\n",
      "237 í\n",
      "238 î\n",
      "239 ï\n",
      "240 ð\n",
      "241 ñ\n",
      "242 ò\n",
      "243 ó\n",
      "244 ô\n",
      "245 õ\n",
      "246 ö\n",
      "247 ÷\n",
      "248 ø\n",
      "249 ù\n",
      "250 ú\n",
      "251 û\n",
      "252 ü\n",
      "253 ý\n",
      "254 þ\n"
     ]
    }
   ],
   "source": [
    "for o in range(32, 255):\n",
    "    print(o, cp1252.decoding_table[o])"
   ]
  }
 ],
 "metadata": {
  "kernelspec": {
   "display_name": "Python 3",
   "language": "python",
   "name": "python3"
  },
  "language_info": {
   "codemirror_mode": {
    "name": "ipython",
    "version": 3
   },
   "file_extension": ".py",
   "mimetype": "text/x-python",
   "name": "python",
   "nbconvert_exporter": "python",
   "pygments_lexer": "ipython3",
   "version": "3.7.7"
  },
  "toc": {
   "base_numbering": 1,
   "nav_menu": {},
   "number_sections": true,
   "sideBar": true,
   "skip_h1_title": false,
   "title_cell": "Table of Contents",
   "title_sidebar": "Contents",
   "toc_cell": false,
   "toc_position": {},
   "toc_section_display": true,
   "toc_window_display": false
  }
 },
 "nbformat": 4,
 "nbformat_minor": 2
}
