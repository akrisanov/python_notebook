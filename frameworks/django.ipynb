{
 "cells": [
  {
   "cell_type": "markdown",
   "metadata": {},
   "source": [
    "# Django"
   ]
  },
  {
   "cell_type": "markdown",
   "metadata": {},
   "source": [
    "## Shell"
   ]
  },
  {
   "cell_type": "markdown",
   "metadata": {},
   "source": [
    "### Performing raw SQL queries\n",
    "\n",
    "[Documentation](docs.djangoproject.com/en/2.2/topics/db/sql/)"
   ]
  },
  {
   "cell_type": "code",
   "execution_count": null,
   "metadata": {},
   "outputs": [],
   "source": [
    "from django.db import connection\n",
    "\n",
    "cursor = connection.cursor()\n",
    "cursor.execute('SELECT * FROM django_sessions')"
   ]
  },
  {
   "cell_type": "markdown",
   "metadata": {},
   "source": [
    "## Model"
   ]
  },
  {
   "cell_type": "markdown",
   "metadata": {},
   "source": [
    "### Overriding model methods\n",
    "\n",
    "[Model instance reference](https://docs.djangoproject.com/en/2.2/ref/models/instances/)\n",
    "\n",
    "[Overriding predefined model methods](https://docs.djangoproject.com/en/2.2/topics/db/models/#overriding-model-methods)"
   ]
  },
  {
   "cell_type": "markdown",
   "metadata": {},
   "source": [
    "### Using signals to perform actions on model delete \n",
    "\n",
    "[Signals](https://docs.djangoproject.com/en/2.2/topics/signals/)\n",
    "\n",
    "[Django Anti-Patterns: Signals](https://lincolnloop.com/blog/django-anti-patterns-signals/)\n",
    "\n",
    "[When to Use Django Signals](https://seddonym.me/2018/05/04/django-signals/)"
   ]
  },
  {
   "cell_type": "code",
   "execution_count": null,
   "metadata": {},
   "outputs": [],
   "source": [
    "@receiver(post_delete, sender=Model)\n",
    "def model_delete(sender, instance, **kwargs):\n",
    "    \"\"\"NOTE: use this approach as the last available option\"\"\"\n",
    "    pass"
   ]
  },
  {
   "cell_type": "code",
   "execution_count": null,
   "metadata": {},
   "outputs": [],
   "source": []
  }
 ],
 "metadata": {
  "kernelspec": {
   "display_name": "Python 3",
   "language": "python",
   "name": "python3"
  },
  "language_info": {
   "codemirror_mode": {
    "name": "ipython",
    "version": 3
   },
   "file_extension": ".py",
   "mimetype": "text/x-python",
   "name": "python",
   "nbconvert_exporter": "python",
   "pygments_lexer": "ipython3",
   "version": "3.7.7"
  }
 },
 "nbformat": 4,
 "nbformat_minor": 2
}
