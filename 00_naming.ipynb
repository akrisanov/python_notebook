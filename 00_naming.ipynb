{
 "cells": [
  {
   "cell_type": "markdown",
   "metadata": {},
   "source": [
    "## PEP8\n",
    "\n",
    "* Module names: `all_lower_case`\n",
    "* Class names and exception names: `CamelCase`\n",
    "* Global and locals: `all_lower_case`\n",
    "* Functions and methods: `all_lower_case`\n",
    "* Constants: `ALL_CAPS`\n",
    "\n",
    "## \"Public\" And \"Private\"\n",
    "\n",
    "* \"Public\" attribute or variable (intended to be used by the importer of this module or user of this class): `regular_lower_case_name`\n",
    "* \"Private\" attribute or variable (internal use by the module or class): `_name_starts_with_single_underscore`\n",
    "* \"Private\" attribute or variable that shouldn't be subclassed: `__name_starts_with_double_underscore`\n",
    "* \"Magic\" attribute (_use existing ones, try to don't create new_): `__double_underscores__`"
   ]
  },
  {
   "cell_type": "code",
   "execution_count": null,
   "metadata": {},
   "outputs": [],
   "source": []
  }
 ],
 "metadata": {
  "kernelspec": {
   "display_name": "Python 3",
   "language": "python",
   "name": "python3"
  },
  "language_info": {
   "codemirror_mode": {
    "name": "ipython",
    "version": 3
   },
   "file_extension": ".py",
   "mimetype": "text/x-python",
   "name": "python",
   "nbconvert_exporter": "python",
   "pygments_lexer": "ipython3",
   "version": "3.7.7"
  }
 },
 "nbformat": 4,
 "nbformat_minor": 2
}
