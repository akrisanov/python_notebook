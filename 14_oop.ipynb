{
 "cells": [
  {
   "cell_type": "markdown",
   "metadata": {},
   "source": [
    "_An object is a unit of data_ (having one or more attributes), of a particular _class_ or _type_, with associated functionality (methods).\n",
    "\n",
    "* _class_ – a blueprint for an instance\n",
    "* _instance_ – a constructed _object_ of the class\n",
    "* _attribute_ – any object value\n",
    "* _method_ – a \"callable attribute\" defined in the class. In other words, it is a function that is stored as a class attribute.\n",
    "\n",
    "## Everything In Python Is An Object\n",
    "\n",
    "Everything in Python is an object, and almost everything has attributes and methods. All functions have a built-in attribute `__doc__`, which returns the doc string defined in the function's source code. The `sys` module is an object which has (among other things) an attribute called `path`. And so forth.\n",
    "\n",
    "P.S. In old versions of Python the concepts of \"class\" and \"type\" are not related. `type(obj)` returns confusing `<type 'instance'>` value; we have to call `obj.__class__` when we need to know the object class.\n",
    "\n",
    "[The Inside Story on New-Style Classes](http://python-history.blogspot.com/2010/06/inside-story-on-new-style-classes.html)"
   ]
  },
  {
   "cell_type": "code",
   "execution_count": 1,
   "metadata": {},
   "outputs": [
    {
     "data": {
      "text/plain": [
       "NoneType"
      ]
     },
     "execution_count": 1,
     "metadata": {},
     "output_type": "execute_result"
    }
   ],
   "source": [
    "type(None)"
   ]
  },
  {
   "cell_type": "code",
   "execution_count": 2,
   "metadata": {},
   "outputs": [
    {
     "data": {
      "text/plain": [
       "type"
      ]
     },
     "execution_count": 2,
     "metadata": {},
     "output_type": "execute_result"
    }
   ],
   "source": [
    "type(type('omg!'))"
   ]
  },
  {
   "cell_type": "code",
   "execution_count": 3,
   "metadata": {},
   "outputs": [
    {
     "data": {
      "text/plain": [
       "['__abs__',\n",
       " '__add__',\n",
       " '__and__',\n",
       " '__bool__',\n",
       " '__ceil__',\n",
       " '__class__',\n",
       " '__delattr__',\n",
       " '__dir__',\n",
       " '__divmod__',\n",
       " '__doc__',\n",
       " '__eq__',\n",
       " '__float__',\n",
       " '__floor__',\n",
       " '__floordiv__',\n",
       " '__format__',\n",
       " '__ge__',\n",
       " '__getattribute__',\n",
       " '__getnewargs__',\n",
       " '__gt__',\n",
       " '__hash__',\n",
       " '__index__',\n",
       " '__init__',\n",
       " '__init_subclass__',\n",
       " '__int__',\n",
       " '__invert__',\n",
       " '__le__',\n",
       " '__lshift__',\n",
       " '__lt__',\n",
       " '__mod__',\n",
       " '__mul__',\n",
       " '__ne__',\n",
       " '__neg__',\n",
       " '__new__',\n",
       " '__or__',\n",
       " '__pos__',\n",
       " '__pow__',\n",
       " '__radd__',\n",
       " '__rand__',\n",
       " '__rdivmod__',\n",
       " '__reduce__',\n",
       " '__reduce_ex__',\n",
       " '__repr__',\n",
       " '__rfloordiv__',\n",
       " '__rlshift__',\n",
       " '__rmod__',\n",
       " '__rmul__',\n",
       " '__ror__',\n",
       " '__round__',\n",
       " '__rpow__',\n",
       " '__rrshift__',\n",
       " '__rshift__',\n",
       " '__rsub__',\n",
       " '__rtruediv__',\n",
       " '__rxor__',\n",
       " '__setattr__',\n",
       " '__sizeof__',\n",
       " '__str__',\n",
       " '__sub__',\n",
       " '__subclasshook__',\n",
       " '__truediv__',\n",
       " '__trunc__',\n",
       " '__xor__',\n",
       " 'bit_length',\n",
       " 'conjugate',\n",
       " 'denominator',\n",
       " 'from_bytes',\n",
       " 'imag',\n",
       " 'numerator',\n",
       " 'real',\n",
       " 'to_bytes']"
      ]
     },
     "execution_count": 3,
     "metadata": {},
     "output_type": "execute_result"
    }
   ],
   "source": [
    "dir(5)"
   ]
  },
  {
   "cell_type": "markdown",
   "metadata": {},
   "source": [
    "## Defining A Class"
   ]
  },
  {
   "cell_type": "code",
   "execution_count": 10,
   "metadata": {},
   "outputs": [],
   "source": [
    "class Dummy:\n",
    "    pass"
   ]
  },
  {
   "cell_type": "code",
   "execution_count": 11,
   "metadata": {},
   "outputs": [
    {
     "data": {
      "text/plain": [
       "object"
      ]
     },
     "execution_count": 11,
     "metadata": {},
     "output_type": "execute_result"
    }
   ],
   "source": [
    "Dummy.__base__"
   ]
  },
  {
   "cell_type": "code",
   "execution_count": 12,
   "metadata": {},
   "outputs": [
    {
     "name": "stdout",
     "output_type": "stream",
     "text": [
      "<__main__.Dummy object at 0x1044bcf28>\n"
     ]
    }
   ],
   "source": [
    "dummy_obj = Dummy()\n",
    "print(dummy_obj)"
   ]
  },
  {
   "cell_type": "markdown",
   "metadata": {},
   "source": [
    "## Defining A Class Attribute"
   ]
  },
  {
   "cell_type": "code",
   "execution_count": 13,
   "metadata": {},
   "outputs": [
    {
     "name": "stdout",
     "output_type": "stream",
     "text": [
      "Hello, World!\n"
     ]
    }
   ],
   "source": [
    "class Dummy:\n",
    "    message = 'Hello, World!'\n",
    "    \n",
    "dummy_obj = Dummy()\n",
    "print(dummy_obj.message)"
   ]
  },
  {
   "cell_type": "code",
   "execution_count": 20,
   "metadata": {},
   "outputs": [
    {
     "data": {
      "text/plain": [
       "1"
      ]
     },
     "execution_count": 20,
     "metadata": {},
     "output_type": "execute_result"
    }
   ],
   "source": [
    "class Calc:\n",
    "    def add(self, value):\n",
    "        self.result = 0 + value\n",
    "        \n",
    "calc = Calc()\n",
    "calc.add(1)\n",
    "calc.result"
   ]
  },
  {
   "cell_type": "markdown",
   "metadata": {},
   "source": [
    "Python doesn't implement data hiding as other languages (e.g. Ruby) – **everything is open**.\n",
    "\n",
    "## Getters & Setters\n",
    "\n",
    "* [DataCamp: Property vs. Getters and Setters in Python](https://www.datacamp.com/community/tutorials/property-getters-setters)\n",
    "* [SoF: What's the pythonic way to use getters and setters?](https://stackoverflow.com/questions/2627002/whats-the-pythonic-way-to-use-getters-and-setters)\n",
    "* [Python Anti-Patterns: Implementing Java-style getters and setters](https://docs.quantifiedcode.com/python-anti-patterns/correctness/implementing_java-style_getters_and_setters.html)\n",
    "\n",
    "## Class Attributes"
   ]
  },
  {
   "cell_type": "code",
   "execution_count": 34,
   "metadata": {},
   "outputs": [
    {
     "name": "stdout",
     "output_type": "stream",
     "text": [
      "square | square\n",
      "\n",
      "not a square | square\n",
      "\n",
      "square | square\n",
      "\n",
      "global var | square | square\n"
     ]
    }
   ],
   "source": [
    "name = 'global var'\n",
    "\n",
    "class Square:\n",
    "    name = 'square'\n",
    "    \n",
    "    def title(self):\n",
    "        return Square.name\n",
    "\n",
    "s1, s2 = Square(), Square()\n",
    "\n",
    "print(s1.name, '|', s2.name)\n",
    "print()\n",
    "\n",
    "s1.name = 'not a square'\n",
    "print(s1.name, '|', s2.name)\n",
    "print()\n",
    "\n",
    "del s1.name\n",
    "print(s1.name, '|', s2.name)\n",
    "print()\n",
    "\n",
    "print(name, '|', Square.name, '|', s1.title())"
   ]
  },
  {
   "cell_type": "markdown",
   "metadata": {},
   "source": [
    "## Instance Methods"
   ]
  },
  {
   "cell_type": "code",
   "execution_count": 2,
   "metadata": {},
   "outputs": [],
   "source": [
    "class Greeter:\n",
    "    def say(self):\n",
    "        print(self) # only for the demonstration purposes :)\n",
    "        print('Hi there!')"
   ]
  },
  {
   "cell_type": "code",
   "execution_count": 5,
   "metadata": {},
   "outputs": [
    {
     "data": {
      "text/plain": [
       "<function __main__.Greeter.say(self)>"
      ]
     },
     "execution_count": 5,
     "metadata": {},
     "output_type": "execute_result"
    }
   ],
   "source": [
    "# Initially, a method is not tied to any particular object.\n",
    "Greeter.say"
   ]
  },
  {
   "cell_type": "code",
   "execution_count": 6,
   "metadata": {},
   "outputs": [
    {
     "data": {
      "text/plain": [
       "<__main__.Greeter at 0x10d927668>"
      ]
     },
     "execution_count": 6,
     "metadata": {},
     "output_type": "execute_result"
    }
   ],
   "source": [
    "gf = Greeter().say\n",
    "gf.__self__"
   ]
  },
  {
   "cell_type": "code",
   "execution_count": 7,
   "metadata": {},
   "outputs": [
    {
     "data": {
      "text/plain": [
       "True"
      ]
     },
     "execution_count": 7,
     "metadata": {},
     "output_type": "execute_result"
    }
   ],
   "source": [
    "gf == gf.__self__.say"
   ]
  },
  {
   "cell_type": "code",
   "execution_count": 8,
   "metadata": {},
   "outputs": [
    {
     "data": {
      "text/plain": [
       "<bound method Greeter.say of <__main__.Greeter object at 0x10d97d898>>"
      ]
     },
     "execution_count": 8,
     "metadata": {},
     "output_type": "execute_result"
    }
   ],
   "source": [
    "greeter = Greeter()\n",
    "greeter.say"
   ]
  },
  {
   "cell_type": "markdown",
   "metadata": {},
   "source": [
    "⚠️Python instantiates a bound method for our `say` function. Bound methods are objects too, and creating them has a CPU and memory cost."
   ]
  },
  {
   "cell_type": "code",
   "execution_count": 9,
   "metadata": {},
   "outputs": [
    {
     "name": "stdout",
     "output_type": "stream",
     "text": [
      "<__main__.Greeter object at 0x10d97d898>\n",
      "Hi there!\n"
     ]
    }
   ],
   "source": [
    "greeter.say()"
   ]
  },
  {
   "cell_type": "markdown",
   "metadata": {},
   "source": [
    "Having `self` as a method argument is **required**. When we call `say()` on the instance `greeter` the instance implicitly passed as a first method argument."
   ]
  },
  {
   "cell_type": "code",
   "execution_count": 18,
   "metadata": {},
   "outputs": [
    {
     "name": "stdout",
     "output_type": "stream",
     "text": [
      "<__main__.Greeter object at 0x104496b38>\n"
     ]
    }
   ],
   "source": [
    "print(greeter)"
   ]
  },
  {
   "cell_type": "markdown",
   "metadata": {},
   "source": [
    "### `__init__`"
   ]
  },
  {
   "cell_type": "code",
   "execution_count": 24,
   "metadata": {},
   "outputs": [
    {
     "name": "stdout",
     "output_type": "stream",
     "text": [
      "Calling the constructor method\n"
     ]
    },
    {
     "data": {
      "text/plain": [
       "30"
      ]
     },
     "execution_count": 24,
     "metadata": {},
     "output_type": "execute_result"
    }
   ],
   "source": [
    "class Calc:\n",
    "    def __init__(self, result=0):\n",
    "        print('Calling the constructor method')\n",
    "        self.result = result\n",
    "        \n",
    "    def add(self, value):\n",
    "        self.result += value\n",
    "\n",
    "calc = Calc(1)\n",
    "calc.add(10)\n",
    "calc.add(19)\n",
    "calc.result"
   ]
  },
  {
   "cell_type": "markdown",
   "metadata": {},
   "source": [
    "## Class Methods\n",
    "\n",
    "Instead of accepting a `self`, class methods take a `cls` parameter that points to the class (not the object instance) when the method is called. Class methods only have access to the `cls` argument and can’t modify instance state."
   ]
  },
  {
   "cell_type": "code",
   "execution_count": 27,
   "metadata": {},
   "outputs": [
    {
     "name": "stdout",
     "output_type": "stream",
     "text": [
      "0\n",
      "0\n"
     ]
    }
   ],
   "source": [
    "class Counter:\n",
    "    count = 0\n",
    "    \n",
    "    @classmethod\n",
    "    def get_count(cls):\n",
    "        return cls.count\n",
    "\n",
    "ctr = Counter()\n",
    "print(ctr.get_count())\n",
    "print(Counter.get_count())"
   ]
  },
  {
   "cell_type": "markdown",
   "metadata": {},
   "source": [
    "Class methods are principally useful for creating _factory methods_, which instantiate objects using a different signature than `__init__`."
   ]
  },
  {
   "cell_type": "code",
   "execution_count": 10,
   "metadata": {},
   "outputs": [
    {
     "data": {
      "text/plain": [
       "<__main__.Car at 0x10d987390>"
      ]
     },
     "execution_count": 10,
     "metadata": {},
     "output_type": "execute_result"
    }
   ],
   "source": [
    "class Car:\n",
    "    def __init__(self, model, color):\n",
    "        self.model = model\n",
    "        self.color = color\n",
    "        \n",
    "    @classmethod\n",
    "    def black_bmw(cls):\n",
    "        return cls('BMW', 'black')\n",
    "    \n",
    "Car.black_bmw()"
   ]
  },
  {
   "cell_type": "markdown",
   "metadata": {},
   "source": [
    "## object.attribute Lookup Hierarchy\n",
    "\n",
    "* The instance\n",
    "* The class\n",
    "* Any (parent) class from which this (child) class inherits"
   ]
  },
  {
   "cell_type": "markdown",
   "metadata": {},
   "source": [
    "## Polymorphism\n",
    "\n",
    "A simple example is objects having the same interface, but different implementation.\n",
    "\n",
    "[Duck typing](https://www.wikiwand.com/en/Duck_typing)\n",
    "\n",
    "```python\n",
    "len('string')              # 'string'.__len__()\n",
    "len((1, '2', None))        # (1, '2', None).__len__()\n",
    "len({'a': 'b', 'c': 'd'})  # {'a': 'b', 'c': 'd'}.__len__()\n",
    "```"
   ]
  },
  {
   "cell_type": "markdown",
   "metadata": {},
   "source": [
    "## Inheriting The Constructor"
   ]
  },
  {
   "cell_type": "code",
   "execution_count": 3,
   "metadata": {},
   "outputs": [
    {
     "name": "stdout",
     "output_type": "stream",
     "text": [
      "Alex\n",
      "Beagle\n"
     ]
    }
   ],
   "source": [
    "class Animal:\n",
    "    def __init__(self, name):\n",
    "        self.name = name\n",
    "        \n",
    "class Dog(Animal):\n",
    "    def __init__(self, name, breed):\n",
    "        super().__init__(name)\n",
    "        self.breed = breed\n",
    "        \n",
    "dog = Dog('Alex', 'Beagle')\n",
    "print(dog.name)\n",
    "print(dog.breed)"
   ]
  },
  {
   "cell_type": "markdown",
   "metadata": {},
   "source": [
    "## Subtyping Built-in Types\n",
    "\n",
    "[Don’t inherit Python built-in dict type](http://www.kr41.net/2016/03-23-dont_inherit_python_builtin_dict_type.html)"
   ]
  },
  {
   "cell_type": "code",
   "execution_count": 10,
   "metadata": {},
   "outputs": [
    {
     "name": "stdout",
     "output_type": "stream",
     "text": [
      "Setting value \"bar\" for key \"foo\"\n"
     ]
    }
   ],
   "source": [
    "class MyDict(dict):\n",
    "    def __setitem__(self, key, value):\n",
    "        print(f'Setting value \"{value}\" for key \"{key}\"')\n",
    "        super().__setitem__(key, value)\n",
    "        \n",
    "md = MyDict()\n",
    "md['foo'] = 'bar'"
   ]
  },
  {
   "cell_type": "markdown",
   "metadata": {},
   "source": [
    "## Multiple Inheritance\n",
    "\n",
    "Multiple inheritances are used in many places, particularly in code involving a _mixin pattern_. A _mixin_ is a class that inherits from two or more other classes, combining their features.\n",
    "\n",
    "## super()"
   ]
  },
  {
   "cell_type": "markdown",
   "metadata": {},
   "source": [
    "`super()` is actually a constructor and we instantiate a `super` object each time we call it. It takes either one or two arguments: the first argument is a class, and the second, optional argument is either a subclass or an instance of the first argument.\n",
    "\n",
    "The class method `mro()` returns the method resolution order used to resolve attributes — it defines how the next method to call is found via the tree of inheritance between classes. \n",
    "\n",
    "The `__getattribute__` method is called when an attribute of the `super()` object is retrieved, and it goes through the MRO list and returns the attribute from the first class it finds that has the `super` attribute."
   ]
  },
  {
   "cell_type": "code",
   "execution_count": 14,
   "metadata": {},
   "outputs": [],
   "source": [
    "class A:\n",
    "    num = 0\n",
    "    \n",
    "class B:\n",
    "    num = 1\n",
    "    \n",
    "class C(A, B):\n",
    "    foo = 'bar'"
   ]
  },
  {
   "cell_type": "code",
   "execution_count": 15,
   "metadata": {},
   "outputs": [
    {
     "data": {
      "text/plain": [
       "[__main__.C, __main__.A, __main__.B, object]"
      ]
     },
     "execution_count": 15,
     "metadata": {},
     "output_type": "execute_result"
    }
   ],
   "source": [
    "C.mro()"
   ]
  },
  {
   "cell_type": "code",
   "execution_count": 16,
   "metadata": {},
   "outputs": [
    {
     "data": {
      "text/plain": [
       "0"
      ]
     },
     "execution_count": 16,
     "metadata": {},
     "output_type": "execute_result"
    }
   ],
   "source": [
    "super(C, C()).num"
   ]
  },
  {
   "cell_type": "code",
   "execution_count": 17,
   "metadata": {},
   "outputs": [
    {
     "ename": "AttributeError",
     "evalue": "'super' object has no attribute 'foo'",
     "output_type": "error",
     "traceback": [
      "\u001b[0;31m---------------------------------------------------------------------------\u001b[0m",
      "\u001b[0;31mAttributeError\u001b[0m                            Traceback (most recent call last)",
      "\u001b[0;32m<ipython-input-17-d96987a7fa3d>\u001b[0m in \u001b[0;36m<module>\u001b[0;34m\u001b[0m\n\u001b[0;32m----> 1\u001b[0;31m \u001b[0msuper\u001b[0m\u001b[0;34m(\u001b[0m\u001b[0mC\u001b[0m\u001b[0;34m,\u001b[0m \u001b[0mC\u001b[0m\u001b[0;34m(\u001b[0m\u001b[0;34m)\u001b[0m\u001b[0;34m)\u001b[0m\u001b[0;34m.\u001b[0m\u001b[0mfoo\u001b[0m\u001b[0;34m\u001b[0m\u001b[0;34m\u001b[0m\u001b[0m\n\u001b[0m",
      "\u001b[0;31mAttributeError\u001b[0m: 'super' object has no attribute 'foo'"
     ]
    }
   ],
   "source": [
    "super(C, C()).foo"
   ]
  },
  {
   "cell_type": "code",
   "execution_count": 23,
   "metadata": {},
   "outputs": [],
   "source": [
    "super(C).__self__ # we can't use this unbound object to access class attributes"
   ]
  },
  {
   "cell_type": "code",
   "execution_count": 22,
   "metadata": {},
   "outputs": [
    {
     "data": {
      "text/plain": [
       "<__main__.C at 0x10da97cc0>"
      ]
     },
     "execution_count": 22,
     "metadata": {},
     "output_type": "execute_result"
    }
   ],
   "source": [
    "super(C, C()).__self__ # a bound object"
   ]
  },
  {
   "cell_type": "markdown",
   "metadata": {},
   "source": [
    "Unbound `super` objects are useful in some cases, e.g. check the descriptor protocol `__get__`.\n",
    "\n",
    "[Descriptor HowTo Guide](https://docs.python.org/3/howto/descriptor.html)"
   ]
  },
  {
   "cell_type": "markdown",
   "metadata": {},
   "source": [
    "## The Lookup Tree\n",
    "\n",
    "By default, Python does a depth-first search: `D-B-A-C`."
   ]
  },
  {
   "cell_type": "code",
   "execution_count": 11,
   "metadata": {},
   "outputs": [
    {
     "name": "stdout",
     "output_type": "stream",
     "text": [
      "Hi there!\n"
     ]
    }
   ],
   "source": [
    "class A:\n",
    "    def foo(self):\n",
    "        print('Hi there!')\n",
    "\n",
    "class B(A):\n",
    "    pass\n",
    "\n",
    "class C:\n",
    "    def foo(self):\n",
    "        pass\n",
    "    \n",
    "class D(B, C):\n",
    "    pass\n",
    "\n",
    "d = D()\n",
    "d.foo()"
   ]
  },
  {
   "cell_type": "code",
   "execution_count": 12,
   "metadata": {},
   "outputs": [
    {
     "data": {
      "text/plain": [
       "[__main__.D, __main__.B, __main__.A, __main__.C, object]"
      ]
     },
     "execution_count": 12,
     "metadata": {},
     "output_type": "execute_result"
    }
   ],
   "source": [
    "D.mro()"
   ]
  },
  {
   "cell_type": "markdown",
   "metadata": {},
   "source": [
    "### \"Diamond Shape\" Inheritance"
   ]
  },
  {
   "cell_type": "code",
   "execution_count": 13,
   "metadata": {},
   "outputs": [
    {
     "name": "stdout",
     "output_type": "stream",
     "text": [
      "Surprise!\n"
     ]
    }
   ],
   "source": [
    "class A:\n",
    "    def foo(self):\n",
    "        print('Not me!')\n",
    "\n",
    "class B(A):\n",
    "    pass\n",
    "\n",
    "class C(A):\n",
    "    def foo(self):\n",
    "        print('Surprise!')\n",
    "    \n",
    "class D(B, C):\n",
    "    pass\n",
    "\n",
    "d = D()\n",
    "d.foo()"
   ]
  },
  {
   "cell_type": "code",
   "execution_count": 14,
   "metadata": {},
   "outputs": [
    {
     "data": {
      "text/plain": [
       "[__main__.D, __main__.B, __main__.C, __main__.A, object]"
      ]
     },
     "execution_count": 14,
     "metadata": {},
     "output_type": "execute_result"
    }
   ],
   "source": [
    "D.mro()"
   ]
  },
  {
   "cell_type": "markdown",
   "metadata": {},
   "source": [
    "## Static Methods\n",
    "\n",
    "Require no argument and don't work with the class or instance (but still belong to the class code). _Static methods_ are generally used to create utility functions, because they don't depend on the state of the class and its objects.\n",
    "\n",
    "_Unfortunately, Python is not always able to detect for itself whether a method is static or not._ The reason for that is the language design."
   ]
  },
  {
   "cell_type": "code",
   "execution_count": 15,
   "metadata": {},
   "outputs": [
    {
     "name": "stdout",
     "output_type": "stream",
     "text": [
      "honk honk honk\n",
      "honk honk honk\n"
     ]
    }
   ],
   "source": [
    "class Auto:\n",
    "    @staticmethod\n",
    "    def honk():\n",
    "        print('honk honk honk')\n",
    "\n",
    "Auto.honk()\n",
    "# In fact, it's even possible to call static method on object\n",
    "a = Auto()\n",
    "a.honk()"
   ]
  },
  {
   "cell_type": "markdown",
   "metadata": {},
   "source": [
    "## Abstract Classes\n",
    "\n",
    "Abstract classes are especially handy we are providing interfaces that must be implemented by other developers."
   ]
  },
  {
   "cell_type": "code",
   "execution_count": 13,
   "metadata": {},
   "outputs": [],
   "source": [
    "# The simplest way to write an abstract method in Python\n",
    "class Car:\n",
    "    @staticmethod\n",
    "    def drive():\n",
    "        raise NotImplementedError"
   ]
  },
  {
   "cell_type": "markdown",
   "metadata": {},
   "source": [
    "This way of implementing abstract methods has a drawback: if we write a class that inherits from `Car` but forget to implement `drive()`, the error is raised **only if** we try to use that method at runtime.\n",
    "\n",
    "⚠️Check [abc — Abstract Base Classes](https://docs.python.org/3/library/abc.html) module!"
   ]
  },
  {
   "cell_type": "code",
   "execution_count": 16,
   "metadata": {},
   "outputs": [
    {
     "name": "stdout",
     "output_type": "stream",
     "text": [
      "Every dog has a breed.\n"
     ]
    }
   ],
   "source": [
    "from abc import ABC, abstractmethod\n",
    "\n",
    "class Dog(ABC):\n",
    "    @classmethod\n",
    "    @abstractmethod\n",
    "    def breed(cls):\n",
    "        print('Every dog has a breed.')\n",
    "        \n",
    "Dog.breed()"
   ]
  },
  {
   "cell_type": "code",
   "execution_count": 17,
   "metadata": {},
   "outputs": [
    {
     "ename": "TypeError",
     "evalue": "Can't instantiate abstract class Dog with abstract methods breed",
     "output_type": "error",
     "traceback": [
      "\u001b[0;31m---------------------------------------------------------------------------\u001b[0m",
      "\u001b[0;31mTypeError\u001b[0m                                 Traceback (most recent call last)",
      "\u001b[0;32m<ipython-input-17-c27d3bf8b4c5>\u001b[0m in \u001b[0;36m<module>\u001b[0;34m\u001b[0m\n\u001b[0;32m----> 1\u001b[0;31m \u001b[0md\u001b[0m \u001b[0;34m=\u001b[0m \u001b[0mDog\u001b[0m\u001b[0;34m(\u001b[0m\u001b[0;34m)\u001b[0m\u001b[0;34m\u001b[0m\u001b[0;34m\u001b[0m\u001b[0m\n\u001b[0m",
      "\u001b[0;31mTypeError\u001b[0m: Can't instantiate abstract class Dog with abstract methods breed"
     ]
    }
   ],
   "source": [
    "d = Dog()"
   ]
  },
  {
   "cell_type": "code",
   "execution_count": 18,
   "metadata": {},
   "outputs": [
    {
     "ename": "TypeError",
     "evalue": "Can't instantiate abstract class Beagle with abstract methods breed",
     "output_type": "error",
     "traceback": [
      "\u001b[0;31m---------------------------------------------------------------------------\u001b[0m",
      "\u001b[0;31mTypeError\u001b[0m                                 Traceback (most recent call last)",
      "\u001b[0;32m<ipython-input-18-099cf72f7991>\u001b[0m in \u001b[0;36m<module>\u001b[0;34m\u001b[0m\n\u001b[1;32m      2\u001b[0m     \u001b[0;32mpass\u001b[0m\u001b[0;34m\u001b[0m\u001b[0;34m\u001b[0m\u001b[0m\n\u001b[1;32m      3\u001b[0m \u001b[0;34m\u001b[0m\u001b[0m\n\u001b[0;32m----> 4\u001b[0;31m \u001b[0mb\u001b[0m \u001b[0;34m=\u001b[0m \u001b[0mBeagle\u001b[0m\u001b[0;34m(\u001b[0m\u001b[0;34m)\u001b[0m\u001b[0;34m\u001b[0m\u001b[0;34m\u001b[0m\u001b[0m\n\u001b[0m",
      "\u001b[0;31mTypeError\u001b[0m: Can't instantiate abstract class Beagle with abstract methods breed"
     ]
    }
   ],
   "source": [
    "class Beagle(Dog):\n",
    "    pass\n",
    "\n",
    "b = Beagle()"
   ]
  },
  {
   "cell_type": "code",
   "execution_count": 19,
   "metadata": {},
   "outputs": [
    {
     "name": "stdout",
     "output_type": "stream",
     "text": [
      "Every dog has a breed.\n",
      "Mine is beagle!\n"
     ]
    }
   ],
   "source": [
    "class Beagle(Dog):\n",
    "    def breed(cls):\n",
    "        super().breed()\n",
    "        print('Mine is beagle!')\n",
    "        \n",
    "b = Beagle()\n",
    "b.breed()"
   ]
  },
  {
   "cell_type": "markdown",
   "metadata": {},
   "source": [
    "⚠️When we implement the abstract method in the child class, there is nothing stopping us from extending the argument list. Also, it's possible to have some implementation _in_ abstract method and call it using `super()`. This mechanism is helpful when providing an interface to implement while also providing base code that might be useful to all inheriting classes."
   ]
  },
  {
   "cell_type": "markdown",
   "metadata": {},
   "source": [
    "## Additional Resources\n",
    "\n",
    "* [Composition over inheritance – Wikipedia](https://www.wikiwand.com/en/Composition_over_inheritance)\n",
    "* [SOLID – Wikipedia](https://www.wikiwand.com/en/SOLID)"
   ]
  },
  {
   "cell_type": "markdown",
   "metadata": {},
   "source": [
    "## Implementing Core Syntax"
   ]
  },
  {
   "cell_type": "code",
   "execution_count": 20,
   "metadata": {},
   "outputs": [
    {
     "name": "stdout",
     "output_type": "stream",
     "text": [
      "My custom string is \"Hello, World!\"\n"
     ]
    }
   ],
   "source": [
    "class String:\n",
    "    def __init__(self, value):\n",
    "        self.value = value\n",
    "        \n",
    "    def __add__(self, other_string):\n",
    "        return String(f'{self.value}{other_string.value}')\n",
    "    \n",
    "    def __repr__(self):\n",
    "        return f'My custom string is \"{self.value}\"'\n",
    "    \n",
    "s1 = String('Hello, ')\n",
    "s2 = String('World!')\n",
    "print(s1 + s2)"
   ]
  },
  {
   "cell_type": "markdown",
   "metadata": {},
   "source": [
    "### Core Syntax Resolution\n",
    "\n",
    "* `obj1 in obj2` <- `obj2.__contains__(obj1)`\n",
    "* `obj1 == obj2` <- `obj1.__eq__(obj2)`\n",
    "* `obj[1]` <- `obj.__getitem__(1)`\n",
    "* `obj[1:3]` <- `obj.__getslice__(1, 3)`\n",
    "* `len(obj)` <- `obj.__len__()`\n",
    "* `print(obj)` <- `obj.__repr__()`"
   ]
  },
  {
   "cell_type": "markdown",
   "metadata": {},
   "source": [
    "## Attribute Encapsulation"
   ]
  },
  {
   "cell_type": "code",
   "execution_count": 22,
   "metadata": {},
   "outputs": [
    {
     "name": "stdout",
     "output_type": "stream",
     "text": [
      "bar happens\n"
     ]
    }
   ],
   "source": [
    "class MyClass:\n",
    "    pass\n",
    "\n",
    "mobj = MyClass()\n",
    "mobj.foo = 'bar'\n",
    "mobj.magic = 'happens'\n",
    "\n",
    "print(mobj.foo, mobj.magic)"
   ]
  },
  {
   "cell_type": "code",
   "execution_count": 25,
   "metadata": {},
   "outputs": [
    {
     "name": "stdout",
     "output_type": "stream",
     "text": [
      "Getting the value attribute\n",
      "1\n",
      "Setting new value for the value attribute\n",
      "Deleting the value attribute\n",
      "Getting the value attribute\n",
      "None\n"
     ]
    }
   ],
   "source": [
    "class MyClass:\n",
    "    def __init__(self, value):\n",
    "        self._val = value\n",
    "    \n",
    "    @property\n",
    "    def value(self):\n",
    "        print('Getting the value attribute')\n",
    "        return self._val\n",
    "    \n",
    "    @value.setter\n",
    "    def value(self, new_value):\n",
    "        print('Setting new value for the value attribute')\n",
    "        self._val = new_value\n",
    "        \n",
    "    @value.deleter\n",
    "    def value(self):\n",
    "        print('Deleting the value attribute')\n",
    "        self._val = None\n",
    "        \n",
    "mobj = MyClass(1)\n",
    "print(mobj.value)\n",
    "mobj.value = 2\n",
    "del mobj.value\n",
    "print(mobj.value)"
   ]
  },
  {
   "cell_type": "markdown",
   "metadata": {},
   "source": [
    "### `@property` additional notes\n",
    "\n",
    "* `@property` should not encapsulate _expensive_ operations, because attribute setting looks _cheap_.\n",
    "* `@property` controls attribute that are expected, but can't control attributes that are unexpected.\n",
    "* `__slots__` can define allowable attributes\n",
    "    * Saves memory by defining attributes ahead of time\n",
    "    * Should not be used to limit attributes – un-Pythonic!"
   ]
  },
  {
   "cell_type": "code",
   "execution_count": null,
   "metadata": {},
   "outputs": [],
   "source": []
  }
 ],
 "metadata": {
  "kernelspec": {
   "display_name": "Python 3",
   "language": "python",
   "name": "python3"
  },
  "language_info": {
   "codemirror_mode": {
    "name": "ipython",
    "version": 3
   },
   "file_extension": ".py",
   "mimetype": "text/x-python",
   "name": "python",
   "nbconvert_exporter": "python",
   "pygments_lexer": "ipython3",
   "version": "3.7.3"
  }
 },
 "nbformat": 4,
 "nbformat_minor": 2
}
