{
 "cells": [
  {
   "cell_type": "markdown",
   "metadata": {},
   "source": [
    "# Context Managers"
   ]
  },
  {
   "cell_type": "markdown",
   "metadata": {},
   "source": [
    "Some objects need to clean up resources when done. Examples:\n",
    "* `File` object needs to `close()` call\n",
    "* A network connection may need to close\n",
    "* A data-intensive operation may need to `del` the data\n",
    "\n",
    "We may think about that in a context of following pattern:\n",
    "\n",
    "```python\n",
    "r = acquire_resource()\n",
    "try:\n",
    "    do_something(r)\n",
    "finally:\n",
    "    release_resource(r)\n",
    "```\n",
    "\n",
    "`__with__` provides a block that \"cleans up\" when exited. It can handle exceptions that occur within the block and also execute code when entered.\n",
    "\n",
    "\n",
    "```python\n",
    "with acquire_resource() as r:\n",
    "    do_something(r)\n",
    "```"
   ]
  },
  {
   "cell_type": "markdown",
   "metadata": {},
   "source": [
    "## Context Manager Protocol"
   ]
  },
  {
   "cell_type": "code",
   "execution_count": 1,
   "metadata": {},
   "outputs": [
    {
     "name": "stdout",
     "output_type": "stream",
     "text": [
      "Entered \"with\" :)\n",
      "Hi from 4535246480 instance!\n",
      "Error type: None\n",
      "Error value: None\n",
      "Error traceback: None\n"
     ]
    }
   ],
   "source": [
    "class MyClass:\n",
    "    def __enter__(self):\n",
    "        print('Entered \"with\" :)')\n",
    "        return self\n",
    "        \n",
    "    def __exit__(self, type, value, traceback):\n",
    "        print(f'Error type: {type}')\n",
    "        print(f'Error value: {value}')\n",
    "        print(f'Error traceback: {traceback}')\n",
    "        \n",
    "    def hi(self):\n",
    "        print(f'Hi from {id(self)} instance!')\n",
    "        \n",
    "with MyClass() as mobj:\n",
    "    mobj.hi()"
   ]
  },
  {
   "cell_type": "code",
   "execution_count": 2,
   "metadata": {},
   "outputs": [
    {
     "name": "stdout",
     "output_type": "stream",
     "text": [
      "Entered \"with\" :)\n",
      "Hi from 4535244880 instance!\n",
      "Error type: <class 'ZeroDivisionError'>\n",
      "Error value: division by zero\n",
      "Error traceback: <traceback object at 0x10e52ba50>\n"
     ]
    },
    {
     "ename": "ZeroDivisionError",
     "evalue": "division by zero",
     "output_type": "error",
     "traceback": [
      "\u001b[0;31m---------------------------------------------------------------------------\u001b[0m",
      "\u001b[0;31mZeroDivisionError\u001b[0m                         Traceback (most recent call last)",
      "\u001b[0;32m<ipython-input-2-4e5ef23ce77d>\u001b[0m in \u001b[0;36m<module>\u001b[0;34m\u001b[0m\n\u001b[1;32m      1\u001b[0m \u001b[0;32mwith\u001b[0m \u001b[0mMyClass\u001b[0m\u001b[0;34m(\u001b[0m\u001b[0;34m)\u001b[0m \u001b[0;32mas\u001b[0m \u001b[0mmobj\u001b[0m\u001b[0;34m:\u001b[0m\u001b[0;34m\u001b[0m\u001b[0;34m\u001b[0m\u001b[0m\n\u001b[1;32m      2\u001b[0m     \u001b[0mmobj\u001b[0m\u001b[0;34m.\u001b[0m\u001b[0mhi\u001b[0m\u001b[0;34m(\u001b[0m\u001b[0;34m)\u001b[0m\u001b[0;34m\u001b[0m\u001b[0;34m\u001b[0m\u001b[0m\n\u001b[0;32m----> 3\u001b[0;31m     \u001b[0;36m1\u001b[0m\u001b[0;34m/\u001b[0m\u001b[0;36m0\u001b[0m\u001b[0;34m\u001b[0m\u001b[0;34m\u001b[0m\u001b[0m\n\u001b[0m",
      "\u001b[0;31mZeroDivisionError\u001b[0m: division by zero"
     ]
    }
   ],
   "source": [
    "with MyClass() as mobj:\n",
    "    mobj.hi()\n",
    "    1/0"
   ]
  },
  {
   "cell_type": "markdown",
   "metadata": {},
   "source": [
    "The steps which are taken by the `with` statement when an error is encountered:\n",
    "\n",
    "1. It passes the type, value and traceback of the error to the `__exit__` method\n",
    "2. It allows the `__exit__` method to handle the exception\n",
    "3. If `__exit__` returns `True` then the exception will be gracefully handled\n",
    "4. If anything other than `True` is returned by the `__exit__` method then the exception will be raised by the `with` statement\n",
    "\n",
    "\n",
    "Conceptually everything works like that:\n",
    "\n",
    "```python\n",
    "manager = acquire_resource()\n",
    "r = manager.__enter__()\n",
    "try:\n",
    "    do_something(r)\n",
    "finally:\n",
    "    exc_type, exc_value, tb = sys.exc_info()\n",
    "    suppress = manager.__exit__(exc_type, exc_value, tb)\n",
    "    if exc_value is not None and not suppress:\n",
    "        raise exc_value\n",
    "```"
   ]
  },
  {
   "cell_type": "markdown",
   "metadata": {},
   "source": [
    "## Multiple context managers\n",
    "\n",
    "`with` statement supports multiple arguments:\n",
    "\n",
    "```python\n",
    "with open('data.txt', 'r') as source, \\\n",
    "     open('data_copy.txt', 'w') as destination:\n",
    "    destination.write(source.read())\n",
    "```\n",
    "\n",
    "This code is equivalent to:\n",
    "\n",
    "```python\n",
    "with open('data.txt', 'r') as source:\n",
    "    with open('data_copy.txt', 'w') as destination:\n",
    "        destination.write(source.read())\n",
    "```\n",
    "\n",
    "_Therefore there is no need to write nested context managers._\n",
    "\n",
    "P.S. In the case of multiple (nested) context managers `__exit__` is called in reverse order."
   ]
  },
  {
   "cell_type": "markdown",
   "metadata": {},
   "source": [
    "## Example: opened\n",
    "\n",
    "⚠️ Just for educational purposes. Files in Python already support the context manager protocol."
   ]
  },
  {
   "cell_type": "code",
   "execution_count": 3,
   "metadata": {},
   "outputs": [],
   "source": [
    "from functools import partial"
   ]
  },
  {
   "cell_type": "code",
   "execution_count": 4,
   "metadata": {},
   "outputs": [],
   "source": [
    "class opened:\n",
    "    def __init__(self, path, *args, **kwargs):\n",
    "        self.opener = partial(open, path, *args, **kwargs)\n",
    "        \n",
    "    def __enter__(self):\n",
    "        self.handle = self.opener()\n",
    "        return self.handle\n",
    "    \n",
    "    def __exit__(self, *exc_info):\n",
    "        self.handle.close()\n",
    "        del self.handle"
   ]
  },
  {
   "cell_type": "code",
   "execution_count": 5,
   "metadata": {},
   "outputs": [],
   "source": [
    "with opened(\"tmp.txt\", mode=\"rt\") as handle:\n",
    "    pass"
   ]
  },
  {
   "cell_type": "markdown",
   "metadata": {},
   "source": [
    "## [tempfile — Generate temporary files and directories](https://docs.python.org/3/library/tempfile.html#module-tempfile)"
   ]
  },
  {
   "cell_type": "code",
   "execution_count": 6,
   "metadata": {},
   "outputs": [],
   "source": [
    "import tempfile"
   ]
  },
  {
   "cell_type": "code",
   "execution_count": 7,
   "metadata": {},
   "outputs": [
    {
     "name": "stdout",
     "output_type": "stream",
     "text": [
      "58\n"
     ]
    }
   ],
   "source": [
    "with tempfile.TemporaryFile() as handle:\n",
    "    path = handle.name\n",
    "    print(path)"
   ]
  },
  {
   "cell_type": "code",
   "execution_count": 8,
   "metadata": {},
   "outputs": [
    {
     "ename": "OSError",
     "evalue": "[Errno 9] Bad file descriptor",
     "output_type": "error",
     "traceback": [
      "\u001b[0;31m---------------------------------------------------------------------------\u001b[0m",
      "\u001b[0;31mOSError\u001b[0m                                   Traceback (most recent call last)",
      "\u001b[0;32m<ipython-input-8-cb2284328aa9>\u001b[0m in \u001b[0;36m<module>\u001b[0;34m\u001b[0m\n\u001b[0;32m----> 1\u001b[0;31m \u001b[0mopen\u001b[0m\u001b[0;34m(\u001b[0m\u001b[0mpath\u001b[0m\u001b[0;34m)\u001b[0m\u001b[0;34m\u001b[0m\u001b[0;34m\u001b[0m\u001b[0m\n\u001b[0m",
      "\u001b[0;31mOSError\u001b[0m: [Errno 9] Bad file descriptor"
     ]
    }
   ],
   "source": [
    "open(path)"
   ]
  },
  {
   "cell_type": "markdown",
   "metadata": {},
   "source": [
    "## Example: syncronized\n",
    "\n",
    "⚠️ Just for educational purposes."
   ]
  },
  {
   "cell_type": "code",
   "execution_count": 9,
   "metadata": {},
   "outputs": [],
   "source": [
    "import threading\n",
    "\n",
    "class synchronized:\n",
    "    def __init__(self):\n",
    "        self.lock = threading.Lock()\n",
    "        \n",
    "    def __enter__(self):\n",
    "        self.lock.acquire()\n",
    "        \n",
    "    def __exit__(self, *exc_info):\n",
    "        self.lock.release()"
   ]
  },
  {
   "cell_type": "code",
   "execution_count": 10,
   "metadata": {},
   "outputs": [],
   "source": [
    "with synchronized():\n",
    "    pass"
   ]
  },
  {
   "cell_type": "markdown",
   "metadata": {},
   "source": [
    "## Example: cd"
   ]
  },
  {
   "cell_type": "code",
   "execution_count": 11,
   "metadata": {},
   "outputs": [],
   "source": [
    "import os\n",
    "\n",
    "class cd:\n",
    "    def __init__(self, path):\n",
    "        self.path = path\n",
    "        \n",
    "    def __enter__(self):\n",
    "        self.saved_cwd = os.getcwd()\n",
    "        os.chdir(self.path)\n",
    "        \n",
    "    def __exit__(self, *exc_info):\n",
    "        os.chdir(self.saved_cwd)"
   ]
  },
  {
   "cell_type": "code",
   "execution_count": 12,
   "metadata": {},
   "outputs": [
    {
     "name": "stdout",
     "output_type": "stream",
     "text": [
      "/Users/akrisanov/Development/python_notebook\n"
     ]
    }
   ],
   "source": [
    "print(os.getcwd())"
   ]
  },
  {
   "cell_type": "code",
   "execution_count": 13,
   "metadata": {},
   "outputs": [
    {
     "name": "stdout",
     "output_type": "stream",
     "text": [
      "/private/tmp\n"
     ]
    }
   ],
   "source": [
    "with cd(\"/tmp\"):\n",
    "    print(os.getcwd())"
   ]
  },
  {
   "cell_type": "markdown",
   "metadata": {},
   "source": [
    "## [contextlib — Context Manager Utilities](https://pymotw.com/3/contextlib/)"
   ]
  },
  {
   "cell_type": "markdown",
   "metadata": {},
   "source": [
    "### contextlib.closing\n",
    "\n",
    "Return a context manager that closes thing upon completion of the block."
   ]
  },
  {
   "cell_type": "code",
   "execution_count": 14,
   "metadata": {},
   "outputs": [],
   "source": [
    "from contextlib import closing\n",
    "from urllib.request import urlopen\n",
    "\n",
    "url = \"https://ya.ru\"\n",
    "with closing(urlopen(url)) as page:\n",
    "    pass"
   ]
  },
  {
   "cell_type": "markdown",
   "metadata": {},
   "source": [
    "### contextlib.redirect_stdout\n",
    "\n",
    "Redirecting Output Streams."
   ]
  },
  {
   "cell_type": "code",
   "execution_count": 15,
   "metadata": {},
   "outputs": [],
   "source": [
    "from contextlib import redirect_stdout\n",
    "import io"
   ]
  },
  {
   "cell_type": "code",
   "execution_count": 16,
   "metadata": {},
   "outputs": [],
   "source": [
    "handle = io.StringIO()\n",
    "with redirect_stdout(handle):\n",
    "    print(\"Hello, World!\")"
   ]
  },
  {
   "cell_type": "code",
   "execution_count": 17,
   "metadata": {},
   "outputs": [
    {
     "data": {
      "text/plain": [
       "'Hello, World!\\n'"
      ]
     },
     "execution_count": 17,
     "metadata": {},
     "output_type": "execute_result"
    }
   ],
   "source": [
    "handle.getvalue()"
   ]
  },
  {
   "cell_type": "markdown",
   "metadata": {},
   "source": [
    "### contextlib.suppress"
   ]
  },
  {
   "cell_type": "code",
   "execution_count": 18,
   "metadata": {},
   "outputs": [],
   "source": [
    "from contextlib import suppress\n",
    "with suppress(FileNotFoundError):\n",
    "    os.remove(\"abcd.txt\")"
   ]
  },
  {
   "cell_type": "markdown",
   "metadata": {},
   "source": [
    "Context manager implementation:"
   ]
  },
  {
   "cell_type": "code",
   "execution_count": 19,
   "metadata": {},
   "outputs": [],
   "source": [
    "class suppress:\n",
    "    def __init__(self, *suppressed):\n",
    "        self.suppressed = suppressed\n",
    "        \n",
    "    def __enter__(self):\n",
    "        pass\n",
    "    \n",
    "    def __exit__(self, exc_type, exc_value, tb):\n",
    "        return (exc_type is not None and issubclass(exc_type, suppressed))"
   ]
  },
  {
   "cell_type": "markdown",
   "metadata": {},
   "source": [
    "### contextlib.ContextDecorator\n",
    "\n",
    "The class `ContextDecorator` adds support to regular context manager classes to let them be used as function decorators as well as context managers.\n",
    "\n",
    "Example:\n",
    "\n",
    "```python\n",
    "def f():\n",
    "    with context():\n",
    "        # ...\n",
    "        \n",
    "        \n",
    "# vs\n",
    "\n",
    "@context\n",
    "def f():\n",
    "    # ...\n",
    "```"
   ]
  },
  {
   "cell_type": "markdown",
   "metadata": {},
   "source": [
    "### @contextlib.contextmanager\n",
    "\n",
    "The `contextmanager` decorator should be used on a generator function. The `__enter__` and `__exit__` methods will be dynamically implemented based on the code that wraps the `yield` statement of the generator."
   ]
  },
  {
   "cell_type": "code",
   "execution_count": 20,
   "metadata": {},
   "outputs": [],
   "source": [
    "import contextlib\n",
    "\n",
    "@contextlib.contextmanager\n",
    "def my_context():\n",
    "    print('do something first')\n",
    "    yield\n",
    "    print('do something else')"
   ]
  },
  {
   "cell_type": "code",
   "execution_count": 21,
   "metadata": {},
   "outputs": [
    {
     "name": "stdout",
     "output_type": "stream",
     "text": [
      "do something first\n",
      "Hi!\n",
      "do something else\n"
     ]
    }
   ],
   "source": [
    "with my_context():\n",
    "    print('Hi!')"
   ]
  },
  {
   "cell_type": "markdown",
   "metadata": {},
   "source": [
    "### yielding a value to the caller"
   ]
  },
  {
   "cell_type": "code",
   "execution_count": 22,
   "metadata": {},
   "outputs": [
    {
     "name": "stdout",
     "output_type": "stream",
     "text": [
      "do something first\n",
      "42\n",
      "do something else\n"
     ]
    }
   ],
   "source": [
    "import contextlib\n",
    "\n",
    "@contextlib.contextmanager\n",
    "def my_context():\n",
    "    print('do something first')\n",
    "    try:\n",
    "        yield 42\n",
    "    finally:\n",
    "        print('do something else')\n",
    "    \n",
    "with my_context() as value:\n",
    "    print(value)"
   ]
  },
  {
   "cell_type": "markdown",
   "metadata": {},
   "source": [
    "### contextlib.ExitStack"
   ]
  },
  {
   "cell_type": "code",
   "execution_count": 23,
   "metadata": {},
   "outputs": [],
   "source": [
    "from contextlib import ExitStack"
   ]
  },
  {
   "cell_type": "code",
   "execution_count": 24,
   "metadata": {},
   "outputs": [],
   "source": [
    "def merge_logs(output_path, *logs):\n",
    "    with ExitStack() as stack:\n",
    "        handles = [stack.enter_context(open(log)) for log in logs]\n",
    "        output = open(output_path, \"wt\")\n",
    "        stack.enter_context(output)\n",
    "        merge(output, handles)"
   ]
  }
 ],
 "metadata": {
  "kernelspec": {
   "display_name": "Python 3",
   "language": "python",
   "name": "python3"
  },
  "language_info": {
   "codemirror_mode": {
    "name": "ipython",
    "version": 3
   },
   "file_extension": ".py",
   "mimetype": "text/x-python",
   "name": "python",
   "nbconvert_exporter": "python",
   "pygments_lexer": "ipython3",
   "version": "3.7.7"
  },
  "toc": {
   "base_numbering": 1,
   "nav_menu": {},
   "number_sections": true,
   "sideBar": true,
   "skip_h1_title": false,
   "title_cell": "Table of Contents",
   "title_sidebar": "Contents",
   "toc_cell": false,
   "toc_position": {},
   "toc_section_display": true,
   "toc_window_display": false
  }
 },
 "nbformat": 4,
 "nbformat_minor": 2
}
