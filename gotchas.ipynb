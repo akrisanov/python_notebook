{
 "cells": [
  {
   "cell_type": "markdown",
   "metadata": {},
   "source": [
    "## Data Types and Containers"
   ]
  },
  {
   "cell_type": "code",
   "execution_count": 5,
   "metadata": {},
   "outputs": [],
   "source": [
    "# ..."
   ]
  },
  {
   "cell_type": "markdown",
   "metadata": {},
   "source": [
    "## Functions"
   ]
  },
  {
   "cell_type": "markdown",
   "metadata": {},
   "source": [
    "### Mutable Default Arguments"
   ]
  },
  {
   "cell_type": "code",
   "execution_count": 2,
   "metadata": {},
   "outputs": [
    {
     "name": "stdout",
     "output_type": "stream",
     "text": [
      "list1 = [10, 'a']\n",
      "list2 = [123]\n",
      "list1 = [10, 'a']\n"
     ]
    }
   ],
   "source": [
    "def append_to(value, lst=[]):\n",
    "    lst.append(value)\n",
    "    return lst\n",
    "\n",
    "list1 = append_to(10)\n",
    "list2 = append_to(123, [])\n",
    "list3 = append_to('a')\n",
    "\n",
    "print(f\"list1 = {list1}\")\n",
    "print(f\"list2 = {list2}\")\n",
    "print(f\"list1 = {list3}\")"
   ]
  },
  {
   "cell_type": "markdown",
   "metadata": {},
   "source": [
    "A new list is created _once_ when the function is defined, and the same list is used in each successive call."
   ]
  },
  {
   "cell_type": "code",
   "execution_count": 4,
   "metadata": {},
   "outputs": [
    {
     "name": "stdout",
     "output_type": "stream",
     "text": [
      "list1 = [10]\n",
      "list2 = [123]\n",
      "list1 = ['a']\n"
     ]
    }
   ],
   "source": [
    "def append_to(value, lst=None):\n",
    "    if lst is None:\n",
    "        lst = []\n",
    "\n",
    "    lst.append(value)\n",
    "    return lst\n",
    "\n",
    "list1 = append_to(10)\n",
    "list2 = append_to(123, [])\n",
    "list3 = append_to('a')\n",
    "\n",
    "print(f\"list1 = {list1}\")\n",
    "print(f\"list2 = {list2}\")\n",
    "print(f\"list1 = {list3}\")"
   ]
  },
  {
   "cell_type": "markdown",
   "metadata": {},
   "source": [
    "This behavior can be useful for maintaining a state between function calls or even for caching."
   ]
  },
  {
   "cell_type": "code",
   "execution_count": null,
   "metadata": {},
   "outputs": [],
   "source": []
  }
 ],
 "metadata": {
  "kernelspec": {
   "display_name": "Python 3",
   "language": "python",
   "name": "python3"
  },
  "language_info": {
   "codemirror_mode": {
    "name": "ipython",
    "version": 3
   },
   "file_extension": ".py",
   "mimetype": "text/x-python",
   "name": "python",
   "nbconvert_exporter": "python",
   "pygments_lexer": "ipython3",
   "version": "3.7.5"
  }
 },
 "nbformat": 4,
 "nbformat_minor": 2
}
