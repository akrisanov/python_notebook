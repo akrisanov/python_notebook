{
 "cells": [
  {
   "cell_type": "markdown",
   "id": "cultural-phone",
   "metadata": {},
   "source": [
    "## Timeline\n",
    "\n",
    "- 1994 — Python 1.0\n",
    "- 2000 — Python 2, PEP\n",
    "- 2008 — Python 3\n",
    "- 2018 — Guido van Rossum resigns as Python leader"
   ]
  },
  {
   "cell_type": "markdown",
   "id": "powered-accreditation",
   "metadata": {},
   "source": [
    "## Python as a language\n",
    "\n",
    "- interpreted\n",
    "- dynamic, types are checked in runtime\n",
    "- read/write introspection\n",
    "- everything is an object\n",
    "- everything is a statement\n",
    "- OOP-oriented? Maybe\n",
    "- functional? No\n",
    "\n",
    "Pythod doesn't have a language specification. CPython is a reference implementation."
   ]
  },
  {
   "cell_type": "code",
   "execution_count": 1,
   "id": "caroline-ghost",
   "metadata": {},
   "outputs": [],
   "source": [
    "def add(a, b):\n",
    "    return a + b\n",
    "\n",
    "def f():\n",
    "    return add(1, \"92\", [])"
   ]
  },
  {
   "cell_type": "code",
   "execution_count": 2,
   "id": "labeled-assets",
   "metadata": {},
   "outputs": [],
   "source": [
    "f.__code__ = add.__code__  # replace bytecode"
   ]
  },
  {
   "cell_type": "code",
   "execution_count": 3,
   "id": "romance-prefix",
   "metadata": {},
   "outputs": [
    {
     "data": {
      "text/plain": [
       "92"
      ]
     },
     "execution_count": 3,
     "metadata": {},
     "output_type": "execute_result"
    }
   ],
   "source": [
    "f(62, 30)"
   ]
  },
  {
   "cell_type": "code",
   "execution_count": 4,
   "id": "arctic-blowing",
   "metadata": {},
   "outputs": [
    {
     "data": {
      "text/plain": [
       "int"
      ]
     },
     "execution_count": 4,
     "metadata": {},
     "output_type": "execute_result"
    }
   ],
   "source": [
    "type(92)"
   ]
  },
  {
   "cell_type": "code",
   "execution_count": 5,
   "id": "equivalent-cattle",
   "metadata": {},
   "outputs": [
    {
     "data": {
      "text/plain": [
       "type"
      ]
     },
     "execution_count": 5,
     "metadata": {},
     "output_type": "execute_result"
    }
   ],
   "source": [
    "type(type(92))"
   ]
  },
  {
   "cell_type": "markdown",
   "id": "decreased-outreach",
   "metadata": {},
   "source": [
    "_Python is slow for most CPU-bound tasks, but it is good enough for IO._"
   ]
  },
  {
   "cell_type": "markdown",
   "id": "front-opportunity",
   "metadata": {},
   "source": [
    "## Built-in Types\n",
    "\n",
    "https://docs.python.org/3/library/stdtypes.html"
   ]
  },
  {
   "cell_type": "markdown",
   "id": "promising-corps",
   "metadata": {},
   "source": [
    "`None` is a singleton. Use the `is` operator to compare a value with it:"
   ]
  },
  {
   "cell_type": "code",
   "execution_count": 6,
   "id": "initial-subdivision",
   "metadata": {},
   "outputs": [
    {
     "data": {
      "text/plain": [
       "True"
      ]
     },
     "execution_count": 6,
     "metadata": {},
     "output_type": "execute_result"
    }
   ],
   "source": [
    "res = None\n",
    "res is None"
   ]
  },
  {
   "cell_type": "code",
   "execution_count": 7,
   "id": "explicit-sharp",
   "metadata": {},
   "outputs": [
    {
     "data": {
      "text/plain": [
       "4353807776"
      ]
     },
     "execution_count": 7,
     "metadata": {},
     "output_type": "execute_result"
    }
   ],
   "source": [
    "id(res)  # memory address in CPython"
   ]
  },
  {
   "cell_type": "markdown",
   "id": "cathedral-collins",
   "metadata": {},
   "source": [
    "### bool\n",
    "\n",
    "`True` and `False` are also singletons."
   ]
  },
  {
   "cell_type": "code",
   "execution_count": 8,
   "id": "invisible-burden",
   "metadata": {},
   "outputs": [
    {
     "name": "stdout",
     "output_type": "stream",
     "text": [
      "also\n"
     ]
    }
   ],
   "source": [
    "res = True and print('also')  # second statement will be executed"
   ]
  },
  {
   "cell_type": "code",
   "execution_count": 9,
   "id": "middle-geometry",
   "metadata": {},
   "outputs": [],
   "source": [
    "assert res is None, \"print should return None\""
   ]
  },
  {
   "cell_type": "markdown",
   "id": "closing-lunch",
   "metadata": {},
   "source": [
    "#### Truthy and Falsy"
   ]
  },
  {
   "cell_type": "code",
   "execution_count": 10,
   "id": "considered-contemporary",
   "metadata": {},
   "outputs": [
    {
     "data": {
      "text/plain": [
       "True"
      ]
     },
     "execution_count": 10,
     "metadata": {},
     "output_type": "execute_result"
    }
   ],
   "source": [
    "bool(True)"
   ]
  },
  {
   "cell_type": "code",
   "execution_count": 11,
   "id": "freelance-postage",
   "metadata": {},
   "outputs": [
    {
     "data": {
      "text/plain": [
       "False"
      ]
     },
     "execution_count": 11,
     "metadata": {},
     "output_type": "execute_result"
    }
   ],
   "source": [
    "bool(0)"
   ]
  },
  {
   "cell_type": "code",
   "execution_count": 12,
   "id": "flying-insert",
   "metadata": {},
   "outputs": [
    {
     "data": {
      "text/plain": [
       "False"
      ]
     },
     "execution_count": 12,
     "metadata": {},
     "output_type": "execute_result"
    }
   ],
   "source": [
    "bool([])"
   ]
  },
  {
   "cell_type": "code",
   "execution_count": 13,
   "id": "sporting-spyware",
   "metadata": {},
   "outputs": [
    {
     "data": {
      "text/plain": [
       "False"
      ]
     },
     "execution_count": 13,
     "metadata": {},
     "output_type": "execute_result"
    }
   ],
   "source": [
    "bool(\"\")"
   ]
  },
  {
   "cell_type": "code",
   "execution_count": 14,
   "id": "maritime-vintage",
   "metadata": {},
   "outputs": [
    {
     "data": {
      "text/plain": [
       "True"
      ]
     },
     "execution_count": 14,
     "metadata": {},
     "output_type": "execute_result"
    }
   ],
   "source": [
    "bool([0])"
   ]
  },
  {
   "cell_type": "code",
   "execution_count": 15,
   "id": "expensive-completion",
   "metadata": {},
   "outputs": [
    {
     "data": {
      "text/plain": [
       "True"
      ]
     },
     "execution_count": 15,
     "metadata": {},
     "output_type": "execute_result"
    }
   ],
   "source": [
    "x = 100\n",
    "0 < x < 101  # special syntax for 0 < x and x < 101"
   ]
  },
  {
   "cell_type": "markdown",
   "id": "vital-barcelona",
   "metadata": {},
   "source": [
    "### Numbers"
   ]
  },
  {
   "cell_type": "code",
   "execution_count": 16,
   "id": "revised-while",
   "metadata": {},
   "outputs": [
    {
     "data": {
      "text/plain": [
       "2"
      ]
     },
     "execution_count": 16,
     "metadata": {},
     "output_type": "execute_result"
    }
   ],
   "source": [
    "True + False + True  # 1 + 0 + 1"
   ]
  },
  {
   "cell_type": "markdown",
   "id": "isolated-iraqi",
   "metadata": {},
   "source": [
    "Python supports a \"bignum\" integer type which can work with arbitrarily large numbers. [More about numbers](https://realpython.com/python-numbers/)."
   ]
  },
  {
   "cell_type": "code",
   "execution_count": 17,
   "id": "pointed-intersection",
   "metadata": {},
   "outputs": [
    {
     "data": {
      "text/plain": [
       "340282366920938463463374607431768211456"
      ]
     },
     "execution_count": 17,
     "metadata": {},
     "output_type": "execute_result"
    }
   ],
   "source": [
    "2 ** 128"
   ]
  },
  {
   "cell_type": "code",
   "execution_count": 18,
   "id": "coated-reason",
   "metadata": {},
   "outputs": [
    {
     "data": {
      "text/plain": [
       "float"
      ]
     },
     "execution_count": 18,
     "metadata": {},
     "output_type": "execute_result"
    }
   ],
   "source": [
    "type(1.0)  # Python float values are represented as 64-bit double-precision values"
   ]
  },
  {
   "cell_type": "code",
   "execution_count": 19,
   "id": "alien-testament",
   "metadata": {},
   "outputs": [
    {
     "data": {
      "text/plain": [
       "inf"
      ]
     },
     "execution_count": 19,
     "metadata": {},
     "output_type": "execute_result"
    }
   ],
   "source": [
    "float(\"inf\")"
   ]
  },
  {
   "cell_type": "code",
   "execution_count": 20,
   "id": "ahead-audio",
   "metadata": {},
   "outputs": [
    {
     "data": {
      "text/plain": [
       "-inf"
      ]
     },
     "execution_count": 20,
     "metadata": {},
     "output_type": "execute_result"
    }
   ],
   "source": [
    "float(\"-inf\")"
   ]
  },
  {
   "cell_type": "code",
   "execution_count": 21,
   "id": "wrong-texture",
   "metadata": {},
   "outputs": [
    {
     "data": {
      "text/plain": [
       "complex"
      ]
     },
     "execution_count": 21,
     "metadata": {},
     "output_type": "execute_result"
    }
   ],
   "source": [
    "type(90 + 2j)"
   ]
  },
  {
   "cell_type": "markdown",
   "id": "valuable-dealer",
   "metadata": {},
   "source": [
    "Most operations with numbers follow math rules:"
   ]
  },
  {
   "cell_type": "code",
   "execution_count": 22,
   "id": "regulation-trail",
   "metadata": {},
   "outputs": [
    {
     "data": {
      "text/plain": [
       "1.5"
      ]
     },
     "execution_count": 22,
     "metadata": {},
     "output_type": "execute_result"
    }
   ],
   "source": [
    "3/2"
   ]
  },
  {
   "cell_type": "code",
   "execution_count": 23,
   "id": "wanted-peninsula",
   "metadata": {},
   "outputs": [
    {
     "data": {
      "text/plain": [
       "2"
      ]
     },
     "execution_count": 23,
     "metadata": {},
     "output_type": "execute_result"
    }
   ],
   "source": [
    "4//2"
   ]
  },
  {
   "cell_type": "code",
   "execution_count": 24,
   "id": "binding-wichita",
   "metadata": {},
   "outputs": [
    {
     "data": {
      "text/plain": [
       "-2"
      ]
     },
     "execution_count": 24,
     "metadata": {},
     "output_type": "execute_result"
    }
   ],
   "source": [
    "-3//2"
   ]
  },
  {
   "cell_type": "code",
   "execution_count": 25,
   "id": "conventional-savage",
   "metadata": {},
   "outputs": [
    {
     "data": {
      "text/plain": [
       "2"
      ]
     },
     "execution_count": 25,
     "metadata": {},
     "output_type": "execute_result"
    }
   ],
   "source": [
    "-1%3"
   ]
  },
  {
   "cell_type": "markdown",
   "id": "acquired-ballot",
   "metadata": {},
   "source": [
    "### Strings\n",
    "\n",
    "...are immutable."
   ]
  },
  {
   "cell_type": "code",
   "execution_count": 26,
   "id": "separate-financing",
   "metadata": {},
   "outputs": [],
   "source": [
    "s = \"hi\""
   ]
  },
  {
   "cell_type": "code",
   "execution_count": 27,
   "id": "convertible-bristol",
   "metadata": {},
   "outputs": [
    {
     "ename": "TypeError",
     "evalue": "'str' object does not support item assignment",
     "output_type": "error",
     "traceback": [
      "\u001b[0;31m---------------------------------------------------------------------------\u001b[0m",
      "\u001b[0;31mTypeError\u001b[0m                                 Traceback (most recent call last)",
      "\u001b[0;32m<ipython-input-27-b2ef3826bbc7>\u001b[0m in \u001b[0;36m<module>\u001b[0;34m\u001b[0m\n\u001b[0;32m----> 1\u001b[0;31m \u001b[0ms\u001b[0m\u001b[0;34m[\u001b[0m\u001b[0;36m0\u001b[0m\u001b[0;34m]\u001b[0m \u001b[0;34m=\u001b[0m \u001b[0;34m\"b\"\u001b[0m\u001b[0;34m\u001b[0m\u001b[0;34m\u001b[0m\u001b[0m\n\u001b[0m",
      "\u001b[0;31mTypeError\u001b[0m: 'str' object does not support item assignment"
     ]
    }
   ],
   "source": [
    "s[0] = \"b\""
   ]
  },
  {
   "cell_type": "code",
   "execution_count": 28,
   "id": "decreased-combining",
   "metadata": {},
   "outputs": [],
   "source": [
    "s = \"\"\"\n",
    "Lorem ipsum dolor sit amet, consectetur adipiscing elit.\n",
    "Phasellus maximus enim at venenatis rhoncus. Integer consequat elit sed tincidunt commodo.Curabitur eu mi sodales, rutrum sem ac, tincidunt tortor.\n",
    "\"\"\""
   ]
  },
  {
   "cell_type": "code",
   "execution_count": 29,
   "id": "fleet-approach",
   "metadata": {},
   "outputs": [
    {
     "data": {
      "text/plain": [
       "['',\n",
       " 'Lorem ipsum dolor sit amet, consectetur adipiscing elit.',\n",
       " 'Phasellus maximus enim at venenatis rhoncus. Integer consequat elit sed tincidunt commodo.Curabitur eu mi sodales, rutrum sem ac, tincidunt tortor.']"
      ]
     },
     "execution_count": 29,
     "metadata": {},
     "output_type": "execute_result"
    }
   ],
   "source": [
    "s.splitlines()"
   ]
  },
  {
   "cell_type": "code",
   "execution_count": 30,
   "id": "stuffed-neighbor",
   "metadata": {},
   "outputs": [
    {
     "data": {
      "text/plain": [
       "['Lorem',\n",
       " 'ipsum',\n",
       " 'dolor',\n",
       " 'sit',\n",
       " 'amet,',\n",
       " 'consectetur',\n",
       " 'adipiscing',\n",
       " 'elit.',\n",
       " 'Phasellus',\n",
       " 'maximus',\n",
       " 'enim',\n",
       " 'at',\n",
       " 'venenatis',\n",
       " 'rhoncus.',\n",
       " 'Integer',\n",
       " 'consequat',\n",
       " 'elit',\n",
       " 'sed',\n",
       " 'tincidunt',\n",
       " 'commodo.Curabitur',\n",
       " 'eu',\n",
       " 'mi',\n",
       " 'sodales,',\n",
       " 'rutrum',\n",
       " 'sem',\n",
       " 'ac,',\n",
       " 'tincidunt',\n",
       " 'tortor.']"
      ]
     },
     "execution_count": 30,
     "metadata": {},
     "output_type": "execute_result"
    }
   ],
   "source": [
    "s.split()  # words"
   ]
  },
  {
   "cell_type": "code",
   "execution_count": 31,
   "id": "outdoor-aquatic",
   "metadata": {},
   "outputs": [
    {
     "data": {
      "text/plain": [
       "'Lorem ipsum dolor sit amet, consectetur adipiscing elit.\\nPhasellus maximus enim at venenatis rhoncus. Integer consequat elit sed tincidunt commodo.Curabitur eu mi sodales, rutrum sem ac, tincidunt tortor.'"
      ]
     },
     "execution_count": 31,
     "metadata": {},
     "output_type": "execute_result"
    }
   ],
   "source": [
    "s.strip()  # remove trailing spaces"
   ]
  },
  {
   "cell_type": "code",
   "execution_count": 32,
   "id": "convinced-prairie",
   "metadata": {},
   "outputs": [
    {
     "data": {
      "text/plain": [
       "'one, two, three'"
      ]
     },
     "execution_count": 32,
     "metadata": {},
     "output_type": "execute_result"
    }
   ],
   "source": [
    "\", \".join([\"one\", \"two\", \"three\"])"
   ]
  },
  {
   "cell_type": "code",
   "execution_count": 33,
   "id": "prospective-essex",
   "metadata": {},
   "outputs": [
    {
     "data": {
      "text/plain": [
       "'92'"
      ]
     },
     "execution_count": 33,
     "metadata": {},
     "output_type": "execute_result"
    }
   ],
   "source": [
    "str(92)"
   ]
  },
  {
   "cell_type": "code",
   "execution_count": 34,
   "id": "underlying-graph",
   "metadata": {},
   "outputs": [
    {
     "data": {
      "text/plain": [
       "'intel 10th gen'"
      ]
     },
     "execution_count": 34,
     "metadata": {},
     "output_type": "execute_result"
    }
   ],
   "source": [
    "n = 10\n",
    "\n",
    "f\"intel {n}th gen\"  # string interpolation https://www.python.org/dev/peps/pep-0498/"
   ]
  },
  {
   "cell_type": "markdown",
   "id": "imported-detail",
   "metadata": {},
   "source": [
    "### list\n",
    "\n",
    "A data structure is represented by a vector (expandable array)."
   ]
  },
  {
   "cell_type": "code",
   "execution_count": 35,
   "id": "conservative-function",
   "metadata": {},
   "outputs": [],
   "source": [
    "xs = [1, 2, 3]"
   ]
  },
  {
   "cell_type": "code",
   "execution_count": 36,
   "id": "advanced-tours",
   "metadata": {},
   "outputs": [
    {
     "data": {
      "text/plain": [
       "3"
      ]
     },
     "execution_count": 36,
     "metadata": {},
     "output_type": "execute_result"
    }
   ],
   "source": [
    "len(xs)"
   ]
  },
  {
   "cell_type": "code",
   "execution_count": 37,
   "id": "modern-heather",
   "metadata": {},
   "outputs": [
    {
     "data": {
      "text/plain": [
       "[[0, 0, 0]]"
      ]
     },
     "execution_count": 37,
     "metadata": {},
     "output_type": "execute_result"
    }
   ],
   "source": [
    "xs = [[0] * 3]  # don't do this!\n",
    "xs"
   ]
  },
  {
   "cell_type": "code",
   "execution_count": 38,
   "id": "metropolitan-enforcement",
   "metadata": {},
   "outputs": [
    {
     "data": {
      "text/plain": [
       "[1, 2, 3, 4]"
      ]
     },
     "execution_count": 38,
     "metadata": {},
     "output_type": "execute_result"
    }
   ],
   "source": [
    "[1] + [2, 3] + [4]  # O(4)"
   ]
  },
  {
   "cell_type": "code",
   "execution_count": 39,
   "id": "velvet-universal",
   "metadata": {},
   "outputs": [],
   "source": [
    "xs.append(4)  # O(1) until the length of the underlying array changes"
   ]
  },
  {
   "cell_type": "code",
   "execution_count": 40,
   "id": "horizontal-modeling",
   "metadata": {},
   "outputs": [
    {
     "data": {
      "text/plain": [
       "4"
      ]
     },
     "execution_count": 40,
     "metadata": {},
     "output_type": "execute_result"
    }
   ],
   "source": [
    "xs.pop()  # O(1)"
   ]
  },
  {
   "cell_type": "code",
   "execution_count": 41,
   "id": "controversial-honduras",
   "metadata": {},
   "outputs": [
    {
     "data": {
      "text/plain": [
       "'out'"
      ]
     },
     "execution_count": 41,
     "metadata": {},
     "output_type": "execute_result"
    }
   ],
   "source": [
    "xs = [\"out\", \"in\"]\n",
    "xs.pop(0)  # O(n)"
   ]
  },
  {
   "cell_type": "code",
   "execution_count": 42,
   "id": "legal-gibraltar",
   "metadata": {},
   "outputs": [],
   "source": [
    "xs.insert(0, 92)  # O(n)"
   ]
  },
  {
   "cell_type": "code",
   "execution_count": 43,
   "id": "romance-pharmacology",
   "metadata": {},
   "outputs": [],
   "source": [
    "xs += [1]  # don't do this, use append! O(n)"
   ]
  },
  {
   "cell_type": "code",
   "execution_count": 44,
   "id": "fluid-terrace",
   "metadata": {},
   "outputs": [
    {
     "data": {
      "text/plain": [
       "[92, 'in', 1]"
      ]
     },
     "execution_count": 44,
     "metadata": {},
     "output_type": "execute_result"
    }
   ],
   "source": [
    "xs"
   ]
  },
  {
   "cell_type": "markdown",
   "id": "dominican-survivor",
   "metadata": {},
   "source": [
    "### tuple\n",
    "\n",
    "...is an immutable list of items. It has an API similar to the `list` type."
   ]
  },
  {
   "cell_type": "code",
   "execution_count": 45,
   "id": "intellectual-attraction",
   "metadata": {},
   "outputs": [],
   "source": [
    "xs = ([], 2, 3)"
   ]
  },
  {
   "cell_type": "code",
   "execution_count": 46,
   "id": "quick-accent",
   "metadata": {},
   "outputs": [
    {
     "data": {
      "text/plain": [
       "([1, 2, 3], 2, 3)"
      ]
     },
     "execution_count": 46,
     "metadata": {},
     "output_type": "execute_result"
    }
   ],
   "source": [
    "xs[0].extend([1, 2, 3])  # change value of the second item\n",
    "xs"
   ]
  },
  {
   "cell_type": "code",
   "execution_count": 47,
   "id": "interesting-invention",
   "metadata": {},
   "outputs": [
    {
     "data": {
      "text/plain": [
       "()"
      ]
     },
     "execution_count": 47,
     "metadata": {},
     "output_type": "execute_result"
    }
   ],
   "source": [
    "()  # empty tuple"
   ]
  },
  {
   "cell_type": "code",
   "execution_count": 48,
   "id": "smaller-arkansas",
   "metadata": {},
   "outputs": [
    {
     "data": {
      "text/plain": [
       "(1, 0)"
      ]
     },
     "execution_count": 48,
     "metadata": {},
     "output_type": "execute_result"
    }
   ],
   "source": [
    "1, 0"
   ]
  },
  {
   "cell_type": "code",
   "execution_count": 49,
   "id": "linear-mechanics",
   "metadata": {},
   "outputs": [],
   "source": [
    "x, y = (1, 0)  # unpacking"
   ]
  },
  {
   "cell_type": "code",
   "execution_count": 50,
   "id": "quiet-roots",
   "metadata": {},
   "outputs": [
    {
     "data": {
      "text/plain": [
       "1"
      ]
     },
     "execution_count": 50,
     "metadata": {},
     "output_type": "execute_result"
    }
   ],
   "source": [
    "x"
   ]
  },
  {
   "cell_type": "code",
   "execution_count": 51,
   "id": "historic-twins",
   "metadata": {},
   "outputs": [
    {
     "data": {
      "text/plain": [
       "0"
      ]
     },
     "execution_count": 51,
     "metadata": {},
     "output_type": "execute_result"
    }
   ],
   "source": [
    "y"
   ]
  },
  {
   "cell_type": "markdown",
   "id": "ancient-quarter",
   "metadata": {},
   "source": [
    "### slice\n",
    "\n",
    "A partial or full list copy."
   ]
  },
  {
   "cell_type": "code",
   "execution_count": 52,
   "id": "owned-cover",
   "metadata": {},
   "outputs": [
    {
     "data": {
      "text/plain": [
       "[0, 1, 2, 3, 4]"
      ]
     },
     "execution_count": 52,
     "metadata": {},
     "output_type": "execute_result"
    }
   ],
   "source": [
    "xs = list(range(5))\n",
    "xs"
   ]
  },
  {
   "cell_type": "code",
   "execution_count": 53,
   "id": "informal-flour",
   "metadata": {},
   "outputs": [
    {
     "data": {
      "text/plain": [
       "4"
      ]
     },
     "execution_count": 53,
     "metadata": {},
     "output_type": "execute_result"
    }
   ],
   "source": [
    "xs[-1]"
   ]
  },
  {
   "cell_type": "code",
   "execution_count": 54,
   "id": "forced-sessions",
   "metadata": {},
   "outputs": [
    {
     "data": {
      "text/plain": [
       "[2, 3]"
      ]
     },
     "execution_count": 54,
     "metadata": {},
     "output_type": "execute_result"
    }
   ],
   "source": [
    "xs[2:4]"
   ]
  },
  {
   "cell_type": "code",
   "execution_count": 55,
   "id": "metallic-trick",
   "metadata": {},
   "outputs": [
    {
     "data": {
      "text/plain": [
       "[0, 1, 2]"
      ]
     },
     "execution_count": 55,
     "metadata": {},
     "output_type": "execute_result"
    }
   ],
   "source": [
    "xs[:-2]"
   ]
  },
  {
   "cell_type": "code",
   "execution_count": 56,
   "id": "changed-ladder",
   "metadata": {},
   "outputs": [
    {
     "data": {
      "text/plain": [
       "[0, 2, 4]"
      ]
     },
     "execution_count": 56,
     "metadata": {},
     "output_type": "execute_result"
    }
   ],
   "source": [
    "xs[::2]"
   ]
  },
  {
   "cell_type": "code",
   "execution_count": 57,
   "id": "latter-withdrawal",
   "metadata": {},
   "outputs": [
    {
     "data": {
      "text/plain": [
       "[0, 1, 2, 3, 4]"
      ]
     },
     "execution_count": 57,
     "metadata": {},
     "output_type": "execute_result"
    }
   ],
   "source": [
    "xs[:]  # or list(xs)"
   ]
  },
  {
   "cell_type": "code",
   "execution_count": 58,
   "id": "broke-baker",
   "metadata": {},
   "outputs": [
    {
     "data": {
      "text/plain": [
       "[0, 1, 2, 3, 4]"
      ]
     },
     "execution_count": 58,
     "metadata": {},
     "output_type": "execute_result"
    }
   ],
   "source": [
    "xs[:100]  # works just fine, no no boundary check"
   ]
  },
  {
   "cell_type": "code",
   "execution_count": 59,
   "id": "stone-flood",
   "metadata": {},
   "outputs": [
    {
     "data": {
      "text/plain": [
       "[0, None, 2, None, 4]"
      ]
     },
     "execution_count": 59,
     "metadata": {},
     "output_type": "execute_result"
    }
   ],
   "source": [
    "xs[1:-1:2] = [None] * 2\n",
    "xs"
   ]
  },
  {
   "cell_type": "code",
   "execution_count": 60,
   "id": "outstanding-rocket",
   "metadata": {},
   "outputs": [],
   "source": [
    "every_second = slice(None, None, 2)  # reusable slice object"
   ]
  },
  {
   "cell_type": "code",
   "execution_count": 61,
   "id": "cardiovascular-reconstruction",
   "metadata": {},
   "outputs": [
    {
     "data": {
      "text/plain": [
       "[0, 2, 4, 6, 8]"
      ]
     },
     "execution_count": 61,
     "metadata": {},
     "output_type": "execute_result"
    }
   ],
   "source": [
    "list(range(10))[every_second]"
   ]
  },
  {
   "cell_type": "markdown",
   "id": "portuguese-equation",
   "metadata": {},
   "source": [
    "### set\n",
    "\n",
    "...is an unordered collection with no duplicate elements."
   ]
  },
  {
   "cell_type": "code",
   "execution_count": 62,
   "id": "hollywood-crowd",
   "metadata": {},
   "outputs": [],
   "source": [
    "xs = {1, 2, 3}"
   ]
  },
  {
   "cell_type": "code",
   "execution_count": 63,
   "id": "insured-knitting",
   "metadata": {},
   "outputs": [
    {
     "data": {
      "text/plain": [
       "True"
      ]
     },
     "execution_count": 63,
     "metadata": {},
     "output_type": "execute_result"
    }
   ],
   "source": [
    "1 in xs  # O(1) — lookup in a hash table"
   ]
  },
  {
   "cell_type": "code",
   "execution_count": 64,
   "id": "hungarian-allowance",
   "metadata": {},
   "outputs": [
    {
     "data": {
      "text/plain": [
       "True"
      ]
     },
     "execution_count": 64,
     "metadata": {},
     "output_type": "execute_result"
    }
   ],
   "source": [
    "92 not in xs"
   ]
  },
  {
   "cell_type": "code",
   "execution_count": 65,
   "id": "protected-gibraltar",
   "metadata": {},
   "outputs": [],
   "source": [
    "xs.add(42)"
   ]
  },
  {
   "cell_type": "code",
   "execution_count": 66,
   "id": "major-myanmar",
   "metadata": {},
   "outputs": [
    {
     "data": {
      "text/plain": [
       "set()"
      ]
     },
     "execution_count": 66,
     "metadata": {},
     "output_type": "execute_result"
    }
   ],
   "source": [
    "set()  # no literal for empty set"
   ]
  },
  {
   "cell_type": "markdown",
   "id": "loose-halloween",
   "metadata": {},
   "source": [
    "Some operations with sets:\n",
    "\n",
    "- `|` Union\n",
    "- `&` Intersection\n",
    "- `^` Symmetric difference"
   ]
  },
  {
   "cell_type": "code",
   "execution_count": 67,
   "id": "focal-attempt",
   "metadata": {},
   "outputs": [],
   "source": [
    "xs.discard(2)"
   ]
  },
  {
   "cell_type": "code",
   "execution_count": 68,
   "id": "transparent-quilt",
   "metadata": {},
   "outputs": [
    {
     "ename": "TypeError",
     "evalue": "unhashable type: 'list'",
     "output_type": "error",
     "traceback": [
      "\u001b[0;31m---------------------------------------------------------------------------\u001b[0m",
      "\u001b[0;31mTypeError\u001b[0m                                 Traceback (most recent call last)",
      "\u001b[0;32m<ipython-input-68-64744434b20d>\u001b[0m in \u001b[0;36m<module>\u001b[0;34m\u001b[0m\n\u001b[0;32m----> 1\u001b[0;31m \u001b[0mxs\u001b[0m\u001b[0;34m.\u001b[0m\u001b[0madd\u001b[0m\u001b[0;34m(\u001b[0m\u001b[0;34m[\u001b[0m\u001b[0;34m]\u001b[0m\u001b[0;34m)\u001b[0m\u001b[0;34m\u001b[0m\u001b[0;34m\u001b[0m\u001b[0m\n\u001b[0m",
      "\u001b[0;31mTypeError\u001b[0m: unhashable type: 'list'"
     ]
    }
   ],
   "source": [
    "xs.add([])"
   ]
  },
  {
   "cell_type": "markdown",
   "id": "north-bikini",
   "metadata": {},
   "source": [
    "### dict"
   ]
  },
  {
   "cell_type": "code",
   "execution_count": 69,
   "id": "suspended-marshall",
   "metadata": {},
   "outputs": [],
   "source": [
    "date = {\n",
    "    \"day\": \"15\",\n",
    "    \"month\": \"02\",\n",
    "}"
   ]
  },
  {
   "cell_type": "code",
   "execution_count": 70,
   "id": "significant-wright",
   "metadata": {},
   "outputs": [
    {
     "data": {
      "text/plain": [
       "'15'"
      ]
     },
     "execution_count": 70,
     "metadata": {},
     "output_type": "execute_result"
    }
   ],
   "source": [
    "date[\"day\"]"
   ]
  },
  {
   "cell_type": "code",
   "execution_count": 71,
   "id": "fossil-february",
   "metadata": {},
   "outputs": [
    {
     "ename": "KeyError",
     "evalue": "'year'",
     "output_type": "error",
     "traceback": [
      "\u001b[0;31m---------------------------------------------------------------------------\u001b[0m",
      "\u001b[0;31mKeyError\u001b[0m                                  Traceback (most recent call last)",
      "\u001b[0;32m<ipython-input-71-641f2ffdfae3>\u001b[0m in \u001b[0;36m<module>\u001b[0;34m\u001b[0m\n\u001b[0;32m----> 1\u001b[0;31m \u001b[0mdate\u001b[0m\u001b[0;34m[\u001b[0m\u001b[0;34m\"year\"\u001b[0m\u001b[0;34m]\u001b[0m\u001b[0;34m\u001b[0m\u001b[0;34m\u001b[0m\u001b[0m\n\u001b[0m",
      "\u001b[0;31mKeyError\u001b[0m: 'year'"
     ]
    }
   ],
   "source": [
    "date[\"year\"]"
   ]
  },
  {
   "cell_type": "code",
   "execution_count": 72,
   "id": "multiple-insight",
   "metadata": {},
   "outputs": [
    {
     "data": {
      "text/plain": [
       "2021"
      ]
     },
     "execution_count": 72,
     "metadata": {},
     "output_type": "execute_result"
    }
   ],
   "source": [
    "date.get(\"year\", 2021)"
   ]
  },
  {
   "cell_type": "code",
   "execution_count": 73,
   "id": "adequate-harris",
   "metadata": {},
   "outputs": [
    {
     "data": {
      "text/plain": [
       "dict_keys(['day', 'month'])"
      ]
     },
     "execution_count": 73,
     "metadata": {},
     "output_type": "execute_result"
    }
   ],
   "source": [
    "date.keys()"
   ]
  },
  {
   "cell_type": "code",
   "execution_count": 74,
   "id": "lovely-bible",
   "metadata": {},
   "outputs": [
    {
     "data": {
      "text/plain": [
       "dict_values(['15', '02'])"
      ]
     },
     "execution_count": 74,
     "metadata": {},
     "output_type": "execute_result"
    }
   ],
   "source": [
    "date.values()"
   ]
  },
  {
   "cell_type": "code",
   "execution_count": 75,
   "id": "multiple-advancement",
   "metadata": {},
   "outputs": [
    {
     "data": {
      "text/plain": [
       "dict_items([('day', '15'), ('month', '02')])"
      ]
     },
     "execution_count": 75,
     "metadata": {},
     "output_type": "execute_result"
    }
   ],
   "source": [
    "date.items()"
   ]
  },
  {
   "cell_type": "markdown",
   "id": "decimal-cornell",
   "metadata": {},
   "source": [
    "> Changed in version 3.7: Dictionary order is guaranteed to be insertion order. This behavior was an implementation detail of CPython from 3.6.\n",
    "\n",
    "Read: https://softwaremaniacs.org/blog/2020/02/05/dicts-ordered/"
   ]
  },
  {
   "cell_type": "code",
   "execution_count": null,
   "id": "trying-compound",
   "metadata": {},
   "outputs": [],
   "source": []
  }
 ],
 "metadata": {
  "kernelspec": {
   "display_name": "Python 3",
   "language": "python",
   "name": "python3"
  },
  "language_info": {
   "codemirror_mode": {
    "name": "ipython",
    "version": 3
   },
   "file_extension": ".py",
   "mimetype": "text/x-python",
   "name": "python",
   "nbconvert_exporter": "python",
   "pygments_lexer": "ipython3",
   "version": "3.9.2"
  }
 },
 "nbformat": 4,
 "nbformat_minor": 5
}
