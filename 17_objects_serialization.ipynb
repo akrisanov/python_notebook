{
 "cells": [
  {
   "cell_type": "markdown",
   "metadata": {},
   "source": [
    "## Pickle\n",
    "\n",
    "[pickle — Python object serialization](https://docs.python.org/3/library/pickle.html)"
   ]
  },
  {
   "cell_type": "code",
   "execution_count": 2,
   "metadata": {},
   "outputs": [],
   "source": [
    "import pickle\n",
    "\n",
    "bmw = {'type': 'car', 'model': 'BMW 535d', 'price': '€65 000'}\n",
    "\n",
    "with open('serialized_data.txt', 'wb') as file:\n",
    "    pickle.dump(bmw, file)"
   ]
  },
  {
   "cell_type": "code",
   "execution_count": 4,
   "metadata": {},
   "outputs": [
    {
     "name": "stdout",
     "output_type": "stream",
     "text": [
      "�\u0003}q\u0000(X\u0004\u0000\u0000\u0000typeq\u0001X\u0003\u0000\u0000\u0000carq\u0002X\u0005\u0000\u0000\u0000modelq\u0003X\b\u0000\u0000\u0000bmw 535dq\u0004X\u0005\u0000\u0000\u0000priceq\u0005X\t\u0000\u0000\u0000€65 000q\u0006u."
     ]
    }
   ],
   "source": [
    "%cat 'serialized_data.txt'"
   ]
  },
  {
   "cell_type": "code",
   "execution_count": 5,
   "metadata": {},
   "outputs": [
    {
     "name": "stdout",
     "output_type": "stream",
     "text": [
      "{'type': 'car', 'model': 'bmw 535d', 'price': '€65 000'}\n"
     ]
    }
   ],
   "source": [
    "with open('serialized_data.txt', 'rb') as file:\n",
    "    print(pickle.load(file))"
   ]
  },
  {
   "cell_type": "markdown",
   "metadata": {},
   "source": [
    "### In-memory Operations"
   ]
  },
  {
   "cell_type": "code",
   "execution_count": 9,
   "metadata": {},
   "outputs": [
    {
     "name": "stdout",
     "output_type": "stream",
     "text": [
      "<class 'bytes'>\n",
      "{'type': 'car', 'model': 'Audi A5', 'price': '€60 000'}\n"
     ]
    }
   ],
   "source": [
    "audi = {'type': 'car', 'model': 'Audi A5', 'price': '€60 000'}\n",
    "dump = pickle.dumps(audi)\n",
    "print(type(dump))\n",
    "car = pickle.loads(dump)\n",
    "print(car)"
   ]
  },
  {
   "cell_type": "markdown",
   "metadata": {},
   "source": [
    "## JSON\n",
    "\n",
    "[json — JSON encoder and decoder](https://docs.python.org/3/library/json.html)"
   ]
  },
  {
   "cell_type": "code",
   "execution_count": 14,
   "metadata": {},
   "outputs": [],
   "source": [
    "import json\n",
    "\n",
    "bmw = {'type': 'car', 'model': 'BMW 535d', 'price': '€65 000'}\n",
    "\n",
    "with open('serialized_data.json', 'w') as file:\n",
    "    json.dump(bmw, file)"
   ]
  },
  {
   "cell_type": "code",
   "execution_count": 15,
   "metadata": {},
   "outputs": [
    {
     "name": "stdout",
     "output_type": "stream",
     "text": [
      "{\"type\": \"car\", \"model\": \"BMW 535d\", \"price\": \"\\u20ac65 000\"}"
     ]
    }
   ],
   "source": [
    "%cat 'serialized_data.json'"
   ]
  },
  {
   "cell_type": "code",
   "execution_count": 16,
   "metadata": {},
   "outputs": [
    {
     "name": "stdout",
     "output_type": "stream",
     "text": [
      "{'type': 'car', 'model': 'BMW 535d', 'price': '€65 000'}\n"
     ]
    }
   ],
   "source": [
    "with open('serialized_data.json', 'r') as file:\n",
    "    print(json.load(file))"
   ]
  },
  {
   "cell_type": "markdown",
   "metadata": {},
   "source": [
    "### In-memory Operations\n",
    "\n",
    "* `json.dumps()`\n",
    "* `json.loads()`"
   ]
  },
  {
   "cell_type": "markdown",
   "metadata": {},
   "source": [
    "## YAML\n",
    "\n",
    "https://github.com/yaml/pyyaml"
   ]
  },
  {
   "cell_type": "code",
   "execution_count": null,
   "metadata": {},
   "outputs": [],
   "source": []
  }
 ],
 "metadata": {
  "kernelspec": {
   "display_name": "Python 3",
   "language": "python",
   "name": "python3"
  },
  "language_info": {
   "codemirror_mode": {
    "name": "ipython",
    "version": 3
   },
   "file_extension": ".py",
   "mimetype": "text/x-python",
   "name": "python",
   "nbconvert_exporter": "python",
   "pygments_lexer": "ipython3",
   "version": "3.7.2"
  }
 },
 "nbformat": 4,
 "nbformat_minor": 2
}
