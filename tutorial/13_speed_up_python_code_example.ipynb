{
 "cells": [
  {
   "cell_type": "markdown",
   "metadata": {},
   "source": [
    "# Speed Up Python Code\n",
    "\n",
    "👉🏻 **Example**: _Matrix multiplication_\n",
    "\n",
    "```python\n",
    "import random\n",
    "\n",
    "\n",
    "class Matrix(list):\n",
    "    @classmethod\n",
    "    def zeros(cls, shape):\n",
    "        n_rows, n_cols = shape\n",
    "        return cls([[0] * n_cols for i in range(n_rows)])\n",
    "    \n",
    "    @classmethod\n",
    "    def random(cls, shape):\n",
    "        M, (n_rows, n_cols) = cls(), shape\n",
    "        for i in range(n_rows):\n",
    "            M.append([random.randint(-255, 255) for j in range(n_cols)])\n",
    "        return M\n",
    "    \n",
    "    @property\n",
    "    def shape(self):\n",
    "        return ((0, 0) if not self else (len(self), len(self[0])))\n",
    "\n",
    "\n",
    "def matrix_product(X, Y):\n",
    "    \"\"\"Computes the matrix product of X and Y.\n",
    "\n",
    "    >>> X = Matrix([[1], [2], [3]])\n",
    "    >>> Y = Matrix([[4, 5, 6])\n",
    "    [[4, 5, 6], [8, 10, 12], [12, 15, 18]]\n",
    "    >> matrix_product(Y, X)\n",
    "    [[32]]\n",
    "    \"\"\"\n",
    "    n_xrows, n_xcols = X.shape\n",
    "    n_yrows, n_ycols = Y.shape\n",
    "    # TODO: check the shapes\n",
    "    Z = Matrix.zeros((n_xrows, n_ycols))\n",
    "    for i in range(n_xrows):\n",
    "        for j in range(n_xcols):\n",
    "            for k in range(n_ycols):\n",
    "                Z[i][k] += X[i][j] * Y[j][k]\n",
    "    return Z\n",
    "```"
   ]
  },
  {
   "cell_type": "markdown",
   "metadata": {},
   "source": [
    "## Measuring execution time"
   ]
  },
  {
   "cell_type": "code",
   "execution_count": 1,
   "metadata": {},
   "outputs": [],
   "source": [
    "import timeit"
   ]
  },
  {
   "cell_type": "code",
   "execution_count": 2,
   "metadata": {},
   "outputs": [],
   "source": [
    "setup = \"\"\"from fast_python import Matrix, matrix_product\n",
    "shape = 64, 64\n",
    "X = Matrix.random(shape)\n",
    "Y = Matrix.random(shape)\n",
    "\"\"\""
   ]
  },
  {
   "cell_type": "code",
   "execution_count": 3,
   "metadata": {},
   "outputs": [
    {
     "data": {
      "text/plain": [
       "0.884664481999998"
      ]
     },
     "execution_count": 3,
     "metadata": {},
     "output_type": "execute_result"
    }
   ],
   "source": [
    "timeit.timeit(\"matrix_product(X, Y)\", setup, number=10)"
   ]
  },
  {
   "cell_type": "markdown",
   "metadata": {},
   "source": [
    "⚠️ _`timeit` disables GC._"
   ]
  },
  {
   "cell_type": "markdown",
   "metadata": {},
   "source": [
    "### IPython"
   ]
  },
  {
   "cell_type": "code",
   "execution_count": 4,
   "metadata": {},
   "outputs": [],
   "source": [
    "from fast_python import Matrix, matrix_product"
   ]
  },
  {
   "cell_type": "code",
   "execution_count": 5,
   "metadata": {},
   "outputs": [],
   "source": [
    "shape = 64, 64"
   ]
  },
  {
   "cell_type": "code",
   "execution_count": 6,
   "metadata": {},
   "outputs": [],
   "source": [
    "X, Y = Matrix.random(shape), Matrix.random(shape)"
   ]
  },
  {
   "cell_type": "code",
   "execution_count": 7,
   "metadata": {},
   "outputs": [
    {
     "name": "stdout",
     "output_type": "stream",
     "text": [
      "86.3 ms ± 324 µs per loop (mean ± std. dev. of 7 runs, 10 loops each)\n"
     ]
    }
   ],
   "source": [
    "%timeit matrix_product(X, Y)"
   ]
  },
  {
   "cell_type": "code",
   "execution_count": 9,
   "metadata": {},
   "outputs": [
    {
     "name": "stdout",
     "output_type": "stream",
     "text": [
      "89 ms ± 1.79 ms per loop (mean ± std. dev. of 7 runs, 100 loops each)\n"
     ]
    }
   ],
   "source": [
    "%timeit -n100 matrix_product(X, Y)"
   ]
  },
  {
   "cell_type": "markdown",
   "metadata": {},
   "source": [
    "## Looking for performance problems\n",
    "\n",
    "🤔 What wrong with this code?\n",
    "\n",
    "```python\n",
    "def matrix_product(X, Y):\n",
    "    \"\"\"Computes the matrix product of X and Y.\n",
    "\n",
    "    >>> X = Matrix([[1], [2], [3]])\n",
    "    >>> Y = Matrix([[4, 5, 6])\n",
    "    [[4, 5, 6], [8, 10, 12], [12, 15, 18]]\n",
    "    >> matrix_product(Y, X)\n",
    "    [[32]]\n",
    "    \"\"\"\n",
    "    n_xrows, n_xcols = X.shape\n",
    "    n_yrows, n_ycols = Y.shape\n",
    "    # TODO: check the shapes\n",
    "    Z = Matrix.zeros((n_xrows, n_ycols))\n",
    "    for i in range(n_xrows):\n",
    "        for j in range(n_xcols):\n",
    "            for k in range(n_ycols):\n",
    "                Z[i][k] += X[i][j] * Y[j][k]\n",
    "    return Z\n",
    "```"
   ]
  },
  {
   "cell_type": "markdown",
   "metadata": {},
   "source": [
    "### The `cProfile` module"
   ]
  },
  {
   "cell_type": "code",
   "execution_count": 7,
   "metadata": {},
   "outputs": [],
   "source": [
    "import cProfile"
   ]
  },
  {
   "cell_type": "code",
   "execution_count": 8,
   "metadata": {},
   "outputs": [],
   "source": [
    "source = open(\"fast_python.py\").read()"
   ]
  },
  {
   "cell_type": "code",
   "execution_count": 9,
   "metadata": {},
   "outputs": [
    {
     "name": "stdout",
     "output_type": "stream",
     "text": [
      "         41381 function calls in 1.446 seconds\n",
      "\n",
      "   Ordered by: internal time\n",
      "\n",
      "   ncalls  tottime  percall  cumtime  percall filename:lineno(function)\n",
      "       16    1.426    0.089    1.426    0.089 <string>:22(matrix_product)\n",
      "     8192    0.006    0.000    0.013    0.000 random.py:174(randrange)\n",
      "     8192    0.005    0.000    0.007    0.000 random.py:224(_randbelow)\n",
      "     8192    0.003    0.000    0.016    0.000 random.py:218(randint)\n",
      "      128    0.002    0.000    0.018    0.000 <string>:14(<listcomp>)\n",
      "     8205    0.001    0.000    0.001    0.000 {method 'getrandbits' of '_random.Random' objects}\n",
      "        1    0.001    0.001    1.445    1.445 <string>:42(bench)\n",
      "     8192    0.001    0.000    0.001    0.000 {method 'bit_length' of 'int' objects}\n",
      "        1    0.000    0.000    1.446    1.446 {built-in method builtins.exec}\n",
      "       16    0.000    0.000    0.000    0.000 <string>:8(<listcomp>)\n",
      "        2    0.000    0.000    0.018    0.009 <string>:10(random)\n",
      "        1    0.000    0.000    1.445    1.445 <string>:1(<module>)\n",
      "       16    0.000    0.000    0.000    0.000 <string>:5(zeros)\n",
      "       32    0.000    0.000    0.000    0.000 <string>:17(shape)\n",
      "        1    0.000    0.000    0.000    0.000 {built-in method builtins.__build_class__}\n",
      "      128    0.000    0.000    0.000    0.000 {method 'append' of 'list' objects}\n",
      "       64    0.000    0.000    0.000    0.000 {built-in method builtins.len}\n",
      "        1    0.000    0.000    0.000    0.000 <string>:4(Matrix)\n",
      "        1    0.000    0.000    0.000    0.000 {method 'disable' of '_lsprof.Profiler' objects}\n",
      "\n",
      "\n"
     ]
    }
   ],
   "source": [
    "cProfile.run(source, sort=\"tottime\")"
   ]
  },
  {
   "cell_type": "markdown",
   "metadata": {},
   "source": [
    "Profiler doesn't help much here."
   ]
  },
  {
   "cell_type": "markdown",
   "metadata": {},
   "source": [
    "### The `line_profiler` module"
   ]
  },
  {
   "cell_type": "code",
   "execution_count": 24,
   "metadata": {
    "scrolled": true
   },
   "outputs": [
    {
     "name": "stdout",
     "output_type": "stream",
     "text": [
      "Collecting line_profiler\n",
      "  Downloading line_profiler-3.0.2.tar.gz (45 kB)\n",
      "\u001b[K     |████████████████████████████████| 45 kB 1.0 MB/s eta 0:00:011\n",
      "\u001b[?25h  Installing build dependencies ... \u001b[?25ldone\n",
      "\u001b[?25h  Getting requirements to build wheel ... \u001b[?25ldone\n",
      "\u001b[?25h    Preparing wheel metadata ... \u001b[?25ldone\n",
      "\u001b[?25hRequirement already satisfied: IPython in /usr/local/lib/python3.7/site-packages (from line_profiler) (7.3.0)\n",
      "Requirement already satisfied: pygments in /usr/local/lib/python3.7/site-packages (from IPython->line_profiler) (1.6)\n",
      "Requirement already satisfied: appnope; sys_platform == \"darwin\" in /usr/local/lib/python3.7/site-packages (from IPython->line_profiler) (0.1.0)\n",
      "Requirement already satisfied: setuptools>=18.5 in /usr/local/lib/python3.7/site-packages (from IPython->line_profiler) (46.0.0)\n",
      "Requirement already satisfied: prompt-toolkit<2.1.0,>=2.0.0 in /usr/local/lib/python3.7/site-packages (from IPython->line_profiler) (2.0.9)\n",
      "Requirement already satisfied: jedi>=0.10 in /usr/local/lib/python3.7/site-packages (from IPython->line_profiler) (0.13.3)\n",
      "Requirement already satisfied: backcall in /usr/local/lib/python3.7/site-packages (from IPython->line_profiler) (0.1.0)\n",
      "Requirement already satisfied: pickleshare in /usr/local/lib/python3.7/site-packages (from IPython->line_profiler) (0.7.5)\n",
      "Requirement already satisfied: decorator in /usr/local/lib/python3.7/site-packages (from IPython->line_profiler) (4.3.2)\n",
      "Requirement already satisfied: pexpect; sys_platform != \"win32\" in /usr/local/lib/python3.7/site-packages (from IPython->line_profiler) (4.6.0)\n",
      "Requirement already satisfied: traitlets>=4.2 in /usr/local/lib/python3.7/site-packages (from IPython->line_profiler) (4.3.2)\n",
      "Requirement already satisfied: six>=1.9.0 in /usr/local/lib/python3.7/site-packages (from prompt-toolkit<2.1.0,>=2.0.0->IPython->line_profiler) (1.11.0)\n",
      "Requirement already satisfied: wcwidth in /usr/local/lib/python3.7/site-packages/wcwidth-0.1.7-py3.7.egg (from prompt-toolkit<2.1.0,>=2.0.0->IPython->line_profiler) (0.1.7)\n",
      "Requirement already satisfied: parso>=0.3.0 in /usr/local/lib/python3.7/site-packages (from jedi>=0.10->IPython->line_profiler) (0.3.4)\n",
      "Requirement already satisfied: ptyprocess>=0.5 in /usr/local/lib/python3.7/site-packages (from pexpect; sys_platform != \"win32\"->IPython->line_profiler) (0.6.0)\n",
      "Requirement already satisfied: ipython-genutils in /usr/local/lib/python3.7/site-packages (from traitlets>=4.2->IPython->line_profiler) (0.2.0)\n",
      "Building wheels for collected packages: line-profiler\n",
      "  Building wheel for line-profiler (PEP 517) ... \u001b[?25ldone\n",
      "\u001b[?25h  Created wheel for line-profiler: filename=line_profiler-3.0.2-cp37-cp37m-macosx_10_15_x86_64.whl size=55572 sha256=e44add9e8193ce9a79ebbdf44cfae5ea732665c9fd7d2dd25c47e0a5d66c8468\n",
      "  Stored in directory: /Users/akrisanov/Library/Caches/pip/wheels/20/28/5c/69ef18a2dc224b4230d6b88e9c0721ec7d3bb425b71d3248ce\n",
      "Successfully built line-profiler\n",
      "Installing collected packages: line-profiler\n",
      "Successfully installed line-profiler-3.0.2\n"
     ]
    }
   ],
   "source": [
    "!pip3 install line_profiler"
   ]
  },
  {
   "cell_type": "code",
   "execution_count": 1,
   "metadata": {},
   "outputs": [],
   "source": [
    "%load_ext line_profiler"
   ]
  },
  {
   "cell_type": "code",
   "execution_count": 2,
   "metadata": {},
   "outputs": [],
   "source": [
    "from fast_python import matrix_product, bench"
   ]
  },
  {
   "cell_type": "code",
   "execution_count": 3,
   "metadata": {},
   "outputs": [],
   "source": [
    "%lprun -f matrix_product bench()"
   ]
  },
  {
   "cell_type": "markdown",
   "metadata": {},
   "source": [
    "```shell\n",
    "Timer unit: 1e-06 s\n",
    "\n",
    "Total time: 4.25494 s\n",
    "File: /Users/akrisanov/github/python_notebook/fast_python.py\n",
    "Function: matrix_product at line 22\n",
    "\n",
    "Line #      Hits         Time  Per Hit   % Time  Line Contents\n",
    "==============================================================\n",
    "    22                                           def matrix_product(X, Y):\n",
    "    23                                               \"\"\"Computes the matrix product of X and Y.\n",
    "    24\n",
    "    25                                               >>> X = Matrix([[1], [2], [3]])\n",
    "    26                                               >>> Y = Matrix([[4, 5, 6])\n",
    "    27                                               [[4, 5, 6], [8, 10, 12], [12, 15, 18]]\n",
    "    28                                               >> matrix_product(Y, X)\n",
    "    29                                               [[32]]\n",
    "    30                                               \"\"\"\n",
    "    31        16         71.0      4.4      0.0      n_xrows, n_xcols = X.shape\n",
    "    32        16         44.0      2.8      0.0      n_yrows, n_ycols = Y.shape\n",
    "    33                                               # TODO: check the shapes\n",
    "    34        16        431.0     26.9      0.0      Z = Matrix.zeros((n_xrows, n_ycols))\n",
    "    35      1040        352.0      0.3      0.0      for i in range(n_xrows):\n",
    "    36     66560      20002.0      0.3      0.5          for j in range(n_xcols):\n",
    "    37   4259840    1320290.0      0.3     31.0              for k in range(n_ycols):\n",
    "    38   4194304    2913738.0      0.7     68.5                  Z[i][k] += X[i][j] * Y[j][k]\n",
    "    39        16          8.0      0.5      0.0      return Z\n",
    "```"
   ]
  },
  {
   "cell_type": "markdown",
   "metadata": {},
   "source": [
    "## Optimizing list access\n",
    "\n",
    "💡 `list.__getitem__` is not a free operation. We can try to remember values `X[i]` and `Z[i]` and reduce access by index in the loops."
   ]
  },
  {
   "cell_type": "code",
   "execution_count": 5,
   "metadata": {},
   "outputs": [],
   "source": [
    "# version 2\n",
    "def matrix_product(X, Y):\n",
    "    n_xrows, n_xcols = X.shape\n",
    "    n_yrows, n_ycols = Y.shape\n",
    "    Z = Matrix.zeros((n_xrows, n_ycols))\n",
    "    for i in range(n_xrows):\n",
    "        Xi = X[i]\n",
    "        for k in range(n_ycols):\n",
    "            acc = 0\n",
    "            for j in range(n_xcols):\n",
    "                acc += Xi[j] * Y[j][k]\n",
    "            Z[i][k] += acc\n",
    "    return Z"
   ]
  },
  {
   "cell_type": "markdown",
   "metadata": {},
   "source": [
    "## Using generator expressions"
   ]
  },
  {
   "cell_type": "code",
   "execution_count": 6,
   "metadata": {},
   "outputs": [],
   "source": [
    "# version 3\n",
    "def matrix_product(X, Y):\n",
    "    n_xrows, n_xcols = X.shape\n",
    "    n_yrows, n_ycols = Y.shape\n",
    "    Z = Matrix.zeros((n_xrows, n_ycols))\n",
    "    for i in range(n_xrows):\n",
    "        Xi, Zi = X[i], Z[i]\n",
    "        for k in range(n_ycols):\n",
    "            # sum is builtins function written in C\n",
    "            Z[i][k] = sum(Xi[j] * Y[j][k] for j in range(n_xcols))\n",
    "    return Z"
   ]
  },
  {
   "cell_type": "markdown",
   "metadata": {},
   "source": [
    "## Transposing matrix"
   ]
  },
  {
   "cell_type": "code",
   "execution_count": 10,
   "metadata": {},
   "outputs": [],
   "source": [
    "# version 4\n",
    "def matrix_product(X, Y):\n",
    "    n_xrows, n_xcols = X.shape\n",
    "    n_yrows, n_ycols = Y.shape\n",
    "    Z = Matrix.zeros((n_xrows, n_ycols))\n",
    "    Yt = Y.transpose()\n",
    "    for i, (Xi, Zi) in enumerate(zip(X, Z)):\n",
    "        for k, Ytk in enumerate(Yt):\n",
    "            Zi[k] = sum(Xi[j] * Ytk[j] for j in range(n_xcols))\n",
    "    return Z"
   ]
  },
  {
   "cell_type": "markdown",
   "metadata": {},
   "source": [
    "## Other Options\n",
    "\n",
    "- NumPy\n",
    "- Ahead-of-time compilation: Python C-API, Cython\n",
    "- Just-in-time compilation: PyPy, Numba, HOPE"
   ]
  },
  {
   "cell_type": "markdown",
   "metadata": {},
   "source": [
    "## Resources\n",
    "\n",
    "* [timeit — Measure execution time of small code snippets](https://docs.python.org/3/library/timeit.html)\n",
    "* [The Python Profilers](https://docs.python.org/3/library/profile.html)\n",
    "* [pycallgraph](https://github.com/gak/pycallgraph/)\n",
    "* [Pyflame: A Ptracing Profiler For Python](https://github.com/uber/pyflame)"
   ]
  },
  {
   "cell_type": "code",
   "execution_count": null,
   "metadata": {},
   "outputs": [],
   "source": []
  }
 ],
 "metadata": {
  "kernelspec": {
   "display_name": "Python 3",
   "language": "python",
   "name": "python3"
  },
  "language_info": {
   "codemirror_mode": {
    "name": "ipython",
    "version": 3
   },
   "file_extension": ".py",
   "mimetype": "text/x-python",
   "name": "python",
   "nbconvert_exporter": "python",
   "pygments_lexer": "ipython3",
   "version": "3.7.7"
  },
  "toc": {
   "base_numbering": 1,
   "nav_menu": {},
   "number_sections": true,
   "sideBar": true,
   "skip_h1_title": false,
   "title_cell": "Table of Contents",
   "title_sidebar": "Contents",
   "toc_cell": false,
   "toc_position": {},
   "toc_section_display": true,
   "toc_window_display": false
  }
 },
 "nbformat": 4,
 "nbformat_minor": 2
}
