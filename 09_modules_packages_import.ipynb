{
 "cells": [
  {
   "cell_type": "markdown",
   "metadata": {},
   "source": [
    "## Modules\n",
    "\n",
    "> A module is a file containing Python definitions and statements. The file name is the module name with the suffix `.py` appended. Within a module, the module’s name (as a string) is available as the value of the global variable __name__."
   ]
  },
  {
   "cell_type": "code",
   "execution_count": 1,
   "metadata": {},
   "outputs": [
    {
     "name": "stdout",
     "output_type": "stream",
     "text": [
      "\"\"\"I'm a useful module.\"\"\"\r\n",
      "\r\n",
      "some_variable = \"foobar\"\r\n",
      "\r\n",
      "def boo():\r\n",
      "    return 42\r\n"
     ]
    }
   ],
   "source": [
    "!cat useful.py"
   ]
  },
  {
   "cell_type": "code",
   "execution_count": 2,
   "metadata": {},
   "outputs": [
    {
     "data": {
      "text/plain": [
       "['__builtins__',\n",
       " '__cached__',\n",
       " '__doc__',\n",
       " '__file__',\n",
       " '__loader__',\n",
       " '__name__',\n",
       " '__package__',\n",
       " '__spec__',\n",
       " 'boo',\n",
       " 'some_variable']"
      ]
     },
     "execution_count": 2,
     "metadata": {},
     "output_type": "execute_result"
    }
   ],
   "source": [
    "import useful\n",
    "dir(useful)"
   ]
  },
  {
   "cell_type": "code",
   "execution_count": 3,
   "metadata": {},
   "outputs": [
    {
     "data": {
      "text/plain": [
       "'useful'"
      ]
     },
     "execution_count": 3,
     "metadata": {},
     "output_type": "execute_result"
    }
   ],
   "source": [
    "useful.__name__"
   ]
  },
  {
   "cell_type": "code",
   "execution_count": 4,
   "metadata": {},
   "outputs": [
    {
     "data": {
      "text/plain": [
       "\"I'm a useful module.\""
      ]
     },
     "execution_count": 4,
     "metadata": {},
     "output_type": "execute_result"
    }
   ],
   "source": [
    "useful.__doc__"
   ]
  },
  {
   "cell_type": "code",
   "execution_count": 5,
   "metadata": {},
   "outputs": [
    {
     "data": {
      "text/plain": [
       "'/Users/akrisanov/Development/python_notebook/useful.py'"
      ]
     },
     "execution_count": 5,
     "metadata": {},
     "output_type": "execute_result"
    }
   ],
   "source": [
    "useful.__file__"
   ]
  },
  {
   "cell_type": "code",
   "execution_count": 6,
   "metadata": {},
   "outputs": [
    {
     "data": {
      "text/plain": [
       "'/Users/akrisanov/Development/python_notebook/__pycache__/useful.cpython-37.pyc'"
      ]
     },
     "execution_count": 6,
     "metadata": {},
     "output_type": "execute_result"
    }
   ],
   "source": [
    "useful.__cached__"
   ]
  },
  {
   "cell_type": "code",
   "execution_count": 7,
   "metadata": {},
   "outputs": [
    {
     "data": {
      "text/plain": [
       "<function useful.boo()>"
      ]
     },
     "execution_count": 7,
     "metadata": {},
     "output_type": "execute_result"
    }
   ],
   "source": [
    "useful.boo"
   ]
  },
  {
   "cell_type": "markdown",
   "metadata": {},
   "source": [
    "### `__name__ == \"__main__\"`"
   ]
  },
  {
   "cell_type": "markdown",
   "metadata": {},
   "source": [
    "- The interpreter takes a module (file) name as an argument and runs it.\n",
    "- In this case, the `__name__` variable in the module will be equal to `__main__` value."
   ]
  },
  {
   "cell_type": "code",
   "execution_count": 8,
   "metadata": {},
   "outputs": [
    {
     "name": "stdout",
     "output_type": "stream",
     "text": [
      "Running tests...\r\n",
      "OK\r\n"
     ]
    }
   ],
   "source": [
    "! python3 ./useful_exec.py"
   ]
  },
  {
   "cell_type": "code",
   "execution_count": 9,
   "metadata": {},
   "outputs": [
    {
     "name": "stdout",
     "output_type": "stream",
     "text": [
      "def boo():\r\n",
      "    return 4\r\n",
      "\r\n",
      "def test():\r\n",
      "    assert boo() == 4\r\n",
      "\r\n",
      "if __name__ == \"__main__\":\r\n",
      "    print(\"Running tests...\")\r\n",
      "    test()\r\n",
      "    print(\"OK\")\r\n"
     ]
    }
   ],
   "source": [
    "! cat ./useful_exec.py"
   ]
  },
  {
   "cell_type": "markdown",
   "metadata": {},
   "source": [
    "### The `import` Operator\n",
    "\n",
    "* [Python 101: All about imports](https://www.blog.pythonlibrary.org/2016/03/01/python-101-all-about-imports/)\n",
    "* [Traps for the Unwary in Python’s Import System](http://python-notes.curiousefficiency.org/en/latest/python_concepts/import_traps.html)\n",
    "* [PEP 302 -- New Import Hooks](https://www.python.org/dev/peps/pep-0302/)\n",
    "* [Modules and Packages: Live and Let Die!](http://dabeaz.com/modulepackage/)"
   ]
  },
  {
   "cell_type": "markdown",
   "metadata": {},
   "source": [
    "The `import` operator imports a module and creates a reference to it in a current namespace:"
   ]
  },
  {
   "cell_type": "code",
   "execution_count": 10,
   "metadata": {},
   "outputs": [],
   "source": [
    "import useful  # interprets the module **from top to bottom**"
   ]
  },
  {
   "cell_type": "code",
   "execution_count": 11,
   "metadata": {},
   "outputs": [
    {
     "data": {
      "text/plain": [
       "<module 'useful' from '/Users/akrisanov/Development/python_notebook/useful.py'>"
      ]
     },
     "execution_count": 11,
     "metadata": {},
     "output_type": "execute_result"
    }
   ],
   "source": [
    "useful"
   ]
  },
  {
   "cell_type": "markdown",
   "metadata": {},
   "source": [
    "We can change a reference name to the module by using the `as` operator:"
   ]
  },
  {
   "cell_type": "code",
   "execution_count": 12,
   "metadata": {},
   "outputs": [],
   "source": [
    "import useful as alias"
   ]
  },
  {
   "cell_type": "code",
   "execution_count": 13,
   "metadata": {},
   "outputs": [
    {
     "data": {
      "text/plain": [
       "<module 'useful' from '/Users/akrisanov/Development/python_notebook/useful.py'>"
      ]
     },
     "execution_count": 13,
     "metadata": {},
     "output_type": "execute_result"
    }
   ],
   "source": [
    "alias"
   ]
  },
  {
   "cell_type": "markdown",
   "metadata": {},
   "source": [
    "⚠️ Only modules from `sys.path` can be imported:"
   ]
  },
  {
   "cell_type": "code",
   "execution_count": 14,
   "metadata": {},
   "outputs": [
    {
     "data": {
      "text/plain": [
       "['/Users/akrisanov/Development/python_notebook',\n",
       " '/usr/local/Cellar/python/3.7.7/Frameworks/Python.framework/Versions/3.7/lib/python37.zip',\n",
       " '/usr/local/Cellar/python/3.7.7/Frameworks/Python.framework/Versions/3.7/lib/python3.7',\n",
       " '/usr/local/Cellar/python/3.7.7/Frameworks/Python.framework/Versions/3.7/lib/python3.7/lib-dynload',\n",
       " '',\n",
       " '/Users/akrisanov/Library/Python/3.7/lib/python/site-packages',\n",
       " '/usr/local/lib/python3.7/site-packages',\n",
       " '/usr/local/lib/python3.7/site-packages/drupwn-0.9.2-py3.7.egg',\n",
       " '/usr/local/lib/python3.7/site-packages/PySocks-1.6.8-py3.7.egg',\n",
       " '/usr/local/lib/python3.7/site-packages/veryprettytable-0.8.1-py3.7.egg',\n",
       " '/usr/local/lib/python3.7/site-packages/wcwidth-0.1.7-py3.7.egg',\n",
       " '/usr/local/lib/python3.7/site-packages/colorama-0.3.9-py3.7.egg',\n",
       " '/usr/local/lib/python3.7/site-packages/termcolor-1.1.0-py3.7.egg',\n",
       " '/usr/local/Cellar/protobuf/3.11.4/libexec/lib/python3.7/site-packages',\n",
       " '/usr/local/lib/python3.7/site-packages/IPython/extensions',\n",
       " '/Users/akrisanov/.ipython']"
      ]
     },
     "execution_count": 14,
     "metadata": {},
     "output_type": "execute_result"
    }
   ],
   "source": [
    "import sys\n",
    "sys.path"
   ]
  },
  {
   "cell_type": "markdown",
   "metadata": {},
   "source": [
    "The `import` operator we can translate to the following code:"
   ]
  },
  {
   "cell_type": "code",
   "execution_count": 15,
   "metadata": {},
   "outputs": [],
   "source": [
    "import useful\n",
    "foo = useful.boo\n",
    "some_variable = useful.some_variable\n",
    "del useful"
   ]
  },
  {
   "cell_type": "markdown",
   "metadata": {},
   "source": [
    "### `from ... import`"
   ]
  },
  {
   "cell_type": "code",
   "execution_count": 16,
   "metadata": {},
   "outputs": [],
   "source": [
    "from useful import boo"
   ]
  },
  {
   "cell_type": "code",
   "execution_count": 17,
   "metadata": {},
   "outputs": [
    {
     "data": {
      "text/plain": [
       "42"
      ]
     },
     "execution_count": 17,
     "metadata": {},
     "output_type": "execute_result"
    }
   ],
   "source": [
    "boo()"
   ]
  },
  {
   "cell_type": "code",
   "execution_count": 18,
   "metadata": {},
   "outputs": [],
   "source": [
    "from useful import boo as foo, some_variable"
   ]
  },
  {
   "cell_type": "code",
   "execution_count": 19,
   "metadata": {},
   "outputs": [
    {
     "data": {
      "text/plain": [
       "42"
      ]
     },
     "execution_count": 19,
     "metadata": {},
     "output_type": "execute_result"
    }
   ],
   "source": [
    "foo()"
   ]
  },
  {
   "cell_type": "code",
   "execution_count": 20,
   "metadata": {},
   "outputs": [
    {
     "data": {
      "text/plain": [
       "'foobar'"
      ]
     },
     "execution_count": 20,
     "metadata": {},
     "output_type": "execute_result"
    }
   ],
   "source": [
    "some_variable"
   ]
  },
  {
   "cell_type": "code",
   "execution_count": 21,
   "metadata": {},
   "outputs": [
    {
     "data": {
      "text/plain": [
       "<function useful.boo()>"
      ]
     },
     "execution_count": 21,
     "metadata": {},
     "output_type": "execute_result"
    }
   ],
   "source": [
    "foo"
   ]
  },
  {
   "cell_type": "markdown",
   "metadata": {},
   "source": [
    "### `from ... import * `\n",
    "\n",
    "Import only names from the global variable `__all__` if it exists; otherwise import all names from the `global()` module."
   ]
  },
  {
   "cell_type": "code",
   "execution_count": 22,
   "metadata": {},
   "outputs": [],
   "source": [
    "from useful import *"
   ]
  },
  {
   "cell_type": "code",
   "execution_count": 23,
   "metadata": {},
   "outputs": [
    {
     "data": {
      "text/plain": [
       "'foobar'"
      ]
     },
     "execution_count": 23,
     "metadata": {},
     "output_type": "execute_result"
    }
   ],
   "source": [
    "some_variable"
   ]
  },
  {
   "cell_type": "markdown",
   "metadata": {},
   "source": [
    "💡 Avoid using `from ... import *`, it complicates code readability."
   ]
  },
  {
   "cell_type": "markdown",
   "metadata": {},
   "source": [
    "## Packages\n",
    "\n",
    "- Packages help to structure our code\n",
    "- Any directory containing `__init__.py` automatically becomes a package"
   ]
  },
  {
   "cell_type": "code",
   "execution_count": 24,
   "metadata": {},
   "outputs": [
    {
     "name": "stdout",
     "output_type": "stream",
     "text": [
      "\u001b[34mpackagesample/\u001b[00m\r\n",
      "├── __init__.py\r\n",
      "├── __main__.py\r\n",
      "├── \u001b[34m__pycache__\u001b[00m\r\n",
      "│   ├── __init__.cpython-37.pyc\r\n",
      "│   ├── __main__.cpython-37.pyc\r\n",
      "│   ├── bar.cpython-37.pyc\r\n",
      "│   └── foo.cpython-37.pyc\r\n",
      "├── bar.py\r\n",
      "├── foo.py\r\n",
      "└── \u001b[34msubpackage\u001b[00m\r\n",
      "    ├── __init__.py\r\n",
      "    ├── \u001b[34m__pycache__\u001b[00m\r\n",
      "    │   └── __init__.cpython-37.pyc\r\n",
      "    └── baz.py\r\n",
      "\r\n",
      "3 directories, 11 files\r\n"
     ]
    }
   ],
   "source": [
    "! tree packagesample/"
   ]
  },
  {
   "cell_type": "code",
   "execution_count": 25,
   "metadata": {},
   "outputs": [
    {
     "name": "stdout",
     "output_type": "stream",
     "text": [
      "packagesample.__init__.py\n"
     ]
    },
    {
     "data": {
      "text/plain": [
       "<module 'packagesample' from '/Users/akrisanov/Development/python_notebook/packagesample/__init__.py'>"
      ]
     },
     "execution_count": 25,
     "metadata": {},
     "output_type": "execute_result"
    }
   ],
   "source": [
    "import packagesample\n",
    "packagesample"
   ]
  },
  {
   "cell_type": "code",
   "execution_count": 26,
   "metadata": {},
   "outputs": [
    {
     "ename": "AttributeError",
     "evalue": "module 'packagesample' has no attribute 'foo'",
     "output_type": "error",
     "traceback": [
      "\u001b[0;31m---------------------------------------------------------------------------\u001b[0m",
      "\u001b[0;31mAttributeError\u001b[0m                            Traceback (most recent call last)",
      "\u001b[0;32m<ipython-input-26-7f4565073721>\u001b[0m in \u001b[0;36m<module>\u001b[0;34m\u001b[0m\n\u001b[0;32m----> 1\u001b[0;31m \u001b[0mpackagesample\u001b[0m\u001b[0;34m.\u001b[0m\u001b[0mfoo\u001b[0m\u001b[0;34m\u001b[0m\u001b[0;34m\u001b[0m\u001b[0m\n\u001b[0m",
      "\u001b[0;31mAttributeError\u001b[0m: module 'packagesample' has no attribute 'foo'"
     ]
    }
   ],
   "source": [
    "packagesample.foo"
   ]
  },
  {
   "cell_type": "markdown",
   "metadata": {},
   "source": [
    "### Importing Modules From a Package"
   ]
  },
  {
   "cell_type": "code",
   "execution_count": 27,
   "metadata": {},
   "outputs": [
    {
     "name": "stdout",
     "output_type": "stream",
     "text": [
      "packagesample.foo\n"
     ]
    }
   ],
   "source": [
    "import packagesample.foo"
   ]
  },
  {
   "cell_type": "code",
   "execution_count": 28,
   "metadata": {},
   "outputs": [
    {
     "data": {
      "text/plain": [
       "<module 'packagesample' from '/Users/akrisanov/Development/python_notebook/packagesample/__init__.py'>"
      ]
     },
     "execution_count": 28,
     "metadata": {},
     "output_type": "execute_result"
    }
   ],
   "source": [
    "packagesample # !"
   ]
  },
  {
   "cell_type": "code",
   "execution_count": 29,
   "metadata": {},
   "outputs": [
    {
     "data": {
      "text/plain": [
       "<module 'packagesample.foo' from '/Users/akrisanov/Development/python_notebook/packagesample/foo.py'>"
      ]
     },
     "execution_count": 29,
     "metadata": {},
     "output_type": "execute_result"
    }
   ],
   "source": [
    "packagesample.foo"
   ]
  },
  {
   "cell_type": "code",
   "execution_count": 30,
   "metadata": {},
   "outputs": [],
   "source": [
    "from packagesample import bar"
   ]
  },
  {
   "cell_type": "code",
   "execution_count": 31,
   "metadata": {},
   "outputs": [
    {
     "data": {
      "text/plain": [
       "<module 'packagesample.bar' from '/Users/akrisanov/Development/python_notebook/packagesample/bar.py'>"
      ]
     },
     "execution_count": 31,
     "metadata": {},
     "output_type": "execute_result"
    }
   ],
   "source": [
    "bar"
   ]
  },
  {
   "cell_type": "markdown",
   "metadata": {},
   "source": [
    "### Relative Imports\n",
    "\n",
    "[PEP 328 -- Imports: Multi-Line and Absolute/Relative](https://www.python.org/dev/peps/pep-0328/)\n",
    "\n",
    "In modules of the `packagesample` package we can relatively import the names:\n",
    "\n",
    "```python\n",
    "from . import foo, bar\n",
    "```\n",
    "\n",
    "⚠️ Unfortunately, this doesn't work in an interactive shell."
   ]
  },
  {
   "cell_type": "markdown",
   "metadata": {},
   "source": [
    "### Subpackages"
   ]
  },
  {
   "cell_type": "code",
   "execution_count": 32,
   "metadata": {},
   "outputs": [
    {
     "name": "stdout",
     "output_type": "stream",
     "text": [
      "\u001b[34mpackagesample/\u001b[00m\r\n",
      "├── __init__.py\r\n",
      "├── __main__.py\r\n",
      "├── bar.py\r\n",
      "├── foo.py\r\n",
      "└── \u001b[34msubpackage\u001b[00m\r\n",
      "    ├── __init__.py\r\n",
      "    └── baz.py\r\n",
      "\r\n",
      "1 directory, 6 files\r\n"
     ]
    }
   ],
   "source": [
    "! tree packagesample/ -I __pycache__"
   ]
  },
  {
   "cell_type": "code",
   "execution_count": 33,
   "metadata": {},
   "outputs": [],
   "source": [
    "import packagesample.subpackage"
   ]
  },
  {
   "cell_type": "code",
   "execution_count": 34,
   "metadata": {},
   "outputs": [
    {
     "data": {
      "text/plain": [
       "<module 'packagesample.subpackage' from '/Users/akrisanov/Development/python_notebook/packagesample/subpackage/__init__.py'>"
      ]
     },
     "execution_count": 34,
     "metadata": {},
     "output_type": "execute_result"
    }
   ],
   "source": [
    "packagesample.subpackage"
   ]
  },
  {
   "cell_type": "markdown",
   "metadata": {},
   "source": [
    "### Using `__init__.py` As a Facade\n",
    "\n",
    "```python\n",
    "# packagesample/subpackage/__init__.py\n",
    "from .baz import *\n",
    "\n",
    "__all__ = baz.__all__\n",
    "\n",
    "# packagesample/__init__.py\n",
    "from .foo import *\n",
    "from .baz import *\n",
    "\n",
    "__all__ = foo.__all__ + baz.__all__\n",
    "```\n",
    "\n",
    "Pros:\n",
    "- You don not need to remember the package structure to import it\n",
    "- Helps to encapsulate details\n",
    "- Simplifies the refactoring\n",
    "\n",
    "Cons:\n",
    "- Speed"
   ]
  },
  {
   "cell_type": "markdown",
   "metadata": {},
   "source": [
    "## Executing Modules As Scripts\n",
    "\n",
    "[PEP 338](https://www.python.org/dev/peps/pep-0338/)"
   ]
  },
  {
   "cell_type": "code",
   "execution_count": 35,
   "metadata": {},
   "outputs": [
    {
     "name": "stdout",
     "output_type": "stream",
     "text": [
      "packagesample.__init__.py\r\n",
      "__main__\r\n"
     ]
    }
   ],
   "source": [
    "# executable module\n",
    "! python3 -m packagesample.foo"
   ]
  },
  {
   "cell_type": "code",
   "execution_count": 36,
   "metadata": {},
   "outputs": [
    {
     "name": "stdout",
     "output_type": "stream",
     "text": [
      "packagesample.__init__.py\r\n",
      "It works!\r\n"
     ]
    }
   ],
   "source": [
    "# executable package\n",
    "! python3 -m packagesample"
   ]
  },
  {
   "cell_type": "code",
   "execution_count": 37,
   "metadata": {},
   "outputs": [
    {
     "name": "stdout",
     "output_type": "stream",
     "text": [
      "packagesample.__init__.py\r\n",
      "It works!\r\n"
     ]
    }
   ],
   "source": [
    "# ^^^\n",
    "! python3 -m packagesample.__main__"
   ]
  },
  {
   "cell_type": "markdown",
   "metadata": {},
   "source": [
    "## Implicit Namespace Packages\n",
    "\n",
    "[PEP420](https://www.python.org/dev/peps/pep-0420/)"
   ]
  },
  {
   "cell_type": "markdown",
   "metadata": {},
   "source": [
    "## How Import Works"
   ]
  },
  {
   "cell_type": "code",
   "execution_count": 38,
   "metadata": {},
   "outputs": [
    {
     "name": "stdout",
     "output_type": "stream",
     "text": [
      "  1           0 LOAD_CONST               0 (0)\n",
      "              2 LOAD_CONST               1 (None)\n",
      "              4 IMPORT_NAME              0 (packagesample)\n",
      "              6 STORE_NAME               0 (packagesample)\n",
      "              8 LOAD_CONST               1 (None)\n",
      "             10 RETURN_VALUE\n"
     ]
    }
   ],
   "source": [
    "import dis\n",
    "dis.dis(\"import packagesample\")"
   ]
  },
  {
   "cell_type": "markdown",
   "metadata": {},
   "source": [
    "`IMPORT NAME` calls the `__import` function:"
   ]
  },
  {
   "cell_type": "code",
   "execution_count": 39,
   "metadata": {},
   "outputs": [
    {
     "data": {
      "text/plain": [
       "<function __import__>"
      ]
     },
     "execution_count": 39,
     "metadata": {},
     "output_type": "execute_result"
    }
   ],
   "source": [
    "__import__  # builtins"
   ]
  },
  {
   "cell_type": "code",
   "execution_count": 40,
   "metadata": {},
   "outputs": [],
   "source": [
    "packagesample = __import__(\"packagesample\", globals(),\n",
    "                           None, None, 0)"
   ]
  },
  {
   "cell_type": "code",
   "execution_count": 41,
   "metadata": {},
   "outputs": [
    {
     "data": {
      "text/plain": [
       "<module 'packagesample' from '/Users/akrisanov/Development/python_notebook/packagesample/__init__.py'>"
      ]
     },
     "execution_count": 41,
     "metadata": {},
     "output_type": "execute_result"
    }
   ],
   "source": [
    "packagesample"
   ]
  },
  {
   "cell_type": "markdown",
   "metadata": {},
   "source": [
    "`import` keyword is actually a wrapper around a function named `__import__`. The `__import__` function is extremely useful to know. We can even imitate `as` keyword with it."
   ]
  },
  {
   "cell_type": "code",
   "execution_count": 42,
   "metadata": {},
   "outputs": [
    {
     "data": {
      "text/plain": [
       "<module 'itertools' (built-in)>"
      ]
     },
     "execution_count": 42,
     "metadata": {},
     "output_type": "execute_result"
    }
   ],
   "source": [
    "it = __import__('itertools')\n",
    "it"
   ]
  },
  {
   "cell_type": "markdown",
   "metadata": {},
   "source": [
    "🙈 Monkey patching is possible here:\n",
    "\n",
    "```python\n",
    "import builtins\n",
    "del builtins.__import__\n",
    "\n",
    "import math  # boom! ImportError: __import__ not found\n",
    "```"
   ]
  },
  {
   "cell_type": "markdown",
   "metadata": {},
   "source": [
    "_Modules, once imported, are essentially objects whose attributes (classes, functions, variables, and so on) are objects._"
   ]
  },
  {
   "cell_type": "code",
   "execution_count": 43,
   "metadata": {},
   "outputs": [
    {
     "data": {
      "text/plain": [
       "('_abc',\n",
       " '_ast',\n",
       " '_codecs',\n",
       " '_collections',\n",
       " '_functools',\n",
       " '_imp',\n",
       " '_io',\n",
       " '_locale',\n",
       " '_operator',\n",
       " '_signal',\n",
       " '_sre',\n",
       " '_stat',\n",
       " '_string',\n",
       " '_symtable',\n",
       " '_thread',\n",
       " '_tracemalloc',\n",
       " '_warnings',\n",
       " '_weakref',\n",
       " 'atexit',\n",
       " 'builtins',\n",
       " 'errno',\n",
       " 'faulthandler',\n",
       " 'gc',\n",
       " 'itertools',\n",
       " 'marshal',\n",
       " 'posix',\n",
       " 'pwd',\n",
       " 'sys',\n",
       " 'time',\n",
       " 'xxsubtype',\n",
       " 'zipimport')"
      ]
     },
     "execution_count": 43,
     "metadata": {},
     "output_type": "execute_result"
    }
   ],
   "source": [
    "import sys\n",
    "sys.builtin_module_names"
   ]
  },
  {
   "cell_type": "markdown",
   "metadata": {},
   "source": [
    "## Inside `__import__`"
   ]
  },
  {
   "cell_type": "code",
   "execution_count": 44,
   "metadata": {},
   "outputs": [],
   "source": [
    "# Create an empty object\n",
    "import types\n",
    "mod = types.ModuleType(\"useful\")"
   ]
  },
  {
   "cell_type": "code",
   "execution_count": 45,
   "metadata": {},
   "outputs": [
    {
     "data": {
      "text/plain": [
       "['__builtins__',\n",
       " '__doc__',\n",
       " '__loader__',\n",
       " '__name__',\n",
       " '__package__',\n",
       " '__spec__',\n",
       " 'boo',\n",
       " 'some_variable']"
      ]
     },
     "execution_count": 45,
     "metadata": {},
     "output_type": "execute_result"
    }
   ],
   "source": [
    "# Evaluate a module bytecode\n",
    "with open(\"./useful.py\") as handle:\n",
    "    source = handle.read()\n",
    "    \n",
    "code = compile(source, \"useful.py\", mode=\"exec\")\n",
    "exec(code, mod.__dict__)\n",
    "dir(mod)"
   ]
  },
  {
   "cell_type": "code",
   "execution_count": 46,
   "metadata": {},
   "outputs": [
    {
     "data": {
      "text/plain": [
       "<module 'useful'>"
      ]
     },
     "execution_count": 46,
     "metadata": {},
     "output_type": "execute_result"
    }
   ],
   "source": [
    "# Assign an object to an appropriate variable\n",
    "useful = mod\n",
    "useful  # ≃ import useful"
   ]
  },
  {
   "cell_type": "markdown",
   "metadata": {},
   "source": [
    "## Compiling Modules"
   ]
  },
  {
   "cell_type": "markdown",
   "metadata": {},
   "source": [
    "### Step 1\n",
    "\n",
    "When we import a module for the first time it compiles to bytecode. This bytecode is cached in a file with the `pyc` extension.\n",
    "\n",
    "- [The structure of .pyc files](https://nedbatchelder.com/blog/200804/the_structure_of_pyc_files.html)\n",
    "- [Reading pyc file (Python 3.5.2)](https://qiita.com/amedama/items/698a7c4dbdd34b03b427)\n",
    "- [PEP 552: Hash-based .pyc Files](https://docs.python.org/3/whatsnew/3.7.html#pep-552-hash-based-pyc-files)\n",
    "\n",
    "### Step 2"
   ]
  },
  {
   "cell_type": "code",
   "execution_count": 85,
   "metadata": {},
   "outputs": [
    {
     "name": "stdout",
     "output_type": "stream",
     "text": [
      "**********************\n",
      "Hi from the other side\n",
      "**********************\n"
     ]
    }
   ],
   "source": [
    "import printer\n",
    "import sys"
   ]
  },
  {
   "cell_type": "code",
   "execution_count": 86,
   "metadata": {},
   "outputs": [
    {
     "data": {
      "text/plain": [
       "True"
      ]
     },
     "execution_count": 86,
     "metadata": {},
     "output_type": "execute_result"
    }
   ],
   "source": [
    "\"printer\" in sys.modules"
   ]
  },
  {
   "cell_type": "markdown",
   "metadata": {},
   "source": [
    "⚠️ Re-importing an already loaded module does not reload it:"
   ]
  },
  {
   "cell_type": "code",
   "execution_count": 87,
   "metadata": {},
   "outputs": [
    {
     "data": {
      "text/plain": [
       "4439758800"
      ]
     },
     "execution_count": 87,
     "metadata": {},
     "output_type": "execute_result"
    }
   ],
   "source": [
    "id(sys.modules[\"printer\"])"
   ]
  },
  {
   "cell_type": "code",
   "execution_count": 88,
   "metadata": {},
   "outputs": [],
   "source": [
    "import printer"
   ]
  },
  {
   "cell_type": "code",
   "execution_count": 89,
   "metadata": {},
   "outputs": [
    {
     "data": {
      "text/plain": [
       "4439758800"
      ]
     },
     "execution_count": 89,
     "metadata": {},
     "output_type": "execute_result"
    }
   ],
   "source": [
    "id(sys.modules[\"printer\"])"
   ]
  },
  {
   "cell_type": "markdown",
   "metadata": {},
   "source": [
    "## Circular (or cyclic) Imports\n",
    "\n",
    "`packagesample/__init__.py`:\n",
    "```python\n",
    "from .foo import *\n",
    "\n",
    "some_variable = 42\n",
    "```\n",
    "\n",
    "`packagesample/foo.py`:\n",
    "```python\n",
    "from . import some_variable\n",
    "\n",
    "def foo():\n",
    "    print(some_variable)\n",
    "```\n",
    "\n",
    "Usage:\n",
    "\n",
    "```python\n",
    "import packagesample\n",
    "ImportError: cannot import name 'some_variable`\n",
    "```\n",
    "\n",
    "- [Yet another solution to dig you out of a circular import hole in Python](https://www.stefaanlippens.net/circular-imports-type-hints-python.html)\n",
    "- [Cyclic imports in Python](https://www.cs.grinnell.edu/~rebelsky/musings/cyclic-imports-python)"
   ]
  },
  {
   "cell_type": "markdown",
   "metadata": {},
   "source": [
    "## sys.path"
   ]
  },
  {
   "cell_type": "code",
   "execution_count": 52,
   "metadata": {},
   "outputs": [
    {
     "data": {
      "text/plain": [
       "['/Users/akrisanov/Development/python_notebook',\n",
       " '/usr/local/Cellar/python/3.7.7/Frameworks/Python.framework/Versions/3.7/lib/python37.zip',\n",
       " '/usr/local/Cellar/python/3.7.7/Frameworks/Python.framework/Versions/3.7/lib/python3.7',\n",
       " '/usr/local/Cellar/python/3.7.7/Frameworks/Python.framework/Versions/3.7/lib/python3.7/lib-dynload',\n",
       " '',\n",
       " '/Users/akrisanov/Library/Python/3.7/lib/python/site-packages',\n",
       " '/usr/local/lib/python3.7/site-packages',\n",
       " '/usr/local/lib/python3.7/site-packages/drupwn-0.9.2-py3.7.egg',\n",
       " '/usr/local/lib/python3.7/site-packages/PySocks-1.6.8-py3.7.egg',\n",
       " '/usr/local/lib/python3.7/site-packages/veryprettytable-0.8.1-py3.7.egg',\n",
       " '/usr/local/lib/python3.7/site-packages/wcwidth-0.1.7-py3.7.egg',\n",
       " '/usr/local/lib/python3.7/site-packages/colorama-0.3.9-py3.7.egg',\n",
       " '/usr/local/lib/python3.7/site-packages/termcolor-1.1.0-py3.7.egg',\n",
       " '/usr/local/Cellar/protobuf/3.11.4/libexec/lib/python3.7/site-packages',\n",
       " '/usr/local/lib/python3.7/site-packages/IPython/extensions',\n",
       " '/Users/akrisanov/.ipython']"
      ]
     },
     "execution_count": 52,
     "metadata": {},
     "output_type": "execute_result"
    }
   ],
   "source": [
    "import sys\n",
    "sys.path"
   ]
  },
  {
   "cell_type": "markdown",
   "metadata": {},
   "source": [
    "### Python 2 vs Python 3\n",
    "\n",
    "\n",
    "```\n",
    "/tmp ❯❯❯ touch collections.py\n",
    "/tmp ❯❯❯ python\n",
    "Python 2.7.17 (default, Jan  1 2020, 22:13:02)\n",
    "[GCC 4.2.1 Compatible Apple LLVM 11.0.0 (clang-1100.0.28.3)] on darwin\n",
    "Type \"help\", \"copyright\", \"credits\" or \"license\" for more information.\n",
    ">>> import collections\n",
    ">>> collections\n",
    "<module 'collections' from 'collections.py'>\n",
    "\n",
    "/tmp ❯❯❯ python3\n",
    "Python 3.7.7 (default, Mar 10 2020, 15:43:33)\n",
    "[Clang 11.0.0 (clang-1100.0.33.17)] on darwin\n",
    "Type \"help\", \"copyright\", \"credits\" or \"license\" for more information.\n",
    ">>> import collections\n",
    ">>> collections\n",
    "<module 'collections' from '/usr/local/Cellar/python/3.7.7/Frameworks/Python.framework/Versions/3.7/lib/python3.7/collections/__init__.py'>\n",
    "```"
   ]
  },
  {
   "cell_type": "markdown",
   "metadata": {},
   "source": [
    "### Building `sys.path`"
   ]
  },
  {
   "cell_type": "markdown",
   "metadata": {},
   "source": [
    "Current directory and standard library folders:"
   ]
  },
  {
   "cell_type": "code",
   "execution_count": 53,
   "metadata": {},
   "outputs": [
    {
     "name": "stdout",
     "output_type": "stream",
     "text": [
      "['', '/usr/local/Cellar/python/3.7.7/Frameworks/Python.framework/Versions/3.7/lib/python37.zip', '/usr/local/Cellar/python/3.7.7/Frameworks/Python.framework/Versions/3.7/lib/python3.7', '/usr/local/Cellar/python/3.7.7/Frameworks/Python.framework/Versions/3.7/lib/python3.7/lib-dynload']\r\n"
     ]
    }
   ],
   "source": [
    "! python3 -S -c \"import sys; print(sys.path)\""
   ]
  },
  {
   "cell_type": "markdown",
   "metadata": {},
   "source": [
    "Installed packages:"
   ]
  },
  {
   "cell_type": "code",
   "execution_count": 54,
   "metadata": {},
   "outputs": [
    {
     "name": "stdout",
     "output_type": "stream",
     "text": [
      "['', '/usr/local/Cellar/python/3.7.7/Frameworks/Python.framework/Versions/3.7/lib/python37.zip', '/usr/local/Cellar/python/3.7.7/Frameworks/Python.framework/Versions/3.7/lib/python3.7', '/usr/local/Cellar/python/3.7.7/Frameworks/Python.framework/Versions/3.7/lib/python3.7/lib-dynload', '/Users/akrisanov/Library/Python/3.7/lib/python/site-packages', '/usr/local/lib/python3.7/site-packages', '/usr/local/lib/python3.7/site-packages/drupwn-0.9.2-py3.7.egg', '/usr/local/lib/python3.7/site-packages/PySocks-1.6.8-py3.7.egg', '/usr/local/lib/python3.7/site-packages/veryprettytable-0.8.1-py3.7.egg', '/usr/local/lib/python3.7/site-packages/wcwidth-0.1.7-py3.7.egg', '/usr/local/lib/python3.7/site-packages/colorama-0.3.9-py3.7.egg', '/usr/local/lib/python3.7/site-packages/termcolor-1.1.0-py3.7.egg', '/usr/local/Cellar/protobuf/3.11.4/libexec/lib/python3.7/site-packages']\r\n"
     ]
    }
   ],
   "source": [
    "! python3 -c \"import sys; print(sys.path)\""
   ]
  },
  {
   "cell_type": "markdown",
   "metadata": {},
   "source": [
    "Dirs from `PYTHONPATH`. They will be added to the beginning of the `sys.path` list:"
   ]
  },
  {
   "cell_type": "code",
   "execution_count": 55,
   "metadata": {},
   "outputs": [
    {
     "name": "stdout",
     "output_type": "stream",
     "text": [
      "['', '/Users/akrisanov/Development/python_notebook/foo', '/Users/akrisanov/Development/python_notebook/bar', '/usr/local/Cellar/python/3.7.7/Frameworks/Python.framework/Versions/3.7/lib/python37.zip', '/usr/local/Cellar/python/3.7.7/Frameworks/Python.framework/Versions/3.7/lib/python3.7', '/usr/local/Cellar/python/3.7.7/Frameworks/Python.framework/Versions/3.7/lib/python3.7/lib-dynload', '/Users/akrisanov/Library/Python/3.7/lib/python/site-packages', '/usr/local/lib/python3.7/site-packages', '/usr/local/lib/python3.7/site-packages/drupwn-0.9.2-py3.7.egg', '/usr/local/lib/python3.7/site-packages/PySocks-1.6.8-py3.7.egg', '/usr/local/lib/python3.7/site-packages/veryprettytable-0.8.1-py3.7.egg', '/usr/local/lib/python3.7/site-packages/wcwidth-0.1.7-py3.7.egg', '/usr/local/lib/python3.7/site-packages/colorama-0.3.9-py3.7.egg', '/usr/local/lib/python3.7/site-packages/termcolor-1.1.0-py3.7.egg', '/usr/local/Cellar/protobuf/3.11.4/libexec/lib/python3.7/site-packages']\r\n"
     ]
    }
   ],
   "source": [
    "! PYTHONPATH=foo:bar python3 \\\n",
    "    -c \"import sys; print(sys.path)\""
   ]
  },
  {
   "cell_type": "markdown",
   "metadata": {},
   "source": [
    "## `sys.path` and `sys.meta_path`\n",
    "\n",
    "A list of finder objects that have their `find_module()` methods called to see if one of the objects can find the module to be imported. The `find_module()` method is called at least with the absolute name of the module being imported. If the module to be imported is contained in package then the parent package’s `__path__` attribute is passed in as a second argument. The method returns `None` if the module cannot be found, else returns a loader.\n",
    "\n",
    "`sys.meta_path` is searched before any implicit default finders or `sys.path`.\n",
    "\n",
    "[PEP 302](http://www.python.org/dev/peps/pep-0302)"
   ]
  },
  {
   "cell_type": "code",
   "execution_count": 56,
   "metadata": {},
   "outputs": [
    {
     "data": {
      "text/plain": [
       "[_frozen_importlib.BuiltinImporter,\n",
       " _frozen_importlib.FrozenImporter,\n",
       " _frozen_importlib_external.PathFinder,\n",
       " <six._SixMetaPathImporter at 0x1069442d0>,\n",
       " <pkg_resources.extern.VendorImporter at 0x1071c9090>,\n",
       " <pkg_resources._vendor.six._SixMetaPathImporter at 0x1071d8150>]"
      ]
     },
     "execution_count": 56,
     "metadata": {},
     "output_type": "execute_result"
    }
   ],
   "source": [
    "sys.meta_path"
   ]
  },
  {
   "cell_type": "markdown",
   "metadata": {},
   "source": [
    "### Finder Protocol"
   ]
  },
  {
   "cell_type": "code",
   "execution_count": 57,
   "metadata": {},
   "outputs": [],
   "source": [
    "import sys\n",
    "builtin_finder, _, path_finder, *_ = sys.meta_path"
   ]
  },
  {
   "cell_type": "code",
   "execution_count": 58,
   "metadata": {},
   "outputs": [
    {
     "data": {
      "text/plain": [
       "ModuleSpec(name='itertools', loader=<class '_frozen_importlib.BuiltinImporter'>, origin='built-in')"
      ]
     },
     "execution_count": 58,
     "metadata": {},
     "output_type": "execute_result"
    }
   ],
   "source": [
    "builtin_finder.find_spec(\"itertools\")"
   ]
  },
  {
   "cell_type": "code",
   "execution_count": 59,
   "metadata": {},
   "outputs": [],
   "source": [
    "builtin_finder.find_spec(\"enum\")"
   ]
  },
  {
   "cell_type": "code",
   "execution_count": 60,
   "metadata": {},
   "outputs": [
    {
     "data": {
      "text/plain": [
       "ModuleSpec(name='enum', loader=<_frozen_importlib_external.SourceFileLoader object at 0x108a1b390>, origin='/usr/local/Cellar/python/3.7.7/Frameworks/Python.framework/Versions/3.7/lib/python3.7/enum.py')"
      ]
     },
     "execution_count": 60,
     "metadata": {},
     "output_type": "execute_result"
    }
   ],
   "source": [
    "path_finder.find_spec(\"enum\")"
   ]
  },
  {
   "cell_type": "code",
   "execution_count": 61,
   "metadata": {},
   "outputs": [
    {
     "data": {
      "text/plain": [
       "ModuleSpec(name='math', loader=<_frozen_importlib_external.ExtensionFileLoader object at 0x108a25d50>, origin='/usr/local/Cellar/python/3.7.7/Frameworks/Python.framework/Versions/3.7/lib/python3.7/lib-dynload/math.cpython-37m-darwin.so')"
      ]
     },
     "execution_count": 61,
     "metadata": {},
     "output_type": "execute_result"
    }
   ],
   "source": [
    "path_finder.find_spec(\"math\")"
   ]
  },
  {
   "cell_type": "markdown",
   "metadata": {},
   "source": [
    "#### ModuleSpec"
   ]
  },
  {
   "cell_type": "code",
   "execution_count": 62,
   "metadata": {},
   "outputs": [],
   "source": [
    "spec = path_finder.find_spec(\"collections\")"
   ]
  },
  {
   "cell_type": "code",
   "execution_count": 63,
   "metadata": {},
   "outputs": [
    {
     "data": {
      "text/plain": [
       "'collections'"
      ]
     },
     "execution_count": 63,
     "metadata": {},
     "output_type": "execute_result"
    }
   ],
   "source": [
    "spec.name"
   ]
  },
  {
   "cell_type": "code",
   "execution_count": 64,
   "metadata": {},
   "outputs": [
    {
     "data": {
      "text/plain": [
       "'/usr/local/Cellar/python/3.7.7/Frameworks/Python.framework/Versions/3.7/lib/python3.7/collections/__init__.py'"
      ]
     },
     "execution_count": 64,
     "metadata": {},
     "output_type": "execute_result"
    }
   ],
   "source": [
    "spec.origin"
   ]
  },
  {
   "cell_type": "code",
   "execution_count": 65,
   "metadata": {},
   "outputs": [
    {
     "data": {
      "text/plain": [
       "'/usr/local/Cellar/python/3.7.7/Frameworks/Python.framework/Versions/3.7/lib/python3.7/collections/__pycache__/__init__.cpython-37.pyc'"
      ]
     },
     "execution_count": 65,
     "metadata": {},
     "output_type": "execute_result"
    }
   ],
   "source": [
    "spec.cached"
   ]
  },
  {
   "cell_type": "code",
   "execution_count": 66,
   "metadata": {},
   "outputs": [
    {
     "data": {
      "text/plain": [
       "'collections'"
      ]
     },
     "execution_count": 66,
     "metadata": {},
     "output_type": "execute_result"
    }
   ],
   "source": [
    "spec.parent"
   ]
  },
  {
   "cell_type": "code",
   "execution_count": 67,
   "metadata": {},
   "outputs": [
    {
     "data": {
      "text/plain": [
       "['/usr/local/Cellar/python/3.7.7/Frameworks/Python.framework/Versions/3.7/lib/python3.7/collections']"
      ]
     },
     "execution_count": 67,
     "metadata": {},
     "output_type": "execute_result"
    }
   ],
   "source": [
    "spec.submodule_search_locations"
   ]
  },
  {
   "cell_type": "code",
   "execution_count": 68,
   "metadata": {},
   "outputs": [
    {
     "data": {
      "text/plain": [
       "<_frozen_importlib_external.SourceFileLoader at 0x108a29790>"
      ]
     },
     "execution_count": 68,
     "metadata": {},
     "output_type": "execute_result"
    }
   ],
   "source": [
    "spec.loader"
   ]
  },
  {
   "cell_type": "markdown",
   "metadata": {},
   "source": [
    "### Loader Protocol"
   ]
  },
  {
   "cell_type": "code",
   "execution_count": 69,
   "metadata": {},
   "outputs": [],
   "source": [
    "from importlib.util import find_spec"
   ]
  },
  {
   "cell_type": "code",
   "execution_count": 70,
   "metadata": {},
   "outputs": [],
   "source": [
    "spec = find_spec(\"enum\")"
   ]
  },
  {
   "cell_type": "code",
   "execution_count": 71,
   "metadata": {},
   "outputs": [],
   "source": [
    "mod = spec.loader.create_module(spec)"
   ]
  },
  {
   "cell_type": "code",
   "execution_count": 72,
   "metadata": {},
   "outputs": [],
   "source": [
    "mod  # None --- using the standard loader"
   ]
  },
  {
   "cell_type": "code",
   "execution_count": 73,
   "metadata": {},
   "outputs": [],
   "source": [
    "from importlib.util import module_from_spec"
   ]
  },
  {
   "cell_type": "code",
   "execution_count": 74,
   "metadata": {},
   "outputs": [],
   "source": [
    "mod = module_from_spec(spec)"
   ]
  },
  {
   "cell_type": "code",
   "execution_count": 75,
   "metadata": {},
   "outputs": [
    {
     "data": {
      "text/plain": [
       "<module 'enum' from '/usr/local/Cellar/python/3.7.7/Frameworks/Python.framework/Versions/3.7/lib/python3.7/enum.py'>"
      ]
     },
     "execution_count": 75,
     "metadata": {},
     "output_type": "execute_result"
    }
   ],
   "source": [
    "mod"
   ]
  },
  {
   "cell_type": "code",
   "execution_count": 76,
   "metadata": {},
   "outputs": [
    {
     "data": {
      "text/plain": [
       "['__cached__',\n",
       " '__doc__',\n",
       " '__file__',\n",
       " '__loader__',\n",
       " '__name__',\n",
       " '__package__',\n",
       " '__spec__']"
      ]
     },
     "execution_count": 76,
     "metadata": {},
     "output_type": "execute_result"
    }
   ],
   "source": [
    "dir(mod)"
   ]
  },
  {
   "cell_type": "code",
   "execution_count": 77,
   "metadata": {},
   "outputs": [],
   "source": [
    "spec.loader.exec_module(mod)"
   ]
  },
  {
   "cell_type": "code",
   "execution_count": 78,
   "metadata": {},
   "outputs": [
    {
     "data": {
      "text/plain": [
       "['DynamicClassAttribute',\n",
       " 'Enum',\n",
       " 'EnumMeta',\n",
       " 'Flag',\n",
       " 'IntEnum',\n",
       " 'IntFlag',\n",
       " 'MappingProxyType',\n",
       " 'OrderedDict',\n",
       " '_EnumDict',\n",
       " '__all__',\n",
       " '__builtins__',\n",
       " '__cached__',\n",
       " '__doc__',\n",
       " '__file__',\n",
       " '__loader__',\n",
       " '__name__',\n",
       " '__package__',\n",
       " '__spec__',\n",
       " '_auto_null',\n",
       " '_decompose',\n",
       " '_high_bit',\n",
       " '_is_descriptor',\n",
       " '_is_dunder',\n",
       " '_is_sunder',\n",
       " '_make_class_unpicklable',\n",
       " '_power_of_two',\n",
       " '_reduce_ex_by_name',\n",
       " 'auto',\n",
       " 'sys',\n",
       " 'unique']"
      ]
     },
     "execution_count": 78,
     "metadata": {},
     "output_type": "execute_result"
    }
   ],
   "source": [
    "dir(mod)"
   ]
  },
  {
   "cell_type": "markdown",
   "metadata": {},
   "source": [
    "### Auto Installer\n",
    "\n",
    "[David Beazley's Talk](https://www.youtube.com/watch?v=0oTh1CXRaQ0&feature=youtu.be&t=2h39m46s)"
   ]
  },
  {
   "cell_type": "code",
   "execution_count": 79,
   "metadata": {},
   "outputs": [],
   "source": [
    "import subprocess\n",
    "import sys\n",
    "from importlib.util import find_spec\n",
    "from importlib.abc import MetaPathFinder\n",
    "\n",
    "class AutoInstall(MetaPathFinder):\n",
    "    _loaded = set()\n",
    "    \n",
    "    @classmethod\n",
    "    def find_spec(cls, name, path=None, target=None):\n",
    "        if path is None and name not in cls._loaded:\n",
    "            print(\"Installing\", name)\n",
    "            cls._loaded.add(name)\n",
    "            try:\n",
    "                subprocess.check_output([\n",
    "                    sys.executable, \"-m\", \"pip\", \"install\",\n",
    "                    name])\n",
    "                return find_spec(name)\n",
    "            except Exception:\n",
    "                print(\"Failed\")\n",
    "        return None"
   ]
  },
  {
   "cell_type": "markdown",
   "metadata": {},
   "source": [
    "## sys.path_hooks"
   ]
  },
  {
   "cell_type": "code",
   "execution_count": 80,
   "metadata": {},
   "outputs": [
    {
     "data": {
      "text/plain": [
       "[zipimport.zipimporter,\n",
       " <function _frozen_importlib_external.FileFinder.path_hook.<locals>.path_hook_for_FileFinder(path)>]"
      ]
     },
     "execution_count": 80,
     "metadata": {},
     "output_type": "execute_result"
    }
   ],
   "source": [
    "import sys\n",
    "sys.path_hooks"
   ]
  },
  {
   "cell_type": "code",
   "execution_count": 81,
   "metadata": {},
   "outputs": [
    {
     "ename": "ZipImportError",
     "evalue": "not a Zip file",
     "output_type": "error",
     "traceback": [
      "\u001b[0;31m---------------------------------------------------------------------------\u001b[0m",
      "\u001b[0;31mZipImportError\u001b[0m                            Traceback (most recent call last)",
      "\u001b[0;32m<ipython-input-81-078e9c9dd5e2>\u001b[0m in \u001b[0;36m<module>\u001b[0;34m\u001b[0m\n\u001b[0;32m----> 1\u001b[0;31m \u001b[0msys\u001b[0m\u001b[0;34m.\u001b[0m\u001b[0mpath_hooks\u001b[0m\u001b[0;34m[\u001b[0m\u001b[0;36m0\u001b[0m\u001b[0;34m]\u001b[0m\u001b[0;34m(\u001b[0m\u001b[0;34m\"/usr/lib/python3.7/plat-darwin\"\u001b[0m\u001b[0;34m)\u001b[0m\u001b[0;34m\u001b[0m\u001b[0;34m\u001b[0m\u001b[0m\n\u001b[0m",
      "\u001b[0;31mZipImportError\u001b[0m: not a Zip file"
     ]
    }
   ],
   "source": [
    "sys.path_hooks[0](\"/usr/lib/python3.7/plat-darwin\")"
   ]
  },
  {
   "cell_type": "markdown",
   "metadata": {},
   "source": [
    "### Silly Example"
   ]
  },
  {
   "cell_type": "code",
   "execution_count": 82,
   "metadata": {},
   "outputs": [],
   "source": [
    "import re\n",
    "import sys\n",
    "from urllib.request import urlopen\n",
    "\n",
    "def url_hook(url):\n",
    "    if not url.startswith((\"http\", \"https\")):\n",
    "        raise ImportError\n",
    "    with urlopen(url) as page:\n",
    "        data = page.read().decode(\"utf-8\")\n",
    "    filenames = re.findall(\"[a-zA-Z_][a-zA-Z0-0_]*.py\", data)\n",
    "    modnames = {name[:-3] for name in filenames}\n",
    "    return URLFinder(url, modnames)\n",
    "\n",
    "\n",
    "sys.path_hooks.append(url_hook)"
   ]
  },
  {
   "cell_type": "code",
   "execution_count": 83,
   "metadata": {},
   "outputs": [],
   "source": [
    "# Finder\n",
    "from importlib.abc import PathEntryFinder\n",
    "from importlib.util import spec_from_loader\n",
    "\n",
    "\n",
    "class URLFinder(PathEntryFinder):\n",
    "    def __init__(self, url, available):\n",
    "        self.url = url\n",
    "        self.available = available\n",
    "        \n",
    "    def find_spec(self, name, target=None):\n",
    "        if name in self.available:\n",
    "            origin = \"{self.url}/{name}.py\"\n",
    "            loader = URLLoader()\n",
    "            return spec_from_loader(name, loader, origin=origin)\n",
    "        else:\n",
    "            return None"
   ]
  },
  {
   "cell_type": "code",
   "execution_count": 84,
   "metadata": {},
   "outputs": [],
   "source": [
    "# Loader\n",
    "from urllib.request import urlopen\n",
    "\n",
    "\n",
    "class URLLoader:\n",
    "    def create_module(self, target):\n",
    "        return None\n",
    "    \n",
    "    def exec_module(self, module):\n",
    "        with urlopen(module.__spec__.origin) as page:\n",
    "            source = page.read()\n",
    "        code = compile(source, module.__spec__.origin, mode=\"exec\")\n",
    "        exec(code, module.__dict__)"
   ]
  }
 ],
 "metadata": {
  "kernelspec": {
   "display_name": "Python 3",
   "language": "python",
   "name": "python3"
  },
  "language_info": {
   "codemirror_mode": {
    "name": "ipython",
    "version": 3
   },
   "file_extension": ".py",
   "mimetype": "text/x-python",
   "name": "python",
   "nbconvert_exporter": "python",
   "pygments_lexer": "ipython3",
   "version": "3.7.7"
  },
  "toc": {
   "base_numbering": 1,
   "nav_menu": {},
   "number_sections": true,
   "sideBar": true,
   "skip_h1_title": false,
   "title_cell": "Table of Contents",
   "title_sidebar": "Contents",
   "toc_cell": false,
   "toc_position": {},
   "toc_section_display": true,
   "toc_window_display": false
  }
 },
 "nbformat": 4,
 "nbformat_minor": 2
}
