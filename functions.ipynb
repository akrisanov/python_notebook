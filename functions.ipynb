{
 "cells": [
  {
   "cell_type": "markdown",
   "metadata": {},
   "source": [
    "# Functions\n",
    "\n",
    "## Defining Functions"
   ]
  },
  {
   "cell_type": "markdown",
   "metadata": {},
   "source": [
    "`return` doesn't required. Any function returns `None` by default:"
   ]
  },
  {
   "cell_type": "code",
   "execution_count": 1,
   "metadata": {},
   "outputs": [],
   "source": [
    "def foo():\n",
    "    42"
   ]
  },
  {
   "cell_type": "code",
   "execution_count": 2,
   "metadata": {},
   "outputs": [
    {
     "name": "stdout",
     "output_type": "stream",
     "text": [
      "None\n"
     ]
    }
   ],
   "source": [
    "print(foo())"
   ]
  },
  {
   "cell_type": "markdown",
   "metadata": {},
   "source": [
    "### Documentation\n",
    "\n",
    "We can use string literals for documenting the function."
   ]
  },
  {
   "cell_type": "code",
   "execution_count": 3,
   "metadata": {},
   "outputs": [],
   "source": [
    "def foo():\n",
    "    \"\"\"Returns some magic number\"\"\"\n",
    "    return 42"
   ]
  },
  {
   "cell_type": "code",
   "execution_count": 4,
   "metadata": {},
   "outputs": [
    {
     "data": {
      "text/plain": [
       "'Returns some magic number'"
      ]
     },
     "execution_count": 4,
     "metadata": {},
     "output_type": "execute_result"
    }
   ],
   "source": [
    "foo.__doc__"
   ]
  },
  {
   "cell_type": "code",
   "execution_count": 5,
   "metadata": {},
   "outputs": [
    {
     "name": "stdout",
     "output_type": "stream",
     "text": [
      "Help on function foo in module __main__:\n",
      "\n",
      "foo()\n",
      "    Returns some magic number\n",
      "\n"
     ]
    }
   ],
   "source": [
    "help(foo) # or foo? in IPython"
   ]
  },
  {
   "cell_type": "markdown",
   "metadata": {},
   "source": [
    "---"
   ]
  },
  {
   "cell_type": "code",
   "execution_count": 6,
   "metadata": {},
   "outputs": [],
   "source": [
    "def min(x, y):\n",
    "    return x if x < y else y"
   ]
  },
  {
   "cell_type": "code",
   "execution_count": 7,
   "metadata": {},
   "outputs": [
    {
     "data": {
      "text/plain": [
       "-5"
      ]
     },
     "execution_count": 7,
     "metadata": {},
     "output_type": "execute_result"
    }
   ],
   "source": [
    "min(-5, 12)"
   ]
  },
  {
   "cell_type": "markdown",
   "metadata": {},
   "source": [
    "## Keyword Arguments"
   ]
  },
  {
   "cell_type": "code",
   "execution_count": 8,
   "metadata": {},
   "outputs": [
    {
     "data": {
      "text/plain": [
       "-5"
      ]
     },
     "execution_count": 8,
     "metadata": {},
     "output_type": "execute_result"
    }
   ],
   "source": [
    "min(x=-5, y=12)"
   ]
  },
  {
   "cell_type": "code",
   "execution_count": 9,
   "metadata": {},
   "outputs": [
    {
     "ename": "TypeError",
     "evalue": "min() got an unexpected keyword argument 'z'",
     "output_type": "error",
     "traceback": [
      "\u001b[0;31m---------------------------------------------------------------------------\u001b[0m",
      "\u001b[0;31mTypeError\u001b[0m                                 Traceback (most recent call last)",
      "\u001b[0;32m<ipython-input-9-14fb58ccc9e7>\u001b[0m in \u001b[0;36m<module>\u001b[0;34m\u001b[0m\n\u001b[0;32m----> 1\u001b[0;31m \u001b[0mmin\u001b[0m\u001b[0;34m(\u001b[0m\u001b[0mx\u001b[0m\u001b[0;34m=\u001b[0m\u001b[0;34m-\u001b[0m\u001b[0;36m5\u001b[0m\u001b[0;34m,\u001b[0m \u001b[0mz\u001b[0m\u001b[0;34m=\u001b[0m\u001b[0;36m12\u001b[0m\u001b[0;34m)\u001b[0m\u001b[0;34m\u001b[0m\u001b[0;34m\u001b[0m\u001b[0m\n\u001b[0m",
      "\u001b[0;31mTypeError\u001b[0m: min() got an unexpected keyword argument 'z'"
     ]
    }
   ],
   "source": [
    "min(x=-5, z=12)"
   ]
  },
  {
   "cell_type": "code",
   "execution_count": 10,
   "metadata": {},
   "outputs": [
    {
     "data": {
      "text/plain": [
       "-5"
      ]
     },
     "execution_count": 10,
     "metadata": {},
     "output_type": "execute_result"
    }
   ],
   "source": [
    "min(y=12, x=-5)"
   ]
  },
  {
   "cell_type": "markdown",
   "metadata": {},
   "source": [
    "### Mutable Default Arguments"
   ]
  },
  {
   "cell_type": "code",
   "execution_count": 36,
   "metadata": {},
   "outputs": [],
   "source": [
    "def unique(iterable, seen=set()):\n",
    "    acc = []\n",
    "    for item in iterable:\n",
    "        if item not in seen:\n",
    "            seen.add(item)\n",
    "            acc.append(item)\n",
    "    return acc"
   ]
  },
  {
   "cell_type": "code",
   "execution_count": 37,
   "metadata": {},
   "outputs": [
    {
     "data": {
      "text/plain": [
       "[1, 2, 3]"
      ]
     },
     "execution_count": 37,
     "metadata": {},
     "output_type": "execute_result"
    }
   ],
   "source": [
    "xs = [1, 1, 2, 3]\n",
    "unique(xs)"
   ]
  },
  {
   "cell_type": "code",
   "execution_count": 38,
   "metadata": {},
   "outputs": [
    {
     "data": {
      "text/plain": [
       "[]"
      ]
     },
     "execution_count": 38,
     "metadata": {},
     "output_type": "execute_result"
    }
   ],
   "source": [
    "unique(xs)"
   ]
  },
  {
   "cell_type": "code",
   "execution_count": 39,
   "metadata": {},
   "outputs": [
    {
     "data": {
      "text/plain": [
       "({1, 2, 3},)"
      ]
     },
     "execution_count": 39,
     "metadata": {},
     "output_type": "execute_result"
    }
   ],
   "source": [
    "unique.__defaults__"
   ]
  },
  {
   "cell_type": "markdown",
   "metadata": {},
   "source": [
    "How we can avoid this gotcha?"
   ]
  },
  {
   "cell_type": "code",
   "execution_count": 41,
   "metadata": {},
   "outputs": [],
   "source": [
    "def unique(iterable, seen=None):\n",
    "    seen = set(seen or [])\n",
    "    acc = []\n",
    "    for item in iterable:\n",
    "        if item not in seen:\n",
    "            seen.add(item)\n",
    "            acc.append(item)\n",
    "    return acc"
   ]
  },
  {
   "cell_type": "code",
   "execution_count": 42,
   "metadata": {},
   "outputs": [
    {
     "data": {
      "text/plain": [
       "[1, 2, 3]"
      ]
     },
     "execution_count": 42,
     "metadata": {},
     "output_type": "execute_result"
    }
   ],
   "source": [
    "xs = [1, 1, 2, 3]\n",
    "unique(xs)"
   ]
  },
  {
   "cell_type": "code",
   "execution_count": 43,
   "metadata": {},
   "outputs": [
    {
     "data": {
      "text/plain": [
       "[1, 2, 3]"
      ]
     },
     "execution_count": 43,
     "metadata": {},
     "output_type": "execute_result"
    }
   ],
   "source": [
    "unique(xs)"
   ]
  },
  {
   "cell_type": "code",
   "execution_count": 44,
   "metadata": {},
   "outputs": [
    {
     "data": {
      "text/plain": [
       "(None,)"
      ]
     },
     "execution_count": 44,
     "metadata": {},
     "output_type": "execute_result"
    }
   ],
   "source": [
    "unique.__defaults__"
   ]
  },
  {
   "cell_type": "markdown",
   "metadata": {},
   "source": [
    "### Required Keyword Arguments"
   ]
  },
  {
   "cell_type": "code",
   "execution_count": 45,
   "metadata": {},
   "outputs": [],
   "source": [
    "def flatten(xs, depth=None):\n",
    "    pass"
   ]
  },
  {
   "cell_type": "code",
   "execution_count": 46,
   "metadata": {},
   "outputs": [],
   "source": [
    "flatten([1, [2], 3], depth=1)\n",
    "flatten([1, [2], 3], 1)"
   ]
  },
  {
   "cell_type": "code",
   "execution_count": 47,
   "metadata": {},
   "outputs": [],
   "source": [
    "# if you want to require keyword arguments in function calls\n",
    "def flatten(xs, *, depth=None):\n",
    "    pass"
   ]
  },
  {
   "cell_type": "code",
   "execution_count": 48,
   "metadata": {},
   "outputs": [
    {
     "ename": "TypeError",
     "evalue": "flatten() takes 1 positional argument but 2 were given",
     "output_type": "error",
     "traceback": [
      "\u001b[0;31m---------------------------------------------------------------------------\u001b[0m",
      "\u001b[0;31mTypeError\u001b[0m                                 Traceback (most recent call last)",
      "\u001b[0;32m<ipython-input-48-1fe42cb5aa3f>\u001b[0m in \u001b[0;36m<module>\u001b[0;34m\u001b[0m\n\u001b[0;32m----> 1\u001b[0;31m \u001b[0mflatten\u001b[0m\u001b[0;34m(\u001b[0m\u001b[0;34m[\u001b[0m\u001b[0;36m1\u001b[0m\u001b[0;34m,\u001b[0m \u001b[0;34m[\u001b[0m\u001b[0;36m2\u001b[0m\u001b[0;34m]\u001b[0m\u001b[0;34m,\u001b[0m \u001b[0;36m3\u001b[0m\u001b[0;34m]\u001b[0m\u001b[0;34m,\u001b[0m \u001b[0;36m1\u001b[0m\u001b[0;34m)\u001b[0m\u001b[0;34m\u001b[0m\u001b[0;34m\u001b[0m\u001b[0m\n\u001b[0m",
      "\u001b[0;31mTypeError\u001b[0m: flatten() takes 1 positional argument but 2 were given"
     ]
    }
   ],
   "source": [
    "flatten([1, [2], 3], 1)"
   ]
  },
  {
   "cell_type": "code",
   "execution_count": 50,
   "metadata": {},
   "outputs": [],
   "source": [
    "# More explicit function call\n",
    "flatten([1, [2], 3], depth=1)"
   ]
  },
  {
   "cell_type": "markdown",
   "metadata": {},
   "source": [
    "## Packing and Unpacking Arguments"
   ]
  },
  {
   "cell_type": "code",
   "execution_count": 16,
   "metadata": {},
   "outputs": [],
   "source": [
    "def min(*args):  # type(args) == tuple\n",
    "    result = float('inf')\n",
    "    for arg in args:\n",
    "        if arg < result:\n",
    "            result = arg\n",
    "    return result"
   ]
  },
  {
   "cell_type": "markdown",
   "metadata": {},
   "source": [
    "ℹ️ _Python idiom: `float('inf')`_. It acts as an unbounded upper value for comparison."
   ]
  },
  {
   "cell_type": "code",
   "execution_count": 14,
   "metadata": {},
   "outputs": [
    {
     "data": {
      "text/plain": [
       "-5"
      ]
     },
     "execution_count": 14,
     "metadata": {},
     "output_type": "execute_result"
    }
   ],
   "source": [
    "min(-5, 12, 13)"
   ]
  },
  {
   "cell_type": "code",
   "execution_count": 15,
   "metadata": {},
   "outputs": [
    {
     "data": {
      "text/plain": [
       "inf"
      ]
     },
     "execution_count": 15,
     "metadata": {},
     "output_type": "execute_result"
    }
   ],
   "source": [
    "min()"
   ]
  },
  {
   "cell_type": "markdown",
   "metadata": {},
   "source": [
    "Function with at least one required argument:"
   ]
  },
  {
   "cell_type": "code",
   "execution_count": 62,
   "metadata": {},
   "outputs": [],
   "source": [
    "def min(first, *args):\n",
    "    result = first\n",
    "    for arg in args:\n",
    "        if arg < result:\n",
    "            result = arg\n",
    "    return result"
   ]
  },
  {
   "cell_type": "code",
   "execution_count": 20,
   "metadata": {},
   "outputs": [
    {
     "ename": "TypeError",
     "evalue": "min() missing 1 required positional argument: 'first'",
     "output_type": "error",
     "traceback": [
      "\u001b[0;31m---------------------------------------------------------------------------\u001b[0m",
      "\u001b[0;31mTypeError\u001b[0m                                 Traceback (most recent call last)",
      "\u001b[0;32m<ipython-input-20-9c9b7bdfea4e>\u001b[0m in \u001b[0;36m<module>\u001b[0;34m\u001b[0m\n\u001b[0;32m----> 1\u001b[0;31m \u001b[0mmin\u001b[0m\u001b[0;34m(\u001b[0m\u001b[0;34m)\u001b[0m\u001b[0;34m\u001b[0m\u001b[0;34m\u001b[0m\u001b[0m\n\u001b[0m",
      "\u001b[0;31mTypeError\u001b[0m: min() missing 1 required positional argument: 'first'"
     ]
    }
   ],
   "source": [
    "min()"
   ]
  },
  {
   "cell_type": "markdown",
   "metadata": {},
   "source": [
    "💡 _Unpacking works with any object implementing iterator protocol._"
   ]
  },
  {
   "cell_type": "code",
   "execution_count": 27,
   "metadata": {},
   "outputs": [
    {
     "data": {
      "text/plain": [
       "-5"
      ]
     },
     "execution_count": 27,
     "metadata": {},
     "output_type": "execute_result"
    }
   ],
   "source": [
    "# set\n",
    "# only for educational purposes, avoid unpacking sets – they're unordered!\n",
    "xs = {-5, 12, 13}\n",
    "min(*xs)"
   ]
  },
  {
   "cell_type": "code",
   "execution_count": 25,
   "metadata": {},
   "outputs": [
    {
     "data": {
      "text/plain": [
       "-5"
      ]
     },
     "execution_count": 25,
     "metadata": {},
     "output_type": "execute_result"
    }
   ],
   "source": [
    "# list\n",
    "min(*[-5, 12, 13])"
   ]
  },
  {
   "cell_type": "code",
   "execution_count": 26,
   "metadata": {},
   "outputs": [
    {
     "data": {
      "text/plain": [
       "-5"
      ]
     },
     "execution_count": 26,
     "metadata": {},
     "output_type": "execute_result"
    }
   ],
   "source": [
    "# tuple\n",
    "min(*(-5, 12, 13))"
   ]
  },
  {
   "cell_type": "markdown",
   "metadata": {},
   "source": [
    "⚠️ _Using unpacking, you always have to remember the order of function arguments._"
   ]
  },
  {
   "cell_type": "markdown",
   "metadata": {},
   "source": [
    "---"
   ]
  },
  {
   "cell_type": "code",
   "execution_count": 30,
   "metadata": {},
   "outputs": [],
   "source": [
    "def bounded_min(first, *args, lo=float('-inf'), hi=float('inf')):\n",
    "    result = hi\n",
    "    for arg in (first,) + args:\n",
    "        if arg < result and lo < arg < hi:\n",
    "            result = arg\n",
    "    return max(result, lo)"
   ]
  },
  {
   "cell_type": "code",
   "execution_count": 33,
   "metadata": {},
   "outputs": [
    {
     "data": {
      "text/plain": [
       "-5"
      ]
     },
     "execution_count": 33,
     "metadata": {},
     "output_type": "execute_result"
    }
   ],
   "source": [
    "bounded_min(-5, 12, 13)"
   ]
  },
  {
   "cell_type": "code",
   "execution_count": 31,
   "metadata": {},
   "outputs": [
    {
     "data": {
      "text/plain": [
       "12"
      ]
     },
     "execution_count": 31,
     "metadata": {},
     "output_type": "execute_result"
    }
   ],
   "source": [
    "bounded_min(-5, 12, 13, lo=0, hi=255)"
   ]
  },
  {
   "cell_type": "code",
   "execution_count": 35,
   "metadata": {},
   "outputs": [
    {
     "data": {
      "text/plain": [
       "200"
      ]
     },
     "execution_count": 35,
     "metadata": {},
     "output_type": "execute_result"
    }
   ],
   "source": [
    "bounded_min(-5, 12, 13, lo=100, hi=200)"
   ]
  },
  {
   "cell_type": "markdown",
   "metadata": {},
   "source": [
    "ℹ️ _Python idiom: `lo < arg < hi`._ It simplifies the condition."
   ]
  },
  {
   "cell_type": "markdown",
   "metadata": {},
   "source": [
    "### Keyword Arguments"
   ]
  },
  {
   "cell_type": "code",
   "execution_count": 55,
   "metadata": {},
   "outputs": [],
   "source": [
    "def runner(cmd, **kwargs):\n",
    "    if kwargs.get('verbose', True):\n",
    "        print('Logging enabled')\n",
    "    else:\n",
    "        print('Logging disabled')"
   ]
  },
  {
   "cell_type": "code",
   "execution_count": 56,
   "metadata": {},
   "outputs": [
    {
     "name": "stdout",
     "output_type": "stream",
     "text": [
      "Logging enabled\n"
     ]
    }
   ],
   "source": [
    "runner('dramatiq', processes=4, threads=4)"
   ]
  },
  {
   "cell_type": "code",
   "execution_count": 57,
   "metadata": {},
   "outputs": [
    {
     "name": "stdout",
     "output_type": "stream",
     "text": [
      "Logging disabled\n"
     ]
    }
   ],
   "source": [
    "runner('dramatiq', processes=4, threads=4, verbose=False)"
   ]
  },
  {
   "cell_type": "code",
   "execution_count": 59,
   "metadata": {},
   "outputs": [
    {
     "name": "stdout",
     "output_type": "stream",
     "text": [
      "Logging disabled\n"
     ]
    }
   ],
   "source": [
    "runner('dramatiq', **{'processes': 2, 'threads': 2, 'verbose': False})"
   ]
  },
  {
   "cell_type": "code",
   "execution_count": 60,
   "metadata": {},
   "outputs": [
    {
     "name": "stdout",
     "output_type": "stream",
     "text": [
      "Logging disabled\n"
     ]
    }
   ],
   "source": [
    "options = {'processes': 16, 'threads': 16, 'verbose': False}\n",
    "runner('dramatiq', **options)"
   ]
  },
  {
   "cell_type": "markdown",
   "metadata": {},
   "source": [
    "### Unpacking and Assignment"
   ]
  },
  {
   "cell_type": "code",
   "execution_count": 63,
   "metadata": {},
   "outputs": [],
   "source": [
    "acc = []\n",
    "seen = set()"
   ]
  },
  {
   "cell_type": "code",
   "execution_count": 64,
   "metadata": {},
   "outputs": [],
   "source": [
    "# using unpacking with assignment\n",
    "(acc, seen) = ([], set())"
   ]
  },
  {
   "cell_type": "code",
   "execution_count": 69,
   "metadata": {},
   "outputs": [],
   "source": [
    "# We can un\n",
    "x, y, z = [1, 2, 3]\n",
    "x, y, z = {1, 2, 3} # unordered!\n",
    "x, y, z = \"123\""
   ]
  },
  {
   "cell_type": "code",
   "execution_count": 70,
   "metadata": {},
   "outputs": [
    {
     "data": {
      "text/plain": [
       "'1'"
      ]
     },
     "execution_count": 70,
     "metadata": {},
     "output_type": "execute_result"
    }
   ],
   "source": [
    "x"
   ]
  },
  {
   "cell_type": "code",
   "execution_count": 71,
   "metadata": {},
   "outputs": [
    {
     "data": {
      "text/plain": [
       "'2'"
      ]
     },
     "execution_count": 71,
     "metadata": {},
     "output_type": "execute_result"
    }
   ],
   "source": [
    "y"
   ]
  },
  {
   "cell_type": "code",
   "execution_count": 72,
   "metadata": {},
   "outputs": [
    {
     "data": {
      "text/plain": [
       "'3'"
      ]
     },
     "execution_count": 72,
     "metadata": {},
     "output_type": "execute_result"
    }
   ],
   "source": [
    "z"
   ]
  },
  {
   "cell_type": "markdown",
   "metadata": {},
   "source": [
    "Parentheses are not required, but sometimes they can be useful:"
   ]
  },
  {
   "cell_type": "code",
   "execution_count": 74,
   "metadata": {},
   "outputs": [],
   "source": [
    "rectangle = (0, 0), (4, 4)\n",
    "(x1, y1), (x2, y2) = rectangle"
   ]
  },
  {
   "cell_type": "markdown",
   "metadata": {},
   "source": [
    "### Extended Iterable Unpacking\n",
    "\n",
    "[PEP-3132](https://www.python.org/dev/peps/pep-3132/)"
   ]
  },
  {
   "cell_type": "code",
   "execution_count": 75,
   "metadata": {},
   "outputs": [],
   "source": [
    "first, *rest = range(1, 5)"
   ]
  },
  {
   "cell_type": "code",
   "execution_count": 76,
   "metadata": {},
   "outputs": [
    {
     "data": {
      "text/plain": [
       "(1, [2, 3, 4])"
      ]
     },
     "execution_count": 76,
     "metadata": {},
     "output_type": "execute_result"
    }
   ],
   "source": [
    "first, rest"
   ]
  },
  {
   "cell_type": "code",
   "execution_count": 77,
   "metadata": {},
   "outputs": [
    {
     "data": {
      "text/plain": [
       "4"
      ]
     },
     "execution_count": 77,
     "metadata": {},
     "output_type": "execute_result"
    }
   ],
   "source": [
    "first, *rest, last = range(1, 5)\n",
    "last"
   ]
  },
  {
   "cell_type": "code",
   "execution_count": 78,
   "metadata": {},
   "outputs": [
    {
     "data": {
      "text/plain": [
       "[2, 3]"
      ]
     },
     "execution_count": 78,
     "metadata": {},
     "output_type": "execute_result"
    }
   ],
   "source": [
    "rest"
   ]
  },
  {
   "cell_type": "code",
   "execution_count": 79,
   "metadata": {},
   "outputs": [
    {
     "ename": "ValueError",
     "evalue": "not enough values to unpack (expected at least 2, got 1)",
     "output_type": "error",
     "traceback": [
      "\u001b[0;31m---------------------------------------------------------------------------\u001b[0m",
      "\u001b[0;31mValueError\u001b[0m                                Traceback (most recent call last)",
      "\u001b[0;32m<ipython-input-79-67ca5301872e>\u001b[0m in \u001b[0;36m<module>\u001b[0;34m\u001b[0m\n\u001b[0;32m----> 1\u001b[0;31m \u001b[0mfirst\u001b[0m\u001b[0;34m,\u001b[0m \u001b[0;34m*\u001b[0m\u001b[0mrest\u001b[0m\u001b[0;34m,\u001b[0m \u001b[0mlast\u001b[0m \u001b[0;34m=\u001b[0m \u001b[0;34m[\u001b[0m\u001b[0;36m42\u001b[0m\u001b[0;34m]\u001b[0m\u001b[0;34m\u001b[0m\u001b[0;34m\u001b[0m\u001b[0m\n\u001b[0m",
      "\u001b[0;31mValueError\u001b[0m: not enough values to unpack (expected at least 2, got 1)"
     ]
    }
   ],
   "source": [
    "first, *rest, last = [42]"
   ]
  },
  {
   "cell_type": "markdown",
   "metadata": {},
   "source": [
    "---"
   ]
  },
  {
   "cell_type": "code",
   "execution_count": 80,
   "metadata": {},
   "outputs": [
    {
     "name": "stdout",
     "output_type": "stream",
     "text": [
      "  1           0 LOAD_CONST               0 (('a', 'b', 'c'))\n",
      "              2 EXTENDED_ARG             1\n",
      "              4 UNPACK_EX              257\n",
      "              6 STORE_NAME               0 (first)\n",
      "              8 STORE_NAME               1 (rest)\n",
      "             10 STORE_NAME               2 (last)\n",
      "             12 LOAD_CONST               1 (None)\n",
      "             14 RETURN_VALUE\n"
     ]
    }
   ],
   "source": [
    "import dis\n",
    "dis.dis(\"first, *rest, last = ('a', 'b', 'c')\")"
   ]
  },
  {
   "cell_type": "markdown",
   "metadata": {},
   "source": [
    "As we see, variable assignment works from left to right."
   ]
  },
  {
   "cell_type": "code",
   "execution_count": 81,
   "metadata": {},
   "outputs": [],
   "source": [
    "x, (x, y) = 1, (2, 3)"
   ]
  },
  {
   "cell_type": "code",
   "execution_count": 82,
   "metadata": {},
   "outputs": [
    {
     "data": {
      "text/plain": [
       "2"
      ]
     },
     "execution_count": 82,
     "metadata": {},
     "output_type": "execute_result"
    }
   ],
   "source": [
    "x"
   ]
  },
  {
   "cell_type": "markdown",
   "metadata": {},
   "source": [
    "`x` is equal 2 as expected.\n",
    "\n",
    "P.S. We used variable `x` twice in the expression just for educational purposes. This could be confusing for others."
   ]
  },
  {
   "cell_type": "code",
   "execution_count": 83,
   "metadata": {},
   "outputs": [
    {
     "name": "stdout",
     "output_type": "stream",
     "text": [
      "  1           0 LOAD_CONST               0 ('a')\n",
      "              2 LOAD_CONST               1 ('b')\n",
      "              4 LOAD_CONST               2 ('c')\n",
      "              6 BUILD_LIST               3\n",
      "              8 EXTENDED_ARG             1\n",
      "             10 UNPACK_EX              257\n",
      "             12 STORE_NAME               0 (first)\n",
      "             14 STORE_NAME               1 (rest)\n",
      "             16 STORE_NAME               2 (last)\n",
      "             18 LOAD_CONST               3 (None)\n",
      "             20 RETURN_VALUE\n"
     ]
    }
   ],
   "source": [
    "dis.dis(\"first, *rest, last = ['a', 'b', 'c']\")"
   ]
  },
  {
   "cell_type": "markdown",
   "metadata": {},
   "source": [
    "💡 _Unpacking the list works differently on runtime._"
   ]
  },
  {
   "cell_type": "markdown",
   "metadata": {},
   "source": [
    "---"
   ]
  },
  {
   "cell_type": "code",
   "execution_count": 84,
   "metadata": {},
   "outputs": [],
   "source": [
    "def f(*args, **kwargs):\n",
    "    pass"
   ]
  },
  {
   "cell_type": "code",
   "execution_count": 85,
   "metadata": {},
   "outputs": [],
   "source": [
    "f(1, 2, 3, **{'foo': 42})"
   ]
  },
  {
   "cell_type": "code",
   "execution_count": 86,
   "metadata": {},
   "outputs": [],
   "source": [
    "first, *rest = range(4)"
   ]
  },
  {
   "cell_type": "code",
   "execution_count": 87,
   "metadata": {},
   "outputs": [],
   "source": [
    "for first, *rest in [range(4), range(2)]:\n",
    "    pass"
   ]
  },
  {
   "cell_type": "markdown",
   "metadata": {},
   "source": [
    "#### Python 3.5 – Additional Unpacking Generalizations\n",
    "\n",
    "[PEP-0448](https://www.python.org/dev/peps/pep-0448/)"
   ]
  },
  {
   "cell_type": "code",
   "execution_count": 88,
   "metadata": {},
   "outputs": [],
   "source": [
    "def f(*args, **kwargs):\n",
    "    print(args, kwargs)"
   ]
  },
  {
   "cell_type": "code",
   "execution_count": 89,
   "metadata": {},
   "outputs": [
    {
     "name": "stdout",
     "output_type": "stream",
     "text": [
      "(1, 2, 3, 4, 5) {'foo': 'bar', 'baz': 42, 'boo': 24}\n"
     ]
    }
   ],
   "source": [
    "f(1, 2, *[3, 4], *[5], foo='bar', **{'baz': 42}, boo=24)"
   ]
  },
  {
   "cell_type": "code",
   "execution_count": 90,
   "metadata": {},
   "outputs": [],
   "source": [
    "defaults = {'host': '0.0.0.0', 'port': 8080}"
   ]
  },
  {
   "cell_type": "code",
   "execution_count": 91,
   "metadata": {},
   "outputs": [
    {
     "data": {
      "text/plain": [
       "{'host': '0.0.0.0', 'port': 80}"
      ]
     },
     "execution_count": 91,
     "metadata": {},
     "output_type": "execute_result"
    }
   ],
   "source": [
    "{**defaults, 'port': 80}"
   ]
  },
  {
   "cell_type": "code",
   "execution_count": 92,
   "metadata": {},
   "outputs": [
    {
     "data": {
      "text/plain": [
       "[0, 1, 2, 3, 4, 6]"
      ]
     },
     "execution_count": 92,
     "metadata": {},
     "output_type": "execute_result"
    }
   ],
   "source": [
    "[*range(5), 6]"
   ]
  },
  {
   "cell_type": "markdown",
   "metadata": {},
   "source": [
    "## Function Scope"
   ]
  },
  {
   "cell_type": "markdown",
   "metadata": {},
   "source": [
    "Functions are first-class citizens in Python."
   ]
  },
  {
   "cell_type": "code",
   "execution_count": 93,
   "metadata": {},
   "outputs": [],
   "source": [
    "def wrapper():\n",
    "    def identity(x):\n",
    "        return x\n",
    "    return identity"
   ]
  },
  {
   "cell_type": "code",
   "execution_count": 95,
   "metadata": {},
   "outputs": [
    {
     "data": {
      "text/plain": [
       "42"
      ]
     },
     "execution_count": 95,
     "metadata": {},
     "output_type": "execute_result"
    }
   ],
   "source": [
    "f = wrapper()\n",
    "f(42)"
   ]
  },
  {
   "cell_type": "code",
   "execution_count": 96,
   "metadata": {},
   "outputs": [],
   "source": [
    "def make_min(*, lo, hi):\n",
    "    \"\"\"Returns configured min function\"\"\"\n",
    "    def inner(first, *args):\n",
    "        result = hi\n",
    "        for arg in (first, ) + args:\n",
    "            if arg < result and lo < arg < hi:\n",
    "                result = arg\n",
    "        return max(result, lo)\n",
    "    return inner"
   ]
  },
  {
   "cell_type": "code",
   "execution_count": 97,
   "metadata": {},
   "outputs": [
    {
     "data": {
      "text/plain": [
       "12"
      ]
     },
     "execution_count": 97,
     "metadata": {},
     "output_type": "execute_result"
    }
   ],
   "source": [
    "bounded_min = make_min(lo=0, hi=255)\n",
    "bounded_min(-5, 12, 13)"
   ]
  },
  {
   "cell_type": "markdown",
   "metadata": {},
   "source": [
    "[Python scoping: understanding LEGB](https://blog.mozilla.org/webdev/2011/01/31/python-scoping-understanding-legb/)"
   ]
  },
  {
   "cell_type": "code",
   "execution_count": 100,
   "metadata": {},
   "outputs": [],
   "source": [
    "min      # builtin\n",
    "min = 42 # global\n",
    "\n",
    "def f(*args):\n",
    "    min = 2\n",
    "    def g():    # enclosing\n",
    "        min = 4 # local\n",
    "        print(min)"
   ]
  },
  {
   "cell_type": "markdown",
   "metadata": {},
   "source": [
    "---"
   ]
  },
  {
   "cell_type": "code",
   "execution_count": 103,
   "metadata": {},
   "outputs": [
    {
     "data": {
      "text/plain": [
       "{'__name__': '__main__',\n",
       " '__doc__': 'Automatically created module for IPython interactive environment',\n",
       " '__package__': None,\n",
       " '__loader__': None,\n",
       " '__spec__': None,\n",
       " '__builtin__': <module 'builtins' (built-in)>,\n",
       " '__builtins__': <module 'builtins' (built-in)>,\n",
       " '_ih': ['',\n",
       "  'def foo():\\n    42',\n",
       "  'print(foo())',\n",
       "  'def foo():\\n    \"\"\"Returns some magic number\"\"\"\\n    return 42',\n",
       "  'foo.__doc__',\n",
       "  'help(foo)',\n",
       "  'def min(x, y):\\n    return x if x < y else y',\n",
       "  'min(-5, 12)',\n",
       "  'min(x=-5, y=12)',\n",
       "  'min(x=-5, z=12)',\n",
       "  'min(y=12, x=-5)',\n",
       "  'def min(*args): # type(args) == tuple\\n    result = None\\n    for arg in args:\\n        if arg < result:\\n            result = arg\\n    return result',\n",
       "  'min(-5, 12, 13)',\n",
       "  \"def min(*args): # type(args) == tuple\\n    result = float('inf')\\n    for arg in args:\\n        if arg < result:\\n            result = arg\\n    return result\",\n",
       "  'min(-5, 12, 13)',\n",
       "  'min()',\n",
       "  \"def min(*args):  # type(args) == tuple\\n    result = float('inf')  # remember this idiom, it acts as an unbounded upper value for comparison\\n    for arg in args:\\n        if arg < result:\\n            result = arg\\n    return result\",\n",
       "  '# function with at least one required argument\\ndef min(first, *args):\\n    result = first\\n    # ...\\n    return result',\n",
       "  'min()',\n",
       "  '# function with at least one required argument\\ndef min(first, *args):\\n    result = first\\n    for arg in args:\\n        if arg < result:\\n            result = arg\\n    return result',\n",
       "  'min()',\n",
       "  'xs = {-5, 12, 13}\\nmin(*xs)',\n",
       "  'min(*[-5, 12, 13])',\n",
       "  '# dictionaries\\nxs = {-5, 12, 13}\\nmin(*xs)',\n",
       "  '# dictionary\\nxs = {-5, 12, 13}\\nmin(*xs)',\n",
       "  '# list\\nmin(*[-5, 12, 13])',\n",
       "  '# tuple\\nmin(*(-5, 12, 13))',\n",
       "  '# set\\n# only for educational purposes, avoid unpacking sets\\nxs = {-5, 12, 13}\\nmin(*xs)',\n",
       "  \"def bounded_min(first, *args, lo=float('-inf'), hi=float('inf')):\\n    result = hi\\n    for arg in (first,) + args:\\n        if arg < result and lo < arg < hi:\\n            result = arg\\n    return max(res, lo)\",\n",
       "  'bounded_min(-5, 12, 13, lo=0, hi=255)',\n",
       "  \"def bounded_min(first, *args, lo=float('-inf'), hi=float('inf')):\\n    result = hi\\n    for arg in (first,) + args:\\n        if arg < result and lo < arg < hi:\\n            result = arg\\n    return max(result, lo)\",\n",
       "  'bounded_min(-5, 12, 13, lo=0, hi=255)',\n",
       "  'bounded_min(-5, 12, 13, lo=-10, hi=0)',\n",
       "  'bounded_min(-5, 12, 13)',\n",
       "  'bounded_min(-5, 12, 13, lo=12, hi=20)',\n",
       "  'bounded_min(-5, 12, 13, lo=100, hi=200)',\n",
       "  'def unique(iterable, seen=set()):\\n    acc = []\\n    for item in iterable:\\n        if item not in seen:\\n            seen.add(item)\\n            acc.append(item)\\n    return acc',\n",
       "  'xs = [1, 1, 2, 3]\\nunique(xs)',\n",
       "  'unique(xs)',\n",
       "  'unique.__defaults__',\n",
       "  '---',\n",
       "  'def unique(iterable, seen=None):\\n    seen = set(seen or [])\\n    acc = []\\n    for item in iterable:\\n        if item not in seen:\\n            seen.add(item)\\n            acc.append(item)\\n    return acc',\n",
       "  'xs = [1, 1, 2, 3]\\nunique(xs)',\n",
       "  'unique(xs)',\n",
       "  'unique.__defaults__',\n",
       "  'def flatten(xs, depth=None):\\n    pass',\n",
       "  'flatten([1, [2], 3], depth=1)',\n",
       "  'def flatten(xs, *, depth=None):\\n    pass',\n",
       "  'flatten([1, [2], 3], 1)',\n",
       "  'flatten([1, [2], 3], depth=1)',\n",
       "  '# More explicit function call\\nflatten([1, [2], 3], depth=1)',\n",
       "  \"def runner(cmd, **kwargs):\\n    if kwargs.get('verbose', True):\\n        print('Logging enabled')\",\n",
       "  \"runner('dramatiq', processes=4, threads=4)\",\n",
       "  \"runner('dramatiq', processes=4, threads=4, verbose=False)\",\n",
       "  \"runner('dramatiq', processes=4, threads=4, verbose=False)\",\n",
       "  \"def runner(cmd, **kwargs):\\n    if kwargs.get('verbose', True):\\n        print('Logging enabled')\\n    else:\\n        print('Logging disabled')\",\n",
       "  \"runner('dramatiq', processes=4, threads=4)\",\n",
       "  \"runner('dramatiq', processes=4, threads=4, verbose=False)\",\n",
       "  \"runner('dramatiq', **{'processes': 4, 'threads': 4, 'verbose': False})\",\n",
       "  \"runner('dramatiq', **{'processes': 2, 'threads': 2, 'verbose': False})\",\n",
       "  \"options = {'processes': 16, 'threads': 16, 'verbose': False}\\nrunner('dramatiq', **options)\",\n",
       "  '### Documentation',\n",
       "  'def min(first, *args):\\n    result = first\\n    for arg in args:\\n        if arg < result:\\n            result = arg\\n    return result',\n",
       "  'acc = []\\nseen = set()',\n",
       "  '# using unpacking with assignment\\n(acc, seen) = ([], set())',\n",
       "  '# We can un\\nx, y, z = [1, 2, 3]\\nx, y, z = {1, 2, 3} # unordered!\\nx, y, z = \"xyz\"',\n",
       "  'x',\n",
       "  'y',\n",
       "  'z',\n",
       "  '# We can un\\nx, y, z = [1, 2, 3]\\nx, y, z = {1, 2, 3} # unordered!\\nx, y, z = \"123\"',\n",
       "  'x',\n",
       "  'y',\n",
       "  'z',\n",
       "  'rectangle = (0, 0), (4, 4)',\n",
       "  'rectangle = (0, 0), (4, 4)\\n(x1, y1), (x2, y2) = rectangle',\n",
       "  'first, *rest = range(1, 5)',\n",
       "  'first, rest',\n",
       "  'first, *rest, last = range(1, 5)\\nlast',\n",
       "  'rest',\n",
       "  'first, *rest, last = [42]',\n",
       "  'import dis\\ndis.dis(\"first, *rest, last = (\\'a\\', \\'b\\', \\'c\\')\")',\n",
       "  'x, (x, y) = 1, (2, 3)',\n",
       "  'x',\n",
       "  'dis.dis(\"first, *rest, last = [\\'a\\', \\'b\\', \\'c\\']\")',\n",
       "  'def f(*args, **kwargs):\\n    pass',\n",
       "  \"f(1, 2, 3, **{'foo': 42})\",\n",
       "  'first, *rest = range(4)',\n",
       "  'for first, *rest in [range(4), range(2)]:\\n    pass',\n",
       "  'def f(*args, **kwargs):\\n    print(args, kwargs)',\n",
       "  \"f(1, 2, *[3, 4], *[5], foo='bar', **{'baz': 42}, boo=24)\",\n",
       "  \"defaults = {'host': '0.0.0.0', 'port': 8080}\",\n",
       "  \"{**defaults, 'port': 80}\",\n",
       "  '[*range(5), 6]',\n",
       "  'def wrapper():\\n    def identity(x):\\n        return x\\n    return identity',\n",
       "  'f = wrapper()',\n",
       "  'f = wrapper()\\nf(42)',\n",
       "  'def make_min(*, lo, hi):\\n    \"\"\"Returns configured min function\"\"\"\\n    def inner(first, *args):\\n        result = hi\\n        for arg in (first, ) + args:\\n            if arg < result and lo < arg < hi:\\n                result = arg\\n        return max(result, lo)\\n    return inner',\n",
       "  'bounded_min = make_min(lo=0, hi=255)\\nbounded_min(-5, 12, 13)',\n",
       "  'min      # builtin\\nmin = 42 # global\\n\\ndef f(*args):\\n    min = 2\\n    def g():    # enclosing\\n        min = 4 # local\\n        print(min)',\n",
       "  \"f('foo')\",\n",
       "  'min      # builtin\\nmin = 42 # global\\n\\ndef f(*args):\\n    min = 2\\n    def g():    # enclosing\\n        min = 4 # local\\n        print(min)',\n",
       "  \"f('foo')\",\n",
       "  \"f('foo')g()\",\n",
       "  \"min = 42  # globals()['min'] = 42\\nglobals() # globals is mutable dict\"],\n",
       " '_oh': {4: 'Returns some magic number',\n",
       "  7: -5,\n",
       "  8: -5,\n",
       "  10: -5,\n",
       "  14: -5,\n",
       "  15: inf,\n",
       "  21: -5,\n",
       "  22: -5,\n",
       "  23: -5,\n",
       "  24: -5,\n",
       "  25: -5,\n",
       "  26: -5,\n",
       "  27: -5,\n",
       "  31: 12,\n",
       "  32: -5,\n",
       "  33: -5,\n",
       "  34: 13,\n",
       "  35: 200,\n",
       "  37: [1, 2, 3],\n",
       "  38: [],\n",
       "  39: ({1, 2, 3},),\n",
       "  42: [1, 2, 3],\n",
       "  43: [1, 2, 3],\n",
       "  44: (None,),\n",
       "  66: 'x',\n",
       "  67: 'y',\n",
       "  68: 'z',\n",
       "  70: '1',\n",
       "  71: '2',\n",
       "  72: '3',\n",
       "  76: (1, [2, 3, 4]),\n",
       "  77: 4,\n",
       "  78: [2, 3],\n",
       "  82: 2,\n",
       "  91: {'host': '0.0.0.0', 'port': 80},\n",
       "  92: [0, 1, 2, 3, 4, 6],\n",
       "  95: 42,\n",
       "  97: 12},\n",
       " '_dh': ['/Users/akrisanov/Development/python_notebook'],\n",
       " 'In': ['',\n",
       "  'def foo():\\n    42',\n",
       "  'print(foo())',\n",
       "  'def foo():\\n    \"\"\"Returns some magic number\"\"\"\\n    return 42',\n",
       "  'foo.__doc__',\n",
       "  'help(foo)',\n",
       "  'def min(x, y):\\n    return x if x < y else y',\n",
       "  'min(-5, 12)',\n",
       "  'min(x=-5, y=12)',\n",
       "  'min(x=-5, z=12)',\n",
       "  'min(y=12, x=-5)',\n",
       "  'def min(*args): # type(args) == tuple\\n    result = None\\n    for arg in args:\\n        if arg < result:\\n            result = arg\\n    return result',\n",
       "  'min(-5, 12, 13)',\n",
       "  \"def min(*args): # type(args) == tuple\\n    result = float('inf')\\n    for arg in args:\\n        if arg < result:\\n            result = arg\\n    return result\",\n",
       "  'min(-5, 12, 13)',\n",
       "  'min()',\n",
       "  \"def min(*args):  # type(args) == tuple\\n    result = float('inf')  # remember this idiom, it acts as an unbounded upper value for comparison\\n    for arg in args:\\n        if arg < result:\\n            result = arg\\n    return result\",\n",
       "  '# function with at least one required argument\\ndef min(first, *args):\\n    result = first\\n    # ...\\n    return result',\n",
       "  'min()',\n",
       "  '# function with at least one required argument\\ndef min(first, *args):\\n    result = first\\n    for arg in args:\\n        if arg < result:\\n            result = arg\\n    return result',\n",
       "  'min()',\n",
       "  'xs = {-5, 12, 13}\\nmin(*xs)',\n",
       "  'min(*[-5, 12, 13])',\n",
       "  '# dictionaries\\nxs = {-5, 12, 13}\\nmin(*xs)',\n",
       "  '# dictionary\\nxs = {-5, 12, 13}\\nmin(*xs)',\n",
       "  '# list\\nmin(*[-5, 12, 13])',\n",
       "  '# tuple\\nmin(*(-5, 12, 13))',\n",
       "  '# set\\n# only for educational purposes, avoid unpacking sets\\nxs = {-5, 12, 13}\\nmin(*xs)',\n",
       "  \"def bounded_min(first, *args, lo=float('-inf'), hi=float('inf')):\\n    result = hi\\n    for arg in (first,) + args:\\n        if arg < result and lo < arg < hi:\\n            result = arg\\n    return max(res, lo)\",\n",
       "  'bounded_min(-5, 12, 13, lo=0, hi=255)',\n",
       "  \"def bounded_min(first, *args, lo=float('-inf'), hi=float('inf')):\\n    result = hi\\n    for arg in (first,) + args:\\n        if arg < result and lo < arg < hi:\\n            result = arg\\n    return max(result, lo)\",\n",
       "  'bounded_min(-5, 12, 13, lo=0, hi=255)',\n",
       "  'bounded_min(-5, 12, 13, lo=-10, hi=0)',\n",
       "  'bounded_min(-5, 12, 13)',\n",
       "  'bounded_min(-5, 12, 13, lo=12, hi=20)',\n",
       "  'bounded_min(-5, 12, 13, lo=100, hi=200)',\n",
       "  'def unique(iterable, seen=set()):\\n    acc = []\\n    for item in iterable:\\n        if item not in seen:\\n            seen.add(item)\\n            acc.append(item)\\n    return acc',\n",
       "  'xs = [1, 1, 2, 3]\\nunique(xs)',\n",
       "  'unique(xs)',\n",
       "  'unique.__defaults__',\n",
       "  '---',\n",
       "  'def unique(iterable, seen=None):\\n    seen = set(seen or [])\\n    acc = []\\n    for item in iterable:\\n        if item not in seen:\\n            seen.add(item)\\n            acc.append(item)\\n    return acc',\n",
       "  'xs = [1, 1, 2, 3]\\nunique(xs)',\n",
       "  'unique(xs)',\n",
       "  'unique.__defaults__',\n",
       "  'def flatten(xs, depth=None):\\n    pass',\n",
       "  'flatten([1, [2], 3], depth=1)',\n",
       "  'def flatten(xs, *, depth=None):\\n    pass',\n",
       "  'flatten([1, [2], 3], 1)',\n",
       "  'flatten([1, [2], 3], depth=1)',\n",
       "  '# More explicit function call\\nflatten([1, [2], 3], depth=1)',\n",
       "  \"def runner(cmd, **kwargs):\\n    if kwargs.get('verbose', True):\\n        print('Logging enabled')\",\n",
       "  \"runner('dramatiq', processes=4, threads=4)\",\n",
       "  \"runner('dramatiq', processes=4, threads=4, verbose=False)\",\n",
       "  \"runner('dramatiq', processes=4, threads=4, verbose=False)\",\n",
       "  \"def runner(cmd, **kwargs):\\n    if kwargs.get('verbose', True):\\n        print('Logging enabled')\\n    else:\\n        print('Logging disabled')\",\n",
       "  \"runner('dramatiq', processes=4, threads=4)\",\n",
       "  \"runner('dramatiq', processes=4, threads=4, verbose=False)\",\n",
       "  \"runner('dramatiq', **{'processes': 4, 'threads': 4, 'verbose': False})\",\n",
       "  \"runner('dramatiq', **{'processes': 2, 'threads': 2, 'verbose': False})\",\n",
       "  \"options = {'processes': 16, 'threads': 16, 'verbose': False}\\nrunner('dramatiq', **options)\",\n",
       "  '### Documentation',\n",
       "  'def min(first, *args):\\n    result = first\\n    for arg in args:\\n        if arg < result:\\n            result = arg\\n    return result',\n",
       "  'acc = []\\nseen = set()',\n",
       "  '# using unpacking with assignment\\n(acc, seen) = ([], set())',\n",
       "  '# We can un\\nx, y, z = [1, 2, 3]\\nx, y, z = {1, 2, 3} # unordered!\\nx, y, z = \"xyz\"',\n",
       "  'x',\n",
       "  'y',\n",
       "  'z',\n",
       "  '# We can un\\nx, y, z = [1, 2, 3]\\nx, y, z = {1, 2, 3} # unordered!\\nx, y, z = \"123\"',\n",
       "  'x',\n",
       "  'y',\n",
       "  'z',\n",
       "  'rectangle = (0, 0), (4, 4)',\n",
       "  'rectangle = (0, 0), (4, 4)\\n(x1, y1), (x2, y2) = rectangle',\n",
       "  'first, *rest = range(1, 5)',\n",
       "  'first, rest',\n",
       "  'first, *rest, last = range(1, 5)\\nlast',\n",
       "  'rest',\n",
       "  'first, *rest, last = [42]',\n",
       "  'import dis\\ndis.dis(\"first, *rest, last = (\\'a\\', \\'b\\', \\'c\\')\")',\n",
       "  'x, (x, y) = 1, (2, 3)',\n",
       "  'x',\n",
       "  'dis.dis(\"first, *rest, last = [\\'a\\', \\'b\\', \\'c\\']\")',\n",
       "  'def f(*args, **kwargs):\\n    pass',\n",
       "  \"f(1, 2, 3, **{'foo': 42})\",\n",
       "  'first, *rest = range(4)',\n",
       "  'for first, *rest in [range(4), range(2)]:\\n    pass',\n",
       "  'def f(*args, **kwargs):\\n    print(args, kwargs)',\n",
       "  \"f(1, 2, *[3, 4], *[5], foo='bar', **{'baz': 42}, boo=24)\",\n",
       "  \"defaults = {'host': '0.0.0.0', 'port': 8080}\",\n",
       "  \"{**defaults, 'port': 80}\",\n",
       "  '[*range(5), 6]',\n",
       "  'def wrapper():\\n    def identity(x):\\n        return x\\n    return identity',\n",
       "  'f = wrapper()',\n",
       "  'f = wrapper()\\nf(42)',\n",
       "  'def make_min(*, lo, hi):\\n    \"\"\"Returns configured min function\"\"\"\\n    def inner(first, *args):\\n        result = hi\\n        for arg in (first, ) + args:\\n            if arg < result and lo < arg < hi:\\n                result = arg\\n        return max(result, lo)\\n    return inner',\n",
       "  'bounded_min = make_min(lo=0, hi=255)\\nbounded_min(-5, 12, 13)',\n",
       "  'min      # builtin\\nmin = 42 # global\\n\\ndef f(*args):\\n    min = 2\\n    def g():    # enclosing\\n        min = 4 # local\\n        print(min)',\n",
       "  \"f('foo')\",\n",
       "  'min      # builtin\\nmin = 42 # global\\n\\ndef f(*args):\\n    min = 2\\n    def g():    # enclosing\\n        min = 4 # local\\n        print(min)',\n",
       "  \"f('foo')\",\n",
       "  \"f('foo')g()\",\n",
       "  \"min = 42  # globals()['min'] = 42\\nglobals() # globals is mutable dict\"],\n",
       " 'Out': {4: 'Returns some magic number',\n",
       "  7: -5,\n",
       "  8: -5,\n",
       "  10: -5,\n",
       "  14: -5,\n",
       "  15: inf,\n",
       "  21: -5,\n",
       "  22: -5,\n",
       "  23: -5,\n",
       "  24: -5,\n",
       "  25: -5,\n",
       "  26: -5,\n",
       "  27: -5,\n",
       "  31: 12,\n",
       "  32: -5,\n",
       "  33: -5,\n",
       "  34: 13,\n",
       "  35: 200,\n",
       "  37: [1, 2, 3],\n",
       "  38: [],\n",
       "  39: ({1, 2, 3},),\n",
       "  42: [1, 2, 3],\n",
       "  43: [1, 2, 3],\n",
       "  44: (None,),\n",
       "  66: 'x',\n",
       "  67: 'y',\n",
       "  68: 'z',\n",
       "  70: '1',\n",
       "  71: '2',\n",
       "  72: '3',\n",
       "  76: (1, [2, 3, 4]),\n",
       "  77: 4,\n",
       "  78: [2, 3],\n",
       "  82: 2,\n",
       "  91: {'host': '0.0.0.0', 'port': 80},\n",
       "  92: [0, 1, 2, 3, 4, 6],\n",
       "  95: 42,\n",
       "  97: 12},\n",
       " 'get_ipython': <bound method InteractiveShell.get_ipython of <ipykernel.zmqshell.ZMQInteractiveShell object at 0x10d55a290>>,\n",
       " 'exit': <IPython.core.autocall.ZMQExitAutocall at 0x10d441c50>,\n",
       " 'quit': <IPython.core.autocall.ZMQExitAutocall at 0x10d441c50>,\n",
       " '_': 12,\n",
       " '__': 42,\n",
       " '___': [0, 1, 2, 3, 4, 6],\n",
       " '_i': \"f('foo')g()\",\n",
       " '_ii': \"f('foo')\",\n",
       " '_iii': 'min      # builtin\\nmin = 42 # global\\n\\ndef f(*args):\\n    min = 2\\n    def g():    # enclosing\\n        min = 4 # local\\n        print(min)',\n",
       " '_i1': 'def foo():\\n    42',\n",
       " 'foo': <function __main__.foo()>,\n",
       " '_i2': 'print(foo())',\n",
       " '_i3': 'def foo():\\n    \"\"\"Returns some magic number\"\"\"\\n    return 42',\n",
       " '_i4': 'foo.__doc__',\n",
       " '_4': 'Returns some magic number',\n",
       " '_i5': 'help(foo)',\n",
       " '_i6': 'def min(x, y):\\n    return x if x < y else y',\n",
       " 'min': 42,\n",
       " '_i7': 'min(-5, 12)',\n",
       " '_7': -5,\n",
       " '_i8': 'min(x=-5, y=12)',\n",
       " '_8': -5,\n",
       " '_i9': 'min(x=-5, z=12)',\n",
       " '_i10': 'min(y=12, x=-5)',\n",
       " '_10': -5,\n",
       " '_i11': 'def min(*args): # type(args) == tuple\\n    result = None\\n    for arg in args:\\n        if arg < result:\\n            result = arg\\n    return result',\n",
       " '_i12': 'min(-5, 12, 13)',\n",
       " '_i13': \"def min(*args): # type(args) == tuple\\n    result = float('inf')\\n    for arg in args:\\n        if arg < result:\\n            result = arg\\n    return result\",\n",
       " '_i14': 'min(-5, 12, 13)',\n",
       " '_14': -5,\n",
       " '_i15': 'min()',\n",
       " '_15': inf,\n",
       " '_i16': \"def min(*args):  # type(args) == tuple\\n    result = float('inf')  # remember this idiom, it acts as an unbounded upper value for comparison\\n    for arg in args:\\n        if arg < result:\\n            result = arg\\n    return result\",\n",
       " '_i17': '# function with at least one required argument\\ndef min(first, *args):\\n    result = first\\n    # ...\\n    return result',\n",
       " '_i18': 'min()',\n",
       " '_i19': '# function with at least one required argument\\ndef min(first, *args):\\n    result = first\\n    for arg in args:\\n        if arg < result:\\n            result = arg\\n    return result',\n",
       " '_i20': 'min()',\n",
       " '_i21': 'xs = {-5, 12, 13}\\nmin(*xs)',\n",
       " 'xs': [1, 1, 2, 3],\n",
       " '_21': -5,\n",
       " '_i22': 'min(*[-5, 12, 13])',\n",
       " '_22': -5,\n",
       " '_i23': '# dictionaries\\nxs = {-5, 12, 13}\\nmin(*xs)',\n",
       " '_23': -5,\n",
       " '_i24': '# dictionary\\nxs = {-5, 12, 13}\\nmin(*xs)',\n",
       " '_24': -5,\n",
       " '_i25': '# list\\nmin(*[-5, 12, 13])',\n",
       " '_25': -5,\n",
       " '_i26': '# tuple\\nmin(*(-5, 12, 13))',\n",
       " '_26': -5,\n",
       " '_i27': '# set\\n# only for educational purposes, avoid unpacking sets\\nxs = {-5, 12, 13}\\nmin(*xs)',\n",
       " '_27': -5,\n",
       " '_i28': \"def bounded_min(first, *args, lo=float('-inf'), hi=float('inf')):\\n    result = hi\\n    for arg in (first,) + args:\\n        if arg < result and lo < arg < hi:\\n            result = arg\\n    return max(res, lo)\",\n",
       " 'bounded_min': <function __main__.make_min.<locals>.inner(first, *args)>,\n",
       " '_i29': 'bounded_min(-5, 12, 13, lo=0, hi=255)',\n",
       " '_i30': \"def bounded_min(first, *args, lo=float('-inf'), hi=float('inf')):\\n    result = hi\\n    for arg in (first,) + args:\\n        if arg < result and lo < arg < hi:\\n            result = arg\\n    return max(result, lo)\",\n",
       " '_i31': 'bounded_min(-5, 12, 13, lo=0, hi=255)',\n",
       " '_31': 12,\n",
       " '_i32': 'bounded_min(-5, 12, 13, lo=-10, hi=0)',\n",
       " '_32': -5,\n",
       " '_i33': 'bounded_min(-5, 12, 13)',\n",
       " '_33': -5,\n",
       " '_i34': 'bounded_min(-5, 12, 13, lo=12, hi=20)',\n",
       " '_34': 13,\n",
       " '_i35': 'bounded_min(-5, 12, 13, lo=100, hi=200)',\n",
       " '_35': 200,\n",
       " '_i36': 'def unique(iterable, seen=set()):\\n    acc = []\\n    for item in iterable:\\n        if item not in seen:\\n            seen.add(item)\\n            acc.append(item)\\n    return acc',\n",
       " 'unique': <function __main__.unique(iterable, seen=None)>,\n",
       " '_i37': 'xs = [1, 1, 2, 3]\\nunique(xs)',\n",
       " '_37': [1, 2, 3],\n",
       " '_i38': 'unique(xs)',\n",
       " '_38': [],\n",
       " '_i39': 'unique.__defaults__',\n",
       " '_39': ({1, 2, 3},),\n",
       " '_i40': '---',\n",
       " '_i41': 'def unique(iterable, seen=None):\\n    seen = set(seen or [])\\n    acc = []\\n    for item in iterable:\\n        if item not in seen:\\n            seen.add(item)\\n            acc.append(item)\\n    return acc',\n",
       " '_i42': 'xs = [1, 1, 2, 3]\\nunique(xs)',\n",
       " '_42': [1, 2, 3],\n",
       " '_i43': 'unique(xs)',\n",
       " '_43': [1, 2, 3],\n",
       " '_i44': 'unique.__defaults__',\n",
       " '_44': (None,),\n",
       " '_i45': 'def flatten(xs, depth=None):\\n    pass',\n",
       " 'flatten': <function __main__.flatten(xs, *, depth=None)>,\n",
       " '_i46': 'flatten([1, [2], 3], depth=1)',\n",
       " '_i47': 'def flatten(xs, *, depth=None):\\n    pass',\n",
       " '_i48': 'flatten([1, [2], 3], 1)',\n",
       " '_i49': 'flatten([1, [2], 3], depth=1)',\n",
       " '_i50': '# More explicit function call\\nflatten([1, [2], 3], depth=1)',\n",
       " '_i51': \"def runner(cmd, **kwargs):\\n    if kwargs.get('verbose', True):\\n        print('Logging enabled')\",\n",
       " 'runner': <function __main__.runner(cmd, **kwargs)>,\n",
       " '_i52': \"runner('dramatiq', processes=4, threads=4)\",\n",
       " '_i53': \"runner('dramatiq', processes=4, threads=4, verbose=False)\",\n",
       " '_i54': \"runner('dramatiq', processes=4, threads=4, verbose=False)\",\n",
       " '_i55': \"def runner(cmd, **kwargs):\\n    if kwargs.get('verbose', True):\\n        print('Logging enabled')\\n    else:\\n        print('Logging disabled')\",\n",
       " '_i56': \"runner('dramatiq', processes=4, threads=4)\",\n",
       " '_i57': \"runner('dramatiq', processes=4, threads=4, verbose=False)\",\n",
       " '_i58': \"runner('dramatiq', **{'processes': 4, 'threads': 4, 'verbose': False})\",\n",
       " '_i59': \"runner('dramatiq', **{'processes': 2, 'threads': 2, 'verbose': False})\",\n",
       " '_i60': \"options = {'processes': 16, 'threads': 16, 'verbose': False}\\nrunner('dramatiq', **options)\",\n",
       " 'options': {'processes': 16, 'threads': 16, 'verbose': False},\n",
       " '_i61': '### Documentation',\n",
       " '_i62': 'def min(first, *args):\\n    result = first\\n    for arg in args:\\n        if arg < result:\\n            result = arg\\n    return result',\n",
       " '_i63': 'acc = []\\nseen = set()',\n",
       " 'acc': [],\n",
       " 'seen': set(),\n",
       " '_i64': '# using unpacking with assignment\\n(acc, seen) = ([], set())',\n",
       " '_i65': '# We can un\\nx, y, z = [1, 2, 3]\\nx, y, z = {1, 2, 3} # unordered!\\nx, y, z = \"xyz\"',\n",
       " 'x': 2,\n",
       " 'y': 3,\n",
       " 'z': '3',\n",
       " '_i66': 'x',\n",
       " '_66': 'x',\n",
       " '_i67': 'y',\n",
       " '_67': 'y',\n",
       " '_i68': 'z',\n",
       " '_68': 'z',\n",
       " '_i69': '# We can un\\nx, y, z = [1, 2, 3]\\nx, y, z = {1, 2, 3} # unordered!\\nx, y, z = \"123\"',\n",
       " '_i70': 'x',\n",
       " '_70': '1',\n",
       " '_i71': 'y',\n",
       " '_71': '2',\n",
       " '_i72': 'z',\n",
       " '_72': '3',\n",
       " '_i73': 'rectangle = (0, 0), (4, 4)',\n",
       " 'rectangle': ((0, 0), (4, 4)),\n",
       " '_i74': 'rectangle = (0, 0), (4, 4)\\n(x1, y1), (x2, y2) = rectangle',\n",
       " 'x1': 0,\n",
       " 'y1': 0,\n",
       " 'x2': 4,\n",
       " 'y2': 4,\n",
       " '_i75': 'first, *rest = range(1, 5)',\n",
       " 'first': 0,\n",
       " 'rest': [1],\n",
       " '_i76': 'first, rest',\n",
       " '_76': (1, [2, 3, 4]),\n",
       " '_i77': 'first, *rest, last = range(1, 5)\\nlast',\n",
       " 'last': 4,\n",
       " '_77': 4,\n",
       " '_i78': 'rest',\n",
       " '_78': [2, 3],\n",
       " '_i79': 'first, *rest, last = [42]',\n",
       " '_i80': 'import dis\\ndis.dis(\"first, *rest, last = (\\'a\\', \\'b\\', \\'c\\')\")',\n",
       " 'dis': <module 'dis' from '/usr/local/Cellar/python/3.7.7/Frameworks/Python.framework/Versions/3.7/lib/python3.7/dis.py'>,\n",
       " '_i81': 'x, (x, y) = 1, (2, 3)',\n",
       " '_i82': 'x',\n",
       " '_82': 2,\n",
       " '_i83': 'dis.dis(\"first, *rest, last = [\\'a\\', \\'b\\', \\'c\\']\")',\n",
       " '_i84': 'def f(*args, **kwargs):\\n    pass',\n",
       " 'f': <function __main__.f(*args)>,\n",
       " '_i85': \"f(1, 2, 3, **{'foo': 42})\",\n",
       " '_i86': 'first, *rest = range(4)',\n",
       " '_i87': 'for first, *rest in [range(4), range(2)]:\\n    pass',\n",
       " '_i88': 'def f(*args, **kwargs):\\n    print(args, kwargs)',\n",
       " '_i89': \"f(1, 2, *[3, 4], *[5], foo='bar', **{'baz': 42}, boo=24)\",\n",
       " '_i90': \"defaults = {'host': '0.0.0.0', 'port': 8080}\",\n",
       " 'defaults': {'host': '0.0.0.0', 'port': 8080},\n",
       " '_i91': \"{**defaults, 'port': 80}\",\n",
       " '_91': {'host': '0.0.0.0', 'port': 80},\n",
       " '_i92': '[*range(5), 6]',\n",
       " '_92': [0, 1, 2, 3, 4, 6],\n",
       " '_i93': 'def wrapper():\\n    def identity(x):\\n        return x\\n    return identity',\n",
       " 'wrapper': <function __main__.wrapper()>,\n",
       " '_i94': 'f = wrapper()',\n",
       " '_i95': 'f = wrapper()\\nf(42)',\n",
       " '_95': 42,\n",
       " '_i96': 'def make_min(*, lo, hi):\\n    \"\"\"Returns configured min function\"\"\"\\n    def inner(first, *args):\\n        result = hi\\n        for arg in (first, ) + args:\\n            if arg < result and lo < arg < hi:\\n                result = arg\\n        return max(result, lo)\\n    return inner',\n",
       " 'make_min': <function __main__.make_min(*, lo, hi)>,\n",
       " '_i97': 'bounded_min = make_min(lo=0, hi=255)\\nbounded_min(-5, 12, 13)',\n",
       " '_97': 12,\n",
       " '_i98': 'min      # builtin\\nmin = 42 # global\\n\\ndef f(*args):\\n    min = 2\\n    def g():    # enclosing\\n        min = 4 # local\\n        print(min)',\n",
       " '_i99': \"f('foo')\",\n",
       " '_i100': 'min      # builtin\\nmin = 42 # global\\n\\ndef f(*args):\\n    min = 2\\n    def g():    # enclosing\\n        min = 4 # local\\n        print(min)',\n",
       " '_i101': \"f('foo')\",\n",
       " '_i102': \"f('foo')g()\",\n",
       " '_i103': \"min = 42  # globals()['min'] = 42\\nglobals() # globals is mutable dict\"}"
      ]
     },
     "execution_count": 103,
     "metadata": {},
     "output_type": "execute_result"
    }
   ],
   "source": [
    "min = 42  # globals()['min'] = 42\n",
    "globals() # globals is mutable dict"
   ]
  },
  {
   "cell_type": "code",
   "execution_count": 104,
   "metadata": {},
   "outputs": [
    {
     "name": "stdout",
     "output_type": "stream",
     "text": [
      "{'min': 2}\n"
     ]
    }
   ],
   "source": [
    "def f():\n",
    "    min = 2 # locals['min'] = 2\n",
    "    print(locals())\n",
    "    \n",
    "\n",
    "f()"
   ]
  },
  {
   "cell_type": "markdown",
   "metadata": {},
   "source": [
    "ℹ️ Function can use variables defined outside of function scope."
   ]
  },
  {
   "cell_type": "markdown",
   "metadata": {},
   "source": [
    "⚠️ _Lookup of variables happens during runtime:_"
   ]
  },
  {
   "cell_type": "code",
   "execution_count": 106,
   "metadata": {},
   "outputs": [],
   "source": [
    "def f():\n",
    "    print(i)"
   ]
  },
  {
   "cell_type": "code",
   "execution_count": 107,
   "metadata": {},
   "outputs": [
    {
     "name": "stdout",
     "output_type": "stream",
     "text": [
      "0\n",
      "1\n",
      "2\n",
      "3\n"
     ]
    }
   ],
   "source": [
    "for i in range(4):\n",
    "    f()"
   ]
  },
  {
   "cell_type": "markdown",
   "metadata": {},
   "source": [
    "⚠️ The LEGB rule doesn't work for assignment:"
   ]
  },
  {
   "cell_type": "code",
   "execution_count": 110,
   "metadata": {},
   "outputs": [],
   "source": [
    "min = 42\n",
    "def f():\n",
    "    min += 1   # <- lookup in a global scope!\n",
    "    return min"
   ]
  },
  {
   "cell_type": "code",
   "execution_count": 111,
   "metadata": {},
   "outputs": [
    {
     "ename": "UnboundLocalError",
     "evalue": "local variable 'min' referenced before assignment",
     "output_type": "error",
     "traceback": [
      "\u001b[0;31m---------------------------------------------------------------------------\u001b[0m",
      "\u001b[0;31mUnboundLocalError\u001b[0m                         Traceback (most recent call last)",
      "\u001b[0;32m<ipython-input-111-c43e34e6d405>\u001b[0m in \u001b[0;36m<module>\u001b[0;34m\u001b[0m\n\u001b[0;32m----> 1\u001b[0;31m \u001b[0mf\u001b[0m\u001b[0;34m(\u001b[0m\u001b[0;34m)\u001b[0m\u001b[0;34m\u001b[0m\u001b[0;34m\u001b[0m\u001b[0m\n\u001b[0m",
      "\u001b[0;32m<ipython-input-110-30d23ec122c3>\u001b[0m in \u001b[0;36mf\u001b[0;34m()\u001b[0m\n\u001b[1;32m      1\u001b[0m \u001b[0mmin\u001b[0m \u001b[0;34m=\u001b[0m \u001b[0;36m42\u001b[0m\u001b[0;34m\u001b[0m\u001b[0;34m\u001b[0m\u001b[0m\n\u001b[1;32m      2\u001b[0m \u001b[0;32mdef\u001b[0m \u001b[0mf\u001b[0m\u001b[0;34m(\u001b[0m\u001b[0;34m)\u001b[0m\u001b[0;34m:\u001b[0m\u001b[0;34m\u001b[0m\u001b[0;34m\u001b[0m\u001b[0m\n\u001b[0;32m----> 3\u001b[0;31m     \u001b[0mmin\u001b[0m \u001b[0;34m+=\u001b[0m \u001b[0;36m1\u001b[0m   \u001b[0;31m# <- lookup in a global scope!\u001b[0m\u001b[0;34m\u001b[0m\u001b[0;34m\u001b[0m\u001b[0m\n\u001b[0m\u001b[1;32m      4\u001b[0m     \u001b[0;32mreturn\u001b[0m \u001b[0mmin\u001b[0m\u001b[0;34m\u001b[0m\u001b[0;34m\u001b[0m\u001b[0m\n",
      "\u001b[0;31mUnboundLocalError\u001b[0m: local variable 'min' referenced before assignment"
     ]
    }
   ],
   "source": [
    "f()"
   ]
  },
  {
   "cell_type": "markdown",
   "metadata": {},
   "source": [
    "This behavior can be changed by using `global` and `nonlocal` operators."
   ]
  },
  {
   "cell_type": "code",
   "execution_count": 117,
   "metadata": {},
   "outputs": [],
   "source": [
    "min = 42\n",
    "def f():\n",
    "    global min\n",
    "    min += 1   # <- lookup in a global scope!\n",
    "    return min"
   ]
  },
  {
   "cell_type": "code",
   "execution_count": 118,
   "metadata": {},
   "outputs": [
    {
     "data": {
      "text/plain": [
       "44"
      ]
     },
     "execution_count": 118,
     "metadata": {},
     "output_type": "execute_result"
    }
   ],
   "source": [
    "f()\n",
    "f()"
   ]
  },
  {
   "cell_type": "markdown",
   "metadata": {},
   "source": [
    "⚠️ _Try to avoid global variables._"
   ]
  },
  {
   "cell_type": "markdown",
   "metadata": {},
   "source": [
    "[PEP 3104 -- Access to Names in Outer Scopes](https://www.python.org/dev/peps/pep-3104/)"
   ]
  },
  {
   "cell_type": "code",
   "execution_count": 119,
   "metadata": {},
   "outputs": [],
   "source": [
    "def cell(value=None):\n",
    "    def get():\n",
    "        return value\n",
    "    def set(update):\n",
    "        nonlocal value\n",
    "        value = update\n",
    "    return get, set"
   ]
  },
  {
   "cell_type": "code",
   "execution_count": 120,
   "metadata": {},
   "outputs": [],
   "source": [
    "get, set = cell()"
   ]
  },
  {
   "cell_type": "code",
   "execution_count": 121,
   "metadata": {},
   "outputs": [],
   "source": [
    "set(42)"
   ]
  },
  {
   "cell_type": "code",
   "execution_count": 122,
   "metadata": {},
   "outputs": [
    {
     "data": {
      "text/plain": [
       "42"
      ]
     },
     "execution_count": 122,
     "metadata": {},
     "output_type": "execute_result"
    }
   ],
   "source": [
    "get()"
   ]
  },
  {
   "cell_type": "markdown",
   "metadata": {},
   "source": [
    "## Elements Of Functional Programming\n",
    "\n",
    "### Anonymous functions"
   ]
  },
  {
   "cell_type": "code",
   "execution_count": 128,
   "metadata": {},
   "outputs": [
    {
     "data": {
      "text/plain": [
       "<function __main__.<lambda>(name)>"
      ]
     },
     "execution_count": 128,
     "metadata": {},
     "output_type": "execute_result"
    }
   ],
   "source": [
    "lambda name: print('Hi ' + name + '!')"
   ]
  },
  {
   "cell_type": "code",
   "execution_count": 130,
   "metadata": {},
   "outputs": [
    {
     "data": {
      "text/plain": [
       "<function __main__.<lambda>(name, *args, age=30, **kwargs)>"
      ]
     },
     "execution_count": 130,
     "metadata": {},
     "output_type": "execute_result"
    }
   ],
   "source": [
    "lambda name, *args, age=30, **kwargs: 42"
   ]
  },
  {
   "cell_type": "markdown",
   "metadata": {},
   "source": [
    "### Map, Filter and Zip"
   ]
  },
  {
   "cell_type": "code",
   "execution_count": 132,
   "metadata": {},
   "outputs": [],
   "source": [
    "def identity(x):\n",
    "    return x"
   ]
  },
  {
   "cell_type": "code",
   "execution_count": 133,
   "metadata": {},
   "outputs": [
    {
     "data": {
      "text/plain": [
       "<map at 0x10dc0b990>"
      ]
     },
     "execution_count": 133,
     "metadata": {},
     "output_type": "execute_result"
    }
   ],
   "source": [
    "map(identity, range(4))"
   ]
  },
  {
   "cell_type": "code",
   "execution_count": 134,
   "metadata": {},
   "outputs": [
    {
     "data": {
      "text/plain": [
       "[0, 1, 2, 3]"
      ]
     },
     "execution_count": 134,
     "metadata": {},
     "output_type": "execute_result"
    }
   ],
   "source": [
    "list(map(identity, range(4)))"
   ]
  },
  {
   "cell_type": "code",
   "execution_count": 141,
   "metadata": {},
   "outputs": [],
   "source": [
    "set(map(lambda x: x % 7, [1, 9, 16, -1, 2, 5]))"
   ]
  },
  {
   "cell_type": "code",
   "execution_count": 142,
   "metadata": {},
   "outputs": [
    {
     "data": {
      "text/plain": [
       "[2, 9]"
      ]
     },
     "execution_count": 142,
     "metadata": {},
     "output_type": "execute_result"
    }
   ],
   "source": [
    "list(map(lambda x, n: x ** n, [2, 3], range(1, 8)))"
   ]
  },
  {
   "cell_type": "markdown",
   "metadata": {},
   "source": [
    "---"
   ]
  },
  {
   "cell_type": "code",
   "execution_count": 143,
   "metadata": {},
   "outputs": [
    {
     "data": {
      "text/plain": [
       "<filter at 0x10dc33990>"
      ]
     },
     "execution_count": 143,
     "metadata": {},
     "output_type": "execute_result"
    }
   ],
   "source": [
    "filter(lambda x: x % 2 != 0, range(10))"
   ]
  },
  {
   "cell_type": "code",
   "execution_count": 144,
   "metadata": {},
   "outputs": [
    {
     "data": {
      "text/plain": [
       "[1, 3, 5, 7, 9]"
      ]
     },
     "execution_count": 144,
     "metadata": {},
     "output_type": "execute_result"
    }
   ],
   "source": [
    "list(filter(lambda x: x % 2 != 0, range(10)))"
   ]
  },
  {
   "cell_type": "code",
   "execution_count": 147,
   "metadata": {},
   "outputs": [
    {
     "data": {
      "text/plain": [
       "[42]"
      ]
     },
     "execution_count": 147,
     "metadata": {},
     "output_type": "execute_result"
    }
   ],
   "source": [
    "xs = [0, None, [], {}, '', 42]\n",
    "# returns truthy values\n",
    "list(filter(None, xs))"
   ]
  },
  {
   "cell_type": "markdown",
   "metadata": {},
   "source": [
    "---"
   ]
  },
  {
   "cell_type": "code",
   "execution_count": 148,
   "metadata": {},
   "outputs": [
    {
     "data": {
      "text/plain": [
       "[('a', 0, 42j), ('b', 1, 42j), ('c', 2, 42j)]"
      ]
     },
     "execution_count": 148,
     "metadata": {},
     "output_type": "execute_result"
    }
   ],
   "source": [
    "list(zip('abc', range(3), [42j, 42j, 42j]))"
   ]
  },
  {
   "cell_type": "code",
   "execution_count": 149,
   "metadata": {},
   "outputs": [
    {
     "data": {
      "text/plain": [
       "[('a', 0), ('b', 1), ('c', 2)]"
      ]
     },
     "execution_count": 149,
     "metadata": {},
     "output_type": "execute_result"
    }
   ],
   "source": [
    "list(zip('abc', range(10)))"
   ]
  },
  {
   "cell_type": "markdown",
   "metadata": {},
   "source": [
    "### Comprehensions\n",
    "\n",
    "Come from ABC language. It's good alternative to `map` and `filter`.\n",
    "\n",
    "#### Lists"
   ]
  },
  {
   "cell_type": "code",
   "execution_count": 150,
   "metadata": {},
   "outputs": [
    {
     "data": {
      "text/plain": [
       "[1, 9, 25, 49, 81]"
      ]
     },
     "execution_count": 150,
     "metadata": {},
     "output_type": "execute_result"
    }
   ],
   "source": [
    "[x ** 2 for x in range(10) if x % 2 == 1]"
   ]
  },
  {
   "cell_type": "code",
   "execution_count": 152,
   "metadata": {},
   "outputs": [
    {
     "data": {
      "text/plain": [
       "[1, 9, 25, 49, 81]"
      ]
     },
     "execution_count": 152,
     "metadata": {},
     "output_type": "execute_result"
    }
   ],
   "source": [
    "list(map(lambda x: x ** 2,\n",
    "        filter(lambda x: x % 2 == 1,\n",
    "              range(10))))"
   ]
  },
  {
   "cell_type": "code",
   "execution_count": 153,
   "metadata": {},
   "outputs": [
    {
     "data": {
      "text/plain": [
       "[0, 1, 2, 3, 4, 8, 9]"
      ]
     },
     "execution_count": 153,
     "metadata": {},
     "output_type": "execute_result"
    }
   ],
   "source": [
    "nested = [range(5), range(8, 10)]\n",
    "[x for xs in nested for x in xs]  # flatten"
   ]
  },
  {
   "cell_type": "markdown",
   "metadata": {},
   "source": [
    "⚠️ _Nested comprehensions are hard to understand._"
   ]
  },
  {
   "cell_type": "markdown",
   "metadata": {},
   "source": [
    "#### Sets and Dicts"
   ]
  },
  {
   "cell_type": "code",
   "execution_count": 156,
   "metadata": {},
   "outputs": [
    {
     "data": {
      "text/plain": [
       "{1, 2, 5, 6}"
      ]
     },
     "execution_count": 156,
     "metadata": {},
     "output_type": "execute_result"
    }
   ],
   "source": [
    "{x % 7 for x in [1, 9, 16, -1, 2, 5]}"
   ]
  },
  {
   "cell_type": "code",
   "execution_count": 157,
   "metadata": {},
   "outputs": [
    {
     "data": {
      "text/plain": [
       "{'year': 2020, 'month': 'March'}"
      ]
     },
     "execution_count": 157,
     "metadata": {},
     "output_type": "execute_result"
    }
   ],
   "source": [
    "date = {'year': 2020, 'month': 'March', 'day': ''}\n",
    "{k: v for k, v in date.items() if v}"
   ]
  },
  {
   "cell_type": "code",
   "execution_count": 158,
   "metadata": {},
   "outputs": [
    {
     "data": {
      "text/plain": [
       "{0: 0, 1: 1, 2: 4, 3: 9}"
      ]
     },
     "execution_count": 158,
     "metadata": {},
     "output_type": "execute_result"
    }
   ],
   "source": [
    "{x: x**2 for x in range(4)}"
   ]
  }
 ],
 "metadata": {
  "kernelspec": {
   "display_name": "Python 3",
   "language": "python",
   "name": "python3"
  },
  "language_info": {
   "codemirror_mode": {
    "name": "ipython",
    "version": 3
   },
   "file_extension": ".py",
   "mimetype": "text/x-python",
   "name": "python",
   "nbconvert_exporter": "python",
   "pygments_lexer": "ipython3",
   "version": "3.7.7"
  }
 },
 "nbformat": 4,
 "nbformat_minor": 2
}
